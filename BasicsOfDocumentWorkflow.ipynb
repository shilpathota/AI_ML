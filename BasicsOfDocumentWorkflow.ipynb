{
  "nbformat": 4,
  "nbformat_minor": 0,
  "metadata": {
    "colab": {
      "provenance": [],
      "authorship_tag": "ABX9TyNxJADSldGBEIKydokHHIUS",
      "include_colab_link": true
    },
    "kernelspec": {
      "name": "python3",
      "display_name": "Python 3"
    },
    "language_info": {
      "name": "python"
    }
  },
  "cells": [
    {
      "cell_type": "markdown",
      "metadata": {
        "id": "view-in-github",
        "colab_type": "text"
      },
      "source": [
        "<a href=\"https://colab.research.google.com/github/shilpathota/AI_ML/blob/master/BasicsOfDocumentWorkflow.ipynb\" target=\"_parent\"><img src=\"https://colab.research.google.com/assets/colab-badge.svg\" alt=\"Open In Colab\"/></a>"
      ]
    },
    {
      "cell_type": "markdown",
      "source": [],
      "metadata": {
        "id": "yN4gANXFL_KO"
      }
    },
    {
      "cell_type": "code",
      "source": [
        "!pip install -r requirements.txt"
      ],
      "metadata": {
        "colab": {
          "base_uri": "https://localhost:8080/",
          "height": 1000
        },
        "id": "SMjm-MNfUL6P",
        "outputId": "c28e63fe-ac6f-4a2e-9901-aa0e9f00b5cf"
      },
      "execution_count": 5,
      "outputs": [
        {
          "output_type": "stream",
          "name": "stdout",
          "text": [
            "Collecting llama-index-core (from -r requirements.txt (line 6))\n",
            "  Downloading llama_index_core-0.12.52.post1-py3-none-any.whl.metadata (2.5 kB)\n",
            "Collecting llama-index-utils-workflow (from -r requirements.txt (line 7))\n",
            "  Downloading llama_index_utils_workflow-0.3.5-py3-none-any.whl.metadata (1.1 kB)\n",
            "Collecting llama-index-llms-openai (from -r requirements.txt (line 8))\n",
            "  Downloading llama_index_llms_openai-0.4.7-py3-none-any.whl.metadata (3.0 kB)\n",
            "Collecting llama-parse (from -r requirements.txt (line 9))\n",
            "  Downloading llama_parse-0.6.51-py3-none-any.whl.metadata (6.9 kB)\n",
            "Collecting llama-index-embeddings-openai (from -r requirements.txt (line 10))\n",
            "  Downloading llama_index_embeddings_openai-0.3.1-py3-none-any.whl.metadata (684 bytes)\n",
            "Collecting llama-index-readers-whisper (from -r requirements.txt (line 11))\n",
            "  Downloading llama_index_readers_whisper-0.1.0-py3-none-any.whl.metadata (1.3 kB)\n",
            "Requirement already satisfied: gradio in /usr/local/lib/python3.11/dist-packages (from -r requirements.txt (line 12)) (5.38.1)\n",
            "Requirement already satisfied: aiohttp<4,>=3.8.6 in /usr/local/lib/python3.11/dist-packages (from llama-index-core->-r requirements.txt (line 6)) (3.12.14)\n",
            "Collecting aiosqlite (from llama-index-core->-r requirements.txt (line 6))\n",
            "  Downloading aiosqlite-0.21.0-py3-none-any.whl.metadata (4.3 kB)\n",
            "Collecting banks<3,>=2.2.0 (from llama-index-core->-r requirements.txt (line 6))\n",
            "  Downloading banks-2.2.0-py3-none-any.whl.metadata (12 kB)\n",
            "Collecting dataclasses-json (from llama-index-core->-r requirements.txt (line 6))\n",
            "  Downloading dataclasses_json-0.6.7-py3-none-any.whl.metadata (25 kB)\n",
            "Collecting deprecated>=1.2.9.3 (from llama-index-core->-r requirements.txt (line 6))\n",
            "  Downloading Deprecated-1.2.18-py2.py3-none-any.whl.metadata (5.7 kB)\n",
            "Collecting dirtyjson<2,>=1.0.8 (from llama-index-core->-r requirements.txt (line 6))\n",
            "  Downloading dirtyjson-1.0.8-py3-none-any.whl.metadata (11 kB)\n",
            "Collecting filetype<2,>=1.2.0 (from llama-index-core->-r requirements.txt (line 6))\n",
            "  Downloading filetype-1.2.0-py2.py3-none-any.whl.metadata (6.5 kB)\n",
            "Requirement already satisfied: fsspec>=2023.5.0 in /usr/local/lib/python3.11/dist-packages (from llama-index-core->-r requirements.txt (line 6)) (2025.3.0)\n",
            "Requirement already satisfied: httpx in /usr/local/lib/python3.11/dist-packages (from llama-index-core->-r requirements.txt (line 6)) (0.28.1)\n",
            "Collecting llama-index-workflows<2,>=1.0.1 (from llama-index-core->-r requirements.txt (line 6))\n",
            "  Downloading llama_index_workflows-1.2.0-py3-none-any.whl.metadata (6.2 kB)\n",
            "Requirement already satisfied: nest-asyncio<2,>=1.5.8 in /usr/local/lib/python3.11/dist-packages (from llama-index-core->-r requirements.txt (line 6)) (1.6.0)\n",
            "Requirement already satisfied: networkx>=3.0 in /usr/local/lib/python3.11/dist-packages (from llama-index-core->-r requirements.txt (line 6)) (3.5)\n",
            "Requirement already satisfied: nltk>3.8.1 in /usr/local/lib/python3.11/dist-packages (from llama-index-core->-r requirements.txt (line 6)) (3.9.1)\n",
            "Requirement already satisfied: numpy in /usr/local/lib/python3.11/dist-packages (from llama-index-core->-r requirements.txt (line 6)) (2.0.2)\n",
            "Requirement already satisfied: pillow>=9.0.0 in /usr/local/lib/python3.11/dist-packages (from llama-index-core->-r requirements.txt (line 6)) (11.3.0)\n",
            "Requirement already satisfied: platformdirs in /usr/local/lib/python3.11/dist-packages (from llama-index-core->-r requirements.txt (line 6)) (4.3.8)\n",
            "Requirement already satisfied: pydantic>=2.8.0 in /usr/local/lib/python3.11/dist-packages (from llama-index-core->-r requirements.txt (line 6)) (2.11.7)\n",
            "Requirement already satisfied: pyyaml>=6.0.1 in /usr/local/lib/python3.11/dist-packages (from llama-index-core->-r requirements.txt (line 6)) (6.0.2)\n",
            "Requirement already satisfied: requests>=2.31.0 in /usr/local/lib/python3.11/dist-packages (from llama-index-core->-r requirements.txt (line 6)) (2.32.3)\n",
            "Collecting setuptools>=80.9.0 (from llama-index-core->-r requirements.txt (line 6))\n",
            "  Downloading setuptools-80.9.0-py3-none-any.whl.metadata (6.6 kB)\n",
            "Requirement already satisfied: sqlalchemy>=1.4.49 in /usr/local/lib/python3.11/dist-packages (from sqlalchemy[asyncio]>=1.4.49->llama-index-core->-r requirements.txt (line 6)) (2.0.41)\n",
            "Requirement already satisfied: tenacity!=8.4.0,<10.0.0,>=8.2.0 in /usr/local/lib/python3.11/dist-packages (from llama-index-core->-r requirements.txt (line 6)) (8.5.0)\n",
            "Requirement already satisfied: tiktoken>=0.7.0 in /usr/local/lib/python3.11/dist-packages (from llama-index-core->-r requirements.txt (line 6)) (0.9.0)\n",
            "Requirement already satisfied: tqdm<5,>=4.66.1 in /usr/local/lib/python3.11/dist-packages (from llama-index-core->-r requirements.txt (line 6)) (4.67.1)\n",
            "Requirement already satisfied: typing-extensions>=4.5.0 in /usr/local/lib/python3.11/dist-packages (from llama-index-core->-r requirements.txt (line 6)) (4.14.1)\n",
            "Collecting typing-inspect>=0.8.0 (from llama-index-core->-r requirements.txt (line 6))\n",
            "  Downloading typing_inspect-0.9.0-py3-none-any.whl.metadata (1.5 kB)\n",
            "Requirement already satisfied: wrapt in /usr/local/lib/python3.11/dist-packages (from llama-index-core->-r requirements.txt (line 6)) (1.17.2)\n",
            "Collecting pyvis<0.4,>=0.3.2 (from llama-index-utils-workflow->-r requirements.txt (line 7))\n",
            "  Downloading pyvis-0.3.2-py3-none-any.whl.metadata (1.7 kB)\n",
            "Requirement already satisfied: openai<2,>=1.81.0 in /usr/local/lib/python3.11/dist-packages (from llama-index-llms-openai->-r requirements.txt (line 8)) (1.97.1)\n",
            "Collecting llama-cloud-services>=0.6.51 (from llama-parse->-r requirements.txt (line 9))\n",
            "  Downloading llama_cloud_services-0.6.51-py3-none-any.whl.metadata (3.5 kB)\n",
            "Requirement already satisfied: aiofiles<25.0,>=22.0 in /usr/local/lib/python3.11/dist-packages (from gradio->-r requirements.txt (line 12)) (24.1.0)\n",
            "Requirement already satisfied: anyio<5.0,>=3.0 in /usr/local/lib/python3.11/dist-packages (from gradio->-r requirements.txt (line 12)) (4.9.0)\n",
            "Requirement already satisfied: brotli>=1.1.0 in /usr/local/lib/python3.11/dist-packages (from gradio->-r requirements.txt (line 12)) (1.1.0)\n",
            "Requirement already satisfied: fastapi<1.0,>=0.115.2 in /usr/local/lib/python3.11/dist-packages (from gradio->-r requirements.txt (line 12)) (0.116.1)\n",
            "Requirement already satisfied: ffmpy in /usr/local/lib/python3.11/dist-packages (from gradio->-r requirements.txt (line 12)) (0.6.1)\n",
            "Requirement already satisfied: gradio-client==1.11.0 in /usr/local/lib/python3.11/dist-packages (from gradio->-r requirements.txt (line 12)) (1.11.0)\n",
            "Requirement already satisfied: groovy~=0.1 in /usr/local/lib/python3.11/dist-packages (from gradio->-r requirements.txt (line 12)) (0.1.2)\n",
            "Requirement already satisfied: huggingface-hub>=0.28.1 in /usr/local/lib/python3.11/dist-packages (from gradio->-r requirements.txt (line 12)) (0.33.4)\n",
            "Requirement already satisfied: jinja2<4.0 in /usr/local/lib/python3.11/dist-packages (from gradio->-r requirements.txt (line 12)) (3.1.6)\n",
            "Requirement already satisfied: markupsafe<4.0,>=2.0 in /usr/local/lib/python3.11/dist-packages (from gradio->-r requirements.txt (line 12)) (3.0.2)\n",
            "Requirement already satisfied: orjson~=3.0 in /usr/local/lib/python3.11/dist-packages (from gradio->-r requirements.txt (line 12)) (3.11.0)\n",
            "Requirement already satisfied: packaging in /usr/local/lib/python3.11/dist-packages (from gradio->-r requirements.txt (line 12)) (25.0)\n",
            "Requirement already satisfied: pandas<3.0,>=1.0 in /usr/local/lib/python3.11/dist-packages (from gradio->-r requirements.txt (line 12)) (2.2.2)\n",
            "Requirement already satisfied: pydub in /usr/local/lib/python3.11/dist-packages (from gradio->-r requirements.txt (line 12)) (0.25.1)\n",
            "Requirement already satisfied: python-multipart>=0.0.18 in /usr/local/lib/python3.11/dist-packages (from gradio->-r requirements.txt (line 12)) (0.0.20)\n",
            "Requirement already satisfied: ruff>=0.9.3 in /usr/local/lib/python3.11/dist-packages (from gradio->-r requirements.txt (line 12)) (0.12.4)\n",
            "Requirement already satisfied: safehttpx<0.2.0,>=0.1.6 in /usr/local/lib/python3.11/dist-packages (from gradio->-r requirements.txt (line 12)) (0.1.6)\n",
            "Requirement already satisfied: semantic-version~=2.0 in /usr/local/lib/python3.11/dist-packages (from gradio->-r requirements.txt (line 12)) (2.10.0)\n",
            "Requirement already satisfied: starlette<1.0,>=0.40.0 in /usr/local/lib/python3.11/dist-packages (from gradio->-r requirements.txt (line 12)) (0.47.2)\n",
            "Requirement already satisfied: tomlkit<0.14.0,>=0.12.0 in /usr/local/lib/python3.11/dist-packages (from gradio->-r requirements.txt (line 12)) (0.13.3)\n",
            "Requirement already satisfied: typer<1.0,>=0.12 in /usr/local/lib/python3.11/dist-packages (from gradio->-r requirements.txt (line 12)) (0.16.0)\n",
            "Requirement already satisfied: uvicorn>=0.14.0 in /usr/local/lib/python3.11/dist-packages (from gradio->-r requirements.txt (line 12)) (0.35.0)\n",
            "Requirement already satisfied: websockets<16.0,>=10.0 in /usr/local/lib/python3.11/dist-packages (from gradio-client==1.11.0->gradio->-r requirements.txt (line 12)) (15.0.1)\n",
            "Requirement already satisfied: aiohappyeyeballs>=2.5.0 in /usr/local/lib/python3.11/dist-packages (from aiohttp<4,>=3.8.6->llama-index-core->-r requirements.txt (line 6)) (2.6.1)\n",
            "Requirement already satisfied: aiosignal>=1.4.0 in /usr/local/lib/python3.11/dist-packages (from aiohttp<4,>=3.8.6->llama-index-core->-r requirements.txt (line 6)) (1.4.0)\n",
            "Requirement already satisfied: attrs>=17.3.0 in /usr/local/lib/python3.11/dist-packages (from aiohttp<4,>=3.8.6->llama-index-core->-r requirements.txt (line 6)) (25.3.0)\n",
            "Requirement already satisfied: frozenlist>=1.1.1 in /usr/local/lib/python3.11/dist-packages (from aiohttp<4,>=3.8.6->llama-index-core->-r requirements.txt (line 6)) (1.7.0)\n",
            "Requirement already satisfied: multidict<7.0,>=4.5 in /usr/local/lib/python3.11/dist-packages (from aiohttp<4,>=3.8.6->llama-index-core->-r requirements.txt (line 6)) (6.6.3)\n",
            "Requirement already satisfied: propcache>=0.2.0 in /usr/local/lib/python3.11/dist-packages (from aiohttp<4,>=3.8.6->llama-index-core->-r requirements.txt (line 6)) (0.3.2)\n",
            "Requirement already satisfied: yarl<2.0,>=1.17.0 in /usr/local/lib/python3.11/dist-packages (from aiohttp<4,>=3.8.6->llama-index-core->-r requirements.txt (line 6)) (1.20.1)\n",
            "Requirement already satisfied: idna>=2.8 in /usr/local/lib/python3.11/dist-packages (from anyio<5.0,>=3.0->gradio->-r requirements.txt (line 12)) (3.10)\n",
            "Requirement already satisfied: sniffio>=1.1 in /usr/local/lib/python3.11/dist-packages (from anyio<5.0,>=3.0->gradio->-r requirements.txt (line 12)) (1.3.1)\n",
            "Collecting griffe (from banks<3,>=2.2.0->llama-index-core->-r requirements.txt (line 6))\n",
            "  Downloading griffe-1.8.0-py3-none-any.whl.metadata (5.0 kB)\n",
            "Requirement already satisfied: certifi in /usr/local/lib/python3.11/dist-packages (from httpx->llama-index-core->-r requirements.txt (line 6)) (2025.7.14)\n",
            "Requirement already satisfied: httpcore==1.* in /usr/local/lib/python3.11/dist-packages (from httpx->llama-index-core->-r requirements.txt (line 6)) (1.0.9)\n",
            "Requirement already satisfied: h11>=0.16 in /usr/local/lib/python3.11/dist-packages (from httpcore==1.*->httpx->llama-index-core->-r requirements.txt (line 6)) (0.16.0)\n",
            "Requirement already satisfied: filelock in /usr/local/lib/python3.11/dist-packages (from huggingface-hub>=0.28.1->gradio->-r requirements.txt (line 12)) (3.18.0)\n",
            "Requirement already satisfied: hf-xet<2.0.0,>=1.1.2 in /usr/local/lib/python3.11/dist-packages (from huggingface-hub>=0.28.1->gradio->-r requirements.txt (line 12)) (1.1.5)\n",
            "Requirement already satisfied: click<9.0.0,>=8.1.7 in /usr/local/lib/python3.11/dist-packages (from llama-cloud-services>=0.6.51->llama-parse->-r requirements.txt (line 9)) (8.2.1)\n",
            "Collecting llama-cloud==0.1.34 (from llama-cloud-services>=0.6.51->llama-parse->-r requirements.txt (line 9))\n",
            "  Downloading llama_cloud-0.1.34-py3-none-any.whl.metadata (1.2 kB)\n",
            "Collecting python-dotenv<2.0.0,>=1.0.1 (from llama-cloud-services>=0.6.51->llama-parse->-r requirements.txt (line 9))\n",
            "  Downloading python_dotenv-1.1.1-py3-none-any.whl.metadata (24 kB)\n",
            "Collecting llama-index-instrumentation>=0.1.0 (from llama-index-workflows<2,>=1.0.1->llama-index-core->-r requirements.txt (line 6))\n",
            "  Downloading llama_index_instrumentation-0.3.0-py3-none-any.whl.metadata (252 bytes)\n",
            "Requirement already satisfied: joblib in /usr/local/lib/python3.11/dist-packages (from nltk>3.8.1->llama-index-core->-r requirements.txt (line 6)) (1.5.1)\n",
            "Requirement already satisfied: regex>=2021.8.3 in /usr/local/lib/python3.11/dist-packages (from nltk>3.8.1->llama-index-core->-r requirements.txt (line 6)) (2024.11.6)\n",
            "Requirement already satisfied: distro<2,>=1.7.0 in /usr/local/lib/python3.11/dist-packages (from openai<2,>=1.81.0->llama-index-llms-openai->-r requirements.txt (line 8)) (1.9.0)\n",
            "Requirement already satisfied: jiter<1,>=0.4.0 in /usr/local/lib/python3.11/dist-packages (from openai<2,>=1.81.0->llama-index-llms-openai->-r requirements.txt (line 8)) (0.10.0)\n",
            "Requirement already satisfied: python-dateutil>=2.8.2 in /usr/local/lib/python3.11/dist-packages (from pandas<3.0,>=1.0->gradio->-r requirements.txt (line 12)) (2.9.0.post0)\n",
            "Requirement already satisfied: pytz>=2020.1 in /usr/local/lib/python3.11/dist-packages (from pandas<3.0,>=1.0->gradio->-r requirements.txt (line 12)) (2025.2)\n",
            "Requirement already satisfied: tzdata>=2022.7 in /usr/local/lib/python3.11/dist-packages (from pandas<3.0,>=1.0->gradio->-r requirements.txt (line 12)) (2025.2)\n",
            "Requirement already satisfied: annotated-types>=0.6.0 in /usr/local/lib/python3.11/dist-packages (from pydantic>=2.8.0->llama-index-core->-r requirements.txt (line 6)) (0.7.0)\n",
            "Requirement already satisfied: pydantic-core==2.33.2 in /usr/local/lib/python3.11/dist-packages (from pydantic>=2.8.0->llama-index-core->-r requirements.txt (line 6)) (2.33.2)\n",
            "Requirement already satisfied: typing-inspection>=0.4.0 in /usr/local/lib/python3.11/dist-packages (from pydantic>=2.8.0->llama-index-core->-r requirements.txt (line 6)) (0.4.1)\n",
            "Requirement already satisfied: ipython>=5.3.0 in /usr/local/lib/python3.11/dist-packages (from pyvis<0.4,>=0.3.2->llama-index-utils-workflow->-r requirements.txt (line 7)) (7.34.0)\n",
            "Requirement already satisfied: jsonpickle>=1.4.1 in /usr/local/lib/python3.11/dist-packages (from pyvis<0.4,>=0.3.2->llama-index-utils-workflow->-r requirements.txt (line 7)) (4.1.1)\n",
            "Requirement already satisfied: charset-normalizer<4,>=2 in /usr/local/lib/python3.11/dist-packages (from requests>=2.31.0->llama-index-core->-r requirements.txt (line 6)) (3.4.2)\n",
            "Requirement already satisfied: urllib3<3,>=1.21.1 in /usr/local/lib/python3.11/dist-packages (from requests>=2.31.0->llama-index-core->-r requirements.txt (line 6)) (2.5.0)\n",
            "Requirement already satisfied: greenlet>=1 in /usr/local/lib/python3.11/dist-packages (from sqlalchemy>=1.4.49->sqlalchemy[asyncio]>=1.4.49->llama-index-core->-r requirements.txt (line 6)) (3.2.3)\n",
            "Requirement already satisfied: shellingham>=1.3.0 in /usr/local/lib/python3.11/dist-packages (from typer<1.0,>=0.12->gradio->-r requirements.txt (line 12)) (1.5.4)\n",
            "Requirement already satisfied: rich>=10.11.0 in /usr/local/lib/python3.11/dist-packages (from typer<1.0,>=0.12->gradio->-r requirements.txt (line 12)) (13.9.4)\n",
            "Collecting mypy-extensions>=0.3.0 (from typing-inspect>=0.8.0->llama-index-core->-r requirements.txt (line 6))\n",
            "  Downloading mypy_extensions-1.1.0-py3-none-any.whl.metadata (1.1 kB)\n",
            "Collecting marshmallow<4.0.0,>=3.18.0 (from dataclasses-json->llama-index-core->-r requirements.txt (line 6))\n",
            "  Downloading marshmallow-3.26.1-py3-none-any.whl.metadata (7.3 kB)\n",
            "Collecting jedi>=0.16 (from ipython>=5.3.0->pyvis<0.4,>=0.3.2->llama-index-utils-workflow->-r requirements.txt (line 7))\n",
            "  Downloading jedi-0.19.2-py2.py3-none-any.whl.metadata (22 kB)\n",
            "Requirement already satisfied: decorator in /usr/local/lib/python3.11/dist-packages (from ipython>=5.3.0->pyvis<0.4,>=0.3.2->llama-index-utils-workflow->-r requirements.txt (line 7)) (4.4.2)\n",
            "Requirement already satisfied: pickleshare in /usr/local/lib/python3.11/dist-packages (from ipython>=5.3.0->pyvis<0.4,>=0.3.2->llama-index-utils-workflow->-r requirements.txt (line 7)) (0.7.5)\n",
            "Requirement already satisfied: traitlets>=4.2 in /usr/local/lib/python3.11/dist-packages (from ipython>=5.3.0->pyvis<0.4,>=0.3.2->llama-index-utils-workflow->-r requirements.txt (line 7)) (5.7.1)\n",
            "Requirement already satisfied: prompt-toolkit!=3.0.0,!=3.0.1,<3.1.0,>=2.0.0 in /usr/local/lib/python3.11/dist-packages (from ipython>=5.3.0->pyvis<0.4,>=0.3.2->llama-index-utils-workflow->-r requirements.txt (line 7)) (3.0.51)\n",
            "Requirement already satisfied: pygments in /usr/local/lib/python3.11/dist-packages (from ipython>=5.3.0->pyvis<0.4,>=0.3.2->llama-index-utils-workflow->-r requirements.txt (line 7)) (2.19.2)\n",
            "Requirement already satisfied: backcall in /usr/local/lib/python3.11/dist-packages (from ipython>=5.3.0->pyvis<0.4,>=0.3.2->llama-index-utils-workflow->-r requirements.txt (line 7)) (0.2.0)\n",
            "Requirement already satisfied: matplotlib-inline in /usr/local/lib/python3.11/dist-packages (from ipython>=5.3.0->pyvis<0.4,>=0.3.2->llama-index-utils-workflow->-r requirements.txt (line 7)) (0.1.7)\n",
            "Requirement already satisfied: pexpect>4.3 in /usr/local/lib/python3.11/dist-packages (from ipython>=5.3.0->pyvis<0.4,>=0.3.2->llama-index-utils-workflow->-r requirements.txt (line 7)) (4.9.0)\n",
            "Requirement already satisfied: six>=1.5 in /usr/local/lib/python3.11/dist-packages (from python-dateutil>=2.8.2->pandas<3.0,>=1.0->gradio->-r requirements.txt (line 12)) (1.17.0)\n",
            "Requirement already satisfied: markdown-it-py>=2.2.0 in /usr/local/lib/python3.11/dist-packages (from rich>=10.11.0->typer<1.0,>=0.12->gradio->-r requirements.txt (line 12)) (3.0.0)\n",
            "Collecting colorama>=0.4 (from griffe->banks<3,>=2.2.0->llama-index-core->-r requirements.txt (line 6))\n",
            "  Downloading colorama-0.4.6-py2.py3-none-any.whl.metadata (17 kB)\n",
            "Requirement already satisfied: parso<0.9.0,>=0.8.4 in /usr/local/lib/python3.11/dist-packages (from jedi>=0.16->ipython>=5.3.0->pyvis<0.4,>=0.3.2->llama-index-utils-workflow->-r requirements.txt (line 7)) (0.8.4)\n",
            "Requirement already satisfied: mdurl~=0.1 in /usr/local/lib/python3.11/dist-packages (from markdown-it-py>=2.2.0->rich>=10.11.0->typer<1.0,>=0.12->gradio->-r requirements.txt (line 12)) (0.1.2)\n",
            "Requirement already satisfied: ptyprocess>=0.5 in /usr/local/lib/python3.11/dist-packages (from pexpect>4.3->ipython>=5.3.0->pyvis<0.4,>=0.3.2->llama-index-utils-workflow->-r requirements.txt (line 7)) (0.7.0)\n",
            "Requirement already satisfied: wcwidth in /usr/local/lib/python3.11/dist-packages (from prompt-toolkit!=3.0.0,!=3.0.1,<3.1.0,>=2.0.0->ipython>=5.3.0->pyvis<0.4,>=0.3.2->llama-index-utils-workflow->-r requirements.txt (line 7)) (0.2.13)\n",
            "Downloading llama_index_core-0.12.52.post1-py3-none-any.whl (7.6 MB)\n",
            "\u001b[2K   \u001b[90m━━━━━━━━━━━━━━━━━━━━━━━━━━━━━━━━━━━━━━━━\u001b[0m \u001b[32m7.6/7.6 MB\u001b[0m \u001b[31m51.0 MB/s\u001b[0m eta \u001b[36m0:00:00\u001b[0m\n",
            "\u001b[?25hDownloading llama_index_utils_workflow-0.3.5-py3-none-any.whl (7.7 kB)\n",
            "Downloading llama_index_llms_openai-0.4.7-py3-none-any.whl (25 kB)\n",
            "Downloading llama_parse-0.6.51-py3-none-any.whl (4.9 kB)\n",
            "Downloading llama_index_embeddings_openai-0.3.1-py3-none-any.whl (6.2 kB)\n",
            "Downloading llama_index_readers_whisper-0.1.0-py3-none-any.whl (3.3 kB)\n",
            "Downloading banks-2.2.0-py3-none-any.whl (29 kB)\n",
            "Downloading Deprecated-1.2.18-py2.py3-none-any.whl (10.0 kB)\n",
            "Downloading dirtyjson-1.0.8-py3-none-any.whl (25 kB)\n",
            "Downloading filetype-1.2.0-py2.py3-none-any.whl (19 kB)\n",
            "Downloading llama_cloud_services-0.6.51-py3-none-any.whl (48 kB)\n",
            "\u001b[2K   \u001b[90m━━━━━━━━━━━━━━━━━━━━━━━━━━━━━━━━━━━━━━━━\u001b[0m \u001b[32m48.9/48.9 kB\u001b[0m \u001b[31m4.6 MB/s\u001b[0m eta \u001b[36m0:00:00\u001b[0m\n",
            "\u001b[?25hDownloading llama_cloud-0.1.34-py3-none-any.whl (289 kB)\n",
            "\u001b[2K   \u001b[90m━━━━━━━━━━━━━━━━━━━━━━━━━━━━━━━━━━━━━━━━\u001b[0m \u001b[32m289.9/289.9 kB\u001b[0m \u001b[31m23.9 MB/s\u001b[0m eta \u001b[36m0:00:00\u001b[0m\n",
            "\u001b[?25hDownloading llama_index_workflows-1.2.0-py3-none-any.whl (37 kB)\n",
            "Downloading pyvis-0.3.2-py3-none-any.whl (756 kB)\n",
            "\u001b[2K   \u001b[90m━━━━━━━━━━━━━━━━━━━━━━━━━━━━━━━━━━━━━━━━\u001b[0m \u001b[32m756.0/756.0 kB\u001b[0m \u001b[31m40.9 MB/s\u001b[0m eta \u001b[36m0:00:00\u001b[0m\n",
            "\u001b[?25hDownloading setuptools-80.9.0-py3-none-any.whl (1.2 MB)\n",
            "\u001b[2K   \u001b[90m━━━━━━━━━━━━━━━━━━━━━━━━━━━━━━━━━━━━━━━━\u001b[0m \u001b[32m1.2/1.2 MB\u001b[0m \u001b[31m48.8 MB/s\u001b[0m eta \u001b[36m0:00:00\u001b[0m\n",
            "\u001b[?25hDownloading typing_inspect-0.9.0-py3-none-any.whl (8.8 kB)\n",
            "Downloading aiosqlite-0.21.0-py3-none-any.whl (15 kB)\n",
            "Downloading dataclasses_json-0.6.7-py3-none-any.whl (28 kB)\n",
            "Downloading llama_index_instrumentation-0.3.0-py3-none-any.whl (15 kB)\n",
            "Downloading marshmallow-3.26.1-py3-none-any.whl (50 kB)\n",
            "\u001b[2K   \u001b[90m━━━━━━━━━━━━━━━━━━━━━━━━━━━━━━━━━━━━━━━━\u001b[0m \u001b[32m50.9/50.9 kB\u001b[0m \u001b[31m4.6 MB/s\u001b[0m eta \u001b[36m0:00:00\u001b[0m\n",
            "\u001b[?25hDownloading mypy_extensions-1.1.0-py3-none-any.whl (5.0 kB)\n",
            "Downloading python_dotenv-1.1.1-py3-none-any.whl (20 kB)\n",
            "Downloading griffe-1.8.0-py3-none-any.whl (132 kB)\n",
            "\u001b[2K   \u001b[90m━━━━━━━━━━━━━━━━━━━━━━━━━━━━━━━━━━━━━━━━\u001b[0m \u001b[32m132.5/132.5 kB\u001b[0m \u001b[31m11.1 MB/s\u001b[0m eta \u001b[36m0:00:00\u001b[0m\n",
            "\u001b[?25hDownloading colorama-0.4.6-py2.py3-none-any.whl (25 kB)\n",
            "Downloading jedi-0.19.2-py2.py3-none-any.whl (1.6 MB)\n",
            "\u001b[2K   \u001b[90m━━━━━━━━━━━━━━━━━━━━━━━━━━━━━━━━━━━━━━━━\u001b[0m \u001b[32m1.6/1.6 MB\u001b[0m \u001b[31m54.0 MB/s\u001b[0m eta \u001b[36m0:00:00\u001b[0m\n",
            "\u001b[?25hInstalling collected packages: filetype, dirtyjson, setuptools, python-dotenv, mypy-extensions, marshmallow, jedi, deprecated, colorama, aiosqlite, typing-inspect, griffe, pyvis, llama-index-instrumentation, llama-cloud, dataclasses-json, banks, llama-index-workflows, llama-index-core, llama-index-utils-workflow, llama-index-readers-whisper, llama-index-llms-openai, llama-index-embeddings-openai, llama-cloud-services, llama-parse\n",
            "  Attempting uninstall: setuptools\n",
            "    Found existing installation: setuptools 75.2.0\n",
            "    Uninstalling setuptools-75.2.0:\n",
            "      Successfully uninstalled setuptools-75.2.0\n",
            "Successfully installed aiosqlite-0.21.0 banks-2.2.0 colorama-0.4.6 dataclasses-json-0.6.7 deprecated-1.2.18 dirtyjson-1.0.8 filetype-1.2.0 griffe-1.8.0 jedi-0.19.2 llama-cloud-0.1.34 llama-cloud-services-0.6.51 llama-index-core-0.12.52.post1 llama-index-embeddings-openai-0.3.1 llama-index-instrumentation-0.3.0 llama-index-llms-openai-0.4.7 llama-index-readers-whisper-0.1.0 llama-index-utils-workflow-0.3.5 llama-index-workflows-1.2.0 llama-parse-0.6.51 marshmallow-3.26.1 mypy-extensions-1.1.0 python-dotenv-1.1.1 pyvis-0.3.2 setuptools-80.9.0 typing-inspect-0.9.0\n"
          ]
        },
        {
          "output_type": "display_data",
          "data": {
            "application/vnd.colab-display-data+json": {
              "pip_warning": {
                "packages": [
                  "_distutils_hack"
                ]
              },
              "id": "1eca40b7a1e74ac2877d4347a57fda07"
            }
          },
          "metadata": {}
        }
      ]
    },
    {
      "cell_type": "code",
      "execution_count": 47,
      "metadata": {
        "id": "kA8tOEQoL6NW"
      },
      "outputs": [],
      "source": [
        "from IPython.display import display, HTML\n",
        "from helper import extract_html_content\n",
        "import random\n",
        "from helper import get_openai_api_key"
      ]
    },
    {
      "cell_type": "code",
      "source": [
        "from llama_index.core.workflow import (\n",
        "    StartEvent,\n",
        "    StopEvent,\n",
        "    Workflow,\n",
        "    step,\n",
        "    Context\n",
        ")"
      ],
      "metadata": {
        "id": "pC7o_Ev0UmC1"
      },
      "execution_count": 48,
      "outputs": []
    },
    {
      "cell_type": "code",
      "source": [
        "class MyWorkflow(Workflow):\n",
        "    # declare a function as a step\n",
        "    @step\n",
        "    async def my_step(self, ev: StartEvent) -> StopEvent:\n",
        "        # do something here\n",
        "        return StopEvent(result=\"Hello, world!\")"
      ],
      "metadata": {
        "id": "Yllei7S8UnOR"
      },
      "execution_count": 49,
      "outputs": []
    },
    {
      "cell_type": "markdown",
      "source": [
        "This new MyWorkflow class:\n",
        "\n",
        "Uses the @step decorator to declare a function to be a step\n",
        "Has a single step called my_step which accepts a StartEvent. StartEvent is a special event which is always generated when a workflow first runs.\n",
        "my_step returns a StopEvent, which is another special event. When a StopEvent is emitted the workflow returns it and stops running.\n",
        "Note: The async keyword defines asynchronous functions, which can be paused and resumed, allowing other tasks to run in the meantime.\n",
        "\n",
        "You instantiate it and run your workflow like this:"
      ],
      "metadata": {
        "id": "d5aU_RxkUzmw"
      }
    },
    {
      "cell_type": "code",
      "source": [
        "# instantiate the workflow\n",
        "basic_workflow = MyWorkflow(timeout=10, verbose=False)\n",
        "# run the workflow\n",
        "result = await basic_workflow.run()\n",
        "print(result)"
      ],
      "metadata": {
        "colab": {
          "base_uri": "https://localhost:8080/"
        },
        "id": "BBICTZ5mU0z8",
        "outputId": "33498509-34bc-4720-9dd6-6b362afa0e10"
      },
      "execution_count": 6,
      "outputs": [
        {
          "output_type": "stream",
          "name": "stdout",
          "text": [
            "Hello, world!\n"
          ]
        }
      ]
    },
    {
      "cell_type": "markdown",
      "source": [
        "Note:\n",
        "\n",
        "The await keyword is used with async functions to pause execution until the specific asynchronous task is complete.\n",
        "The timeout argument represent the number of seconds after which the workflow execution will be halted"
      ],
      "metadata": {
        "id": "AmjjUlawU6I-"
      }
    },
    {
      "cell_type": "markdown",
      "source": [
        "Workflows are async by default, so you use await to get the result of the run command. This will work fine in a notebook environment; in a vanilla python script you will need to import asyncio and wrap your code in an async function, like this:\n",
        "\n",
        "```python\n",
        "async def main():\n",
        "    w = MyWorkflow(timeout=10, verbose=False)\n",
        "    result = await w.run()\n",
        "    print(result)\n",
        "\n",
        "\n",
        "if __name__ == \"__main__\":\n",
        "    import asyncio\n",
        "    asyncio.run(main())\n",
        "    \n",
        "```\n",
        "Since you're in a notebook right now, you won't execute the above code as it won't work!"
      ],
      "metadata": {
        "id": "KyO1c2_cU9qN"
      }
    },
    {
      "cell_type": "markdown",
      "source": [
        "Visualizing workflow"
      ],
      "metadata": {
        "id": "fSF3LbXvVHDP"
      }
    },
    {
      "cell_type": "code",
      "source": [
        "from llama_index.utils.workflow import draw_all_possible_flows"
      ],
      "metadata": {
        "id": "ExGV4rk-U5wi"
      },
      "execution_count": 7,
      "outputs": []
    },
    {
      "cell_type": "code",
      "source": [
        "draw_all_possible_flows(\n",
        "    basic_workflow,\n",
        "    filename=\"basic_workflow.html\"\n",
        ")"
      ],
      "metadata": {
        "colab": {
          "base_uri": "https://localhost:8080/"
        },
        "id": "tUOB42zgVKcc",
        "outputId": "0b918105-f4ba-4019-b6b1-49119932d11e"
      },
      "execution_count": 50,
      "outputs": [
        {
          "output_type": "stream",
          "name": "stdout",
          "text": [
            "basic_workflow.html\n"
          ]
        }
      ]
    },
    {
      "cell_type": "code",
      "source": [
        "html_content = extract_html_content(\"basic_workflow.html\")\n",
        "display(HTML(html_content), metadata=dict(isolated=True))"
      ],
      "metadata": {
        "colab": {
          "resources": {
            "http://localhost:8080/lib/bindings/utils.js": {
              "data": "",
              "ok": false,
              "headers": [
                [
                  "content-length",
                  "0"
                ]
              ],
              "status": 404,
              "status_text": ""
            }
          },
          "base_uri": "https://localhost:8080/",
          "height": 817
        },
        "id": "uhj0NwerVs1t",
        "outputId": "3a84ea5c-7121-413c-d74c-c2d185043c5e"
      },
      "execution_count": 51,
      "outputs": [
        {
          "output_type": "display_data",
          "data": {
            "text/plain": [
              "<IPython.core.display.HTML object>"
            ],
            "text/html": [
              " <div style=\"width: 100%; height: 800px; overflow: hidden;\"> <html>\n",
              "    <head>\n",
              "        <meta charset=\"utf-8\">\n",
              "        \n",
              "            <script src=\"lib/bindings/utils.js\"></script>\n",
              "            <link rel=\"stylesheet\" href=\"https://cdnjs.cloudflare.com/ajax/libs/vis-network/9.1.2/dist/dist/vis-network.min.css\" integrity=\"sha512-WgxfT5LWjfszlPHXRmBWHkV2eceiWTOBvrKCNbdgDYTHrT2AeLCGbF4sZlZw3UMN3WtL0tGUoIAKsu8mllg/XA==\" crossorigin=\"anonymous\" referrerpolicy=\"no-referrer\" />\n",
              "            <script src=\"https://cdnjs.cloudflare.com/ajax/libs/vis-network/9.1.2/dist/vis-network.min.js\" integrity=\"sha512-LnvoEWDFrqGHlHmDD2101OrLcbsfkrzoSpvtSQtxK3RMnRV0eOkhhBN2dXHKRrUU8p2DGRTk35n4O8nWSVe1mQ==\" crossorigin=\"anonymous\" referrerpolicy=\"no-referrer\"></script>\n",
              "            \n",
              "        \n",
              "<center>\n",
              "<h1></h1>\n",
              "</center>\n",
              "\n",
              "<!-- <link rel=\"stylesheet\" href=\"../node_modules/vis/dist/vis.min.css\" type=\"text/css\" />\n",
              "<script type=\"text/javascript\" src=\"../node_modules/vis/dist/vis.js\"> </script>-->\n",
              "        <link\n",
              "          href=\"https://cdn.jsdelivr.net/npm/bootstrap@5.0.0-beta3/dist/css/bootstrap.min.css\"\n",
              "          rel=\"stylesheet\"\n",
              "          integrity=\"sha384-eOJMYsd53ii+scO/bJGFsiCZc+5NDVN2yr8+0RDqr0Ql0h+rP48ckxlpbzKgwra6\"\n",
              "          crossorigin=\"anonymous\"\n",
              "        />\n",
              "        <script\n",
              "          src=\"https://cdn.jsdelivr.net/npm/bootstrap@5.0.0-beta3/dist/js/bootstrap.bundle.min.js\"\n",
              "          integrity=\"sha384-JEW9xMcG8R+pH31jmWH6WWP0WintQrMb4s7ZOdauHnUtxwoG2vI5DkLtS3qm9Ekf\"\n",
              "          crossorigin=\"anonymous\"\n",
              "        ></script>\n",
              "\n",
              "\n",
              "        <center>\n",
              "          <h1></h1>\n",
              "        </center>\n",
              "        <style type=\"text/css\">\n",
              "\n",
              "             #mynetwork {\n",
              "                 width: 100%;\n",
              "                 height: 750px;\n",
              "                 background-color: #ffffff;\n",
              "                 border: 1px solid lightgray;\n",
              "                 position: relative;\n",
              "                 float: left;\n",
              "             }\n",
              "\n",
              "             \n",
              "\n",
              "             \n",
              "\n",
              "             \n",
              "        </style>\n",
              "    </head>\n",
              "\n",
              "\n",
              "    <body>\n",
              "        <div class=\"card\" style=\"width: 100%\">\n",
              "            \n",
              "            \n",
              "            <div id=\"mynetwork\" class=\"card-body\"></div>\n",
              "        </div>\n",
              "\n",
              "        \n",
              "        \n",
              "\n",
              "        <script type=\"text/javascript\">\n",
              "\n",
              "              // initialize global variables.\n",
              "              var edges;\n",
              "              var nodes;\n",
              "              var allNodes;\n",
              "              var allEdges;\n",
              "              var nodeColors;\n",
              "              var originalNodes;\n",
              "              var network;\n",
              "              var container;\n",
              "              var options, data;\n",
              "              var filter = {\n",
              "                  item : '',\n",
              "                  property : '',\n",
              "                  value : []\n",
              "              };\n",
              "\n",
              "              \n",
              "\n",
              "              \n",
              "\n",
              "              // This method is responsible for drawing the graph, returns the drawn network\n",
              "              function drawGraph() {\n",
              "                  var container = document.getElementById('mynetwork');\n",
              "\n",
              "                  \n",
              "\n",
              "                  // parsing and collecting nodes and edges from the python\n",
              "                  nodes = new vis.DataSet([{\"color\": \"#ADD8E6\", \"id\": \"_done\", \"label\": \"_done\", \"shape\": \"box\", \"title\": null}, {\"color\": \"#FFA07A\", \"id\": \"StopEvent\", \"label\": \"StopEvent\", \"shape\": \"ellipse\", \"title\": null}, {\"color\": \"#ADD8E6\", \"id\": \"my_step\", \"label\": \"my_step\", \"shape\": \"box\", \"title\": null}, {\"color\": \"#E27AFF\", \"id\": \"StartEvent\", \"label\": \"StartEvent\", \"shape\": \"ellipse\", \"title\": null}]);\n",
              "                  edges = new vis.DataSet([{\"arrows\": \"to\", \"from\": \"StopEvent\", \"to\": \"_done\"}, {\"arrows\": \"to\", \"from\": \"my_step\", \"to\": \"StopEvent\"}, {\"arrows\": \"to\", \"from\": \"StartEvent\", \"to\": \"my_step\"}]);\n",
              "\n",
              "                  nodeColors = {};\n",
              "                  allNodes = nodes.get({ returnType: \"Object\" });\n",
              "                  for (nodeId in allNodes) {\n",
              "                    nodeColors[nodeId] = allNodes[nodeId].color;\n",
              "                  }\n",
              "                  allEdges = edges.get({ returnType: \"Object\" });\n",
              "                  // adding nodes and edges to the graph\n",
              "                  data = {nodes: nodes, edges: edges};\n",
              "\n",
              "                  var options = {\n",
              "    \"configure\": {\n",
              "        \"enabled\": false\n",
              "    },\n",
              "    \"edges\": {\n",
              "        \"color\": {\n",
              "            \"inherit\": true\n",
              "        },\n",
              "        \"smooth\": {\n",
              "            \"enabled\": true,\n",
              "            \"type\": \"dynamic\"\n",
              "        }\n",
              "    },\n",
              "    \"interaction\": {\n",
              "        \"dragNodes\": true,\n",
              "        \"hideEdgesOnDrag\": false,\n",
              "        \"hideNodesOnDrag\": false\n",
              "    },\n",
              "    \"physics\": {\n",
              "        \"enabled\": true,\n",
              "        \"stabilization\": {\n",
              "            \"enabled\": true,\n",
              "            \"fit\": true,\n",
              "            \"iterations\": 1000,\n",
              "            \"onlyDynamicEdges\": false,\n",
              "            \"updateInterval\": 50\n",
              "        }\n",
              "    }\n",
              "};\n",
              "\n",
              "                  \n",
              "\n",
              "\n",
              "                  \n",
              "\n",
              "                  network = new vis.Network(container, data, options);\n",
              "\n",
              "                  \n",
              "\n",
              "                  \n",
              "\n",
              "                  \n",
              "\n",
              "\n",
              "                  \n",
              "\n",
              "                  return network;\n",
              "\n",
              "              }\n",
              "              drawGraph();\n",
              "        </script>\n",
              "    </body>\n",
              "</html> </div>"
            ]
          },
          "metadata": {
            "isolated": true
          }
        }
      ]
    },
    {
      "cell_type": "markdown",
      "source": [
        "Multiple steps are created by defining custom events that can be emitted by steps and trigger other steps. Let's define a simple 3-step workflow by defining two custom events, FirstEvent and SecondEvent. These classes can have any names and properties, but must inherit from Event:"
      ],
      "metadata": {
        "id": "o0dhZJWETcp0"
      }
    },
    {
      "cell_type": "code",
      "source": [
        "from llama_index.core.workflow import Event\n",
        "\n",
        "class FirstEvent(Event):\n",
        "    first_output: str\n",
        "\n",
        "class SecondEvent(Event):\n",
        "    second_output: str"
      ],
      "metadata": {
        "id": "1pcltTEVTXWV"
      },
      "execution_count": 13,
      "outputs": []
    },
    {
      "cell_type": "markdown",
      "source": [
        "Now you define the workflow itself. You do this by defining the input and output types on each step.\n",
        "\n",
        "step_one takes a StartEvent and returns a FirstEvent\n",
        "step_two takes a FirstEvent and returns a SecondEvent\n",
        "step_three takes a SecondEvent and returns a StopEvent"
      ],
      "metadata": {
        "id": "-pdhLsY5Th8O"
      }
    },
    {
      "cell_type": "code",
      "source": [
        "class MyWorkflow(Workflow):\n",
        "    @step\n",
        "    async def step_one(self, ev: StartEvent) -> FirstEvent:\n",
        "        print(ev.first_input)\n",
        "        return FirstEvent(first_output=\"First step complete.\")\n",
        "\n",
        "    @step\n",
        "    async def step_two(self, ev: FirstEvent) -> SecondEvent:\n",
        "        print(ev.first_output)\n",
        "        return SecondEvent(second_output=\"Second step complete.\")\n",
        "\n",
        "    @step\n",
        "    async def step_three(self, ev: SecondEvent) -> StopEvent:\n",
        "        print(ev.second_output)\n",
        "        return StopEvent(result=\"Workflow complete.\")"
      ],
      "metadata": {
        "id": "LPdfPPMCTizu"
      },
      "execution_count": 14,
      "outputs": []
    },
    {
      "cell_type": "markdown",
      "source": [
        "Note: Properties of StartEvent and StopEvent:\n",
        "\n",
        "For StartEvent, you define its properties and pass in their values when you run the workflow as shown in the next cell.\n",
        "For StopEvent, by default, it only has one property result. You can always create a class that inherits StopEvent so you can customize what it returns.\n",
        "You run this just like you ran the other workflows:"
      ],
      "metadata": {
        "id": "BSRzyxYNTnpW"
      }
    },
    {
      "cell_type": "code",
      "source": [
        "workflow = MyWorkflow(timeout=10, verbose=False)\n",
        "result = await workflow.run(first_input=\"Start the workflow.\")\n",
        "print(result)"
      ],
      "metadata": {
        "colab": {
          "base_uri": "https://localhost:8080/"
        },
        "id": "XnbwDcflTolj",
        "outputId": "57d23c80-37ee-4da0-d755-de5128f1e07e"
      },
      "execution_count": 15,
      "outputs": [
        {
          "output_type": "stream",
          "name": "stdout",
          "text": [
            "Start the workflow.\n",
            "First step complete.\n",
            "Second step complete.\n",
            "Workflow complete.\n"
          ]
        }
      ]
    },
    {
      "cell_type": "markdown",
      "source": [
        "And you can visualize it just like you did before:"
      ],
      "metadata": {
        "id": "zIfI01hITstW"
      }
    },
    {
      "cell_type": "code",
      "source": [
        "WORKFLOW_FILE = \"custom_events.html\"\n",
        "draw_all_possible_flows(workflow, filename=WORKFLOW_FILE)"
      ],
      "metadata": {
        "colab": {
          "base_uri": "https://localhost:8080/"
        },
        "id": "Aacm-GjOTsMk",
        "outputId": "5b20a8b6-be45-40bf-d31a-2c592d6d030e"
      },
      "execution_count": 16,
      "outputs": [
        {
          "output_type": "stream",
          "name": "stdout",
          "text": [
            "custom_events.html\n"
          ]
        }
      ]
    },
    {
      "cell_type": "code",
      "source": [
        "html_content = extract_html_content(WORKFLOW_FILE)\n",
        "display(HTML(html_content), metadata=dict(isolated=True))"
      ],
      "metadata": {
        "colab": {
          "resources": {
            "http://localhost:8080/lib/bindings/utils.js": {
              "data": "",
              "ok": false,
              "headers": [
                [
                  "content-length",
                  "0"
                ]
              ],
              "status": 404,
              "status_text": ""
            }
          },
          "base_uri": "https://localhost:8080/",
          "height": 817
        },
        "id": "qGDY7ourTwbX",
        "outputId": "9a92f6f2-1d40-47c8-a97f-4ede58c291b2"
      },
      "execution_count": 17,
      "outputs": [
        {
          "output_type": "display_data",
          "data": {
            "text/plain": [
              "<IPython.core.display.HTML object>"
            ],
            "text/html": [
              " <div style=\"width: 100%; height: 800px; overflow: hidden;\"> <html>\n",
              "    <head>\n",
              "        <meta charset=\"utf-8\">\n",
              "        \n",
              "            <script src=\"lib/bindings/utils.js\"></script>\n",
              "            <link rel=\"stylesheet\" href=\"https://cdnjs.cloudflare.com/ajax/libs/vis-network/9.1.2/dist/dist/vis-network.min.css\" integrity=\"sha512-WgxfT5LWjfszlPHXRmBWHkV2eceiWTOBvrKCNbdgDYTHrT2AeLCGbF4sZlZw3UMN3WtL0tGUoIAKsu8mllg/XA==\" crossorigin=\"anonymous\" referrerpolicy=\"no-referrer\" />\n",
              "            <script src=\"https://cdnjs.cloudflare.com/ajax/libs/vis-network/9.1.2/dist/vis-network.min.js\" integrity=\"sha512-LnvoEWDFrqGHlHmDD2101OrLcbsfkrzoSpvtSQtxK3RMnRV0eOkhhBN2dXHKRrUU8p2DGRTk35n4O8nWSVe1mQ==\" crossorigin=\"anonymous\" referrerpolicy=\"no-referrer\"></script>\n",
              "            \n",
              "        \n",
              "<center>\n",
              "<h1></h1>\n",
              "</center>\n",
              "\n",
              "<!-- <link rel=\"stylesheet\" href=\"../node_modules/vis/dist/vis.min.css\" type=\"text/css\" />\n",
              "<script type=\"text/javascript\" src=\"../node_modules/vis/dist/vis.js\"> </script>-->\n",
              "        <link\n",
              "          href=\"https://cdn.jsdelivr.net/npm/bootstrap@5.0.0-beta3/dist/css/bootstrap.min.css\"\n",
              "          rel=\"stylesheet\"\n",
              "          integrity=\"sha384-eOJMYsd53ii+scO/bJGFsiCZc+5NDVN2yr8+0RDqr0Ql0h+rP48ckxlpbzKgwra6\"\n",
              "          crossorigin=\"anonymous\"\n",
              "        />\n",
              "        <script\n",
              "          src=\"https://cdn.jsdelivr.net/npm/bootstrap@5.0.0-beta3/dist/js/bootstrap.bundle.min.js\"\n",
              "          integrity=\"sha384-JEW9xMcG8R+pH31jmWH6WWP0WintQrMb4s7ZOdauHnUtxwoG2vI5DkLtS3qm9Ekf\"\n",
              "          crossorigin=\"anonymous\"\n",
              "        ></script>\n",
              "\n",
              "\n",
              "        <center>\n",
              "          <h1></h1>\n",
              "        </center>\n",
              "        <style type=\"text/css\">\n",
              "\n",
              "             #mynetwork {\n",
              "                 width: 100%;\n",
              "                 height: 750px;\n",
              "                 background-color: #ffffff;\n",
              "                 border: 1px solid lightgray;\n",
              "                 position: relative;\n",
              "                 float: left;\n",
              "             }\n",
              "\n",
              "             \n",
              "\n",
              "             \n",
              "\n",
              "             \n",
              "        </style>\n",
              "    </head>\n",
              "\n",
              "\n",
              "    <body>\n",
              "        <div class=\"card\" style=\"width: 100%\">\n",
              "            \n",
              "            \n",
              "            <div id=\"mynetwork\" class=\"card-body\"></div>\n",
              "        </div>\n",
              "\n",
              "        \n",
              "        \n",
              "\n",
              "        <script type=\"text/javascript\">\n",
              "\n",
              "              // initialize global variables.\n",
              "              var edges;\n",
              "              var nodes;\n",
              "              var allNodes;\n",
              "              var allEdges;\n",
              "              var nodeColors;\n",
              "              var originalNodes;\n",
              "              var network;\n",
              "              var container;\n",
              "              var options, data;\n",
              "              var filter = {\n",
              "                  item : '',\n",
              "                  property : '',\n",
              "                  value : []\n",
              "              };\n",
              "\n",
              "              \n",
              "\n",
              "              \n",
              "\n",
              "              // This method is responsible for drawing the graph, returns the drawn network\n",
              "              function drawGraph() {\n",
              "                  var container = document.getElementById('mynetwork');\n",
              "\n",
              "                  \n",
              "\n",
              "                  // parsing and collecting nodes and edges from the python\n",
              "                  nodes = new vis.DataSet([{\"color\": \"#ADD8E6\", \"id\": \"_done\", \"label\": \"_done\", \"shape\": \"box\", \"title\": null}, {\"color\": \"#FFA07A\", \"id\": \"StopEvent\", \"label\": \"StopEvent\", \"shape\": \"ellipse\", \"title\": null}, {\"color\": \"#ADD8E6\", \"id\": \"step_one\", \"label\": \"step_one\", \"shape\": \"box\", \"title\": null}, {\"color\": \"#E27AFF\", \"id\": \"StartEvent\", \"label\": \"StartEvent\", \"shape\": \"ellipse\", \"title\": null}, {\"color\": \"#90EE90\", \"id\": \"FirstEvent\", \"label\": \"FirstEvent\", \"shape\": \"ellipse\", \"title\": null}, {\"color\": \"#ADD8E6\", \"id\": \"step_three\", \"label\": \"step_three\", \"shape\": \"box\", \"title\": null}, {\"color\": \"#90EE90\", \"id\": \"SecondEvent\", \"label\": \"SecondEvent\", \"shape\": \"ellipse\", \"title\": null}, {\"color\": \"#ADD8E6\", \"id\": \"step_two\", \"label\": \"step_two\", \"shape\": \"box\", \"title\": null}]);\n",
              "                  edges = new vis.DataSet([{\"arrows\": \"to\", \"from\": \"StopEvent\", \"to\": \"_done\"}, {\"arrows\": \"to\", \"from\": \"step_one\", \"to\": \"FirstEvent\"}, {\"arrows\": \"to\", \"from\": \"StartEvent\", \"to\": \"step_one\"}, {\"arrows\": \"to\", \"from\": \"step_three\", \"to\": \"StopEvent\"}, {\"arrows\": \"to\", \"from\": \"SecondEvent\", \"to\": \"step_three\"}, {\"arrows\": \"to\", \"from\": \"step_two\", \"to\": \"SecondEvent\"}, {\"arrows\": \"to\", \"from\": \"FirstEvent\", \"to\": \"step_two\"}]);\n",
              "\n",
              "                  nodeColors = {};\n",
              "                  allNodes = nodes.get({ returnType: \"Object\" });\n",
              "                  for (nodeId in allNodes) {\n",
              "                    nodeColors[nodeId] = allNodes[nodeId].color;\n",
              "                  }\n",
              "                  allEdges = edges.get({ returnType: \"Object\" });\n",
              "                  // adding nodes and edges to the graph\n",
              "                  data = {nodes: nodes, edges: edges};\n",
              "\n",
              "                  var options = {\n",
              "    \"configure\": {\n",
              "        \"enabled\": false\n",
              "    },\n",
              "    \"edges\": {\n",
              "        \"color\": {\n",
              "            \"inherit\": true\n",
              "        },\n",
              "        \"smooth\": {\n",
              "            \"enabled\": true,\n",
              "            \"type\": \"dynamic\"\n",
              "        }\n",
              "    },\n",
              "    \"interaction\": {\n",
              "        \"dragNodes\": true,\n",
              "        \"hideEdgesOnDrag\": false,\n",
              "        \"hideNodesOnDrag\": false\n",
              "    },\n",
              "    \"physics\": {\n",
              "        \"enabled\": true,\n",
              "        \"stabilization\": {\n",
              "            \"enabled\": true,\n",
              "            \"fit\": true,\n",
              "            \"iterations\": 1000,\n",
              "            \"onlyDynamicEdges\": false,\n",
              "            \"updateInterval\": 50\n",
              "        }\n",
              "    }\n",
              "};\n",
              "\n",
              "                  \n",
              "\n",
              "\n",
              "                  \n",
              "\n",
              "                  network = new vis.Network(container, data, options);\n",
              "\n",
              "                  \n",
              "\n",
              "                  \n",
              "\n",
              "                  \n",
              "\n",
              "\n",
              "                  \n",
              "\n",
              "                  return network;\n",
              "\n",
              "              }\n",
              "              drawGraph();\n",
              "        </script>\n",
              "    </body>\n",
              "</html> </div>"
            ]
          },
          "metadata": {
            "isolated": true
          }
        }
      ]
    },
    {
      "cell_type": "markdown",
      "source": [
        "# Creating loops\n",
        "However, there's not much point to a workflow if it just runs straight through! A key feature of Workflows is their enablement of branching and looping logic, more simply and flexibly than graph-based approaches. To enable looping, let's create a new LoopEvent:"
      ],
      "metadata": {
        "id": "iq3_Qv3ZTzyg"
      }
    },
    {
      "cell_type": "code",
      "source": [
        "class LoopEvent(Event):\n",
        "    loop_output: str"
      ],
      "metadata": {
        "id": "xB-pjZG_T5q8"
      },
      "execution_count": 18,
      "outputs": []
    },
    {
      "cell_type": "markdown",
      "source": [
        "Now you'll edit your step_one to make a random decision about whether to execute serially or loop back:"
      ],
      "metadata": {
        "id": "CBnd0a2IT7_L"
      }
    },
    {
      "cell_type": "code",
      "source": [
        "class MyWorkflow(Workflow):\n",
        "    @step\n",
        "    async def step_one(self, ev: StartEvent | LoopEvent) -> FirstEvent | LoopEvent:\n",
        "        if random.randint(0, 1) == 0:\n",
        "            print(\"Bad thing happened\")\n",
        "            return LoopEvent(loop_output=\"Back to step one.\")\n",
        "        else:\n",
        "            print(\"Good thing happened\")\n",
        "            return FirstEvent(first_output=\"First step complete.\")\n",
        "\n",
        "    @step\n",
        "    async def step_two(self, ev: FirstEvent) -> SecondEvent:\n",
        "        print(ev.first_output)\n",
        "        return SecondEvent(second_output=\"Second step complete.\")\n",
        "\n",
        "    @step\n",
        "    async def step_three(self, ev: SecondEvent) -> StopEvent:\n",
        "        print(ev.second_output)\n",
        "        return StopEvent(result=\"Workflow complete.\")"
      ],
      "metadata": {
        "id": "JJxd3RR3T-JI"
      },
      "execution_count": 52,
      "outputs": []
    },
    {
      "cell_type": "markdown",
      "source": [
        "Note the new type annotations on step_one: the step now accepts either a StartEvent or a LoopEvent to trigger the step, and it also emits either a FirstEvent or a LoopEvent.\n",
        "\n",
        "You run it as usual. You might need to run it a couple of times to see the loop happen."
      ],
      "metadata": {
        "id": "0RM6HqMYUCmY"
      }
    },
    {
      "cell_type": "code",
      "source": [
        "loop_workflow = MyWorkflow(timeout=10, verbose=False)\n",
        "result = await loop_workflow.run(first_input=\"Start the workflow.\")\n",
        "print(result)"
      ],
      "metadata": {
        "colab": {
          "base_uri": "https://localhost:8080/"
        },
        "id": "xii8bPTLUDVP",
        "outputId": "38d82d6d-7455-4fa3-fe7b-ad86a191e46c"
      },
      "execution_count": 20,
      "outputs": [
        {
          "output_type": "stream",
          "name": "stdout",
          "text": [
            "Bad thing happened\n",
            "Bad thing happened\n",
            "Good thing happened\n",
            "First step complete.\n",
            "Second step complete.\n",
            "Workflow complete.\n"
          ]
        }
      ]
    },
    {
      "cell_type": "markdown",
      "source": [
        "Your new, looping workflow visualizes like this:"
      ],
      "metadata": {
        "id": "GpUhrk4TUF7k"
      }
    },
    {
      "cell_type": "code",
      "source": [
        "WORKFLOW_FILE = \"loop_events.html\"\n",
        "draw_all_possible_flows(loop_workflow, filename=WORKFLOW_FILE)\n",
        "html_content = extract_html_content(WORKFLOW_FILE)\n",
        "display(HTML(html_content), metadata=dict(isolated=True))"
      ],
      "metadata": {
        "colab": {
          "resources": {
            "http://localhost:8080/lib/bindings/utils.js": {
              "data": "",
              "ok": false,
              "headers": [
                [
                  "content-length",
                  "0"
                ]
              ],
              "status": 404,
              "status_text": ""
            }
          },
          "base_uri": "https://localhost:8080/",
          "height": 841
        },
        "id": "5B3Uq3psUIaT",
        "outputId": "8be7a98f-e1fc-4bff-c21e-fe348ccb8012"
      },
      "execution_count": 53,
      "outputs": [
        {
          "output_type": "stream",
          "name": "stdout",
          "text": [
            "loop_events.html\n"
          ]
        },
        {
          "output_type": "display_data",
          "data": {
            "text/plain": [
              "<IPython.core.display.HTML object>"
            ],
            "text/html": [
              " <div style=\"width: 100%; height: 800px; overflow: hidden;\"> <html>\n",
              "    <head>\n",
              "        <meta charset=\"utf-8\">\n",
              "        \n",
              "            <script src=\"lib/bindings/utils.js\"></script>\n",
              "            <link rel=\"stylesheet\" href=\"https://cdnjs.cloudflare.com/ajax/libs/vis-network/9.1.2/dist/dist/vis-network.min.css\" integrity=\"sha512-WgxfT5LWjfszlPHXRmBWHkV2eceiWTOBvrKCNbdgDYTHrT2AeLCGbF4sZlZw3UMN3WtL0tGUoIAKsu8mllg/XA==\" crossorigin=\"anonymous\" referrerpolicy=\"no-referrer\" />\n",
              "            <script src=\"https://cdnjs.cloudflare.com/ajax/libs/vis-network/9.1.2/dist/vis-network.min.js\" integrity=\"sha512-LnvoEWDFrqGHlHmDD2101OrLcbsfkrzoSpvtSQtxK3RMnRV0eOkhhBN2dXHKRrUU8p2DGRTk35n4O8nWSVe1mQ==\" crossorigin=\"anonymous\" referrerpolicy=\"no-referrer\"></script>\n",
              "            \n",
              "        \n",
              "<center>\n",
              "<h1></h1>\n",
              "</center>\n",
              "\n",
              "<!-- <link rel=\"stylesheet\" href=\"../node_modules/vis/dist/vis.min.css\" type=\"text/css\" />\n",
              "<script type=\"text/javascript\" src=\"../node_modules/vis/dist/vis.js\"> </script>-->\n",
              "        <link\n",
              "          href=\"https://cdn.jsdelivr.net/npm/bootstrap@5.0.0-beta3/dist/css/bootstrap.min.css\"\n",
              "          rel=\"stylesheet\"\n",
              "          integrity=\"sha384-eOJMYsd53ii+scO/bJGFsiCZc+5NDVN2yr8+0RDqr0Ql0h+rP48ckxlpbzKgwra6\"\n",
              "          crossorigin=\"anonymous\"\n",
              "        />\n",
              "        <script\n",
              "          src=\"https://cdn.jsdelivr.net/npm/bootstrap@5.0.0-beta3/dist/js/bootstrap.bundle.min.js\"\n",
              "          integrity=\"sha384-JEW9xMcG8R+pH31jmWH6WWP0WintQrMb4s7ZOdauHnUtxwoG2vI5DkLtS3qm9Ekf\"\n",
              "          crossorigin=\"anonymous\"\n",
              "        ></script>\n",
              "\n",
              "\n",
              "        <center>\n",
              "          <h1></h1>\n",
              "        </center>\n",
              "        <style type=\"text/css\">\n",
              "\n",
              "             #mynetwork {\n",
              "                 width: 100%;\n",
              "                 height: 750px;\n",
              "                 background-color: #ffffff;\n",
              "                 border: 1px solid lightgray;\n",
              "                 position: relative;\n",
              "                 float: left;\n",
              "             }\n",
              "\n",
              "             \n",
              "\n",
              "             \n",
              "\n",
              "             \n",
              "        </style>\n",
              "    </head>\n",
              "\n",
              "\n",
              "    <body>\n",
              "        <div class=\"card\" style=\"width: 100%\">\n",
              "            \n",
              "            \n",
              "            <div id=\"mynetwork\" class=\"card-body\"></div>\n",
              "        </div>\n",
              "\n",
              "        \n",
              "        \n",
              "\n",
              "        <script type=\"text/javascript\">\n",
              "\n",
              "              // initialize global variables.\n",
              "              var edges;\n",
              "              var nodes;\n",
              "              var allNodes;\n",
              "              var allEdges;\n",
              "              var nodeColors;\n",
              "              var originalNodes;\n",
              "              var network;\n",
              "              var container;\n",
              "              var options, data;\n",
              "              var filter = {\n",
              "                  item : '',\n",
              "                  property : '',\n",
              "                  value : []\n",
              "              };\n",
              "\n",
              "              \n",
              "\n",
              "              \n",
              "\n",
              "              // This method is responsible for drawing the graph, returns the drawn network\n",
              "              function drawGraph() {\n",
              "                  var container = document.getElementById('mynetwork');\n",
              "\n",
              "                  \n",
              "\n",
              "                  // parsing and collecting nodes and edges from the python\n",
              "                  nodes = new vis.DataSet([{\"color\": \"#ADD8E6\", \"id\": \"_done\", \"label\": \"_done\", \"shape\": \"box\", \"title\": null}, {\"color\": \"#FFA07A\", \"id\": \"StopEvent\", \"label\": \"StopEvent\", \"shape\": \"ellipse\", \"title\": null}, {\"color\": \"#ADD8E6\", \"id\": \"step_one\", \"label\": \"step_one\", \"shape\": \"box\", \"title\": null}, {\"color\": \"#E27AFF\", \"id\": \"StartEvent\", \"label\": \"StartEvent\", \"shape\": \"ellipse\", \"title\": null}, {\"color\": \"#90EE90\", \"id\": \"LoopEvent\", \"label\": \"LoopEvent\", \"shape\": \"ellipse\", \"title\": null}, {\"color\": \"#90EE90\", \"id\": \"FirstEvent\", \"label\": \"FirstEvent\", \"shape\": \"ellipse\", \"title\": null}, {\"color\": \"#ADD8E6\", \"id\": \"step_three\", \"label\": \"step_three\", \"shape\": \"box\", \"title\": null}, {\"color\": \"#90EE90\", \"id\": \"SecondEvent\", \"label\": \"SecondEvent\", \"shape\": \"ellipse\", \"title\": null}, {\"color\": \"#ADD8E6\", \"id\": \"step_two\", \"label\": \"step_two\", \"shape\": \"box\", \"title\": null}]);\n",
              "                  edges = new vis.DataSet([{\"arrows\": \"to\", \"from\": \"StopEvent\", \"to\": \"_done\"}, {\"arrows\": \"to\", \"from\": \"step_one\", \"to\": \"FirstEvent\"}, {\"arrows\": \"to\", \"from\": \"step_one\", \"to\": \"LoopEvent\"}, {\"arrows\": \"to\", \"from\": \"StartEvent\", \"to\": \"step_one\"}, {\"arrows\": \"to\", \"from\": \"LoopEvent\", \"to\": \"step_one\"}, {\"arrows\": \"to\", \"from\": \"step_three\", \"to\": \"StopEvent\"}, {\"arrows\": \"to\", \"from\": \"SecondEvent\", \"to\": \"step_three\"}, {\"arrows\": \"to\", \"from\": \"step_two\", \"to\": \"SecondEvent\"}, {\"arrows\": \"to\", \"from\": \"FirstEvent\", \"to\": \"step_two\"}]);\n",
              "\n",
              "                  nodeColors = {};\n",
              "                  allNodes = nodes.get({ returnType: \"Object\" });\n",
              "                  for (nodeId in allNodes) {\n",
              "                    nodeColors[nodeId] = allNodes[nodeId].color;\n",
              "                  }\n",
              "                  allEdges = edges.get({ returnType: \"Object\" });\n",
              "                  // adding nodes and edges to the graph\n",
              "                  data = {nodes: nodes, edges: edges};\n",
              "\n",
              "                  var options = {\n",
              "    \"configure\": {\n",
              "        \"enabled\": false\n",
              "    },\n",
              "    \"edges\": {\n",
              "        \"color\": {\n",
              "            \"inherit\": true\n",
              "        },\n",
              "        \"smooth\": {\n",
              "            \"enabled\": true,\n",
              "            \"type\": \"dynamic\"\n",
              "        }\n",
              "    },\n",
              "    \"interaction\": {\n",
              "        \"dragNodes\": true,\n",
              "        \"hideEdgesOnDrag\": false,\n",
              "        \"hideNodesOnDrag\": false\n",
              "    },\n",
              "    \"physics\": {\n",
              "        \"enabled\": true,\n",
              "        \"stabilization\": {\n",
              "            \"enabled\": true,\n",
              "            \"fit\": true,\n",
              "            \"iterations\": 1000,\n",
              "            \"onlyDynamicEdges\": false,\n",
              "            \"updateInterval\": 50\n",
              "        }\n",
              "    }\n",
              "};\n",
              "\n",
              "                  \n",
              "\n",
              "\n",
              "                  \n",
              "\n",
              "                  network = new vis.Network(container, data, options);\n",
              "\n",
              "                  \n",
              "\n",
              "                  \n",
              "\n",
              "                  \n",
              "\n",
              "\n",
              "                  \n",
              "\n",
              "                  return network;\n",
              "\n",
              "              }\n",
              "              drawGraph();\n",
              "        </script>\n",
              "    </body>\n",
              "</html> </div>"
            ]
          },
          "metadata": {
            "isolated": true
          }
        }
      ]
    },
    {
      "cell_type": "markdown",
      "source": [
        "# Branching\n",
        "The same constructs that allow you to loop allow you to create branches. Here's a workflow that executes two different branches depending on an early decision:"
      ],
      "metadata": {
        "id": "_jD-nkkbUOLk"
      }
    },
    {
      "cell_type": "code",
      "source": [
        "class BranchA1Event(Event):\n",
        "    payload: str\n",
        "\n",
        "class BranchA2Event(Event):\n",
        "    payload: str\n",
        "\n",
        "class BranchB1Event(Event):\n",
        "    payload: str\n",
        "\n",
        "class BranchB2Event(Event):\n",
        "    payload: str"
      ],
      "metadata": {
        "id": "Kb5p2aubUP3q"
      },
      "execution_count": 54,
      "outputs": []
    },
    {
      "cell_type": "code",
      "source": [
        "class BranchWorkflow(Workflow):\n",
        "    @step\n",
        "    async def start(self, ev: StartEvent) -> BranchA1Event | BranchB1Event:\n",
        "        if random.randint(0, 1) == 0:\n",
        "            print(\"Go to branch A\")\n",
        "            return BranchA1Event(payload=\"Branch A\")\n",
        "        else:\n",
        "            print(\"Go to branch B\")\n",
        "            return BranchB1Event(payload=\"Branch B\")\n",
        "\n",
        "    @step\n",
        "    async def step_a1(self, ev: BranchA1Event) -> BranchA2Event:\n",
        "        print(ev.payload)\n",
        "        return BranchA2Event(payload=ev.payload)\n",
        "\n",
        "    @step\n",
        "    async def step_b1(self, ev: BranchB1Event) -> BranchB2Event:\n",
        "        print(ev.payload)\n",
        "        return BranchB2Event(payload=ev.payload)\n",
        "\n",
        "    @step\n",
        "    async def step_a2(self, ev: BranchA2Event) -> StopEvent:\n",
        "        print(ev.payload)\n",
        "        return StopEvent(result=\"Branch A complete.\")\n",
        "\n",
        "    @step\n",
        "    async def step_b2(self, ev: BranchB2Event) -> StopEvent:\n",
        "        print(ev.payload)\n",
        "        return StopEvent(result=\"Branch B complete.\")"
      ],
      "metadata": {
        "id": "uoNrVpXTUTUk"
      },
      "execution_count": 55,
      "outputs": []
    },
    {
      "cell_type": "markdown",
      "source": [
        "You don't actually need to instantiate the workflow to visualize it, you can just pass the workflow class directly to the visualizer:"
      ],
      "metadata": {
        "id": "IyJizBJ_UVyf"
      }
    },
    {
      "cell_type": "code",
      "source": [
        "WORKFLOW_FILE = \"branching.html\"\n",
        "draw_all_possible_flows(BranchWorkflow, filename=WORKFLOW_FILE)\n",
        "html_content = extract_html_content(WORKFLOW_FILE)"
      ],
      "metadata": {
        "colab": {
          "base_uri": "https://localhost:8080/"
        },
        "id": "NdlsLEFBUWXP",
        "outputId": "38cc126f-2042-47aa-82e7-7ebf7693ad08"
      },
      "execution_count": 56,
      "outputs": [
        {
          "output_type": "stream",
          "name": "stdout",
          "text": [
            "branching.html\n"
          ]
        }
      ]
    },
    {
      "cell_type": "code",
      "source": [
        "display(HTML(html_content), metadata=dict(isolated=True))"
      ],
      "metadata": {
        "colab": {
          "resources": {
            "http://localhost:8080/lib/bindings/utils.js": {
              "data": "",
              "ok": false,
              "headers": [
                [
                  "content-length",
                  "0"
                ]
              ],
              "status": 404,
              "status_text": ""
            }
          },
          "base_uri": "https://localhost:8080/",
          "height": 817
        },
        "id": "6K_sAEYKUajC",
        "outputId": "98900466-b721-4cc2-910c-deac2d13b110"
      },
      "execution_count": 25,
      "outputs": [
        {
          "output_type": "display_data",
          "data": {
            "text/plain": [
              "<IPython.core.display.HTML object>"
            ],
            "text/html": [
              " <div style=\"width: 100%; height: 800px; overflow: hidden;\"> <html>\n",
              "    <head>\n",
              "        <meta charset=\"utf-8\">\n",
              "        \n",
              "            <script src=\"lib/bindings/utils.js\"></script>\n",
              "            <link rel=\"stylesheet\" href=\"https://cdnjs.cloudflare.com/ajax/libs/vis-network/9.1.2/dist/dist/vis-network.min.css\" integrity=\"sha512-WgxfT5LWjfszlPHXRmBWHkV2eceiWTOBvrKCNbdgDYTHrT2AeLCGbF4sZlZw3UMN3WtL0tGUoIAKsu8mllg/XA==\" crossorigin=\"anonymous\" referrerpolicy=\"no-referrer\" />\n",
              "            <script src=\"https://cdnjs.cloudflare.com/ajax/libs/vis-network/9.1.2/dist/vis-network.min.js\" integrity=\"sha512-LnvoEWDFrqGHlHmDD2101OrLcbsfkrzoSpvtSQtxK3RMnRV0eOkhhBN2dXHKRrUU8p2DGRTk35n4O8nWSVe1mQ==\" crossorigin=\"anonymous\" referrerpolicy=\"no-referrer\"></script>\n",
              "            \n",
              "        \n",
              "<center>\n",
              "<h1></h1>\n",
              "</center>\n",
              "\n",
              "<!-- <link rel=\"stylesheet\" href=\"../node_modules/vis/dist/vis.min.css\" type=\"text/css\" />\n",
              "<script type=\"text/javascript\" src=\"../node_modules/vis/dist/vis.js\"> </script>-->\n",
              "        <link\n",
              "          href=\"https://cdn.jsdelivr.net/npm/bootstrap@5.0.0-beta3/dist/css/bootstrap.min.css\"\n",
              "          rel=\"stylesheet\"\n",
              "          integrity=\"sha384-eOJMYsd53ii+scO/bJGFsiCZc+5NDVN2yr8+0RDqr0Ql0h+rP48ckxlpbzKgwra6\"\n",
              "          crossorigin=\"anonymous\"\n",
              "        />\n",
              "        <script\n",
              "          src=\"https://cdn.jsdelivr.net/npm/bootstrap@5.0.0-beta3/dist/js/bootstrap.bundle.min.js\"\n",
              "          integrity=\"sha384-JEW9xMcG8R+pH31jmWH6WWP0WintQrMb4s7ZOdauHnUtxwoG2vI5DkLtS3qm9Ekf\"\n",
              "          crossorigin=\"anonymous\"\n",
              "        ></script>\n",
              "\n",
              "\n",
              "        <center>\n",
              "          <h1></h1>\n",
              "        </center>\n",
              "        <style type=\"text/css\">\n",
              "\n",
              "             #mynetwork {\n",
              "                 width: 100%;\n",
              "                 height: 750px;\n",
              "                 background-color: #ffffff;\n",
              "                 border: 1px solid lightgray;\n",
              "                 position: relative;\n",
              "                 float: left;\n",
              "             }\n",
              "\n",
              "             \n",
              "\n",
              "             \n",
              "\n",
              "             \n",
              "        </style>\n",
              "    </head>\n",
              "\n",
              "\n",
              "    <body>\n",
              "        <div class=\"card\" style=\"width: 100%\">\n",
              "            \n",
              "            \n",
              "            <div id=\"mynetwork\" class=\"card-body\"></div>\n",
              "        </div>\n",
              "\n",
              "        \n",
              "        \n",
              "\n",
              "        <script type=\"text/javascript\">\n",
              "\n",
              "              // initialize global variables.\n",
              "              var edges;\n",
              "              var nodes;\n",
              "              var allNodes;\n",
              "              var allEdges;\n",
              "              var nodeColors;\n",
              "              var originalNodes;\n",
              "              var network;\n",
              "              var container;\n",
              "              var options, data;\n",
              "              var filter = {\n",
              "                  item : '',\n",
              "                  property : '',\n",
              "                  value : []\n",
              "              };\n",
              "\n",
              "              \n",
              "\n",
              "              \n",
              "\n",
              "              // This method is responsible for drawing the graph, returns the drawn network\n",
              "              function drawGraph() {\n",
              "                  var container = document.getElementById('mynetwork');\n",
              "\n",
              "                  \n",
              "\n",
              "                  // parsing and collecting nodes and edges from the python\n",
              "                  nodes = new vis.DataSet([{\"color\": \"#ADD8E6\", \"id\": \"_done\", \"label\": \"_done\", \"shape\": \"box\", \"title\": null}, {\"color\": \"#FFA07A\", \"id\": \"StopEvent\", \"label\": \"StopEvent\", \"shape\": \"ellipse\", \"title\": null}, {\"color\": \"#ADD8E6\", \"id\": \"start\", \"label\": \"start\", \"shape\": \"box\", \"title\": null}, {\"color\": \"#E27AFF\", \"id\": \"StartEvent\", \"label\": \"StartEvent\", \"shape\": \"ellipse\", \"title\": null}, {\"color\": \"#90EE90\", \"id\": \"BranchA1Event\", \"label\": \"BranchA1Event\", \"shape\": \"ellipse\", \"title\": null}, {\"color\": \"#90EE90\", \"id\": \"BranchB1Event\", \"label\": \"BranchB1Event\", \"shape\": \"ellipse\", \"title\": null}, {\"color\": \"#ADD8E6\", \"id\": \"step_a1\", \"label\": \"step_a1\", \"shape\": \"box\", \"title\": null}, {\"color\": \"#90EE90\", \"id\": \"BranchA2Event\", \"label\": \"BranchA2Event\", \"shape\": \"ellipse\", \"title\": null}, {\"color\": \"#ADD8E6\", \"id\": \"step_a2\", \"label\": \"step_a2\", \"shape\": \"box\", \"title\": null}, {\"color\": \"#ADD8E6\", \"id\": \"step_b1\", \"label\": \"step_b1\", \"shape\": \"box\", \"title\": null}, {\"color\": \"#90EE90\", \"id\": \"BranchB2Event\", \"label\": \"BranchB2Event\", \"shape\": \"ellipse\", \"title\": null}, {\"color\": \"#ADD8E6\", \"id\": \"step_b2\", \"label\": \"step_b2\", \"shape\": \"box\", \"title\": null}]);\n",
              "                  edges = new vis.DataSet([{\"arrows\": \"to\", \"from\": \"StopEvent\", \"to\": \"_done\"}, {\"arrows\": \"to\", \"from\": \"start\", \"to\": \"BranchA1Event\"}, {\"arrows\": \"to\", \"from\": \"start\", \"to\": \"BranchB1Event\"}, {\"arrows\": \"to\", \"from\": \"StartEvent\", \"to\": \"start\"}, {\"arrows\": \"to\", \"from\": \"step_a1\", \"to\": \"BranchA2Event\"}, {\"arrows\": \"to\", \"from\": \"BranchA1Event\", \"to\": \"step_a1\"}, {\"arrows\": \"to\", \"from\": \"step_a2\", \"to\": \"StopEvent\"}, {\"arrows\": \"to\", \"from\": \"BranchA2Event\", \"to\": \"step_a2\"}, {\"arrows\": \"to\", \"from\": \"step_b1\", \"to\": \"BranchB2Event\"}, {\"arrows\": \"to\", \"from\": \"BranchB1Event\", \"to\": \"step_b1\"}, {\"arrows\": \"to\", \"from\": \"step_b2\", \"to\": \"StopEvent\"}, {\"arrows\": \"to\", \"from\": \"BranchB2Event\", \"to\": \"step_b2\"}]);\n",
              "\n",
              "                  nodeColors = {};\n",
              "                  allNodes = nodes.get({ returnType: \"Object\" });\n",
              "                  for (nodeId in allNodes) {\n",
              "                    nodeColors[nodeId] = allNodes[nodeId].color;\n",
              "                  }\n",
              "                  allEdges = edges.get({ returnType: \"Object\" });\n",
              "                  // adding nodes and edges to the graph\n",
              "                  data = {nodes: nodes, edges: edges};\n",
              "\n",
              "                  var options = {\n",
              "    \"configure\": {\n",
              "        \"enabled\": false\n",
              "    },\n",
              "    \"edges\": {\n",
              "        \"color\": {\n",
              "            \"inherit\": true\n",
              "        },\n",
              "        \"smooth\": {\n",
              "            \"enabled\": true,\n",
              "            \"type\": \"dynamic\"\n",
              "        }\n",
              "    },\n",
              "    \"interaction\": {\n",
              "        \"dragNodes\": true,\n",
              "        \"hideEdgesOnDrag\": false,\n",
              "        \"hideNodesOnDrag\": false\n",
              "    },\n",
              "    \"physics\": {\n",
              "        \"enabled\": true,\n",
              "        \"stabilization\": {\n",
              "            \"enabled\": true,\n",
              "            \"fit\": true,\n",
              "            \"iterations\": 1000,\n",
              "            \"onlyDynamicEdges\": false,\n",
              "            \"updateInterval\": 50\n",
              "        }\n",
              "    }\n",
              "};\n",
              "\n",
              "                  \n",
              "\n",
              "\n",
              "                  \n",
              "\n",
              "                  network = new vis.Network(container, data, options);\n",
              "\n",
              "                  \n",
              "\n",
              "                  \n",
              "\n",
              "                  \n",
              "\n",
              "\n",
              "                  \n",
              "\n",
              "                  return network;\n",
              "\n",
              "              }\n",
              "              drawGraph();\n",
              "        </script>\n",
              "    </body>\n",
              "</html> </div>"
            ]
          },
          "metadata": {
            "isolated": true
          }
        }
      ]
    },
    {
      "cell_type": "markdown",
      "source": [
        "# Concurent Execution\n",
        "The final form of flow control you can implement in workflows is concurrent execution. This allows you to efficiently run long-running tasks in parallel, and gather them together when they are needed. Let's see how this is done.\n",
        "\n",
        "You'll be using a new concept, the Context object. This is a form of shared memory available to every step in a workflow: to access it, declare it as an argument to your step and it will be automatically populated.\n",
        "\n",
        "In this example, you'll use Context.send_event rather than returning an event. This allows you to emit multiple events in parallel rather than returning just one as you did previously."
      ],
      "metadata": {
        "id": "Oz53Uls5Ud0k"
      }
    },
    {
      "cell_type": "code",
      "source": [
        "import asyncio\n",
        "\n",
        "class StepTwoEvent(Event):\n",
        "    query: str\n",
        "\n",
        "class ParallelFlow(Workflow):\n",
        "    @step\n",
        "    async def start(self, ctx: Context, ev: StartEvent) -> StepTwoEvent:\n",
        "        ctx.send_event(StepTwoEvent(query=\"Query 1\"))\n",
        "        ctx.send_event(StepTwoEvent(query=\"Query 2\"))\n",
        "        ctx.send_event(StepTwoEvent(query=\"Query 3\"))\n",
        "\n",
        "    @step(num_workers=4)hy\n",
        "    async def step_two(self, ctx: Context, ev: StepTwoEvent) -> StopEvent:\n",
        "        print(\"Running slow query \", ev.query)\n",
        "        await asyncio.sleep(random.randint(1, 5))\n",
        "\n",
        "        return StopEvent(result=ev.query)"
      ],
      "metadata": {
        "id": "C35CE9oqUf0a"
      },
      "execution_count": 26,
      "outputs": []
    },
    {
      "cell_type": "code",
      "source": [
        "parallel_workflow = ParallelFlow(timeout=10, verbose=False)\n",
        "result = await parallel_workflow.run()\n",
        "print(result)"
      ],
      "metadata": {
        "colab": {
          "base_uri": "https://localhost:8080/"
        },
        "id": "uXorKtVGUjBP",
        "outputId": "ac98010c-d5b5-42d5-fe24-731a657dfa91"
      },
      "execution_count": 27,
      "outputs": [
        {
          "output_type": "stream",
          "name": "stdout",
          "text": [
            "Running slow query  Query 1\n",
            "Running slow query  Query 2\n",
            "Running slow query  Query 3\n",
            "Query 1\n"
          ]
        }
      ]
    },
    {
      "cell_type": "markdown",
      "source": [
        "# Collecting events\n",
        "But what if you do want the output of all 3 events? Another method, Context.collect_events, exists for that purpose:"
      ],
      "metadata": {
        "id": "DZelKzMxUkvQ"
      }
    },
    {
      "cell_type": "code",
      "source": [
        "class StepThreeEvent(Event):\n",
        "    result: str\n",
        "\n",
        "class ConcurrentFlow(Workflow):\n",
        "    @step\n",
        "    async def start(self, ctx: Context, ev: StartEvent) -> StepTwoEvent:\n",
        "        ctx.send_event(StepTwoEvent(query=\"Query 1\"))\n",
        "        ctx.send_event(StepTwoEvent(query=\"Query 2\"))\n",
        "        ctx.send_event(StepTwoEvent(query=\"Query 3\"))\n",
        "\n",
        "    @step(num_workers=4)\n",
        "    async def step_two(self, ctx: Context, ev: StepTwoEvent) -> StepThreeEvent:\n",
        "        print(\"Running query \", ev.query)\n",
        "        await asyncio.sleep(random.randint(1, 5))\n",
        "        return StepThreeEvent(result=ev.query)\n",
        "\n",
        "    @step\n",
        "    async def step_three(self, ctx: Context, ev: StepThreeEvent) -> StopEvent:\n",
        "        # wait until we receive 3 events\n",
        "        result = ctx.collect_events(ev, [StepThreeEvent] * 3)\n",
        "        if result is None:\n",
        "            print(\"Not all events received yet.\")\n",
        "            return None\n",
        "\n",
        "        # do something with all 3 results together\n",
        "        print(result)\n",
        "        return StopEvent(result=\"Done\")"
      ],
      "metadata": {
        "id": "dehFSS2XUnwi"
      },
      "execution_count": 28,
      "outputs": []
    },
    {
      "cell_type": "code",
      "source": [
        "w = ConcurrentFlow(timeout=10, verbose=False)\n",
        "result = await w.run(message=\"Start the workflow.\")\n",
        "print(result)"
      ],
      "metadata": {
        "colab": {
          "base_uri": "https://localhost:8080/"
        },
        "id": "n0UK4ClVUrEK",
        "outputId": "12acff07-9ba0-49de-ee93-10f98d173238"
      },
      "execution_count": 29,
      "outputs": [
        {
          "output_type": "stream",
          "name": "stdout",
          "text": [
            "Running query  Query 1\n",
            "Running query  Query 2\n",
            "Running query  Query 3\n",
            "Not all events received yet.\n",
            "Not all events received yet.\n",
            "[StepThreeEvent(result='Query 1'), StepThreeEvent(result='Query 2'), StepThreeEvent(result='Query 3')]\n",
            "Done\n"
          ]
        }
      ]
    },
    {
      "cell_type": "markdown",
      "source": [
        "What collect_events does is store the events in the context until it has collected the number and type of events specified in its second argument. In this case, you've told it to wait for 3 events.\n",
        "\n",
        "If an event fires and collect_events hasn't yet seen the right number of events, it returns None, so you tell step_three to do nothing in that case. When collect_events receives the right number of events it returns them as an array, which you can see being printed in the final output.\n",
        "\n",
        "Note: This flow control lets you perform map-reduce style tasks.To implement a map-reduce pattern, you would split your task up into as many steps as necessary, and use Context to store that number with ctx.set(\"num_events\", some_number). Then in step_three you would wait for the number stored in the context using await ctx.get(\"num_events\"). So you don't need to know in advance exactly how many concurrent steps you're taking. You'll do exactly this in a later lesson.\n",
        "\n"
      ],
      "metadata": {
        "id": "eOQQmjWZUvvc"
      }
    },
    {
      "cell_type": "markdown",
      "source": [
        "## Collecting different event types\n",
        "You don't just have to wait for multiple events of the same kind. In this example, you'll emit 3 totally different events and collect them at the end."
      ],
      "metadata": {
        "id": "QF3DpNCWUxy-"
      }
    },
    {
      "cell_type": "code",
      "source": [
        "class StepAEvent(Event):\n",
        "    query: str\n",
        "\n",
        "class StepACompleteEvent(Event):\n",
        "    result: str\n",
        "\n",
        "class StepBEvent(Event):\n",
        "    query: str\n",
        "\n",
        "class StepBCompleteEvent(Event):\n",
        "    result: str\n",
        "\n",
        "class StepCEvent(Event):\n",
        "    query: str\n",
        "\n",
        "class StepCCompleteEvent(Event):\n",
        "    result: str"
      ],
      "metadata": {
        "id": "YoFsOBJyUzsZ"
      },
      "execution_count": 30,
      "outputs": []
    },
    {
      "cell_type": "code",
      "source": [
        "class ConcurrentFlow(Workflow):\n",
        "    @step\n",
        "    async def start(\n",
        "        self, ctx: Context, ev: StartEvent\n",
        "    ) -> StepAEvent | StepBEvent | StepCEvent:\n",
        "        ctx.send_event(StepAEvent(query=\"Query 1\"))\n",
        "        ctx.send_event(StepBEvent(query=\"Query 2\"))\n",
        "        ctx.send_event(StepCEvent(query=\"Query 3\"))\n",
        "\n",
        "    @step\n",
        "    async def step_a(self, ctx: Context, ev: StepAEvent) -> StepACompleteEvent:\n",
        "        print(\"Doing something A-ish\")\n",
        "        return StepACompleteEvent(result=ev.query)\n",
        "\n",
        "    @step\n",
        "    async def step_b(self, ctx: Context, ev: StepBEvent) -> StepBCompleteEvent:\n",
        "        print(\"Doing something B-ish\")\n",
        "        return StepBCompleteEvent(result=ev.query)\n",
        "\n",
        "    @step\n",
        "    async def step_c(self, ctx: Context, ev: StepCEvent) -> StepCCompleteEvent:\n",
        "        print(\"Doing something C-ish\")\n",
        "        return StepCCompleteEvent(result=ev.query)\n",
        "\n",
        "    @step\n",
        "    async def step_three(\n",
        "        self,\n",
        "        ctx: Context,\n",
        "        ev: StepACompleteEvent | StepBCompleteEvent | StepCCompleteEvent,\n",
        "    ) -> StopEvent:\n",
        "        print(\"Received event \", ev.result)\n",
        "\n",
        "        # wait until we receive 3 events\n",
        "        events = ctx.collect_events(\n",
        "            ev,\n",
        "            [StepCCompleteEvent, StepACompleteEvent, StepBCompleteEvent],\n",
        "        )\n",
        "        if (events is None):\n",
        "            return None\n",
        "\n",
        "        # do something with all 3 results together\n",
        "        print(\"All events received: \", events)\n",
        "        return StopEvent(result=\"Done\")"
      ],
      "metadata": {
        "id": "P5zBlIFwU3LH"
      },
      "execution_count": 31,
      "outputs": []
    },
    {
      "cell_type": "markdown",
      "source": [
        "When you run it, it will do all three things and wait for them in step_three."
      ],
      "metadata": {
        "id": "HTSHz5qvU6Pt"
      }
    },
    {
      "cell_type": "code",
      "source": [
        "w = ConcurrentFlow(timeout=10, verbose=False)\n",
        "result = await w.run(message=\"Start the workflow.\")\n",
        "print(result)"
      ],
      "metadata": {
        "colab": {
          "base_uri": "https://localhost:8080/"
        },
        "id": "PYk5XeLLU4bb",
        "outputId": "4766e8cb-f006-4fb7-ba71-03bca9bfdc97"
      },
      "execution_count": 32,
      "outputs": [
        {
          "output_type": "stream",
          "name": "stdout",
          "text": [
            "Doing something A-ish\n",
            "Doing something B-ish\n",
            "Doing something C-ish\n",
            "Received event  Query 1\n",
            "Received event  Query 2\n",
            "Received event  Query 3\n",
            "All events received:  [StepCCompleteEvent(result='Query 3'), StepACompleteEvent(result='Query 1'), StepBCompleteEvent(result='Query 2')]\n",
            "Done\n"
          ]
        }
      ]
    },
    {
      "cell_type": "markdown",
      "source": [
        "This new flow has quite a pretty visualization"
      ],
      "metadata": {
        "id": "4us4HeyTU-fs"
      }
    },
    {
      "cell_type": "code",
      "source": [
        "WORKFLOW_FILE = \"concurrent_different_events.html\"\n",
        "draw_all_possible_flows(w, filename=WORKFLOW_FILE)\n",
        "html_content = extract_html_content(WORKFLOW_FILE)"
      ],
      "metadata": {
        "colab": {
          "base_uri": "https://localhost:8080/"
        },
        "id": "ZL0EIZiTU_Fz",
        "outputId": "eef2efdc-684b-4182-a3fd-f48bf905f83b"
      },
      "execution_count": 33,
      "outputs": [
        {
          "output_type": "stream",
          "name": "stdout",
          "text": [
            "concurrent_different_events.html\n"
          ]
        }
      ]
    },
    {
      "cell_type": "code",
      "source": [
        "display(HTML(html_content), metadata=dict(isolated=True))"
      ],
      "metadata": {
        "colab": {
          "resources": {
            "http://localhost:8080/lib/bindings/utils.js": {
              "data": "",
              "ok": false,
              "headers": [
                [
                  "content-length",
                  "0"
                ]
              ],
              "status": 404,
              "status_text": ""
            }
          },
          "base_uri": "https://localhost:8080/",
          "height": 817
        },
        "id": "yYG60r74VEbO",
        "outputId": "30f83c74-dabc-4283-b210-108d334b32ee"
      },
      "execution_count": 34,
      "outputs": [
        {
          "output_type": "display_data",
          "data": {
            "text/plain": [
              "<IPython.core.display.HTML object>"
            ],
            "text/html": [
              " <div style=\"width: 100%; height: 800px; overflow: hidden;\"> <html>\n",
              "    <head>\n",
              "        <meta charset=\"utf-8\">\n",
              "        \n",
              "            <script src=\"lib/bindings/utils.js\"></script>\n",
              "            <link rel=\"stylesheet\" href=\"https://cdnjs.cloudflare.com/ajax/libs/vis-network/9.1.2/dist/dist/vis-network.min.css\" integrity=\"sha512-WgxfT5LWjfszlPHXRmBWHkV2eceiWTOBvrKCNbdgDYTHrT2AeLCGbF4sZlZw3UMN3WtL0tGUoIAKsu8mllg/XA==\" crossorigin=\"anonymous\" referrerpolicy=\"no-referrer\" />\n",
              "            <script src=\"https://cdnjs.cloudflare.com/ajax/libs/vis-network/9.1.2/dist/vis-network.min.js\" integrity=\"sha512-LnvoEWDFrqGHlHmDD2101OrLcbsfkrzoSpvtSQtxK3RMnRV0eOkhhBN2dXHKRrUU8p2DGRTk35n4O8nWSVe1mQ==\" crossorigin=\"anonymous\" referrerpolicy=\"no-referrer\"></script>\n",
              "            \n",
              "        \n",
              "<center>\n",
              "<h1></h1>\n",
              "</center>\n",
              "\n",
              "<!-- <link rel=\"stylesheet\" href=\"../node_modules/vis/dist/vis.min.css\" type=\"text/css\" />\n",
              "<script type=\"text/javascript\" src=\"../node_modules/vis/dist/vis.js\"> </script>-->\n",
              "        <link\n",
              "          href=\"https://cdn.jsdelivr.net/npm/bootstrap@5.0.0-beta3/dist/css/bootstrap.min.css\"\n",
              "          rel=\"stylesheet\"\n",
              "          integrity=\"sha384-eOJMYsd53ii+scO/bJGFsiCZc+5NDVN2yr8+0RDqr0Ql0h+rP48ckxlpbzKgwra6\"\n",
              "          crossorigin=\"anonymous\"\n",
              "        />\n",
              "        <script\n",
              "          src=\"https://cdn.jsdelivr.net/npm/bootstrap@5.0.0-beta3/dist/js/bootstrap.bundle.min.js\"\n",
              "          integrity=\"sha384-JEW9xMcG8R+pH31jmWH6WWP0WintQrMb4s7ZOdauHnUtxwoG2vI5DkLtS3qm9Ekf\"\n",
              "          crossorigin=\"anonymous\"\n",
              "        ></script>\n",
              "\n",
              "\n",
              "        <center>\n",
              "          <h1></h1>\n",
              "        </center>\n",
              "        <style type=\"text/css\">\n",
              "\n",
              "             #mynetwork {\n",
              "                 width: 100%;\n",
              "                 height: 750px;\n",
              "                 background-color: #ffffff;\n",
              "                 border: 1px solid lightgray;\n",
              "                 position: relative;\n",
              "                 float: left;\n",
              "             }\n",
              "\n",
              "             \n",
              "\n",
              "             \n",
              "\n",
              "             \n",
              "        </style>\n",
              "    </head>\n",
              "\n",
              "\n",
              "    <body>\n",
              "        <div class=\"card\" style=\"width: 100%\">\n",
              "            \n",
              "            \n",
              "            <div id=\"mynetwork\" class=\"card-body\"></div>\n",
              "        </div>\n",
              "\n",
              "        \n",
              "        \n",
              "\n",
              "        <script type=\"text/javascript\">\n",
              "\n",
              "              // initialize global variables.\n",
              "              var edges;\n",
              "              var nodes;\n",
              "              var allNodes;\n",
              "              var allEdges;\n",
              "              var nodeColors;\n",
              "              var originalNodes;\n",
              "              var network;\n",
              "              var container;\n",
              "              var options, data;\n",
              "              var filter = {\n",
              "                  item : '',\n",
              "                  property : '',\n",
              "                  value : []\n",
              "              };\n",
              "\n",
              "              \n",
              "\n",
              "              \n",
              "\n",
              "              // This method is responsible for drawing the graph, returns the drawn network\n",
              "              function drawGraph() {\n",
              "                  var container = document.getElementById('mynetwork');\n",
              "\n",
              "                  \n",
              "\n",
              "                  // parsing and collecting nodes and edges from the python\n",
              "                  nodes = new vis.DataSet([{\"color\": \"#ADD8E6\", \"id\": \"_done\", \"label\": \"_done\", \"shape\": \"box\", \"title\": null}, {\"color\": \"#FFA07A\", \"id\": \"StopEvent\", \"label\": \"StopEvent\", \"shape\": \"ellipse\", \"title\": null}, {\"color\": \"#ADD8E6\", \"id\": \"start\", \"label\": \"start\", \"shape\": \"box\", \"title\": null}, {\"color\": \"#E27AFF\", \"id\": \"StartEvent\", \"label\": \"StartEvent\", \"shape\": \"ellipse\", \"title\": null}, {\"color\": \"#90EE90\", \"id\": \"StepAEvent\", \"label\": \"StepAEvent\", \"shape\": \"ellipse\", \"title\": null}, {\"color\": \"#90EE90\", \"id\": \"StepBEvent\", \"label\": \"StepBEvent\", \"shape\": \"ellipse\", \"title\": null}, {\"color\": \"#90EE90\", \"id\": \"StepCEvent\", \"label\": \"StepCEvent\", \"shape\": \"ellipse\", \"title\": null}, {\"color\": \"#ADD8E6\", \"id\": \"step_a\", \"label\": \"step_a\", \"shape\": \"box\", \"title\": null}, {\"color\": \"#90EE90\", \"id\": \"StepACompleteEvent\", \"label\": \"StepACompleteEvent\", \"shape\": \"ellipse\", \"title\": null}, {\"color\": \"#ADD8E6\", \"id\": \"step_b\", \"label\": \"step_b\", \"shape\": \"box\", \"title\": null}, {\"color\": \"#90EE90\", \"id\": \"StepBCompleteEvent\", \"label\": \"StepBCompleteEvent\", \"shape\": \"ellipse\", \"title\": null}, {\"color\": \"#ADD8E6\", \"id\": \"step_c\", \"label\": \"step_c\", \"shape\": \"box\", \"title\": null}, {\"color\": \"#90EE90\", \"id\": \"StepCCompleteEvent\", \"label\": \"StepCCompleteEvent\", \"shape\": \"ellipse\", \"title\": null}, {\"color\": \"#ADD8E6\", \"id\": \"step_three\", \"label\": \"step_three\", \"shape\": \"box\", \"title\": null}]);\n",
              "                  edges = new vis.DataSet([{\"arrows\": \"to\", \"from\": \"StopEvent\", \"to\": \"_done\"}, {\"arrows\": \"to\", \"from\": \"start\", \"to\": \"StepAEvent\"}, {\"arrows\": \"to\", \"from\": \"start\", \"to\": \"StepBEvent\"}, {\"arrows\": \"to\", \"from\": \"start\", \"to\": \"StepCEvent\"}, {\"arrows\": \"to\", \"from\": \"StartEvent\", \"to\": \"start\"}, {\"arrows\": \"to\", \"from\": \"step_a\", \"to\": \"StepACompleteEvent\"}, {\"arrows\": \"to\", \"from\": \"StepAEvent\", \"to\": \"step_a\"}, {\"arrows\": \"to\", \"from\": \"step_b\", \"to\": \"StepBCompleteEvent\"}, {\"arrows\": \"to\", \"from\": \"StepBEvent\", \"to\": \"step_b\"}, {\"arrows\": \"to\", \"from\": \"step_c\", \"to\": \"StepCCompleteEvent\"}, {\"arrows\": \"to\", \"from\": \"StepCEvent\", \"to\": \"step_c\"}, {\"arrows\": \"to\", \"from\": \"step_three\", \"to\": \"StopEvent\"}, {\"arrows\": \"to\", \"from\": \"StepACompleteEvent\", \"to\": \"step_three\"}, {\"arrows\": \"to\", \"from\": \"StepBCompleteEvent\", \"to\": \"step_three\"}, {\"arrows\": \"to\", \"from\": \"StepCCompleteEvent\", \"to\": \"step_three\"}]);\n",
              "\n",
              "                  nodeColors = {};\n",
              "                  allNodes = nodes.get({ returnType: \"Object\" });\n",
              "                  for (nodeId in allNodes) {\n",
              "                    nodeColors[nodeId] = allNodes[nodeId].color;\n",
              "                  }\n",
              "                  allEdges = edges.get({ returnType: \"Object\" });\n",
              "                  // adding nodes and edges to the graph\n",
              "                  data = {nodes: nodes, edges: edges};\n",
              "\n",
              "                  var options = {\n",
              "    \"configure\": {\n",
              "        \"enabled\": false\n",
              "    },\n",
              "    \"edges\": {\n",
              "        \"color\": {\n",
              "            \"inherit\": true\n",
              "        },\n",
              "        \"smooth\": {\n",
              "            \"enabled\": true,\n",
              "            \"type\": \"dynamic\"\n",
              "        }\n",
              "    },\n",
              "    \"interaction\": {\n",
              "        \"dragNodes\": true,\n",
              "        \"hideEdgesOnDrag\": false,\n",
              "        \"hideNodesOnDrag\": false\n",
              "    },\n",
              "    \"physics\": {\n",
              "        \"enabled\": true,\n",
              "        \"stabilization\": {\n",
              "            \"enabled\": true,\n",
              "            \"fit\": true,\n",
              "            \"iterations\": 1000,\n",
              "            \"onlyDynamicEdges\": false,\n",
              "            \"updateInterval\": 50\n",
              "        }\n",
              "    }\n",
              "};\n",
              "\n",
              "                  \n",
              "\n",
              "\n",
              "                  \n",
              "\n",
              "                  network = new vis.Network(container, data, options);\n",
              "\n",
              "                  \n",
              "\n",
              "                  \n",
              "\n",
              "                  \n",
              "\n",
              "\n",
              "                  \n",
              "\n",
              "                  return network;\n",
              "\n",
              "              }\n",
              "              drawGraph();\n",
              "        </script>\n",
              "    </body>\n",
              "</html> </div>"
            ]
          },
          "metadata": {
            "isolated": true
          }
        }
      ]
    },
    {
      "cell_type": "markdown",
      "source": [
        "# Streaming\n",
        "In practical use, agents can take a long time to run. It's a poor user-experience to have the user execute a workflow and then wait a long time to see if it works or not; it's better to give them some indication that things are happening in real-time, even if the process is not complete.\n",
        "\n",
        "To do this, Workflows allow streaming events back to the user. Here you'll use Context.write_event_to_stream to emit these events."
      ],
      "metadata": {
        "id": "00TU4Gg1VIii"
      }
    },
    {
      "cell_type": "code",
      "source": [
        "from llama_index.llms.openai import OpenAI"
      ],
      "metadata": {
        "id": "oQHHTTY9VLbq"
      },
      "execution_count": 35,
      "outputs": []
    },
    {
      "cell_type": "code",
      "source": [
        "class FirstEvent(Event):\n",
        "    first_output: str\n",
        "\n",
        "class SecondEvent(Event):\n",
        "    second_output: str\n",
        "    response: str\n",
        "\n",
        "class TextEvent(Event):\n",
        "    delta: str\n",
        "\n",
        "class ProgressEvent(Event):\n",
        "    msg: str"
      ],
      "metadata": {
        "id": "74RoMU_mVNnz"
      },
      "execution_count": 36,
      "outputs": []
    },
    {
      "cell_type": "markdown",
      "source": [
        "The specific event we'll be sending back is the \"delta\" responses from the LLM. When you ask an LLM to generate a streaming response as you're doing here, it sends back each chunk of its response as it becomes available. This is available as the \"delta\". You're going to wrap the delta in a TextEvent and send it back to the Workflow's own stream."
      ],
      "metadata": {
        "id": "3AGuMc9LVQFy"
      }
    },
    {
      "cell_type": "code",
      "source": [
        "import httpx\n",
        "import asyncio\n",
        "from google.colab import userdata\n",
        "groq_api_key = userdata.get('GROQ_API_KEY')\n",
        "\n",
        "async def groq_stream(prompt: str, api_key: str):\n",
        "    url = \"https://api.groq.com/openai/v1/chat/completions\"\n",
        "    headers = {\n",
        "        \"Authorization\": f\"Bearer {groq_api_key}\",\n",
        "        \"Content-Type\": \"application/json\"\n",
        "    }\n",
        "    json_data = {\n",
        "        \"model\": \"llama3-70b-8192\",\n",
        "        \"messages\": [{\"role\": \"user\", \"content\": prompt}],\n",
        "        \"stream\": True\n",
        "    }\n",
        "\n",
        "    async with httpx.AsyncClient(timeout=None) as client:\n",
        "        async with client.stream(\"POST\", url, headers=headers, json=json_data) as resp:\n",
        "            async for line in resp.aiter_lines():\n",
        "                if line.startswith(\"data: \"):\n",
        "                    yield line.removeprefix(\"data: \")"
      ],
      "metadata": {
        "id": "g_bK5GBAYD03"
      },
      "execution_count": 42,
      "outputs": []
    },
    {
      "cell_type": "code",
      "source": [
        "class MyWorkflow(Workflow):\n",
        "    @step\n",
        "    async def step_one(self, ctx: Context, ev: StartEvent) -> FirstEvent:\n",
        "        ctx.write_event_to_stream(ProgressEvent(msg=\"Step one is happening\"))\n",
        "        return FirstEvent(first_output=\"First step complete.\")\n",
        "\n",
        "    @step\n",
        "    async def step_two(self, ctx: Context, ev: FirstEvent) -> SecondEvent:\n",
        "        prompt = \"Please give me the first 50 words of Moby Dick, a book in the public domain.\"\n",
        "        async for chunk in groq_stream(prompt, groq_api_key):\n",
        "            # Allow the workflow to stream this piece of response\n",
        "            ctx.write_event_to_stream(TextEvent(delta=chunk))\n",
        "        return SecondEvent(\n",
        "            second_output=\"Second step complete, full response attached\",\n",
        "            response=\"Streaming complete\",\n",
        "        )\n",
        "\n",
        "    @step\n",
        "    async def step_three(self, ctx: Context, ev: SecondEvent) -> StopEvent:\n",
        "        ctx.write_event_to_stream(ProgressEvent(msg=\"Step three is happening\"))\n",
        "        return StopEvent(result=\"Workflow complete.\")"
      ],
      "metadata": {
        "id": "JbhGB25fVQ4V"
      },
      "execution_count": 45,
      "outputs": []
    },
    {
      "cell_type": "markdown",
      "source": [
        "You can work with the emitted events by getting a streaming endpoint from the run command, and then filtering it for the types of events we want to see (you could print every event if you wanted to but that would be quite noisy).\n",
        "\n",
        "In this case you'll just print out the progressevents and the textevents.\n",
        "\n"
      ],
      "metadata": {
        "id": "PDbOr-GKVVa_"
      }
    },
    {
      "cell_type": "code",
      "source": [
        "workflow = MyWorkflow(timeout=30, verbose=False)\n",
        "handler = workflow.run(first_input=\"Start the workflow.\")\n",
        "\n",
        "async for ev in handler.stream_events():\n",
        "    if isinstance(ev, ProgressEvent):\n",
        "        print(ev.msg)\n",
        "    if isinstance(ev, TextEvent):\n",
        "        print(ev.delta, end=\"\")\n",
        "\n",
        "final_result = await handler\n",
        "print(\"Final result = \", final_result)"
      ],
      "metadata": {
        "colab": {
          "base_uri": "https://localhost:8080/"
        },
        "id": "g8xbg3EsVWUF",
        "outputId": "8fb7a395-a7f1-44e3-aeb4-f8c0c4129d6f"
      },
      "execution_count": 46,
      "outputs": [
        {
          "output_type": "stream",
          "name": "stdout",
          "text": [
            "Step one is happening\n",
            "{\"id\":\"chatcmpl-53013e4c-6f2a-48fa-850d-cfed8f92591f\",\"object\":\"chat.completion.chunk\",\"created\":1753477232,\"model\":\"llama3-70b-8192\",\"system_fingerprint\":\"fp_bf16903a67\",\"choices\":[{\"index\":0,\"delta\":{\"role\":\"assistant\"},\"logprobs\":null,\"finish_reason\":null}]}{\"id\":\"chatcmpl-53013e4c-6f2a-48fa-850d-cfed8f92591f\",\"object\":\"chat.completion.chunk\",\"created\":1753477232,\"model\":\"llama3-70b-8192\",\"system_fingerprint\":\"fp_bf16903a67\",\"choices\":[{\"index\":0,\"delta\":{\"content\":\"Here\"},\"logprobs\":null,\"finish_reason\":null}]}{\"id\":\"chatcmpl-53013e4c-6f2a-48fa-850d-cfed8f92591f\",\"object\":\"chat.completion.chunk\",\"created\":1753477232,\"model\":\"llama3-70b-8192\",\"system_fingerprint\":\"fp_bf16903a67\",\"choices\":[{\"index\":0,\"delta\":{\"content\":\" are\"},\"logprobs\":null,\"finish_reason\":null}]}{\"id\":\"chatcmpl-53013e4c-6f2a-48fa-850d-cfed8f92591f\",\"object\":\"chat.completion.chunk\",\"created\":1753477232,\"model\":\"llama3-70b-8192\",\"system_fingerprint\":\"fp_bf16903a67\",\"choices\":[{\"index\":0,\"delta\":{\"content\":\" the\"},\"logprobs\":null,\"finish_reason\":null}]}{\"id\":\"chatcmpl-53013e4c-6f2a-48fa-850d-cfed8f92591f\",\"object\":\"chat.completion.chunk\",\"created\":1753477232,\"model\":\"llama3-70b-8192\",\"system_fingerprint\":\"fp_bf16903a67\",\"choices\":[{\"index\":0,\"delta\":{\"content\":\" first\"},\"logprobs\":null,\"finish_reason\":null}]}{\"id\":\"chatcmpl-53013e4c-6f2a-48fa-850d-cfed8f92591f\",\"object\":\"chat.completion.chunk\",\"created\":1753477232,\"model\":\"llama3-70b-8192\",\"system_fingerprint\":\"fp_bf16903a67\",\"choices\":[{\"index\":0,\"delta\":{\"content\":\" \"},\"logprobs\":null,\"finish_reason\":null}]}{\"id\":\"chatcmpl-53013e4c-6f2a-48fa-850d-cfed8f92591f\",\"object\":\"chat.completion.chunk\",\"created\":1753477232,\"model\":\"llama3-70b-8192\",\"system_fingerprint\":\"fp_bf16903a67\",\"choices\":[{\"index\":0,\"delta\":{\"content\":\"50\"},\"logprobs\":null,\"finish_reason\":null}]}{\"id\":\"chatcmpl-53013e4c-6f2a-48fa-850d-cfed8f92591f\",\"object\":\"chat.completion.chunk\",\"created\":1753477232,\"model\":\"llama3-70b-8192\",\"system_fingerprint\":\"fp_bf16903a67\",\"choices\":[{\"index\":0,\"delta\":{\"content\":\" words\"},\"logprobs\":null,\"finish_reason\":null}]}{\"id\":\"chatcmpl-53013e4c-6f2a-48fa-850d-cfed8f92591f\",\"object\":\"chat.completion.chunk\",\"created\":1753477232,\"model\":\"llama3-70b-8192\",\"system_fingerprint\":\"fp_bf16903a67\",\"choices\":[{\"index\":0,\"delta\":{\"content\":\" of\"},\"logprobs\":null,\"finish_reason\":null}]}{\"id\":\"chatcmpl-53013e4c-6f2a-48fa-850d-cfed8f92591f\",\"object\":\"chat.completion.chunk\",\"created\":1753477232,\"model\":\"llama3-70b-8192\",\"system_fingerprint\":\"fp_bf16903a67\",\"choices\":[{\"index\":0,\"delta\":{\"content\":\" M\"},\"logprobs\":null,\"finish_reason\":null}]}{\"id\":\"chatcmpl-53013e4c-6f2a-48fa-850d-cfed8f92591f\",\"object\":\"chat.completion.chunk\",\"created\":1753477232,\"model\":\"llama3-70b-8192\",\"system_fingerprint\":\"fp_bf16903a67\",\"choices\":[{\"index\":0,\"delta\":{\"content\":\"oby\"},\"logprobs\":null,\"finish_reason\":null}]}{\"id\":\"chatcmpl-53013e4c-6f2a-48fa-850d-cfed8f92591f\",\"object\":\"chat.completion.chunk\",\"created\":1753477232,\"model\":\"llama3-70b-8192\",\"system_fingerprint\":\"fp_bf16903a67\",\"choices\":[{\"index\":0,\"delta\":{\"content\":\" Dick\"},\"logprobs\":null,\"finish_reason\":null}]}{\"id\":\"chatcmpl-53013e4c-6f2a-48fa-850d-cfed8f92591f\",\"object\":\"chat.completion.chunk\",\"created\":1753477232,\"model\":\"llama3-70b-8192\",\"system_fingerprint\":\"fp_bf16903a67\",\"choices\":[{\"index\":0,\"delta\":{\"content\":\" by\"},\"logprobs\":null,\"finish_reason\":null}]}{\"id\":\"chatcmpl-53013e4c-6f2a-48fa-850d-cfed8f92591f\",\"object\":\"chat.completion.chunk\",\"created\":1753477232,\"model\":\"llama3-70b-8192\",\"system_fingerprint\":\"fp_bf16903a67\",\"choices\":[{\"index\":0,\"delta\":{\"content\":\" Herman\"},\"logprobs\":null,\"finish_reason\":null}]}{\"id\":\"chatcmpl-53013e4c-6f2a-48fa-850d-cfed8f92591f\",\"object\":\"chat.completion.chunk\",\"created\":1753477232,\"model\":\"llama3-70b-8192\",\"system_fingerprint\":\"fp_bf16903a67\",\"choices\":[{\"index\":0,\"delta\":{\"content\":\" Mel\"},\"logprobs\":null,\"finish_reason\":null}]}{\"id\":\"chatcmpl-53013e4c-6f2a-48fa-850d-cfed8f92591f\",\"object\":\"chat.completion.chunk\",\"created\":1753477232,\"model\":\"llama3-70b-8192\",\"system_fingerprint\":\"fp_bf16903a67\",\"choices\":[{\"index\":0,\"delta\":{\"content\":\"ville\"},\"logprobs\":null,\"finish_reason\":null}]}{\"id\":\"chatcmpl-53013e4c-6f2a-48fa-850d-cfed8f92591f\",\"object\":\"chat.completion.chunk\",\"created\":1753477232,\"model\":\"llama3-70b-8192\",\"system_fingerprint\":\"fp_bf16903a67\",\"choices\":[{\"index\":0,\"delta\":{\"content\":\":\\n\\n\"},\"logprobs\":null,\"finish_reason\":null}]}{\"id\":\"chatcmpl-53013e4c-6f2a-48fa-850d-cfed8f92591f\",\"object\":\"chat.completion.chunk\",\"created\":1753477232,\"model\":\"llama3-70b-8192\",\"system_fingerprint\":\"fp_bf16903a67\",\"choices\":[{\"index\":0,\"delta\":{\"content\":\"\\\"\"},\"logprobs\":null,\"finish_reason\":null}]}{\"id\":\"chatcmpl-53013e4c-6f2a-48fa-850d-cfed8f92591f\",\"object\":\"chat.completion.chunk\",\"created\":1753477232,\"model\":\"llama3-70b-8192\",\"system_fingerprint\":\"fp_bf16903a67\",\"choices\":[{\"index\":0,\"delta\":{\"content\":\"Call\"},\"logprobs\":null,\"finish_reason\":null}]}{\"id\":\"chatcmpl-53013e4c-6f2a-48fa-850d-cfed8f92591f\",\"object\":\"chat.completion.chunk\",\"created\":1753477232,\"model\":\"llama3-70b-8192\",\"system_fingerprint\":\"fp_bf16903a67\",\"choices\":[{\"index\":0,\"delta\":{\"content\":\" me\"},\"logprobs\":null,\"finish_reason\":null}]}{\"id\":\"chatcmpl-53013e4c-6f2a-48fa-850d-cfed8f92591f\",\"object\":\"chat.completion.chunk\",\"created\":1753477232,\"model\":\"llama3-70b-8192\",\"system_fingerprint\":\"fp_bf16903a67\",\"choices\":[{\"index\":0,\"delta\":{\"content\":\" Ish\"},\"logprobs\":null,\"finish_reason\":null}]}{\"id\":\"chatcmpl-53013e4c-6f2a-48fa-850d-cfed8f92591f\",\"object\":\"chat.completion.chunk\",\"created\":1753477232,\"model\":\"llama3-70b-8192\",\"system_fingerprint\":\"fp_bf16903a67\",\"choices\":[{\"index\":0,\"delta\":{\"content\":\"ma\"},\"logprobs\":null,\"finish_reason\":null}]}{\"id\":\"chatcmpl-53013e4c-6f2a-48fa-850d-cfed8f92591f\",\"object\":\"chat.completion.chunk\",\"created\":1753477232,\"model\":\"llama3-70b-8192\",\"system_fingerprint\":\"fp_bf16903a67\",\"choices\":[{\"index\":0,\"delta\":{\"content\":\"el\"},\"logprobs\":null,\"finish_reason\":null}]}{\"id\":\"chatcmpl-53013e4c-6f2a-48fa-850d-cfed8f92591f\",\"object\":\"chat.completion.chunk\",\"created\":1753477232,\"model\":\"llama3-70b-8192\",\"system_fingerprint\":\"fp_bf16903a67\",\"choices\":[{\"index\":0,\"delta\":{\"content\":\".\"},\"logprobs\":null,\"finish_reason\":null}]}{\"id\":\"chatcmpl-53013e4c-6f2a-48fa-850d-cfed8f92591f\",\"object\":\"chat.completion.chunk\",\"created\":1753477232,\"model\":\"llama3-70b-8192\",\"system_fingerprint\":\"fp_bf16903a67\",\"choices\":[{\"index\":0,\"delta\":{\"content\":\" Some\"},\"logprobs\":null,\"finish_reason\":null}]}{\"id\":\"chatcmpl-53013e4c-6f2a-48fa-850d-cfed8f92591f\",\"object\":\"chat.completion.chunk\",\"created\":1753477232,\"model\":\"llama3-70b-8192\",\"system_fingerprint\":\"fp_bf16903a67\",\"choices\":[{\"index\":0,\"delta\":{\"content\":\" years\"},\"logprobs\":null,\"finish_reason\":null}]}{\"id\":\"chatcmpl-53013e4c-6f2a-48fa-850d-cfed8f92591f\",\"object\":\"chat.completion.chunk\",\"created\":1753477232,\"model\":\"llama3-70b-8192\",\"system_fingerprint\":\"fp_bf16903a67\",\"choices\":[{\"index\":0,\"delta\":{\"content\":\" ago\"},\"logprobs\":null,\"finish_reason\":null}]}{\"id\":\"chatcmpl-53013e4c-6f2a-48fa-850d-cfed8f92591f\",\"object\":\"chat.completion.chunk\",\"created\":1753477232,\"model\":\"llama3-70b-8192\",\"system_fingerprint\":\"fp_bf16903a67\",\"choices\":[{\"index\":0,\"delta\":{\"content\":\"—\"},\"logprobs\":null,\"finish_reason\":null}]}{\"id\":\"chatcmpl-53013e4c-6f2a-48fa-850d-cfed8f92591f\",\"object\":\"chat.completion.chunk\",\"created\":1753477232,\"model\":\"llama3-70b-8192\",\"system_fingerprint\":\"fp_bf16903a67\",\"choices\":[{\"index\":0,\"delta\":{\"content\":\"never\"},\"logprobs\":null,\"finish_reason\":null}]}{\"id\":\"chatcmpl-53013e4c-6f2a-48fa-850d-cfed8f92591f\",\"object\":\"chat.completion.chunk\",\"created\":1753477232,\"model\":\"llama3-70b-8192\",\"system_fingerprint\":\"fp_bf16903a67\",\"choices\":[{\"index\":0,\"delta\":{\"content\":\" mind\"},\"logprobs\":null,\"finish_reason\":null}]}{\"id\":\"chatcmpl-53013e4c-6f2a-48fa-850d-cfed8f92591f\",\"object\":\"chat.completion.chunk\",\"created\":1753477232,\"model\":\"llama3-70b-8192\",\"system_fingerprint\":\"fp_bf16903a67\",\"choices\":[{\"index\":0,\"delta\":{\"content\":\" how\"},\"logprobs\":null,\"finish_reason\":null}]}{\"id\":\"chatcmpl-53013e4c-6f2a-48fa-850d-cfed8f92591f\",\"object\":\"chat.completion.chunk\",\"created\":1753477232,\"model\":\"llama3-70b-8192\",\"system_fingerprint\":\"fp_bf16903a67\",\"choices\":[{\"index\":0,\"delta\":{\"content\":\" long\"},\"logprobs\":null,\"finish_reason\":null}]}{\"id\":\"chatcmpl-53013e4c-6f2a-48fa-850d-cfed8f92591f\",\"object\":\"chat.completion.chunk\",\"created\":1753477232,\"model\":\"llama3-70b-8192\",\"system_fingerprint\":\"fp_bf16903a67\",\"choices\":[{\"index\":0,\"delta\":{\"content\":\" precisely\"},\"logprobs\":null,\"finish_reason\":null}]}{\"id\":\"chatcmpl-53013e4c-6f2a-48fa-850d-cfed8f92591f\",\"object\":\"chat.completion.chunk\",\"created\":1753477232,\"model\":\"llama3-70b-8192\",\"system_fingerprint\":\"fp_bf16903a67\",\"choices\":[{\"index\":0,\"delta\":{\"content\":\"—\"},\"logprobs\":null,\"finish_reason\":null}]}{\"id\":\"chatcmpl-53013e4c-6f2a-48fa-850d-cfed8f92591f\",\"object\":\"chat.completion.chunk\",\"created\":1753477232,\"model\":\"llama3-70b-8192\",\"system_fingerprint\":\"fp_bf16903a67\",\"choices\":[{\"index\":0,\"delta\":{\"content\":\"having\"},\"logprobs\":null,\"finish_reason\":null}]}{\"id\":\"chatcmpl-53013e4c-6f2a-48fa-850d-cfed8f92591f\",\"object\":\"chat.completion.chunk\",\"created\":1753477232,\"model\":\"llama3-70b-8192\",\"system_fingerprint\":\"fp_bf16903a67\",\"choices\":[{\"index\":0,\"delta\":{\"content\":\" little\"},\"logprobs\":null,\"finish_reason\":null}]}{\"id\":\"chatcmpl-53013e4c-6f2a-48fa-850d-cfed8f92591f\",\"object\":\"chat.completion.chunk\",\"created\":1753477232,\"model\":\"llama3-70b-8192\",\"system_fingerprint\":\"fp_bf16903a67\",\"choices\":[{\"index\":0,\"delta\":{\"content\":\" or\"},\"logprobs\":null,\"finish_reason\":null}]}{\"id\":\"chatcmpl-53013e4c-6f2a-48fa-850d-cfed8f92591f\",\"object\":\"chat.completion.chunk\",\"created\":1753477232,\"model\":\"llama3-70b-8192\",\"system_fingerprint\":\"fp_bf16903a67\",\"choices\":[{\"index\":0,\"delta\":{\"content\":\" no\"},\"logprobs\":null,\"finish_reason\":null}]}{\"id\":\"chatcmpl-53013e4c-6f2a-48fa-850d-cfed8f92591f\",\"object\":\"chat.completion.chunk\",\"created\":1753477232,\"model\":\"llama3-70b-8192\",\"system_fingerprint\":\"fp_bf16903a67\",\"choices\":[{\"index\":0,\"delta\":{\"content\":\" money\"},\"logprobs\":null,\"finish_reason\":null}]}{\"id\":\"chatcmpl-53013e4c-6f2a-48fa-850d-cfed8f92591f\",\"object\":\"chat.completion.chunk\",\"created\":1753477232,\"model\":\"llama3-70b-8192\",\"system_fingerprint\":\"fp_bf16903a67\",\"choices\":[{\"index\":0,\"delta\":{\"content\":\" in\"},\"logprobs\":null,\"finish_reason\":null}]}{\"id\":\"chatcmpl-53013e4c-6f2a-48fa-850d-cfed8f92591f\",\"object\":\"chat.completion.chunk\",\"created\":1753477232,\"model\":\"llama3-70b-8192\",\"system_fingerprint\":\"fp_bf16903a67\",\"choices\":[{\"index\":0,\"delta\":{\"content\":\" my\"},\"logprobs\":null,\"finish_reason\":null}]}{\"id\":\"chatcmpl-53013e4c-6f2a-48fa-850d-cfed8f92591f\",\"object\":\"chat.completion.chunk\",\"created\":1753477232,\"model\":\"llama3-70b-8192\",\"system_fingerprint\":\"fp_bf16903a67\",\"choices\":[{\"index\":0,\"delta\":{\"content\":\" purse\"},\"logprobs\":null,\"finish_reason\":null}]}{\"id\":\"chatcmpl-53013e4c-6f2a-48fa-850d-cfed8f92591f\",\"object\":\"chat.completion.chunk\",\"created\":1753477232,\"model\":\"llama3-70b-8192\",\"system_fingerprint\":\"fp_bf16903a67\",\"choices\":[{\"index\":0,\"delta\":{\"content\":\",\"},\"logprobs\":null,\"finish_reason\":null}]}{\"id\":\"chatcmpl-53013e4c-6f2a-48fa-850d-cfed8f92591f\",\"object\":\"chat.completion.chunk\",\"created\":1753477232,\"model\":\"llama3-70b-8192\",\"system_fingerprint\":\"fp_bf16903a67\",\"choices\":[{\"index\":0,\"delta\":{\"content\":\" and\"},\"logprobs\":null,\"finish_reason\":null}]}{\"id\":\"chatcmpl-53013e4c-6f2a-48fa-850d-cfed8f92591f\",\"object\":\"chat.completion.chunk\",\"created\":1753477232,\"model\":\"llama3-70b-8192\",\"system_fingerprint\":\"fp_bf16903a67\",\"choices\":[{\"index\":0,\"delta\":{\"content\":\" nothing\"},\"logprobs\":null,\"finish_reason\":null}]}{\"id\":\"chatcmpl-53013e4c-6f2a-48fa-850d-cfed8f92591f\",\"object\":\"chat.completion.chunk\",\"created\":1753477232,\"model\":\"llama3-70b-8192\",\"system_fingerprint\":\"fp_bf16903a67\",\"choices\":[{\"index\":0,\"delta\":{\"content\":\" particular\"},\"logprobs\":null,\"finish_reason\":null}]}{\"id\":\"chatcmpl-53013e4c-6f2a-48fa-850d-cfed8f92591f\",\"object\":\"chat.completion.chunk\",\"created\":1753477232,\"model\":\"llama3-70b-8192\",\"system_fingerprint\":\"fp_bf16903a67\",\"choices\":[{\"index\":0,\"delta\":{\"content\":\" to\"},\"logprobs\":null,\"finish_reason\":null}]}{\"id\":\"chatcmpl-53013e4c-6f2a-48fa-850d-cfed8f92591f\",\"object\":\"chat.completion.chunk\",\"created\":1753477232,\"model\":\"llama3-70b-8192\",\"system_fingerprint\":\"fp_bf16903a67\",\"choices\":[{\"index\":0,\"delta\":{\"content\":\" interest\"},\"logprobs\":null,\"finish_reason\":null}]}{\"id\":\"chatcmpl-53013e4c-6f2a-48fa-850d-cfed8f92591f\",\"object\":\"chat.completion.chunk\",\"created\":1753477232,\"model\":\"llama3-70b-8192\",\"system_fingerprint\":\"fp_bf16903a67\",\"choices\":[{\"index\":0,\"delta\":{\"content\":\" me\"},\"logprobs\":null,\"finish_reason\":null}]}{\"id\":\"chatcmpl-53013e4c-6f2a-48fa-850d-cfed8f92591f\",\"object\":\"chat.completion.chunk\",\"created\":1753477232,\"model\":\"llama3-70b-8192\",\"system_fingerprint\":\"fp_bf16903a67\",\"choices\":[{\"index\":0,\"delta\":{\"content\":\" on\"},\"logprobs\":null,\"finish_reason\":null}]}{\"id\":\"chatcmpl-53013e4c-6f2a-48fa-850d-cfed8f92591f\",\"object\":\"chat.completion.chunk\",\"created\":1753477232,\"model\":\"llama3-70b-8192\",\"system_fingerprint\":\"fp_bf16903a67\",\"choices\":[{\"index\":0,\"delta\":{\"content\":\" shore\"},\"logprobs\":null,\"finish_reason\":null}]}{\"id\":\"chatcmpl-53013e4c-6f2a-48fa-850d-cfed8f92591f\",\"object\":\"chat.completion.chunk\",\"created\":1753477232,\"model\":\"llama3-70b-8192\",\"system_fingerprint\":\"fp_bf16903a67\",\"choices\":[{\"index\":0,\"delta\":{\"content\":\",\"},\"logprobs\":null,\"finish_reason\":null}]}{\"id\":\"chatcmpl-53013e4c-6f2a-48fa-850d-cfed8f92591f\",\"object\":\"chat.completion.chunk\",\"created\":1753477232,\"model\":\"llama3-70b-8192\",\"system_fingerprint\":\"fp_bf16903a67\",\"choices\":[{\"index\":0,\"delta\":{\"content\":\" I\"},\"logprobs\":null,\"finish_reason\":null}]}{\"id\":\"chatcmpl-53013e4c-6f2a-48fa-850d-cfed8f92591f\",\"object\":\"chat.completion.chunk\",\"created\":1753477232,\"model\":\"llama3-70b-8192\",\"system_fingerprint\":\"fp_bf16903a67\",\"choices\":[{\"index\":0,\"delta\":{\"content\":\" thought\"},\"logprobs\":null,\"finish_reason\":null}]}{\"id\":\"chatcmpl-53013e4c-6f2a-48fa-850d-cfed8f92591f\",\"object\":\"chat.completion.chunk\",\"created\":1753477232,\"model\":\"llama3-70b-8192\",\"system_fingerprint\":\"fp_bf16903a67\",\"choices\":[{\"index\":0,\"delta\":{\"content\":\" I\"},\"logprobs\":null,\"finish_reason\":null}]}{\"id\":\"chatcmpl-53013e4c-6f2a-48fa-850d-cfed8f92591f\",\"object\":\"chat.completion.chunk\",\"created\":1753477232,\"model\":\"llama3-70b-8192\",\"system_fingerprint\":\"fp_bf16903a67\",\"choices\":[{\"index\":0,\"delta\":{\"content\":\" would\"},\"logprobs\":null,\"finish_reason\":null}]}{\"id\":\"chatcmpl-53013e4c-6f2a-48fa-850d-cfed8f92591f\",\"object\":\"chat.completion.chunk\",\"created\":1753477232,\"model\":\"llama3-70b-8192\",\"system_fingerprint\":\"fp_bf16903a67\",\"choices\":[{\"index\":0,\"delta\":{\"content\":\" sail\"},\"logprobs\":null,\"finish_reason\":null}]}{\"id\":\"chatcmpl-53013e4c-6f2a-48fa-850d-cfed8f92591f\",\"object\":\"chat.completion.chunk\",\"created\":1753477232,\"model\":\"llama3-70b-8192\",\"system_fingerprint\":\"fp_bf16903a67\",\"choices\":[{\"index\":0,\"delta\":{\"content\":\" about\"},\"logprobs\":null,\"finish_reason\":null}]}{\"id\":\"chatcmpl-53013e4c-6f2a-48fa-850d-cfed8f92591f\",\"object\":\"chat.completion.chunk\",\"created\":1753477232,\"model\":\"llama3-70b-8192\",\"system_fingerprint\":\"fp_bf16903a67\",\"choices\":[{\"index\":0,\"delta\":{\"content\":\" a\"},\"logprobs\":null,\"finish_reason\":null}]}{\"id\":\"chatcmpl-53013e4c-6f2a-48fa-850d-cfed8f92591f\",\"object\":\"chat.completion.chunk\",\"created\":1753477232,\"model\":\"llama3-70b-8192\",\"system_fingerprint\":\"fp_bf16903a67\",\"choices\":[{\"index\":0,\"delta\":{\"content\":\" little\"},\"logprobs\":null,\"finish_reason\":null}]}{\"id\":\"chatcmpl-53013e4c-6f2a-48fa-850d-cfed8f92591f\",\"object\":\"chat.completion.chunk\",\"created\":1753477232,\"model\":\"llama3-70b-8192\",\"system_fingerprint\":\"fp_bf16903a67\",\"choices\":[{\"index\":0,\"delta\":{\"content\":\" and\"},\"logprobs\":null,\"finish_reason\":null}]}{\"id\":\"chatcmpl-53013e4c-6f2a-48fa-850d-cfed8f92591f\",\"object\":\"chat.completion.chunk\",\"created\":1753477232,\"model\":\"llama3-70b-8192\",\"system_fingerprint\":\"fp_bf16903a67\",\"choices\":[{\"index\":0,\"delta\":{\"content\":\" see\"},\"logprobs\":null,\"finish_reason\":null}]}{\"id\":\"chatcmpl-53013e4c-6f2a-48fa-850d-cfed8f92591f\",\"object\":\"chat.completion.chunk\",\"created\":1753477232,\"model\":\"llama3-70b-8192\",\"system_fingerprint\":\"fp_bf16903a67\",\"choices\":[{\"index\":0,\"delta\":{\"content\":\" the\"},\"logprobs\":null,\"finish_reason\":null}]}{\"id\":\"chatcmpl-53013e4c-6f2a-48fa-850d-cfed8f92591f\",\"object\":\"chat.completion.chunk\",\"created\":1753477232,\"model\":\"llama3-70b-8192\",\"system_fingerprint\":\"fp_bf16903a67\",\"choices\":[{\"index\":0,\"delta\":{\"content\":\" wat\"},\"logprobs\":null,\"finish_reason\":null}]}{\"id\":\"chatcmpl-53013e4c-6f2a-48fa-850d-cfed8f92591f\",\"object\":\"chat.completion.chunk\",\"created\":1753477232,\"model\":\"llama3-70b-8192\",\"system_fingerprint\":\"fp_bf16903a67\",\"choices\":[{\"index\":0,\"delta\":{\"content\":\"ery\"},\"logprobs\":null,\"finish_reason\":null}]}{\"id\":\"chatcmpl-53013e4c-6f2a-48fa-850d-cfed8f92591f\",\"object\":\"chat.completion.chunk\",\"created\":1753477232,\"model\":\"llama3-70b-8192\",\"system_fingerprint\":\"fp_bf16903a67\",\"choices\":[{\"index\":0,\"delta\":{\"content\":\" part\"},\"logprobs\":null,\"finish_reason\":null}]}{\"id\":\"chatcmpl-53013e4c-6f2a-48fa-850d-cfed8f92591f\",\"object\":\"chat.completion.chunk\",\"created\":1753477232,\"model\":\"llama3-70b-8192\",\"system_fingerprint\":\"fp_bf16903a67\",\"choices\":[{\"index\":0,\"delta\":{\"content\":\" of\"},\"logprobs\":null,\"finish_reason\":null}]}{\"id\":\"chatcmpl-53013e4c-6f2a-48fa-850d-cfed8f92591f\",\"object\":\"chat.completion.chunk\",\"created\":1753477232,\"model\":\"llama3-70b-8192\",\"system_fingerprint\":\"fp_bf16903a67\",\"choices\":[{\"index\":0,\"delta\":{\"content\":\" the\"},\"logprobs\":null,\"finish_reason\":null}]}{\"id\":\"chatcmpl-53013e4c-6f2a-48fa-850d-cfed8f92591f\",\"object\":\"chat.completion.chunk\",\"created\":1753477232,\"model\":\"llama3-70b-8192\",\"system_fingerprint\":\"fp_bf16903a67\",\"choices\":[{\"index\":0,\"delta\":{\"content\":\" world\"},\"logprobs\":null,\"finish_reason\":null}]}{\"id\":\"chatcmpl-53013e4c-6f2a-48fa-850d-cfed8f92591f\",\"object\":\"chat.completion.chunk\",\"created\":1753477232,\"model\":\"llama3-70b-8192\",\"system_fingerprint\":\"fp_bf16903a67\",\"choices\":[{\"index\":0,\"delta\":{\"content\":\".\\\"\"},\"logprobs\":null,\"finish_reason\":null}]}{\"id\":\"chatcmpl-53013e4c-6f2a-48fa-850d-cfed8f92591f\",\"object\":\"chat.completion.chunk\",\"created\":1753477232,\"model\":\"llama3-70b-8192\",\"system_fingerprint\":\"fp_bf16903a67\",\"choices\":[{\"index\":0,\"delta\":{},\"logprobs\":null,\"finish_reason\":\"stop\"}],\"x_groq\":{\"id\":\"req_01k11p6e39f6m9y78t6aevd1qe\",\"usage\":{\"queue_time\":0.010754937999999999,\"prompt_tokens\":30,\"prompt_time\":0.000886387,\"completion_tokens\":70,\"completion_time\":0.2,\"total_tokens\":100,\"total_time\":0.200886387}}}[DONE]Step three is happening\n",
            "Final result =  Workflow complete.\n"
          ]
        }
      ]
    },
    {
      "cell_type": "markdown",
      "source": [
        "You've successfully built a number of increasingly-complex Workflows, and mastered the basic concepts. In the next lesson, you'll add RAG to your Workflow."
      ],
      "metadata": {
        "id": "Hduao2taVtjV"
      }
    }
  ]
}