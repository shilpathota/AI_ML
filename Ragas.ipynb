{
  "nbformat": 4,
  "nbformat_minor": 0,
  "metadata": {
    "colab": {
      "provenance": [],
      "authorship_tag": "ABX9TyMmZtsSy1jbtAeR1E1h5lBC",
      "include_colab_link": true
    },
    "kernelspec": {
      "name": "python3",
      "display_name": "Python 3"
    },
    "language_info": {
      "name": "python"
    }
      
    
  },
  "cells": [
    {
      "cell_type": "markdown",
      "metadata": {
        "id": "view-in-github",
        "colab_type": "text"
      },
      "source": [
        "<a href=\"https://colab.research.google.com/github/shilpathota/AI_ML/blob/master/Ragas.ipynb\" target=\"_parent\"><img src=\"https://colab.research.google.com/assets/colab-badge.svg\" alt=\"Open In Colab\"/></a>"
      ]
    },
    {
      "cell_type": "code",
      "source": [
        "!pip install pandas langchain_community ragas sentence_transformers langchain langchain-text-splitters faiss-cpu langchain_groq langchain_together"
      ],
      "metadata": {
        "colab": {
          "base_uri": "https://localhost:8080/"
        },
        "id": "zWnVblLvLSPy",
        "outputId": "fb71f9fd-bc8b-416d-859a-356158a55c9f"
      },
      "execution_count": 1,
      "outputs": [
        {
          "output_type": "stream",
          "name": "stdout",
          "text": [
            "Requirement already satisfied: pandas in /usr/local/lib/python3.12/dist-packages (2.2.2)\n",
            "Requirement already satisfied: langchain_community in /usr/local/lib/python3.12/dist-packages (0.4)\n",
            "Requirement already satisfied: ragas in /usr/local/lib/python3.12/dist-packages (0.3.7)\n",
            "Requirement already satisfied: sentence_transformers in /usr/local/lib/python3.12/dist-packages (5.1.1)\n",
            "Requirement already satisfied: langchain in /usr/local/lib/python3.12/dist-packages (1.0.2)\n",
            "Requirement already satisfied: langchain-text-splitters in /usr/local/lib/python3.12/dist-packages (1.0.0)\n",
            "Requirement already satisfied: faiss-cpu in /usr/local/lib/python3.12/dist-packages (1.12.0)\n",
            "Requirement already satisfied: langchain_groq in /usr/local/lib/python3.12/dist-packages (1.0.0)\n",
            "Requirement already satisfied: langchain_together in /usr/local/lib/python3.12/dist-packages (0.0.2.post1)\n",
            "Requirement already satisfied: numpy>=1.26.0 in /usr/local/lib/python3.12/dist-packages (from pandas) (2.0.2)\n",
            "Requirement already satisfied: python-dateutil>=2.8.2 in /usr/local/lib/python3.12/dist-packages (from pandas) (2.9.0.post0)\n",
            "Requirement already satisfied: pytz>=2020.1 in /usr/local/lib/python3.12/dist-packages (from pandas) (2025.2)\n",
            "Requirement already satisfied: tzdata>=2022.7 in /usr/local/lib/python3.12/dist-packages (from pandas) (2025.2)\n",
            "Requirement already satisfied: langchain-core<2.0.0,>=1.0.0 in /usr/local/lib/python3.12/dist-packages (from langchain_community) (1.0.1)\n",
            "Requirement already satisfied: langchain-classic<2.0.0,>=1.0.0 in /usr/local/lib/python3.12/dist-packages (from langchain_community) (1.0.0)\n",
            "Requirement already satisfied: SQLAlchemy<3.0.0,>=1.4.0 in /usr/local/lib/python3.12/dist-packages (from langchain_community) (2.0.44)\n",
            "Requirement already satisfied: requests<3.0.0,>=2.32.5 in /usr/local/lib/python3.12/dist-packages (from langchain_community) (2.32.5)\n",
            "Requirement already satisfied: PyYAML<7.0.0,>=5.3.0 in /usr/local/lib/python3.12/dist-packages (from langchain_community) (6.0.3)\n",
            "Requirement already satisfied: aiohttp<4.0.0,>=3.8.3 in /usr/local/lib/python3.12/dist-packages (from langchain_community) (3.13.1)\n",
            "Requirement already satisfied: tenacity!=8.4.0,<10.0.0,>=8.1.0 in /usr/local/lib/python3.12/dist-packages (from langchain_community) (8.5.0)\n",
            "Requirement already satisfied: dataclasses-json<0.7.0,>=0.6.7 in /usr/local/lib/python3.12/dist-packages (from langchain_community) (0.6.7)\n",
            "Requirement already satisfied: pydantic-settings<3.0.0,>=2.10.1 in /usr/local/lib/python3.12/dist-packages (from langchain_community) (2.11.0)\n",
            "Requirement already satisfied: langsmith<1.0.0,>=0.1.125 in /usr/local/lib/python3.12/dist-packages (from langchain_community) (0.4.37)\n",
            "Requirement already satisfied: httpx-sse<1.0.0,>=0.4.0 in /usr/local/lib/python3.12/dist-packages (from langchain_community) (0.4.3)\n",
            "Requirement already satisfied: datasets>=4.0.0 in /usr/local/lib/python3.12/dist-packages (from ragas) (4.0.0)\n",
            "Requirement already satisfied: tiktoken in /usr/local/lib/python3.12/dist-packages (from ragas) (0.12.0)\n",
            "Requirement already satisfied: pydantic>=2.0.0 in /usr/local/lib/python3.12/dist-packages (from ragas) (2.11.10)\n",
            "Requirement already satisfied: nest-asyncio in /usr/local/lib/python3.12/dist-packages (from ragas) (1.6.0)\n",
            "Requirement already satisfied: appdirs in /usr/local/lib/python3.12/dist-packages (from ragas) (1.4.4)\n",
            "Requirement already satisfied: diskcache>=5.6.3 in /usr/local/lib/python3.12/dist-packages (from ragas) (5.6.3)\n",
            "Requirement already satisfied: typer in /usr/local/lib/python3.12/dist-packages (from ragas) (0.9.4)\n",
            "Requirement already satisfied: rich in /usr/local/lib/python3.12/dist-packages (from ragas) (13.9.4)\n",
            "Requirement already satisfied: openai>=1.0.0 in /usr/local/lib/python3.12/dist-packages (from ragas) (1.109.1)\n",
            "Requirement already satisfied: tqdm in /usr/local/lib/python3.12/dist-packages (from ragas) (4.67.1)\n",
            "Requirement already satisfied: instructor in /usr/local/lib/python3.12/dist-packages (from ragas) (1.11.3)\n",
            "Requirement already satisfied: gitpython in /usr/local/lib/python3.12/dist-packages (from ragas) (3.1.45)\n",
            "Requirement already satisfied: pillow>=10.4.0 in /usr/local/lib/python3.12/dist-packages (from ragas) (11.3.0)\n",
            "Requirement already satisfied: networkx in /usr/local/lib/python3.12/dist-packages (from ragas) (3.5)\n",
            "Requirement already satisfied: scikit-network in /usr/local/lib/python3.12/dist-packages (from ragas) (0.33.3)\n",
            "Requirement already satisfied: langchain_openai in /usr/local/lib/python3.12/dist-packages (from ragas) (1.0.1)\n",
            "Requirement already satisfied: transformers<5.0.0,>=4.41.0 in /usr/local/lib/python3.12/dist-packages (from sentence_transformers) (4.57.1)\n",
            "Requirement already satisfied: torch>=1.11.0 in /usr/local/lib/python3.12/dist-packages (from sentence_transformers) (2.8.0+cu126)\n",
            "Requirement already satisfied: scikit-learn in /usr/local/lib/python3.12/dist-packages (from sentence_transformers) (1.6.1)\n",
            "Requirement already satisfied: scipy in /usr/local/lib/python3.12/dist-packages (from sentence_transformers) (1.16.2)\n",
            "Requirement already satisfied: huggingface-hub>=0.20.0 in /usr/local/lib/python3.12/dist-packages (from sentence_transformers) (0.35.3)\n",
            "Requirement already satisfied: typing_extensions>=4.5.0 in /usr/local/lib/python3.12/dist-packages (from sentence_transformers) (4.15.0)\n",
            "Requirement already satisfied: langgraph<1.1.0,>=1.0.0 in /usr/local/lib/python3.12/dist-packages (from langchain) (1.0.1)\n",
            "Requirement already satisfied: packaging in /usr/local/lib/python3.12/dist-packages (from faiss-cpu) (25.0)\n",
            "Requirement already satisfied: groq<1.0.0,>=0.30.0 in /usr/local/lib/python3.12/dist-packages (from langchain_groq) (0.33.0)\n",
            "Requirement already satisfied: together<0.3.0,>=0.2.10 in /usr/local/lib/python3.12/dist-packages (from langchain_together) (0.2.11)\n",
            "Requirement already satisfied: aiohappyeyeballs>=2.5.0 in /usr/local/lib/python3.12/dist-packages (from aiohttp<4.0.0,>=3.8.3->langchain_community) (2.6.1)\n",
            "Requirement already satisfied: aiosignal>=1.4.0 in /usr/local/lib/python3.12/dist-packages (from aiohttp<4.0.0,>=3.8.3->langchain_community) (1.4.0)\n",
            "Requirement already satisfied: attrs>=17.3.0 in /usr/local/lib/python3.12/dist-packages (from aiohttp<4.0.0,>=3.8.3->langchain_community) (25.4.0)\n",
            "Requirement already satisfied: frozenlist>=1.1.1 in /usr/local/lib/python3.12/dist-packages (from aiohttp<4.0.0,>=3.8.3->langchain_community) (1.8.0)\n",
            "Requirement already satisfied: multidict<7.0,>=4.5 in /usr/local/lib/python3.12/dist-packages (from aiohttp<4.0.0,>=3.8.3->langchain_community) (6.7.0)\n",
            "Requirement already satisfied: propcache>=0.2.0 in /usr/local/lib/python3.12/dist-packages (from aiohttp<4.0.0,>=3.8.3->langchain_community) (0.4.1)\n",
            "Requirement already satisfied: yarl<2.0,>=1.17.0 in /usr/local/lib/python3.12/dist-packages (from aiohttp<4.0.0,>=3.8.3->langchain_community) (1.22.0)\n",
            "Requirement already satisfied: marshmallow<4.0.0,>=3.18.0 in /usr/local/lib/python3.12/dist-packages (from dataclasses-json<0.7.0,>=0.6.7->langchain_community) (3.26.1)\n",
            "Requirement already satisfied: typing-inspect<1,>=0.4.0 in /usr/local/lib/python3.12/dist-packages (from dataclasses-json<0.7.0,>=0.6.7->langchain_community) (0.9.0)\n",
            "Requirement already satisfied: filelock in /usr/local/lib/python3.12/dist-packages (from datasets>=4.0.0->ragas) (3.20.0)\n",
            "Requirement already satisfied: pyarrow>=15.0.0 in /usr/local/lib/python3.12/dist-packages (from datasets>=4.0.0->ragas) (18.1.0)\n",
            "Requirement already satisfied: dill<0.3.9,>=0.3.0 in /usr/local/lib/python3.12/dist-packages (from datasets>=4.0.0->ragas) (0.3.8)\n",
            "Requirement already satisfied: xxhash in /usr/local/lib/python3.12/dist-packages (from datasets>=4.0.0->ragas) (3.6.0)\n",
            "Requirement already satisfied: multiprocess<0.70.17 in /usr/local/lib/python3.12/dist-packages (from datasets>=4.0.0->ragas) (0.70.16)\n",
            "Requirement already satisfied: fsspec<=2025.3.0,>=2023.1.0 in /usr/local/lib/python3.12/dist-packages (from fsspec[http]<=2025.3.0,>=2023.1.0->datasets>=4.0.0->ragas) (2025.3.0)\n",
            "Requirement already satisfied: anyio<5,>=3.5.0 in /usr/local/lib/python3.12/dist-packages (from groq<1.0.0,>=0.30.0->langchain_groq) (4.11.0)\n",
            "Requirement already satisfied: distro<2,>=1.7.0 in /usr/local/lib/python3.12/dist-packages (from groq<1.0.0,>=0.30.0->langchain_groq) (1.9.0)\n",
            "Requirement already satisfied: httpx<1,>=0.23.0 in /usr/local/lib/python3.12/dist-packages (from groq<1.0.0,>=0.30.0->langchain_groq) (0.28.1)\n",
            "Requirement already satisfied: sniffio in /usr/local/lib/python3.12/dist-packages (from groq<1.0.0,>=0.30.0->langchain_groq) (1.3.1)\n",
            "Requirement already satisfied: hf-xet<2.0.0,>=1.1.3 in /usr/local/lib/python3.12/dist-packages (from huggingface-hub>=0.20.0->sentence_transformers) (1.1.10)\n",
            "Requirement already satisfied: jsonpatch<2.0.0,>=1.33.0 in /usr/local/lib/python3.12/dist-packages (from langchain-core<2.0.0,>=1.0.0->langchain_community) (1.33)\n",
            "Requirement already satisfied: langgraph-checkpoint<4.0.0,>=2.1.0 in /usr/local/lib/python3.12/dist-packages (from langgraph<1.1.0,>=1.0.0->langchain) (3.0.0)\n",
            "Requirement already satisfied: langgraph-prebuilt<1.1.0,>=1.0.0 in /usr/local/lib/python3.12/dist-packages (from langgraph<1.1.0,>=1.0.0->langchain) (1.0.1)\n",
            "Requirement already satisfied: langgraph-sdk<0.3.0,>=0.2.2 in /usr/local/lib/python3.12/dist-packages (from langgraph<1.1.0,>=1.0.0->langchain) (0.2.9)\n",
            "Requirement already satisfied: orjson>=3.9.14 in /usr/local/lib/python3.12/dist-packages (from langsmith<1.0.0,>=0.1.125->langchain_community) (3.11.3)\n",
            "Requirement already satisfied: requests-toolbelt>=1.0.0 in /usr/local/lib/python3.12/dist-packages (from langsmith<1.0.0,>=0.1.125->langchain_community) (1.0.0)\n",
            "Requirement already satisfied: zstandard>=0.23.0 in /usr/local/lib/python3.12/dist-packages (from langsmith<1.0.0,>=0.1.125->langchain_community) (0.25.0)\n",
            "Requirement already satisfied: jiter<1,>=0.4.0 in /usr/local/lib/python3.12/dist-packages (from openai>=1.0.0->ragas) (0.10.0)\n",
            "Requirement already satisfied: annotated-types>=0.6.0 in /usr/local/lib/python3.12/dist-packages (from pydantic>=2.0.0->ragas) (0.7.0)\n",
            "Requirement already satisfied: pydantic-core==2.33.2 in /usr/local/lib/python3.12/dist-packages (from pydantic>=2.0.0->ragas) (2.33.2)\n",
            "Requirement already satisfied: typing-inspection>=0.4.0 in /usr/local/lib/python3.12/dist-packages (from pydantic>=2.0.0->ragas) (0.4.2)\n",
            "Requirement already satisfied: python-dotenv>=0.21.0 in /usr/local/lib/python3.12/dist-packages (from pydantic-settings<3.0.0,>=2.10.1->langchain_community) (1.1.1)\n",
            "Requirement already satisfied: six>=1.5 in /usr/local/lib/python3.12/dist-packages (from python-dateutil>=2.8.2->pandas) (1.17.0)\n",
            "Requirement already satisfied: charset_normalizer<4,>=2 in /usr/local/lib/python3.12/dist-packages (from requests<3.0.0,>=2.32.5->langchain_community) (3.4.4)\n",
            "Requirement already satisfied: idna<4,>=2.5 in /usr/local/lib/python3.12/dist-packages (from requests<3.0.0,>=2.32.5->langchain_community) (3.11)\n",
            "Requirement already satisfied: urllib3<3,>=1.21.1 in /usr/local/lib/python3.12/dist-packages (from requests<3.0.0,>=2.32.5->langchain_community) (2.5.0)\n",
            "Requirement already satisfied: certifi>=2017.4.17 in /usr/local/lib/python3.12/dist-packages (from requests<3.0.0,>=2.32.5->langchain_community) (2025.10.5)\n",
            "Requirement already satisfied: greenlet>=1 in /usr/local/lib/python3.12/dist-packages (from SQLAlchemy<3.0.0,>=1.4.0->langchain_community) (3.2.4)\n",
            "Requirement already satisfied: sseclient-py<2.0.0,>=1.7.2 in /usr/local/lib/python3.12/dist-packages (from together<0.3.0,>=0.2.10->langchain_together) (1.8.0)\n",
            "Requirement already satisfied: tabulate<0.10.0,>=0.9.0 in /usr/local/lib/python3.12/dist-packages (from together<0.3.0,>=0.2.10->langchain_together) (0.9.0)\n",
            "Requirement already satisfied: setuptools in /usr/local/lib/python3.12/dist-packages (from torch>=1.11.0->sentence_transformers) (75.2.0)\n",
            "Requirement already satisfied: sympy>=1.13.3 in /usr/local/lib/python3.12/dist-packages (from torch>=1.11.0->sentence_transformers) (1.13.3)\n",
            "Requirement already satisfied: jinja2 in /usr/local/lib/python3.12/dist-packages (from torch>=1.11.0->sentence_transformers) (3.1.6)\n",
            "Requirement already satisfied: nvidia-cuda-nvrtc-cu12==12.6.77 in /usr/local/lib/python3.12/dist-packages (from torch>=1.11.0->sentence_transformers) (12.6.77)\n",
            "Requirement already satisfied: nvidia-cuda-runtime-cu12==12.6.77 in /usr/local/lib/python3.12/dist-packages (from torch>=1.11.0->sentence_transformers) (12.6.77)\n",
            "Requirement already satisfied: nvidia-cuda-cupti-cu12==12.6.80 in /usr/local/lib/python3.12/dist-packages (from torch>=1.11.0->sentence_transformers) (12.6.80)\n",
            "Requirement already satisfied: nvidia-cudnn-cu12==9.10.2.21 in /usr/local/lib/python3.12/dist-packages (from torch>=1.11.0->sentence_transformers) (9.10.2.21)\n",
            "Requirement already satisfied: nvidia-cublas-cu12==12.6.4.1 in /usr/local/lib/python3.12/dist-packages (from torch>=1.11.0->sentence_transformers) (12.6.4.1)\n",
            "Requirement already satisfied: nvidia-cufft-cu12==11.3.0.4 in /usr/local/lib/python3.12/dist-packages (from torch>=1.11.0->sentence_transformers) (11.3.0.4)\n",
            "Requirement already satisfied: nvidia-curand-cu12==10.3.7.77 in /usr/local/lib/python3.12/dist-packages (from torch>=1.11.0->sentence_transformers) (10.3.7.77)\n",
            "Requirement already satisfied: nvidia-cusolver-cu12==11.7.1.2 in /usr/local/lib/python3.12/dist-packages (from torch>=1.11.0->sentence_transformers) (11.7.1.2)\n",
            "Requirement already satisfied: nvidia-cusparse-cu12==12.5.4.2 in /usr/local/lib/python3.12/dist-packages (from torch>=1.11.0->sentence_transformers) (12.5.4.2)\n",
            "Requirement already satisfied: nvidia-cusparselt-cu12==0.7.1 in /usr/local/lib/python3.12/dist-packages (from torch>=1.11.0->sentence_transformers) (0.7.1)\n",
            "Requirement already satisfied: nvidia-nccl-cu12==2.27.3 in /usr/local/lib/python3.12/dist-packages (from torch>=1.11.0->sentence_transformers) (2.27.3)\n",
            "Requirement already satisfied: nvidia-nvtx-cu12==12.6.77 in /usr/local/lib/python3.12/dist-packages (from torch>=1.11.0->sentence_transformers) (12.6.77)\n",
            "Requirement already satisfied: nvidia-nvjitlink-cu12==12.6.85 in /usr/local/lib/python3.12/dist-packages (from torch>=1.11.0->sentence_transformers) (12.6.85)\n",
            "Requirement already satisfied: nvidia-cufile-cu12==1.11.1.6 in /usr/local/lib/python3.12/dist-packages (from torch>=1.11.0->sentence_transformers) (1.11.1.6)\n",
            "Requirement already satisfied: triton==3.4.0 in /usr/local/lib/python3.12/dist-packages (from torch>=1.11.0->sentence_transformers) (3.4.0)\n",
            "Requirement already satisfied: regex!=2019.12.17 in /usr/local/lib/python3.12/dist-packages (from transformers<5.0.0,>=4.41.0->sentence_transformers) (2024.11.6)\n",
            "Requirement already satisfied: tokenizers<=0.23.0,>=0.22.0 in /usr/local/lib/python3.12/dist-packages (from transformers<5.0.0,>=4.41.0->sentence_transformers) (0.22.1)\n",
            "Requirement already satisfied: safetensors>=0.4.3 in /usr/local/lib/python3.12/dist-packages (from transformers<5.0.0,>=4.41.0->sentence_transformers) (0.6.2)\n",
            "Requirement already satisfied: click<9.0.0,>=7.1.1 in /usr/local/lib/python3.12/dist-packages (from typer->ragas) (8.3.0)\n",
            "Requirement already satisfied: gitdb<5,>=4.0.1 in /usr/local/lib/python3.12/dist-packages (from gitpython->ragas) (4.0.12)\n",
            "Requirement already satisfied: docstring-parser<1.0,>=0.16 in /usr/local/lib/python3.12/dist-packages (from instructor->ragas) (0.17.0)\n",
            "Requirement already satisfied: markdown-it-py>=2.2.0 in /usr/local/lib/python3.12/dist-packages (from rich->ragas) (4.0.0)\n",
            "Requirement already satisfied: pygments<3.0.0,>=2.13.0 in /usr/local/lib/python3.12/dist-packages (from rich->ragas) (2.19.2)\n",
            "Requirement already satisfied: joblib>=1.2.0 in /usr/local/lib/python3.12/dist-packages (from scikit-learn->sentence_transformers) (1.5.2)\n",
            "Requirement already satisfied: threadpoolctl>=3.1.0 in /usr/local/lib/python3.12/dist-packages (from scikit-learn->sentence_transformers) (3.6.0)\n",
            "Requirement already satisfied: smmap<6,>=3.0.1 in /usr/local/lib/python3.12/dist-packages (from gitdb<5,>=4.0.1->gitpython->ragas) (5.0.2)\n",
            "Requirement already satisfied: httpcore==1.* in /usr/local/lib/python3.12/dist-packages (from httpx<1,>=0.23.0->groq<1.0.0,>=0.30.0->langchain_groq) (1.0.9)\n",
            "Requirement already satisfied: h11>=0.16 in /usr/local/lib/python3.12/dist-packages (from httpcore==1.*->httpx<1,>=0.23.0->groq<1.0.0,>=0.30.0->langchain_groq) (0.16.0)\n",
            "Requirement already satisfied: MarkupSafe>=2.0 in /usr/local/lib/python3.12/dist-packages (from jinja2->torch>=1.11.0->sentence_transformers) (3.0.3)\n",
            "Requirement already satisfied: jsonpointer>=1.9 in /usr/local/lib/python3.12/dist-packages (from jsonpatch<2.0.0,>=1.33.0->langchain-core<2.0.0,>=1.0.0->langchain_community) (3.0.0)\n",
            "Requirement already satisfied: ormsgpack>=1.10.0 in /usr/local/lib/python3.12/dist-packages (from langgraph-checkpoint<4.0.0,>=2.1.0->langgraph<1.1.0,>=1.0.0->langchain) (1.11.0)\n",
            "Requirement already satisfied: mdurl~=0.1 in /usr/local/lib/python3.12/dist-packages (from markdown-it-py>=2.2.0->rich->ragas) (0.1.2)\n",
            "Requirement already satisfied: mpmath<1.4,>=1.1.0 in /usr/local/lib/python3.12/dist-packages (from sympy>=1.13.3->torch>=1.11.0->sentence_transformers) (1.3.0)\n",
            "Requirement already satisfied: mypy-extensions>=0.3.0 in /usr/local/lib/python3.12/dist-packages (from typing-inspect<1,>=0.4.0->dataclasses-json<0.7.0,>=0.6.7->langchain_community) (1.1.0)\n"
          ]
        }
      ]
    },
    {
      "cell_type": "code",
      "source": [
        "# ragas_eval.py\n",
        "import os\n",
        "from typing import List, Dict\n",
        "import pandas as pd\n",
        "\n",
        "# ----- LangChain: docs → chunks → embeddings → FAISS retriever -----\n",
        "from langchain_text_splitters import RecursiveCharacterTextSplitter\n",
        "from langchain_community.vectorstores import FAISS\n",
        "from langchain_community.docstore.document import Document\n",
        "from langchain_community.embeddings import HuggingFaceEmbeddings"
      ],
      "metadata": {
        "id": "GOCZGZevLPKc"
      },
      "execution_count": 2,
      "outputs": []
    },
    {
      "cell_type": "code",
      "source": [
        "\n",
        "from google.colab import userdata\n",
        "os.environ[\"GROQ_API_KEY\"] = userdata.get(\"GROQ_API_KEY\")\n",
        "os.environ[\"TOGETHER_API_KEY\"] = userdata.get(\"TOGETHER_API_KEY\")\n",
        "# Choose an LLM to PRODUCE answers for the RAG system (you can swap)\n",
        "USE_GROQ = bool(os.getenv(\"GROQ_API_KEY\"))\n",
        "USE_TOGETHER = bool(os.getenv(\"TOGETHER_API_KEY\"))\n",
        "\n",
        "if USE_GROQ:\n",
        "    from langchain_groq import ChatGroq\n",
        "elif USE_TOGETHER:\n",
        "    from langchain_together import ChatTogether\n",
        "else:\n",
        "    # Fallback lightweight local model via transformers pipeline (very simple)\n",
        "    from transformers import AutoModelForCausalLM, AutoTokenizer\n",
        "    import torch"
      ],
      "metadata": {
        "id": "D_78lteIMZFy"
      },
      "execution_count": 5,
      "outputs": []
    },
    {
      "cell_type": "code",
      "source": [
        "\n",
        "# ----- Ragas -----\n",
        "from ragas import evaluate\n",
        "from ragas.metrics import (\n",
        "    answer_relevancy,        # Answer addresses the question?\n",
        "    faithfulness,            # Claims supported by retrieved context\n",
        "    context_precision,       # Retrieved chunks are useful for the answer\n",
        "    context_recall,          # Retrieved chunks cover what was needed\n",
        "    answer_correctness       # If you supply ground_truth answers\n",
        ")\n",
        "from ragas.dataset import Dataset\n",
        "from sentence_transformers import SentenceTransformer\n",
        "from ragas.run_config import RunConfig\n"
      ],
      "metadata": {
        "id": "QHuFojByMcE7"
      },
      "execution_count": 26,
      "outputs": []
    },
    {
      "cell_type": "code",
      "source": [
        "\n",
        "\n",
        "\n",
        "# -------------------------------\n",
        "# 1) Build toy corpus (replace with your own)\n",
        "# -------------------------------\n",
        "corpus = [\n",
        "    \"LangChain is a framework for developing applications powered by language models.\",\n",
        "    \"FAISS is a library for efficient similarity search and clustering of dense vectors.\",\n",
        "    \"Ragas is a library that provides evaluation metrics for Retrieval-Augmented Generation systems.\",\n",
        "    \"SentenceTransformers provides easy-to-use sentence embeddings.\",\n",
        "]\n",
        "\n",
        "docs = [Document(page_content=t) for t in corpus]\n"
      ],
      "metadata": {
        "id": "I9Z2GvrPMgIg"
      },
      "execution_count": 7,
      "outputs": []
    },
    {
      "cell_type": "code",
      "source": [
        "\n",
        "# -------------------------------\n",
        "# 2) Chunk the docs\n",
        "# -------------------------------\n",
        "splitter = RecursiveCharacterTextSplitter(chunk_size=200, chunk_overlap=30)\n",
        "chunks: List[Document] = splitter.split_documents(docs)\n"
      ],
      "metadata": {
        "id": "-Qg8ZysRMi2P"
      },
      "execution_count": 8,
      "outputs": []
    },
    {
      "cell_type": "code",
      "source": [
        "\n",
        "# -------------------------------\n",
        "# 3) Build embeddings + FAISS retriever (no API keys needed)\n",
        "# -------------------------------\n",
        "from google.colab import userdata\n",
        "hf_token = userdata.get(\"HF_TOKEN\")\n",
        "emb_model_name = \"sentence-transformers/all-MiniLM-L6-v2\"\n",
        "embedder = HuggingFaceEmbeddings(model_name=emb_model_name,model_kwargs={\"use_auth_token\": hf_token})\n",
        "vectordb = FAISS.from_documents(chunks, embedder)\n",
        "retriever = vectordb.as_retriever(search_kwargs={\"k\": 4})"
      ],
      "metadata": {
        "colab": {
          "base_uri": "https://localhost:8080/"
        },
        "id": "f2ir_dWgMnhR",
        "outputId": "d05d56e6-ae03-4a13-a7a7-2f1afc038e01"
      },
      "execution_count": 9,
      "outputs": [
        {
          "output_type": "stream",
          "name": "stderr",
          "text": [
            "/tmp/ipython-input-198452814.py:7: LangChainDeprecationWarning: The class `HuggingFaceEmbeddings` was deprecated in LangChain 0.2.2 and will be removed in 1.0. An updated version of the class exists in the `langchain-huggingface package and should be used instead. To use it run `pip install -U `langchain-huggingface` and import as `from `langchain_huggingface import HuggingFaceEmbeddings``.\n",
            "  embedder = HuggingFaceEmbeddings(model_name=emb_model_name,model_kwargs={\"use_auth_token\": hf_token})\n",
            "/usr/local/lib/python3.12/dist-packages/sentence_transformers/SentenceTransformer.py:204: FutureWarning: The `use_auth_token` argument is deprecated and will be removed in v4 of SentenceTransformers.\n",
            "  warnings.warn(\n"
          ]
        }
      ]
    },
    {
      "cell_type": "code",
      "source": [
        "\n",
        "\n",
        "# -------------------------------\n",
        "# 4) Choose an LLM to answer user questions\n",
        "# -------------------------------\n",
        "def get_answer_llm():\n",
        "    \"\"\"\n",
        "    Returns a LangChain ChatModel-like object with .invoke() support.\n",
        "    You can switch among Groq, Together, or a tiny local HF model.\n",
        "    \"\"\"\n",
        "    if USE_GROQ:\n",
        "        # e.g., GROQ_API_KEY env var set\n",
        "        return ChatGroq(model_name=\"llama-3.1-8b-instant\", temperature=0.2)\n",
        "    if USE_TOGETHER:\n",
        "        # e.g., TOGETHER_API_KEY env var set\n",
        "        return ChatTogether(model=\"meta-llama/Meta-Llama-3.1-8B-Instruct-Turbo\", temperature=0.2)\n",
        "\n",
        "    # Fallback: tiny local model (demo-quality only)\n",
        "    model_id = \"distilgpt2\"\n",
        "    tok = AutoTokenizer.from_pretrained(model_id)\n",
        "    mdl = AutoModelForCausalLM.from_pretrained(model_id)\n",
        "    mdl.eval()\n",
        "\n",
        "    class TinyLocal:\n",
        "        def invoke(self, messages, **kwargs):\n",
        "            # messages is list[{\"role\": \"user\"/\"system\"/\"assistant\", \"content\": \"...\"}]\n",
        "            prompt = messages[-1][\"content\"]\n",
        "            input_ids = tok.encode(prompt, return_tensors=\"pt\")\n",
        "            with torch.no_grad():\n",
        "                out = mdl.generate(input_ids, max_new_tokens=120, do_sample=False)\n",
        "            text = tok.decode(out[0], skip_special_tokens=True)\n",
        "            # Return last segment after the prompt\n",
        "            text = text[len(prompt):].strip()\n",
        "            return type(\"Resp\", (), {\"content\": text})\n",
        "    return TinyLocal()\n",
        "\n",
        "answer_llm = get_answer_llm()"
      ],
      "metadata": {
        "id": "BMn6opu9O4pz"
      },
      "execution_count": 14,
      "outputs": []
    },
    {
      "cell_type": "code",
      "source": [
        "\n",
        "\n",
        "# -------------------------------\n",
        "# 5) Define your evaluation set\n",
        "#    (question, ground_truth answer)\n",
        "# -------------------------------\n",
        "eval_items = [\n",
        "    {\n",
        "        \"question\": \"What is Ragas and what is it used for?\",\n",
        "        \"ground_truth\": \"Ragas is a library for evaluating RAG systems, providing metrics like faithfulness, context precision and recall.\"\n",
        "    },\n",
        "    {\n",
        "        \"question\": \"What library can I use for dense vector similarity search?\",\n",
        "        \"ground_truth\": \"FAISS is a library for efficient similarity search and clustering of dense vectors.\"\n",
        "    },\n",
        "    {\n",
        "        \"question\": \"How can I create sentence embeddings easily?\",\n",
        "        \"ground_truth\": \"Use SentenceTransformers to get sentence embeddings easily.\"\n",
        "    },\n",
        "]"
      ],
      "metadata": {
        "id": "CGlv0UkKPxzX"
      },
      "execution_count": 15,
      "outputs": []
    },
    {
      "cell_type": "code",
      "source": [
        "\n",
        "\n",
        "# -------------------------------\n",
        "# 6) Run RAG for each question:\n",
        "#    retrieve contexts → generate answer\n",
        "# -------------------------------\n",
        "def make_rag_answer(q: str) -> Dict:\n",
        "    ctx_docs = retriever.invoke(q)\n",
        "    context_texts = [d.page_content for d in ctx_docs]\n",
        "\n",
        "    # Simple prompt template\n",
        "    system = (\n",
        "        \"You are a helpful assistant. Use only the provided context when possible. \"\n",
        "        \"If the context is insufficient, say you are unsure.\"\n",
        "    )\n",
        "    user = f\"Question: {q}\\n\\nContext:\\n\" + \"\\n- \".join([\"\"] + context_texts) + \"\\n\\nAnswer clearly:\"\n",
        "\n",
        "    # LangChain ChatModels accept messages like below; TinyLocal wrapper also adheres\n",
        "    resp = answer_llm.invoke([\n",
        "        {\"role\": \"system\", \"content\": system},\n",
        "        {\"role\": \"user\", \"content\": user},\n",
        "    ])\n",
        "\n",
        "    answer_text = getattr(resp, \"content\", str(resp))\n",
        "    return {\n",
        "        \"question\": q,\n",
        "        \"contexts\": context_texts,\n",
        "        \"answer\": answer_text,\n",
        "    }\n",
        "\n",
        "pred_rows = []\n",
        "for item in eval_items:\n",
        "    out = make_rag_answer(item[\"question\"])\n",
        "    out[\"ground_truth\"] = item[\"ground_truth\"]\n",
        "    pred_rows.append(out)\n"
      ],
      "metadata": {
        "id": "nlTGupJuP1b3"
      },
      "execution_count": 16,
      "outputs": []
    },
    {
      "cell_type": "code",
      "source": [
        "\n",
        "# -------------------------------\n",
        "# 7) Build a Ragas Dataset\n",
        "# -------------------------------\n",
        "from datasets import Dataset\n",
        "\n",
        "dataset = Dataset.from_list(pred_rows)"
      ],
      "metadata": {
        "id": "KeZZktpqQZNI"
      },
      "execution_count": 18,
      "outputs": []
    },
    {
      "cell_type": "code",
      "source": [
        "\n",
        "\n",
        "# -------------------------------\n",
        "# 8) Pick metrics (use as many as applicable)\n",
        "# -------------------------------\n",
        "metrics = [\n",
        "    answer_relevancy,   # needs question + answer\n",
        "    faithfulness,       # needs contexts + answer\n",
        "    context_precision,  # needs contexts + question + answer\n",
        "    context_recall,     # needs contexts + ground_truth + question\n",
        "    answer_correctness  # needs ground_truth + answer\n",
        "]\n"
      ],
      "metadata": {
        "id": "TBiytFXAQujv"
      },
      "execution_count": 19,
      "outputs": []
    },
    {
      "cell_type": "code",
      "source": [
        "\n",
        "# -------------------------------\n",
        "# 9) Provide LLM & Embeddings for Ragas itself\n",
        "#    (judge-style checks + semantic bits)\n",
        "#    - You can pass the same embedder\n",
        "#    - For LLM, Ragas supports LangChain chat models OR OpenAI-compatible ones\n",
        "# -------------------------------\n",
        "# For embeddings inside evaluation (semantic comparisons):\n",
        "ragas_embeddings = HuggingFaceEmbeddings(model_name=emb_model_name,model_kwargs={\"use_auth_token\": hf_token})\n",
        "\n",
        "\n",
        "# For the evaluator LLM:\n",
        "# - If you have Groq/Together keys, re-use `answer_llm`.\n",
        "# - Otherwise, Ragas can work with local judge too, but large local judges are slower.\n",
        "ragas_llm = answer_llm   # good enough for demo; you can use a different (stronger) judge model"
      ],
      "metadata": {
        "colab": {
          "base_uri": "https://localhost:8080/"
        },
        "id": "KwScMDXwQyFn",
        "outputId": "64ca92b2-7dbd-4b17-e0e4-203df4d59e52"
      },
      "execution_count": 22,
      "outputs": [
        {
          "output_type": "stream",
          "name": "stderr",
          "text": [
            "/usr/local/lib/python3.12/dist-packages/sentence_transformers/SentenceTransformer.py:204: FutureWarning: The `use_auth_token` argument is deprecated and will be removed in v4 of SentenceTransformers.\n",
            "  warnings.warn(\n"
          ]
        }
      ]
    },
    {
      "cell_type": "code",
      "source": [
        "\n",
        "\n",
        "\n",
        "# -------------------------------\n",
        "# 10) Run evaluation\n",
        "# -------------------------------\n",
        "print(\"Running Ragas evaluation...\")\n",
        "run_cfg = RunConfig(\n",
        "    timeout=120,      # per task\n",
        "    max_retries=5,    # retry transient provider failures\n",
        "    max_wait=30,      # backoff upper bound\n",
        "    max_workers=2     # keep parallelism modest to avoid rate/timeouts\n",
        ")\n",
        "\n",
        "result = evaluate(\n",
        "    dataset=dataset,\n",
        "    metrics=metrics,\n",
        "    llm=ragas_llm,            # the model configured with n=1 above\n",
        "    embeddings=ragas_embeddings,\n",
        "    run_config=run_cfg,\n",
        "    raise_exceptions=False,   # keep going; failed rows get NaN\n",
        ")\n"
      ],
      "metadata": {
        "colab": {
          "base_uri": "https://localhost:8080/",
          "height": 156,
          "referenced_widgets": [
            "f58b5a587d2142beacbfaf24150618cb",
            "7dc49e36338048a5b9ee7aceea0ea662",
            "89c4f8cf90a3449e9072e9c3a1e2faee",
            "f3e099da782245b4b64852f6458a45d4",
            "4d7a4fabd758489a9c3fb8b3a9451369",
            "45d96bac1a30491bb090b451307bb220",
            "5e53d10d29764fb9a987ab7744a64eac",
            "f5f8b6ed71344a52a91428d623a96865",
            "b82781d4d66f4b99ac78b58e19b15d22",
            "5cc888cbe6dc460eb9b23966fda68ff9",
            "cde991da16964eef9273d0a281d5fe4f"
          ]
        },
        "id": "kZTsiM0CQ1LL",
        "outputId": "90217948-9c60-4c13-c62b-f2318e0e1a3e"
      },
      "execution_count": 27,
      "outputs": [
        {
          "output_type": "stream",
          "name": "stdout",
          "text": [
            "Running Ragas evaluation...\n"
          ]
        },
        {
          "output_type": "display_data",
          "data": {
            "text/plain": [
              "Evaluating:   0%|          | 0/15 [00:00<?, ?it/s]"
            ],
            "application/vnd.jupyter.widget-view+json": {
              "version_major": 2,
              "version_minor": 0,
              "model_id": "f58b5a587d2142beacbfaf24150618cb"
            }
          },
          "metadata": {}
        },
        {
          "output_type": "stream",
          "name": "stderr",
          "text": [
            "WARNING:ragas.prompt.pydantic_prompt:LLM returned 1 generations instead of requested 3. Proceeding with 1 generations.\n",
            "ERROR:ragas.executor:Exception raised in Job[5]: BadRequestError(Error code: 400 - {'error': {'message': \"'n' : number must be at most 1\", 'type': 'invalid_request_error'}})\n",
            "ERROR:ragas.executor:Exception raised in Job[10]: BadRequestError(Error code: 400 - {'error': {'message': \"'n' : number must be at most 1\", 'type': 'invalid_request_error'}})\n",
            "ERROR:ragas.executor:Exception raised in Job[4]: RateLimitError(Error code: 429 - {'error': {'message': 'Rate limit reached for model `llama-3.1-8b-instant` in organization `org_01jrrfz4a2erps800d1fa9e94j` service tier `on_demand` on tokens per minute (TPM): Limit 6000, Used 5537, Requested 1264. Please try again in 8.01s. Need more tokens? Upgrade to Dev Tier today at https://console.groq.com/settings/billing', 'type': 'tokens', 'code': 'rate_limit_exceeded'}})\n"
          ]
        }
      ]
    },
    {
      "cell_type": "code",
      "execution_count": 28,
      "metadata": {
        "colab": {
          "base_uri": "https://localhost:8080/"
        },
        "id": "9zXHVqVPLE8q",
        "outputId": "88c4c8c8-efcd-4950-f145-5cb365fdc4f3"
      },
      "outputs": [
        {
          "output_type": "stream",
          "name": "stdout",
          "text": [
            "\n",
            "=== Per-sample scores ===\n",
            "                                          user_input  \\\n",
            "0             What is Ragas and what is it used for?   \n",
            "1  What library can I use for dense vector simila...   \n",
            "2       How can I create sentence embeddings easily?   \n",
            "\n",
            "                                  retrieved_contexts  \\\n",
            "0  [Ragas is a library that provides evaluation m...   \n",
            "1  [FAISS is a library for efficient similarity s...   \n",
            "2  [SentenceTransformers provides easy-to-use sen...   \n",
            "\n",
            "                                            response  \\\n",
            "0  Ragas is a library that provides evaluation me...   \n",
            "1  You can use FAISS for dense vector similarity ...   \n",
            "2  To create sentence embeddings easily, you can ...   \n",
            "\n",
            "                                           reference  answer_relevancy  \\\n",
            "0  Ragas is a library for evaluating RAG systems,...          0.982846   \n",
            "1  FAISS is a library for efficient similarity se...               NaN   \n",
            "2  Use SentenceTransformers to get sentence embed...               NaN   \n",
            "\n",
            "   faithfulness  context_precision  context_recall  answer_correctness  \n",
            "0      0.750000                1.0             1.0                 NaN  \n",
            "1      1.000000                1.0             1.0            0.590425  \n",
            "2      0.333333                1.0             1.0            0.525177  \n",
            "\n",
            "=== Aggregates (mean) ===\n",
            "      answer_relevancy  faithfulness  context_precision  context_recall  \\\n",
            "mean          0.982846      0.694444                1.0             1.0   \n",
            "\n",
            "      answer_correctness  \n",
            "mean            0.557801  \n",
            "\n",
            "Saved: ragas_per_sample.csv, ragas_aggregate.csv\n"
          ]
        }
      ],
      "source": [
        "\n",
        "# -------------------------------\n",
        "# 11) Show results (per-sample + aggregates)\n",
        "# -------------------------------\n",
        "df = result.to_pandas()           # per-row metric scores\n",
        "agg = (\n",
        "    df.select_dtypes(include=[\"number\"])\n",
        "      .mean(numeric_only=True)\n",
        "      .to_frame(name=\"mean\")\n",
        "      .T\n",
        ")\n",
        "print(\"\\n=== Per-sample scores ===\")\n",
        "print(df)\n",
        "\n",
        "print(\"\\n=== Aggregates (mean) ===\")\n",
        "print(agg)\n",
        "\n",
        "# Optional: save for reporting\n",
        "df.to_csv(\"ragas_per_sample.csv\", index=False)\n",
        "agg.to_csv(\"ragas_aggregate.csv\", index=False)\n",
        "print(\"\\nSaved: ragas_per_sample.csv, ragas_aggregate.csv\")\n"
      ]
    }
  ]
}
