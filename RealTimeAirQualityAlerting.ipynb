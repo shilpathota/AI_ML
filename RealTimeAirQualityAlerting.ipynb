{
  "nbformat": 4,
  "nbformat_minor": 0,
  "metadata": {
    "colab": {
      "provenance": [],
      "gpuType": "T4",
      "authorship_tag": "ABX9TyO9L3DGAszFW3HLaBk9nza8",
      "include_colab_link": true
    },
    "kernelspec": {
      "name": "python3",
      "display_name": "Python 3"
    },
    "language_info": {
      "name": "python"
    },
    "accelerator": "GPU",
    "widgets": {

        },
  "cells": [
    {
      "cell_type": "markdown",
      "metadata": {
        "id": "view-in-github",
        "colab_type": "text"
      },
      "source": [
        "<a href=\"https://colab.research.google.com/github/shilpathota/AI_ML/blob/master/RealTimeAirQualityAlerting.ipynb\" target=\"_parent\"><img src=\"https://colab.research.google.com/assets/colab-badge.svg\" alt=\"Open In Colab\"/></a>"
      ]
    },
    {
      "cell_type": "markdown",
      "source": [],
      "metadata": {
        "id": "7YJM6oRATJaT"
      }
    },
    {
      "cell_type": "code",
      "execution_count": 1,
      "metadata": {
        "colab": {
          "base_uri": "https://localhost:8080/"
        },
        "id": "w9sHxBJ0TIYE",
        "outputId": "80e10c87-291d-4b73-a1de-6c4704b4952e"
      },
      "outputs": [
        {
          "output_type": "stream",
          "name": "stdout",
          "text": [
            "\u001b[2K   \u001b[90m━━━━━━━━━━━━━━━━━━━━━━━━━━━━━━━━━━━━━━━━\u001b[0m \u001b[32m363.4/363.4 MB\u001b[0m \u001b[31m3.7 MB/s\u001b[0m eta \u001b[36m0:00:00\u001b[0m\n",
            "\u001b[2K   \u001b[90m━━━━━━━━━━━━━━━━━━━━━━━━━━━━━━━━━━━━━━━━\u001b[0m \u001b[32m13.8/13.8 MB\u001b[0m \u001b[31m114.5 MB/s\u001b[0m eta \u001b[36m0:00:00\u001b[0m\n",
            "\u001b[2K   \u001b[90m━━━━━━━━━━━━━━━━━━━━━━━━━━━━━━━━━━━━━━━━\u001b[0m \u001b[32m24.6/24.6 MB\u001b[0m \u001b[31m87.6 MB/s\u001b[0m eta \u001b[36m0:00:00\u001b[0m\n",
            "\u001b[2K   \u001b[90m━━━━━━━━━━━━━━━━━━━━━━━━━━━━━━━━━━━━━━━━\u001b[0m \u001b[32m883.7/883.7 kB\u001b[0m \u001b[31m48.3 MB/s\u001b[0m eta \u001b[36m0:00:00\u001b[0m\n",
            "\u001b[2K   \u001b[90m━━━━━━━━━━━━━━━━━━━━━━━━━━━━━━━━━━━━━━━━\u001b[0m \u001b[32m664.8/664.8 MB\u001b[0m \u001b[31m1.8 MB/s\u001b[0m eta \u001b[36m0:00:00\u001b[0m\n",
            "\u001b[2K   \u001b[90m━━━━━━━━━━━━━━━━━━━━━━━━━━━━━━━━━━━━━━━━\u001b[0m \u001b[32m211.5/211.5 MB\u001b[0m \u001b[31m5.5 MB/s\u001b[0m eta \u001b[36m0:00:00\u001b[0m\n",
            "\u001b[2K   \u001b[90m━━━━━━━━━━━━━━━━━━━━━━━━━━━━━━━━━━━━━━━━\u001b[0m \u001b[32m56.3/56.3 MB\u001b[0m \u001b[31m12.3 MB/s\u001b[0m eta \u001b[36m0:00:00\u001b[0m\n",
            "\u001b[2K   \u001b[90m━━━━━━━━━━━━━━━━━━━━━━━━━━━━━━━━━━━━━━━━\u001b[0m \u001b[32m127.9/127.9 MB\u001b[0m \u001b[31m5.5 MB/s\u001b[0m eta \u001b[36m0:00:00\u001b[0m\n",
            "\u001b[2K   \u001b[90m━━━━━━━━━━━━━━━━━━━━━━━━━━━━━━━━━━━━━━━━\u001b[0m \u001b[32m207.5/207.5 MB\u001b[0m \u001b[31m7.0 MB/s\u001b[0m eta \u001b[36m0:00:00\u001b[0m\n",
            "\u001b[2K   \u001b[90m━━━━━━━━━━━━━━━━━━━━━━━━━━━━━━━━━━━━━━━━\u001b[0m \u001b[32m188.7/188.7 MB\u001b[0m \u001b[31m7.3 MB/s\u001b[0m eta \u001b[36m0:00:00\u001b[0m\n",
            "\u001b[2K   \u001b[90m━━━━━━━━━━━━━━━━━━━━━━━━━━━━━━━━━━━━━━━━\u001b[0m \u001b[32m21.1/21.1 MB\u001b[0m \u001b[31m68.6 MB/s\u001b[0m eta \u001b[36m0:00:00\u001b[0m\n",
            "\u001b[?25h"
          ]
        }
      ],
      "source": [
        "!pip -q install pyspark transformers accelerate datasets sentencepiece"
      ]
    },
    {
      "cell_type": "code",
      "source": [
        "!pip install -U transformers kernels torch"
      ],
      "metadata": {
        "colab": {
          "base_uri": "https://localhost:8080/"
        },
        "id": "uOQRA3naVOPN",
        "outputId": "7bf23078-51f7-48e9-d4ca-2878e916e788"
      },
      "execution_count": 2,
      "outputs": [
        {
          "output_type": "stream",
          "name": "stdout",
          "text": [
            "Requirement already satisfied: transformers in /usr/local/lib/python3.11/dist-packages (4.55.0)\n",
            "Collecting kernels\n",
            "  Downloading kernels-0.9.0-py3-none-any.whl.metadata (3.3 kB)\n",
            "Requirement already satisfied: torch in /usr/local/lib/python3.11/dist-packages (2.6.0+cu124)\n",
            "Collecting torch\n",
            "  Downloading torch-2.8.0-cp311-cp311-manylinux_2_28_x86_64.whl.metadata (30 kB)\n",
            "Requirement already satisfied: filelock in /usr/local/lib/python3.11/dist-packages (from transformers) (3.18.0)\n",
            "Requirement already satisfied: huggingface-hub<1.0,>=0.34.0 in /usr/local/lib/python3.11/dist-packages (from transformers) (0.34.3)\n",
            "Requirement already satisfied: numpy>=1.17 in /usr/local/lib/python3.11/dist-packages (from transformers) (2.0.2)\n",
            "Requirement already satisfied: packaging>=20.0 in /usr/local/lib/python3.11/dist-packages (from transformers) (25.0)\n",
            "Requirement already satisfied: pyyaml>=5.1 in /usr/local/lib/python3.11/dist-packages (from transformers) (6.0.2)\n",
            "Requirement already satisfied: regex!=2019.12.17 in /usr/local/lib/python3.11/dist-packages (from transformers) (2024.11.6)\n",
            "Requirement already satisfied: requests in /usr/local/lib/python3.11/dist-packages (from transformers) (2.32.3)\n",
            "Requirement already satisfied: tokenizers<0.22,>=0.21 in /usr/local/lib/python3.11/dist-packages (from transformers) (0.21.4)\n",
            "Requirement already satisfied: safetensors>=0.4.3 in /usr/local/lib/python3.11/dist-packages (from transformers) (0.6.1)\n",
            "Requirement already satisfied: tqdm>=4.27 in /usr/local/lib/python3.11/dist-packages (from transformers) (4.67.1)\n",
            "Requirement already satisfied: typing-extensions>=4.10.0 in /usr/local/lib/python3.11/dist-packages (from torch) (4.14.1)\n",
            "Collecting sympy>=1.13.3 (from torch)\n",
            "  Downloading sympy-1.14.0-py3-none-any.whl.metadata (12 kB)\n",
            "Requirement already satisfied: networkx in /usr/local/lib/python3.11/dist-packages (from torch) (3.5)\n",
            "Requirement already satisfied: jinja2 in /usr/local/lib/python3.11/dist-packages (from torch) (3.1.6)\n",
            "Requirement already satisfied: fsspec in /usr/local/lib/python3.11/dist-packages (from torch) (2025.3.0)\n",
            "Collecting nvidia-cuda-nvrtc-cu12==12.8.93 (from torch)\n",
            "  Downloading nvidia_cuda_nvrtc_cu12-12.8.93-py3-none-manylinux2010_x86_64.manylinux_2_12_x86_64.whl.metadata (1.7 kB)\n",
            "Collecting nvidia-cuda-runtime-cu12==12.8.90 (from torch)\n",
            "  Downloading nvidia_cuda_runtime_cu12-12.8.90-py3-none-manylinux2014_x86_64.manylinux_2_17_x86_64.whl.metadata (1.7 kB)\n",
            "Collecting nvidia-cuda-cupti-cu12==12.8.90 (from torch)\n",
            "  Downloading nvidia_cuda_cupti_cu12-12.8.90-py3-none-manylinux2014_x86_64.manylinux_2_17_x86_64.whl.metadata (1.7 kB)\n",
            "Collecting nvidia-cudnn-cu12==9.10.2.21 (from torch)\n",
            "  Downloading nvidia_cudnn_cu12-9.10.2.21-py3-none-manylinux_2_27_x86_64.whl.metadata (1.8 kB)\n",
            "Collecting nvidia-cublas-cu12==12.8.4.1 (from torch)\n",
            "  Downloading nvidia_cublas_cu12-12.8.4.1-py3-none-manylinux_2_27_x86_64.whl.metadata (1.7 kB)\n",
            "Collecting nvidia-cufft-cu12==11.3.3.83 (from torch)\n",
            "  Downloading nvidia_cufft_cu12-11.3.3.83-py3-none-manylinux2014_x86_64.manylinux_2_17_x86_64.whl.metadata (1.7 kB)\n",
            "Collecting nvidia-curand-cu12==10.3.9.90 (from torch)\n",
            "  Downloading nvidia_curand_cu12-10.3.9.90-py3-none-manylinux_2_27_x86_64.whl.metadata (1.7 kB)\n",
            "Collecting nvidia-cusolver-cu12==11.7.3.90 (from torch)\n",
            "  Downloading nvidia_cusolver_cu12-11.7.3.90-py3-none-manylinux_2_27_x86_64.whl.metadata (1.8 kB)\n",
            "Collecting nvidia-cusparse-cu12==12.5.8.93 (from torch)\n",
            "  Downloading nvidia_cusparse_cu12-12.5.8.93-py3-none-manylinux2014_x86_64.manylinux_2_17_x86_64.whl.metadata (1.8 kB)\n",
            "Collecting nvidia-cusparselt-cu12==0.7.1 (from torch)\n",
            "  Downloading nvidia_cusparselt_cu12-0.7.1-py3-none-manylinux2014_x86_64.whl.metadata (7.0 kB)\n",
            "Collecting nvidia-nccl-cu12==2.27.3 (from torch)\n",
            "  Downloading nvidia_nccl_cu12-2.27.3-py3-none-manylinux2014_x86_64.manylinux_2_17_x86_64.whl.metadata (2.0 kB)\n",
            "Collecting nvidia-nvtx-cu12==12.8.90 (from torch)\n",
            "  Downloading nvidia_nvtx_cu12-12.8.90-py3-none-manylinux2014_x86_64.manylinux_2_17_x86_64.whl.metadata (1.8 kB)\n",
            "Collecting nvidia-nvjitlink-cu12==12.8.93 (from torch)\n",
            "  Downloading nvidia_nvjitlink_cu12-12.8.93-py3-none-manylinux2010_x86_64.manylinux_2_12_x86_64.whl.metadata (1.7 kB)\n",
            "Collecting nvidia-cufile-cu12==1.13.1.3 (from torch)\n",
            "  Downloading nvidia_cufile_cu12-1.13.1.3-py3-none-manylinux2014_x86_64.manylinux_2_17_x86_64.whl.metadata (1.7 kB)\n",
            "Collecting triton==3.4.0 (from torch)\n",
            "  Downloading triton-3.4.0-cp311-cp311-manylinux_2_27_x86_64.manylinux_2_28_x86_64.whl.metadata (1.7 kB)\n",
            "Requirement already satisfied: setuptools>=40.8.0 in /usr/local/lib/python3.11/dist-packages (from triton==3.4.0->torch) (75.2.0)\n",
            "Requirement already satisfied: hf-xet<2.0.0,>=1.1.3 in /usr/local/lib/python3.11/dist-packages (from huggingface-hub<1.0,>=0.34.0->transformers) (1.1.7)\n",
            "Requirement already satisfied: mpmath<1.4,>=1.1.0 in /usr/local/lib/python3.11/dist-packages (from sympy>=1.13.3->torch) (1.3.0)\n",
            "Requirement already satisfied: MarkupSafe>=2.0 in /usr/local/lib/python3.11/dist-packages (from jinja2->torch) (3.0.2)\n",
            "Requirement already satisfied: charset-normalizer<4,>=2 in /usr/local/lib/python3.11/dist-packages (from requests->transformers) (3.4.2)\n",
            "Requirement already satisfied: idna<4,>=2.5 in /usr/local/lib/python3.11/dist-packages (from requests->transformers) (3.10)\n",
            "Requirement already satisfied: urllib3<3,>=1.21.1 in /usr/local/lib/python3.11/dist-packages (from requests->transformers) (2.5.0)\n",
            "Requirement already satisfied: certifi>=2017.4.17 in /usr/local/lib/python3.11/dist-packages (from requests->transformers) (2025.8.3)\n",
            "Downloading kernels-0.9.0-py3-none-any.whl (37 kB)\n",
            "Downloading torch-2.8.0-cp311-cp311-manylinux_2_28_x86_64.whl (888.1 MB)\n",
            "\u001b[2K   \u001b[90m━━━━━━━━━━━━━━━━━━━━━━━━━━━━━━━━━━━━━━━━\u001b[0m \u001b[32m888.1/888.1 MB\u001b[0m \u001b[31m1.7 MB/s\u001b[0m eta \u001b[36m0:00:00\u001b[0m\n",
            "\u001b[?25hDownloading nvidia_cublas_cu12-12.8.4.1-py3-none-manylinux_2_27_x86_64.whl (594.3 MB)\n",
            "\u001b[2K   \u001b[90m━━━━━━━━━━━━━━━━━━━━━━━━━━━━━━━━━━━━━━━━\u001b[0m \u001b[32m594.3/594.3 MB\u001b[0m \u001b[31m3.0 MB/s\u001b[0m eta \u001b[36m0:00:00\u001b[0m\n",
            "\u001b[?25hDownloading nvidia_cuda_cupti_cu12-12.8.90-py3-none-manylinux2014_x86_64.manylinux_2_17_x86_64.whl (10.2 MB)\n",
            "\u001b[2K   \u001b[90m━━━━━━━━━━━━━━━━━━━━━━━━━━━━━━━━━━━━━━━━\u001b[0m \u001b[32m10.2/10.2 MB\u001b[0m \u001b[31m76.1 MB/s\u001b[0m eta \u001b[36m0:00:00\u001b[0m\n",
            "\u001b[?25hDownloading nvidia_cuda_nvrtc_cu12-12.8.93-py3-none-manylinux2010_x86_64.manylinux_2_12_x86_64.whl (88.0 MB)\n",
            "\u001b[2K   \u001b[90m━━━━━━━━━━━━━━━━━━━━━━━━━━━━━━━━━━━━━━━━\u001b[0m \u001b[32m88.0/88.0 MB\u001b[0m \u001b[31m9.6 MB/s\u001b[0m eta \u001b[36m0:00:00\u001b[0m\n",
            "\u001b[?25hDownloading nvidia_cuda_runtime_cu12-12.8.90-py3-none-manylinux2014_x86_64.manylinux_2_17_x86_64.whl (954 kB)\n",
            "\u001b[2K   \u001b[90m━━━━━━━━━━━━━━━━━━━━━━━━━━━━━━━━━━━━━━━━\u001b[0m \u001b[32m954.8/954.8 kB\u001b[0m \u001b[31m47.2 MB/s\u001b[0m eta \u001b[36m0:00:00\u001b[0m\n",
            "\u001b[?25hDownloading nvidia_cudnn_cu12-9.10.2.21-py3-none-manylinux_2_27_x86_64.whl (706.8 MB)\n",
            "\u001b[2K   \u001b[90m━━━━━━━━━━━━━━━━━━━━━━━━━━━━━━━━━━━━━━━━\u001b[0m \u001b[32m706.8/706.8 MB\u001b[0m \u001b[31m1.4 MB/s\u001b[0m eta \u001b[36m0:00:00\u001b[0m\n",
            "\u001b[?25hDownloading nvidia_cufft_cu12-11.3.3.83-py3-none-manylinux2014_x86_64.manylinux_2_17_x86_64.whl (193.1 MB)\n",
            "\u001b[2K   \u001b[90m━━━━━━━━━━━━━━━━━━━━━━━━━━━━━━━━━━━━━━━━\u001b[0m \u001b[32m193.1/193.1 MB\u001b[0m \u001b[31m6.3 MB/s\u001b[0m eta \u001b[36m0:00:00\u001b[0m\n",
            "\u001b[?25hDownloading nvidia_cufile_cu12-1.13.1.3-py3-none-manylinux2014_x86_64.manylinux_2_17_x86_64.whl (1.2 MB)\n",
            "\u001b[2K   \u001b[90m━━━━━━━━━━━━━━━━━━━━━━━━━━━━━━━━━━━━━━━━\u001b[0m \u001b[32m1.2/1.2 MB\u001b[0m \u001b[31m48.2 MB/s\u001b[0m eta \u001b[36m0:00:00\u001b[0m\n",
            "\u001b[?25hDownloading nvidia_curand_cu12-10.3.9.90-py3-none-manylinux_2_27_x86_64.whl (63.6 MB)\n",
            "\u001b[2K   \u001b[90m━━━━━━━━━━━━━━━━━━━━━━━━━━━━━━━━━━━━━━━━\u001b[0m \u001b[32m63.6/63.6 MB\u001b[0m \u001b[31m13.6 MB/s\u001b[0m eta \u001b[36m0:00:00\u001b[0m\n",
            "\u001b[?25hDownloading nvidia_cusolver_cu12-11.7.3.90-py3-none-manylinux_2_27_x86_64.whl (267.5 MB)\n",
            "\u001b[2K   \u001b[90m━━━━━━━━━━━━━━━━━━━━━━━━━━━━━━━━━━━━━━━━\u001b[0m \u001b[32m267.5/267.5 MB\u001b[0m \u001b[31m5.4 MB/s\u001b[0m eta \u001b[36m0:00:00\u001b[0m\n",
            "\u001b[?25hDownloading nvidia_cusparse_cu12-12.5.8.93-py3-none-manylinux2014_x86_64.manylinux_2_17_x86_64.whl (288.2 MB)\n",
            "\u001b[2K   \u001b[90m━━━━━━━━━━━━━━━━━━━━━━━━━━━━━━━━━━━━━━━━\u001b[0m \u001b[32m288.2/288.2 MB\u001b[0m \u001b[31m4.9 MB/s\u001b[0m eta \u001b[36m0:00:00\u001b[0m\n",
            "\u001b[?25hDownloading nvidia_cusparselt_cu12-0.7.1-py3-none-manylinux2014_x86_64.whl (287.2 MB)\n",
            "\u001b[2K   \u001b[90m━━━━━━━━━━━━━━━━━━━━━━━━━━━━━━━━━━━━━━━━\u001b[0m \u001b[32m287.2/287.2 MB\u001b[0m \u001b[31m3.6 MB/s\u001b[0m eta \u001b[36m0:00:00\u001b[0m\n",
            "\u001b[?25hDownloading nvidia_nccl_cu12-2.27.3-py3-none-manylinux2014_x86_64.manylinux_2_17_x86_64.whl (322.4 MB)\n",
            "\u001b[2K   \u001b[90m━━━━━━━━━━━━━━━━━━━━━━━━━━━━━━━━━━━━━━━━\u001b[0m \u001b[32m322.4/322.4 MB\u001b[0m \u001b[31m4.7 MB/s\u001b[0m eta \u001b[36m0:00:00\u001b[0m\n",
            "\u001b[?25hDownloading nvidia_nvjitlink_cu12-12.8.93-py3-none-manylinux2010_x86_64.manylinux_2_12_x86_64.whl (39.3 MB)\n",
            "\u001b[2K   \u001b[90m━━━━━━━━━━━━━━━━━━━━━━━━━━━━━━━━━━━━━━━━\u001b[0m \u001b[32m39.3/39.3 MB\u001b[0m \u001b[31m22.4 MB/s\u001b[0m eta \u001b[36m0:00:00\u001b[0m\n",
            "\u001b[?25hDownloading nvidia_nvtx_cu12-12.8.90-py3-none-manylinux2014_x86_64.manylinux_2_17_x86_64.whl (89 kB)\n",
            "\u001b[2K   \u001b[90m━━━━━━━━━━━━━━━━━━━━━━━━━━━━━━━━━━━━━━━━\u001b[0m \u001b[32m90.0/90.0 kB\u001b[0m \u001b[31m8.1 MB/s\u001b[0m eta \u001b[36m0:00:00\u001b[0m\n",
            "\u001b[?25hDownloading triton-3.4.0-cp311-cp311-manylinux_2_27_x86_64.manylinux_2_28_x86_64.whl (155.5 MB)\n",
            "\u001b[2K   \u001b[90m━━━━━━━━━━━━━━━━━━━━━━━━━━━━━━━━━━━━━━━━\u001b[0m \u001b[32m155.5/155.5 MB\u001b[0m \u001b[31m8.0 MB/s\u001b[0m eta \u001b[36m0:00:00\u001b[0m\n",
            "\u001b[?25hDownloading sympy-1.14.0-py3-none-any.whl (6.3 MB)\n",
            "\u001b[2K   \u001b[90m━━━━━━━━━━━━━━━━━━━━━━━━━━━━━━━━━━━━━━━━\u001b[0m \u001b[32m6.3/6.3 MB\u001b[0m \u001b[31m115.6 MB/s\u001b[0m eta \u001b[36m0:00:00\u001b[0m\n",
            "\u001b[?25hInstalling collected packages: nvidia-cusparselt-cu12, triton, sympy, nvidia-nvtx-cu12, nvidia-nvjitlink-cu12, nvidia-nccl-cu12, nvidia-curand-cu12, nvidia-cufile-cu12, nvidia-cuda-runtime-cu12, nvidia-cuda-nvrtc-cu12, nvidia-cuda-cupti-cu12, nvidia-cublas-cu12, nvidia-cusparse-cu12, nvidia-cufft-cu12, nvidia-cudnn-cu12, nvidia-cusolver-cu12, kernels, torch\n",
            "  Attempting uninstall: nvidia-cusparselt-cu12\n",
            "    Found existing installation: nvidia-cusparselt-cu12 0.6.2\n",
            "    Uninstalling nvidia-cusparselt-cu12-0.6.2:\n",
            "      Successfully uninstalled nvidia-cusparselt-cu12-0.6.2\n",
            "  Attempting uninstall: triton\n",
            "    Found existing installation: triton 3.2.0\n",
            "    Uninstalling triton-3.2.0:\n",
            "      Successfully uninstalled triton-3.2.0\n",
            "  Attempting uninstall: sympy\n",
            "    Found existing installation: sympy 1.13.1\n",
            "    Uninstalling sympy-1.13.1:\n",
            "      Successfully uninstalled sympy-1.13.1\n",
            "  Attempting uninstall: nvidia-nvtx-cu12\n",
            "    Found existing installation: nvidia-nvtx-cu12 12.4.127\n",
            "    Uninstalling nvidia-nvtx-cu12-12.4.127:\n",
            "      Successfully uninstalled nvidia-nvtx-cu12-12.4.127\n",
            "  Attempting uninstall: nvidia-nvjitlink-cu12\n",
            "    Found existing installation: nvidia-nvjitlink-cu12 12.4.127\n",
            "    Uninstalling nvidia-nvjitlink-cu12-12.4.127:\n",
            "      Successfully uninstalled nvidia-nvjitlink-cu12-12.4.127\n",
            "  Attempting uninstall: nvidia-nccl-cu12\n",
            "    Found existing installation: nvidia-nccl-cu12 2.21.5\n",
            "    Uninstalling nvidia-nccl-cu12-2.21.5:\n",
            "      Successfully uninstalled nvidia-nccl-cu12-2.21.5\n",
            "  Attempting uninstall: nvidia-curand-cu12\n",
            "    Found existing installation: nvidia-curand-cu12 10.3.5.147\n",
            "    Uninstalling nvidia-curand-cu12-10.3.5.147:\n",
            "      Successfully uninstalled nvidia-curand-cu12-10.3.5.147\n",
            "  Attempting uninstall: nvidia-cuda-runtime-cu12\n",
            "    Found existing installation: nvidia-cuda-runtime-cu12 12.4.127\n",
            "    Uninstalling nvidia-cuda-runtime-cu12-12.4.127:\n",
            "      Successfully uninstalled nvidia-cuda-runtime-cu12-12.4.127\n",
            "  Attempting uninstall: nvidia-cuda-nvrtc-cu12\n",
            "    Found existing installation: nvidia-cuda-nvrtc-cu12 12.4.127\n",
            "    Uninstalling nvidia-cuda-nvrtc-cu12-12.4.127:\n",
            "      Successfully uninstalled nvidia-cuda-nvrtc-cu12-12.4.127\n",
            "  Attempting uninstall: nvidia-cuda-cupti-cu12\n",
            "    Found existing installation: nvidia-cuda-cupti-cu12 12.4.127\n",
            "    Uninstalling nvidia-cuda-cupti-cu12-12.4.127:\n",
            "      Successfully uninstalled nvidia-cuda-cupti-cu12-12.4.127\n",
            "  Attempting uninstall: nvidia-cublas-cu12\n",
            "    Found existing installation: nvidia-cublas-cu12 12.4.5.8\n",
            "    Uninstalling nvidia-cublas-cu12-12.4.5.8:\n",
            "      Successfully uninstalled nvidia-cublas-cu12-12.4.5.8\n",
            "  Attempting uninstall: nvidia-cusparse-cu12\n",
            "    Found existing installation: nvidia-cusparse-cu12 12.3.1.170\n",
            "    Uninstalling nvidia-cusparse-cu12-12.3.1.170:\n",
            "      Successfully uninstalled nvidia-cusparse-cu12-12.3.1.170\n",
            "  Attempting uninstall: nvidia-cufft-cu12\n",
            "    Found existing installation: nvidia-cufft-cu12 11.2.1.3\n",
            "    Uninstalling nvidia-cufft-cu12-11.2.1.3:\n",
            "      Successfully uninstalled nvidia-cufft-cu12-11.2.1.3\n",
            "  Attempting uninstall: nvidia-cudnn-cu12\n",
            "    Found existing installation: nvidia-cudnn-cu12 9.1.0.70\n",
            "    Uninstalling nvidia-cudnn-cu12-9.1.0.70:\n",
            "      Successfully uninstalled nvidia-cudnn-cu12-9.1.0.70\n",
            "  Attempting uninstall: nvidia-cusolver-cu12\n",
            "    Found existing installation: nvidia-cusolver-cu12 11.6.1.9\n",
            "    Uninstalling nvidia-cusolver-cu12-11.6.1.9:\n",
            "      Successfully uninstalled nvidia-cusolver-cu12-11.6.1.9\n",
            "  Attempting uninstall: torch\n",
            "    Found existing installation: torch 2.6.0+cu124\n",
            "    Uninstalling torch-2.6.0+cu124:\n",
            "      Successfully uninstalled torch-2.6.0+cu124\n",
            "\u001b[31mERROR: pip's dependency resolver does not currently take into account all the packages that are installed. This behaviour is the source of the following dependency conflicts.\n",
            "torchvision 0.21.0+cu124 requires torch==2.6.0, but you have torch 2.8.0 which is incompatible.\n",
            "torchaudio 2.6.0+cu124 requires torch==2.6.0, but you have torch 2.8.0 which is incompatible.\n",
            "fastai 2.7.19 requires torch<2.7,>=1.10, but you have torch 2.8.0 which is incompatible.\u001b[0m\u001b[31m\n",
            "\u001b[0mSuccessfully installed kernels-0.9.0 nvidia-cublas-cu12-12.8.4.1 nvidia-cuda-cupti-cu12-12.8.90 nvidia-cuda-nvrtc-cu12-12.8.93 nvidia-cuda-runtime-cu12-12.8.90 nvidia-cudnn-cu12-9.10.2.21 nvidia-cufft-cu12-11.3.3.83 nvidia-cufile-cu12-1.13.1.3 nvidia-curand-cu12-10.3.9.90 nvidia-cusolver-cu12-11.7.3.90 nvidia-cusparse-cu12-12.5.8.93 nvidia-cusparselt-cu12-0.7.1 nvidia-nccl-cu12-2.27.3 nvidia-nvjitlink-cu12-12.8.93 nvidia-nvtx-cu12-12.8.90 sympy-1.14.0 torch-2.8.0 triton-3.4.0\n"
          ]
        }
      ]
    },
    {
      "cell_type": "code",
      "source": [
        "!pip uninstall -y torchvision"
      ],
      "metadata": {
        "colab": {
          "base_uri": "https://localhost:8080/"
        },
        "id": "b_9wRJNCXMwR",
        "outputId": "00e85d68-f109-4e03-ea0d-90d57cf13fe5"
      },
      "execution_count": 8,
      "outputs": [
        {
          "output_type": "stream",
          "name": "stdout",
          "text": [
            "\u001b[33mWARNING: Skipping torchvision as it is not installed.\u001b[0m\u001b[33m\n",
            "\u001b[0m"
          ]
        }
      ]
    },
    {
      "cell_type": "markdown",
      "source": [
        "Mocking the streaming sources"
      ],
      "metadata": {
        "id": "enl_y9YATzLT"
      }
    },
    {
      "cell_type": "code",
      "source": [
        "import os, json, time, random, pathlib\n",
        "from datetime import datetime\n",
        "\n",
        "BASE = \"/content/aqi_stream\"\n",
        "SRC_A, SRC_B, OUT_DIR = f\"{BASE}/src_a\", f\"{BASE}/src_b\", f\"{BASE}/alerts_out\"\n",
        "for d in [SRC_A, SRC_B, OUT_DIR]: pathlib.Path(d).mkdir(parents=True, exist_ok=True)\n",
        "\n",
        "# Personalization profile (edit to your needs)\n",
        "profile = {\n",
        "  \"name\": \"Danny\",\n",
        "  \"age\": 9,\n",
        "  \"is_child\": False,\n",
        "  \"has_respiratory_condition\": True,\n",
        "  \"city\": \"Schaumburg\"\n",
        "}\n",
        "pathlib.Path(BASE).mkdir(parents=True, exist_ok=True)\n",
        "with open(f\"{BASE}/profile.json\",\"w\") as f: json.dump(profile, f, indent=2)\n",
        "\n",
        "cities = [\"Northbrook\",\"Chicago\",\"Evanston\",\"Glenview\",\"Schaumburg\"]\n",
        "def emit_event(dirp):\n",
        "    city = random.choice(cities)\n",
        "    pm25 = max(5, int(random.gauss(35, 25)))             # pm2.5 variation\n",
        "    aqi  = max(5, int(pm25*1.3 + random.randint(-10,10)))# simple AQI proxy\n",
        "    evt = {\n",
        "        \"location\": city,\n",
        "        \"pm25\": pm25,\n",
        "        \"aqi\": aqi,\n",
        "        \"timestamp\": datetime.utcnow().isoformat() + \"Z\"\n",
        "    }\n",
        "    with open(f\"{dirp}/{datetime.utcnow().timestamp()}_{random.randint(0,9999)}.json\",\"w\") as f:\n",
        "        f.write(json.dumps(evt))\n",
        "\n",
        "# Seed some initial files\n",
        "for _ in range(12):\n",
        "    emit_event(SRC_A); emit_event(SRC_B)\n",
        "time.sleep(1)\n"
      ],
      "metadata": {
        "id": "tihJlJgwTSiI"
      },
      "execution_count": 9,
      "outputs": []
    },
    {
      "cell_type": "markdown",
      "source": [
        "Start Spark and Define Streams"
      ],
      "metadata": {
        "id": "2LVs18sGT2HA"
      }
    },
    {
      "cell_type": "code",
      "source": [
        "from pyspark.sql import SparkSession, functions as F, types as T\n",
        "\n",
        "spark = SparkSession.builder.appName(\"AQIStreamingDemo\").getOrCreate()\n",
        "spark.sparkContext.setLogLevel(\"WARN\")\n",
        "\n",
        "schema = T.StructType([\n",
        "    T.StructField(\"location\", T.StringType()),\n",
        "    T.StructField(\"pm25\", T.IntegerType()),\n",
        "    T.StructField(\"aqi\", T.IntegerType()),\n",
        "    T.StructField(\"timestamp\", T.StringType())\n",
        "])\n",
        "\n",
        "stream_a = spark.readStream.schema(schema).json(SRC_A)\n",
        "stream_b = spark.readStream.schema(schema).json(SRC_B)\n",
        "\n",
        "events = stream_a.unionByName(stream_b) \\\n",
        "                 .withColumn(\"event_time\", F.to_timestamp(\"timestamp\"))\n"
      ],
      "metadata": {
        "id": "cP6A4e0nTvTG"
      },
      "execution_count": 10,
      "outputs": []
    },
    {
      "cell_type": "markdown",
      "source": [
        "Windowed aggregate and thresholding"
      ],
      "metadata": {
        "id": "F7rcNodvUCRK"
      }
    },
    {
      "cell_type": "code",
      "source": [
        "# 5-minute tumbling window (short for demo)\n",
        "windowed = (events\n",
        "  .withWatermark(\"event_time\", \"2 minutes\")\n",
        "  .groupBy(F.window(\"event_time\", \"5 minutes\"), F.col(\"location\"))\n",
        "  .agg(\n",
        "      F.avg(\"aqi\").alias(\"avg_aqi\"),\n",
        "      F.max(\"aqi\").alias(\"max_aqi\"),\n",
        "      F.avg(\"pm25\").alias(\"avg_pm25\"),\n",
        "      F.count(\"*\").alias(\"cnt\")\n",
        "  ))\n",
        "\n",
        "# Trigger alerts if averages cross thresholds\n",
        "thresholded = (windowed\n",
        "  .withColumn(\"flag\", (F.col(\"avg_aqi\") >= 100) | (F.col(\"avg_pm25\") >= 55))\n",
        "  .filter(\"flag = true\"))\n"
      ],
      "metadata": {
        "id": "iDy9jiH5T-zB"
      },
      "execution_count": 11,
      "outputs": []
    },
    {
      "cell_type": "markdown",
      "source": [
        "Chat for natural language alerts"
      ],
      "metadata": {
        "id": "YCpWrHd7UKa_"
      }
    },
    {
      "cell_type": "code",
      "source": [
        "import os\n",
        "os.environ[\"TRANSFORMERS_NO_TORCHVISION\"] = \"1\"\n",
        "\n",
        "from transformers import pipeline\n",
        "import json, pandas as pd, os\n",
        "from datetime import datetime\n",
        "\n",
        "# A tiny instruct/chat model that runs fast on Colab\n",
        "MODEL_NAME = \"openai/gpt-oss-20b\"   # swap if you like another tiny instruct model\n",
        "\n",
        "nlp = pipeline(\n",
        "    \"text-generation\",\n",
        "    model=MODEL_NAME,\n",
        "    tokenizer=MODEL_NAME,\n",
        "    device_map=\"auto\",          # will use the GPU\n",
        "    torch_dtype=\"auto\",         # let it pick FP16/bfloat16\n",
        "    trust_remote_code=True,     # some new models need this\n",
        "    max_new_tokens=64,\n",
        "    temperature=0.4\n",
        ")\n",
        "\n",
        "with open(f\"{BASE}/profile.json\") as f:\n",
        "    PROFILE = json.load(f)\n",
        "\n",
        "def personalize_and_generate(loc:str, avg_aqi:float, avg_pm25:float, cnt:int):\n",
        "    # Baseline risk tiers from thresholds\n",
        "    risk = \"Moderate\"\n",
        "    if avg_aqi >= 150 or avg_pm25 >= 100: risk = \"High\"\n",
        "    elif avg_aqi >= 100 or avg_pm25 >= 55: risk = \"Elevated\"\n",
        "\n",
        "    # Personalization boost for kids / sensitive groups\n",
        "    if PROFILE.get(\"is_child\") or PROFILE.get(\"has_respiratory_condition\"):\n",
        "        if risk == \"Moderate\": risk = \"Elevated\"\n",
        "        elif risk == \"Elevated\": risk = \"High\"\n",
        "\n",
        "    prompt = (\n",
        "      f\"You are a family health assistant. AQI={avg_aqi:.0f}, PM2.5={avg_pm25:.0f} in {loc}. \"\n",
        "      f\"Child: {PROFILE.get('name','the child')} (age {PROFILE.get('age',5)}). \"\n",
        "      f\"Risk level: {risk}. \"\n",
        "      f\"Give a short, friendly alert with 1–2 concrete actions (e.g., limit outdoor time, use purifier). \"\n",
        "      f\"Keep it under 2 sentences.\"\n",
        "    )\n",
        "    text = nlp(prompt)[0][\"generated_text\"]\n",
        "    return risk, text\n",
        "\n",
        "def process_batch(df, epoch_id:int):\n",
        "    pdf = df.toPandas()\n",
        "    if pdf.empty: return\n",
        "    rows = []\n",
        "    for _, r in pdf.iterrows():\n",
        "        risk, msg = personalize_and_generate(\n",
        "            r[\"location\"], float(r[\"avg_aqi\"]), float(r[\"avg_pm25\"]), int(r[\"cnt\"])\n",
        "        )\n",
        "        rows.append({\n",
        "          \"ts\": datetime.utcnow().isoformat() + \"Z\",\n",
        "          \"location\": r[\"location\"],\n",
        "          \"avg_aqi\": float(r[\"avg_aqi\"]),\n",
        "          \"avg_pm25\": float(r[\"avg_pm25\"]),\n",
        "          \"events\": int(r[\"cnt\"]),\n",
        "          \"risk\": risk,\n",
        "          \"message\": msg\n",
        "        })\n",
        "    out_df = pd.DataFrame(rows)\n",
        "    out_csv = f\"{OUT_DIR}/alerts.csv\"\n",
        "    header = not os.path.exists(out_csv)\n",
        "    out_df.to_csv(out_csv, mode=\"a\", index=False, header=header)\n",
        "    print(\"\\n=== New Alerts ===\")\n",
        "    print(out_df.to_string(index=False))\n",
        "\n",
        "\n"
      ],
      "metadata": {
        "colab": {
          "base_uri": "https://localhost:8080/",
          "height": 502,
          "referenced_widgets": [
            "c82f030d09a244f988d6d62ab88e2575",
            "751117c122cf45a98dc463f0f1b7f2e1",
            "3e724063d88e4e36ba5ba9985ff560b8",
            "289fcf49258e4913bb58bbd8c004c155",
            "78455859f34d487a8066d250f8c747cc",
            "ead2c35d4bf5449f81adb18d6d63b059",
            "cd00cace9e774ccab39aac1160355920",
            "b8f989567dfa4ed4a9562a16e0b15c04",
            "cf6eb5dc81ec43639e79b17cb09dc5f1",
            "0652783371314f5682c168a7ca5c28d8",
            "eccf3d9f428b48aebda675edd400a4c5",
            "033c5f4ce18a4084b9be6144c8803081",
            "3b8d53d1463f43348aad372d5615b8cf",
            "69aa28d93076429388789c998bd9e417",
            "3e2547546cb94925833cd5e23c6d59eb",
            "54ef0b5da5da49faae5a5fa385bbae07",
            "66a6c42b283d4b3ca17e5397f14dcf7e",
            "b2feb87220c04eaa928e0c9b559dce2b",
            "a1636570cd144bca85b3b3ae154ac529",
            "8853776c81d3490d98e8f666d8b3e3c8",
            "bca3352dafa9423cb84d075b9be1e465",
            "a2ecac8d0d664b70b6adeebe6659413c",
            "8954cd1c327d488290ec13320d28378b",
            "1d8b1cd4494d494f916c0964e8a3f879",
            "a27351333063422290d4389a13874bc2",
            "68f063e5bc0e48d8b29b5d2a3ebf86b3",
            "d210839e4d844dc49ff30c217c91a2c6",
            "cf39f29e5a07450fbf9e19709ec86073",
            "fae5fa73b8ff448c8763483cbc2cd51b",
            "959b995139b74d0999e5d46647c82ac3",
            "ce84276b22554adb9e83697d7bd2e4e1",
            "f407592141c54ff586ac4de3a48c0cdc",
            "23a9712bb16f4a09af94c84198975f41",
            "9bc829580f234814b7c0288486e0e719",
            "c692deedcc00441e856479ab49377a42",
            "584ddf7e9a084bd5a8c367ac12365416",
            "261aec74cc2f4a448b36f285f53e2350",
            "e446be7080954ba9b27e5c7fbda2cc22",
            "abb0866b5b684d84bd9840a1dd56a1dd",
            "621a3b12e70c401b98e6cbe0fb1c287f",
            "4c2bc663300040e7baa5d9240259a8e1",
            "f9ed78b6b7884ca3945f0a0e05d5384c",
            "50c2f6433e594256ad6b6cd5e5fae508",
            "045003d21c364b9ea75e9dc9c57492db",
            "f5c1b9f2325f46d491f3f30e4fdea167",
            "4e084ba03a994c978e1b6e35d5b77c56",
            "9febedd7f3574d98bebd996fd426fac7",
            "1388b7ad29474ffc9716deeb9be3c102",
            "6c4c22c2c4934cc6a831ad182fbdbcbd",
            "ee42d4ff6ecd4df784833bba530a4e1d",
            "6764d9778131487db9724e9c76ddc137",
            "a0dcbed70921423a861e7fd610bf792c",
            "1117a28647644c60a105ef5ad3668c84",
            "0a2c93439bd94caba6e307f740d7ad6c",
            "e8d13c8562f74f1e8b91a543181719b4",
            "3de6f000089f403890cbfe9365d30c0d",
            "71832e75f2264d2bb52bcec33ca749cf",
            "74733cc63b924fd8821e55b538bc87e1",
            "0d71449710034b6b99c84522bf92609e",
            "64b536f206384d20a0920e1e4db249c0",
            "a03235bd9b3e4275aa9afa80773bab52",
            "c1c33d0a72f34ee6a8e395ff754ae5a1",
            "31fa0ce84d37468183d85262da31e58d",
            "35b47212df934447acaa4d415ac49622",
            "c9abf8c23bc34df3833c5b81e055b1f5",
            "b7748a0f0fd446fc9d67d6d3ad66f37d",
            "179c155d86b54dcd822bb66d77b6269b",
            "6bbffa89c28345c4bc6edb305c31d1e0",
            "469d3d8cead34a7a80519ba7177b380d",
            "0fbe709e322148df87d2b8e63b705c4c",
            "851ccdb5d4434fa1891857429ca72b51",
            "0dabca113b1d47b0a97658d38c6cfd45",
            "e051f3923c0949c192873d697d468d59",
            "34189fef814b44059ebb02f2e5df2812",
            "211ba4b681c64ecfa81d67f6575756d9",
            "bf4b14b449af4a1b87897209acb4a0d3",
            "905321635814453598f5d00b6c96ce65",
            "f137955488cc4eb180406a9f7641b5d1",
            "0868b65da0c248b1991cde5a76c9eb23",
            "d23f774ee2db487e802cb51b3d7865d8",
            "2a51054227624fb2bd5e79c477dadee9",
            "65fec297ea014ccc9271cccd01676066",
            "8cedbce7fb2240cc93966a59f92f8763",
            "0357a6bd9da84139a9e460e645ebf78c",
            "cd217115ff4e4ea38ee44b18643235f2",
            "d04eb384a1324bd3ae567bce4f296d33",
            "ab8264d36aa54ea5b0916ac15c67e0e6",
            "766c029246a549c3a3c80771efa989da",
            "e18b38cce9324d88a8de01d380f66ce8",
            "c0884053338d40a597c8c08e7b88ddb8",
            "e458883f826e4adea4220a47ef29045a",
            "f7a7f3f9725d414eb52d2cd306cabf68",
            "e0082a66564d4b6ba5f4a3a8e182a835",
            "48b8fbf80b3a4a18a95049d720ce70a1",
            "8b0c1a69e8924f20a0e2451b402d5951",
            "e69196ff11de430b970c81d9e80a4f83",
            "1dbab9c383ab4d248713cdefeafec28f",
            "7036bee8287b49e6af5217f3a85ed402",
            "66d3060ee7364a4eb2e36152324f6b1d",
            "feb28f4ad00643928608b31b032f7383",
            "354afe392f994174bea299f6092df335",
            "f904fe21f698400ba66dfc40714e6c43",
            "d9b40cadc1214f34b69bbafa9d3f8abb",
            "3f4c00a84d5e46fa84b8c67914b4698e",
            "4353ff99a62840df818368cf4345b00c",
            "453fcf4f40e344da8eeb98d8ac721e25",
            "7572939439b34f389a20afca43b82758",
            "3ea82a2b07b64b548a0c5df1a43f9f33",
            "07b7613f28624c949dfc6dff53961b67",
            "16e5d1e07bc24e739d727f7b059cdec9",
            "5a5c52221403409a98d66b8914acd238",
            "fd5a6ff38764457daaf466dc0990ec83",
            "0bc63cf7db774c5a928fb3fbc5ae4795",
            "51cb444f20d0468e8d9cb9474672c972",
            "e19c9b54888d45868501cd4a5804ec40",
            "e3761ed1d40b42cd96b10626182c83e7",
            "efd09a9126ea46878f112a64a877e031",
            "d01be098b4b344828a3ee5d9ac59864f",
            "94922c26f46c4383b6222cabf403666c",
            "9ce6e524f4bf4378a7b0c84a7022c406",
            "a060d0cf7cd849c88448afee0735cbc0",
            "527577ad971d41f6b0e957024d4582a3",
            "5116fbe2c9614492909b068d07791cd4",
            "db9da7f9c7514a5b9bb7578f49b032dd",
            "9822eaf0d2c74a928730d0a9f2e12e71",
            "205538d12bb04784bffcf7c91cf0f33c",
            "ea05903f23704d2cb49092459a3b2ebf",
            "646e0329ae57429b8f5b51edd80747a9",
            "8a2dea72da34433db6381e44a838d401",
            "8870c7e32c0c4a989530462cb2e69b6a",
            "b013e6cd599245ff9d68133c81a634d4",
            "8f193513cd554d2593469a1a3889a4d3",
            "b74e1496d76f4b6faab2b9301cf5f2ab",
            "b5a6abed82da45c78655a43b19b66f6c",
            "669ff4e9a950493aa13b1b5011a614ad",
            "a0ab616b85cd46c8be5c74ed6d6f7c1a",
            "c1cfb9d7f2b24d7c8791188de32aed00",
            "e783ab0ba4a14073a72bf65a6992f9d8",
            "021dad962cdc40259cb5d8d659809d91",
            "91422bd6d4884ae3b642ec986525899b",
            "009a84be206645bc82acef5c3d94e3fa",
            "8b0a203c80e64efcb1c602dd12630bdb",
            "66eb92349e02489e85cfcb18f5d7704e"
          ]
        },
        "id": "hSguNFXfUI68",
        "outputId": "89a68f80-ceee-4779-9c4a-b520a3d3d80b"
      },
      "execution_count": 7,
      "outputs": [
        {
          "output_type": "display_data",
          "data": {
            "text/plain": [
              "config.json: 0.00B [00:00, ?B/s]"
            ],
            "application/vnd.jupyter.widget-view+json": {
              "version_major": 2,
              "version_minor": 0,
              "model_id": "c82f030d09a244f988d6d62ab88e2575"
            }
          },
          "metadata": {}
        },
        {
          "output_type": "stream",
          "name": "stderr",
          "text": [
            "MXFP4 quantization requires triton >= 3.4.0 and triton_kernels installed, we will default to dequantizing the model to bf16\n"
          ]
        },
        {
          "output_type": "display_data",
          "data": {
            "text/plain": [
              "model.safetensors.index.json: 0.00B [00:00, ?B/s]"
            ],
            "application/vnd.jupyter.widget-view+json": {
              "version_major": 2,
              "version_minor": 0,
              "model_id": "033c5f4ce18a4084b9be6144c8803081"
            }
          },
          "metadata": {}
        },
        {
          "output_type": "display_data",
          "data": {
            "text/plain": [
              "Fetching 3 files:   0%|          | 0/3 [00:00<?, ?it/s]"
            ],
            "application/vnd.jupyter.widget-view+json": {
              "version_major": 2,
              "version_minor": 0,
              "model_id": "8954cd1c327d488290ec13320d28378b"
            }
          },
          "metadata": {}
        },
        {
          "output_type": "display_data",
          "data": {
            "text/plain": [
              "model-00001-of-00002.safetensors:   0%|          | 0.00/4.80G [00:00<?, ?B/s]"
            ],
            "application/vnd.jupyter.widget-view+json": {
              "version_major": 2,
              "version_minor": 0,
              "model_id": "9bc829580f234814b7c0288486e0e719"
            }
          },
          "metadata": {}
        },
        {
          "output_type": "display_data",
          "data": {
            "text/plain": [
              "model-00000-of-00002.safetensors:   0%|          | 0.00/4.79G [00:00<?, ?B/s]"
            ],
            "application/vnd.jupyter.widget-view+json": {
              "version_major": 2,
              "version_minor": 0,
              "model_id": "f5c1b9f2325f46d491f3f30e4fdea167"
            }
          },
          "metadata": {}
        },
        {
          "output_type": "display_data",
          "data": {
            "text/plain": [
              "model-00002-of-00002.safetensors:   0%|          | 0.00/4.17G [00:00<?, ?B/s]"
            ],
            "application/vnd.jupyter.widget-view+json": {
              "version_major": 2,
              "version_minor": 0,
              "model_id": "3de6f000089f403890cbfe9365d30c0d"
            }
          },
          "metadata": {}
        },
        {
          "output_type": "display_data",
          "data": {
            "text/plain": [
              "Loading checkpoint shards:   0%|          | 0/3 [00:00<?, ?it/s]"
            ],
            "application/vnd.jupyter.widget-view+json": {
              "version_major": 2,
              "version_minor": 0,
              "model_id": "179c155d86b54dcd822bb66d77b6269b"
            }
          },
          "metadata": {}
        },
        {
          "output_type": "display_data",
          "data": {
            "text/plain": [
              "Loading checkpoint shards:   0%|          | 0/3 [00:00<?, ?it/s]"
            ],
            "application/vnd.jupyter.widget-view+json": {
              "version_major": 2,
              "version_minor": 0,
              "model_id": "f137955488cc4eb180406a9f7641b5d1"
            }
          },
          "metadata": {}
        },
        {
          "output_type": "display_data",
          "data": {
            "text/plain": [
              "generation_config.json:   0%|          | 0.00/165 [00:00<?, ?B/s]"
            ],
            "application/vnd.jupyter.widget-view+json": {
              "version_major": 2,
              "version_minor": 0,
              "model_id": "e18b38cce9324d88a8de01d380f66ce8"
            }
          },
          "metadata": {}
        },
        {
          "output_type": "stream",
          "name": "stderr",
          "text": [
            "WARNING:accelerate.big_modeling:Some parameters are on the meta device because they were offloaded to the cpu and disk.\n",
            "Falling back to torch.float32 because loading with the original dtype failed on the target device.\n"
          ]
        },
        {
          "output_type": "display_data",
          "data": {
            "text/plain": [
              "tokenizer_config.json: 0.00B [00:00, ?B/s]"
            ],
            "application/vnd.jupyter.widget-view+json": {
              "version_major": 2,
              "version_minor": 0,
              "model_id": "feb28f4ad00643928608b31b032f7383"
            }
          },
          "metadata": {}
        },
        {
          "output_type": "display_data",
          "data": {
            "text/plain": [
              "tokenizer.json:   0%|          | 0.00/27.9M [00:00<?, ?B/s]"
            ],
            "application/vnd.jupyter.widget-view+json": {
              "version_major": 2,
              "version_minor": 0,
              "model_id": "5a5c52221403409a98d66b8914acd238"
            }
          },
          "metadata": {}
        },
        {
          "output_type": "display_data",
          "data": {
            "text/plain": [
              "special_tokens_map.json:   0%|          | 0.00/98.0 [00:00<?, ?B/s]"
            ],
            "application/vnd.jupyter.widget-view+json": {
              "version_major": 2,
              "version_minor": 0,
              "model_id": "527577ad971d41f6b0e957024d4582a3"
            }
          },
          "metadata": {}
        },
        {
          "output_type": "display_data",
          "data": {
            "text/plain": [
              "chat_template.jinja: 0.00B [00:00, ?B/s]"
            ],
            "application/vnd.jupyter.widget-view+json": {
              "version_major": 2,
              "version_minor": 0,
              "model_id": "b74e1496d76f4b6faab2b9301cf5f2ab"
            }
          },
          "metadata": {}
        },
        {
          "output_type": "stream",
          "name": "stderr",
          "text": [
            "Device set to use cpu\n"
          ]
        }
      ]
    },
    {
      "cell_type": "code",
      "source": [
        "query = (thresholded\n",
        "    .writeStream\n",
        "    .foreachBatch(process_batch)\n",
        "    .outputMode(\"update\")\n",
        "    .start())"
      ],
      "metadata": {
        "id": "oJvt-cD5c0xJ"
      },
      "execution_count": 16,
      "outputs": []
    },
    {
      "cell_type": "markdown",
      "source": [
        "Stream more events"
      ],
      "metadata": {
        "id": "xgQQLTvKWxB2"
      }
    },
    {
      "cell_type": "code",
      "source": [
        "for _ in range(30):\n",
        "    emit_event(SRC_A); emit_event(SRC_B)\n",
        "    time.sleep(1.0)\n",
        "\n",
        "# You can re-run the loop above any time to keep the stream busy.\n"
      ],
      "metadata": {
        "id": "nYeb6_TtWwof"
      },
      "execution_count": null,
      "outputs": []
    },
    {
      "cell_type": "markdown",
      "source": [
        "Peek at saved alerts"
      ],
      "metadata": {
        "id": "WE2TdRZ_WzI8"
      }
    },
    {
      "cell_type": "code",
      "source": [
        "import pandas as pd, glob\n",
        "files = sorted(glob.glob(f\"{OUT_DIR}/alerts.csv\"))\n",
        "if files:\n",
        "    df = pd.read_csv(files[-1])\n",
        "    df.tail(10)\n"
      ],
      "metadata": {
        "id": "qq2Y0HKZW1N_"
      },
      "execution_count": 13,
      "outputs": []
    },
    {
      "cell_type": "markdown",
      "source": [
        "Stop when done"
      ],
      "metadata": {
        "id": "aU3XeznTW2zu"
      }
    },
    {
      "cell_type": "code",
      "source": [
        "query.stop()"
      ],
      "metadata": {
        "id": "eB5fZcSkW5MF"
      },
      "execution_count": 14,
      "outputs": []
    },
    {
      "cell_type": "markdown",
      "source": [
        "Live Dashboard"
      ],
      "metadata": {
        "id": "EWSLjB2Fc5Xa"
      }
    },
    {
      "cell_type": "code",
      "source": [
        "!pip -q install plotly\n",
        "\n",
        "import os, time, glob\n",
        "import pandas as pd\n",
        "import plotly.express as px\n",
        "from IPython.display import clear_output, display, HTML\n",
        "\n",
        "CSV_PATH = \"/content/aqi_stream/alerts_out/alerts.csv\"\n",
        "\n",
        "def render_once(df: pd.DataFrame):\n",
        "    if df.empty:\n",
        "        display(HTML(\"<b>No alerts yet…</b>\"));\n",
        "        return\n",
        "    df[\"ts\"] = pd.to_datetime(df[\"ts\"])\n",
        "    df = df.sort_values(\"ts\")\n",
        "\n",
        "    # 1) Time series: Avg AQI by location\n",
        "    fig1 = px.line(df, x=\"ts\", y=\"avg_aqi\", color=\"location\", markers=True, title=\"Avg AQI (alerts)\")\n",
        "    fig1.add_hline(y=100)  # Unhealthy for sensitive groups\n",
        "    fig1.add_hline(y=150)  # Unhealthy\n",
        "    fig1.update_layout(xaxis_title=\"Time\", yaxis_title=\"Avg AQI\")\n",
        "    display(fig1)\n",
        "\n",
        "    # 2) Stacked bar: Alerts by location & risk\n",
        "    agg = df.groupby([\"location\",\"risk\"]).size().reset_index(name=\"alerts\")\n",
        "    fig2 = px.bar(agg, x=\"location\", y=\"alerts\", color=\"risk\", barmode=\"stack\", title=\"Alerts by Location & Risk\")\n",
        "    display(fig2)\n",
        "\n",
        "    # 3) Latest alerts table\n",
        "    cols = [\"ts\",\"location\",\"avg_aqi\",\"avg_pm25\",\"risk\",\"message\"]\n",
        "    display(df.tail(8)[cols])\n",
        "\n",
        "def live_dashboard(duration_sec=60, refresh_sec=2, generate=False):\n",
        "    \"\"\"Auto-refresh the dashboard for duration_sec seconds.\n",
        "       If generate=True, it emits a few mock events each refresh so you can see updates.\"\"\"\n",
        "    end = time.time() + duration_sec\n",
        "    while time.time() < end:\n",
        "        if generate:\n",
        "            # emit a couple of events each tick to keep things moving\n",
        "            emit_event(\"/content/aqi_stream/src_a\")\n",
        "            emit_event(\"/content/aqi_stream/src_b\")\n",
        "        clear_output(wait=True)\n",
        "        if os.path.exists(CSV_PATH):\n",
        "            try:\n",
        "                df = pd.read_csv(CSV_PATH)\n",
        "            except Exception:\n",
        "                time.sleep(0.3)\n",
        "                continue\n",
        "            render_once(df)\n",
        "        else:\n",
        "            display(HTML(\"<b>Waiting for alerts.csv…</b>\"))\n",
        "        time.sleep(refresh_sec)\n"
      ],
      "metadata": {
        "id": "1MtGRRDoc7pf"
      },
      "execution_count": 19,
      "outputs": []
    },
    {
      "cell_type": "markdown",
      "source": [],
      "metadata": {
        "id": "PuhkC0wvc5QK"
      }
    },
    {
      "cell_type": "code",
      "source": [
        "live_dashboard(duration_sec=90, refresh_sec=3, generate=False)\n"
      ],
      "metadata": {
        "colab": {
          "base_uri": "https://localhost:8080/",
          "height": 245
        },
        "id": "RLiWsN4rdOOj",
        "outputId": "c07511d6-d1e7-43c1-9839-426677ce9a0f"
      },
      "execution_count": 20,
      "outputs": [
        {
          "output_type": "display_data",
          "data": {
            "text/plain": [
              "<IPython.core.display.HTML object>"
            ],
            "text/html": [
              "<b>Waiting for alerts.csv…</b>"
            ]
          },
          "metadata": {}
        },
        {
          "output_type": "error",
          "ename": "KeyboardInterrupt",
          "evalue": "",
          "traceback": [
            "\u001b[0;31m---------------------------------------------------------------------------\u001b[0m",
            "\u001b[0;31mKeyboardInterrupt\u001b[0m                         Traceback (most recent call last)",
            "\u001b[0;32m/tmp/ipython-input-4249752534.py\u001b[0m in \u001b[0;36m<cell line: 0>\u001b[0;34m()\u001b[0m\n\u001b[0;32m----> 1\u001b[0;31m \u001b[0mlive_dashboard\u001b[0m\u001b[0;34m(\u001b[0m\u001b[0mduration_sec\u001b[0m\u001b[0;34m=\u001b[0m\u001b[0;36m90\u001b[0m\u001b[0;34m,\u001b[0m \u001b[0mrefresh_sec\u001b[0m\u001b[0;34m=\u001b[0m\u001b[0;36m3\u001b[0m\u001b[0;34m,\u001b[0m \u001b[0mgenerate\u001b[0m\u001b[0;34m=\u001b[0m\u001b[0;32mFalse\u001b[0m\u001b[0;34m)\u001b[0m\u001b[0;34m\u001b[0m\u001b[0;34m\u001b[0m\u001b[0m\n\u001b[0m",
            "\u001b[0;32m/tmp/ipython-input-1058459169.py\u001b[0m in \u001b[0;36mlive_dashboard\u001b[0;34m(duration_sec, refresh_sec, generate)\u001b[0m\n\u001b[1;32m     50\u001b[0m         \u001b[0;32melse\u001b[0m\u001b[0;34m:\u001b[0m\u001b[0;34m\u001b[0m\u001b[0;34m\u001b[0m\u001b[0m\n\u001b[1;32m     51\u001b[0m             \u001b[0mdisplay\u001b[0m\u001b[0;34m(\u001b[0m\u001b[0mHTML\u001b[0m\u001b[0;34m(\u001b[0m\u001b[0;34m\"<b>Waiting for alerts.csv…</b>\"\u001b[0m\u001b[0;34m)\u001b[0m\u001b[0;34m)\u001b[0m\u001b[0;34m\u001b[0m\u001b[0;34m\u001b[0m\u001b[0m\n\u001b[0;32m---> 52\u001b[0;31m         \u001b[0mtime\u001b[0m\u001b[0;34m.\u001b[0m\u001b[0msleep\u001b[0m\u001b[0;34m(\u001b[0m\u001b[0mrefresh_sec\u001b[0m\u001b[0;34m)\u001b[0m\u001b[0;34m\u001b[0m\u001b[0;34m\u001b[0m\u001b[0m\n\u001b[0m",
            "\u001b[0;31mKeyboardInterrupt\u001b[0m: "
          ]
        }
      ]
    },
    {
      "cell_type": "code",
      "source": [
        "# ONE-CELL: Spark Streaming + Personalized AQI Alerts + Live Chart (Colab)\n",
        "# ---------------------------------------------------------------\n",
        "# What it does:\n",
        "# - Installs deps\n",
        "# - Creates two \"live\" folders and streams JSON AQI events into them\n",
        "# - Spark Structured Streaming windows+thresholds the data\n",
        "# - Calls a tiny Hugging Face model to generate short, personalized alerts\n",
        "# - Shows a live chart and a tail of alerts while streaming\n",
        "# - Stops automatically after DURATION_SEC\n",
        "\n",
        "# ---- settings you can tweak ----\n",
        "DURATION_SEC  = 90      # how long to stream + visualize\n",
        "REFRESH_SEC   = 3       # refresh rate for the chart/table\n",
        "MODEL_NAME    = \"Qwen/Qwen2.5-0.5B-Instruct\"  # tiny CPU-friendly; swap to TinyLlama if needed\n",
        "WINDOW        = \"1 minute\"   # tumbling window size\n",
        "WATERMARK     = \"30 seconds\" # watermark\n",
        "AQI_TH        = 90      # lower this to see more alerts\n",
        "PM25_TH       = 40\n",
        "\n",
        "# ---- installs ----\n",
        "import sys, subprocess, os, time, json, random, pathlib\n",
        "def pipi(*args): subprocess.check_call([sys.executable, \"-m\", \"pip\", \"install\", \"-q\"] + list(args))\n",
        "pipi(\"pyspark==3.5.1\", \"transformers==4.43.3\", \"accelerate\", \"datasets\", \"sentencepiece\", \"plotly\")\n",
        "\n",
        "# IMPORTANT: we don't need torchvision for text-only models\n",
        "os.environ[\"TRANSFORMERS_NO_TORCHVISION\"] = \"1\"\n",
        "\n",
        "# ---- setup dirs + profile ----\n",
        "from datetime import datetime\n",
        "BASE   = \"/content/aqi_stream\"\n",
        "SRC_A  = f\"{BASE}/src_a\"\n",
        "SRC_B  = f\"{BASE}/src_b\"\n",
        "OUTDIR = f\"{BASE}/alerts_out\"\n",
        "for d in (SRC_A, SRC_B, OUTDIR): pathlib.Path(d).mkdir(parents=True, exist_ok=True)\n",
        "\n",
        "profile = {\n",
        "  \"name\": \"Chetu\",\n",
        "  \"age\": 5,\n",
        "  \"is_child\": True,\n",
        "  \"has_respiratory_condition\": True,\n",
        "  \"city\": \"Northbrook\"\n",
        "}\n",
        "with open(f\"{BASE}/profile.json\",\"w\") as f: json.dump(profile, f, indent=2)\n",
        "\n",
        "# ---- mock streaming event emitter ----\n",
        "cities = [\"Northbrook\",\"Chicago\",\"Evanston\",\"Glenview\"]\n",
        "def emit_event(dirp, city=None, pm25=None, aqi=None):\n",
        "    city = city or random.choice(cities)\n",
        "    pm25 = pm25 if pm25 is not None else max(5, int(random.gauss(35, 25)))\n",
        "    aqi  = aqi  if aqi  is not None else max(5, int(pm25*1.3 + random.randint(-10,10)))\n",
        "    evt = {\"location\": city, \"pm25\": int(pm25), \"aqi\": int(aqi),\n",
        "           \"timestamp\": datetime.utcnow().isoformat()+\"Z\"}\n",
        "    with open(f\"{dirp}/{datetime.utcnow().timestamp()}_{random.randint(0,9999)}.json\",\"w\") as f:\n",
        "        f.write(json.dumps(evt))\n",
        "\n",
        "# seed a few events\n",
        "for _ in range(10):\n",
        "    emit_event(SRC_A); emit_event(SRC_B)\n",
        "\n",
        "# ---- spark streaming pipeline ----\n",
        "from pyspark.sql import SparkSession, functions as F, types as T\n",
        "spark = SparkSession.builder.appName(\"AQIStreamingDemoOneCell\").getOrCreate()\n",
        "spark.sparkContext.setLogLevel(\"WARN\")\n",
        "\n",
        "schema = T.StructType([\n",
        "    T.StructField(\"location\",  T.StringType()),\n",
        "    T.StructField(\"pm25\",      T.IntegerType()),\n",
        "    T.StructField(\"aqi\",       T.IntegerType()),\n",
        "    T.StructField(\"timestamp\", T.StringType())\n",
        "])\n",
        "\n",
        "stream_a = spark.readStream.schema(schema).json(SRC_A)\n",
        "stream_b = spark.readStream.schema(schema).json(SRC_B)\n",
        "events = stream_a.unionByName(stream_b).withColumn(\"event_time\", F.to_timestamp(\"timestamp\"))\n",
        "\n",
        "windowed = (events\n",
        "  .withWatermark(\"event_time\", WATERMARK)\n",
        "  .groupBy(F.window(\"event_time\", WINDOW), F.col(\"location\"))\n",
        "  .agg(F.avg(\"aqi\").alias(\"avg_aqi\"),\n",
        "       F.max(\"aqi\").alias(\"max_aqi\"),\n",
        "       F.avg(\"pm25\").alias(\"avg_pm25\"),\n",
        "       F.count(\"*\").alias(\"cnt\"))\n",
        ")\n",
        "\n",
        "thresholded = (windowed\n",
        "  .withColumn(\"flag\", (F.col(\"avg_aqi\") >= F.lit(AQI_TH)) | (F.col(\"avg_pm25\") >= F.lit(PM25_TH)))\n",
        "  .filter(\"flag = true\")\n",
        ")\n",
        "\n",
        "# ---- tiny HF model for short alerts ----\n",
        "\n",
        "# personalization helper\n",
        "with open(f\"{BASE}/profile.json\") as f: PROFILE = json.load(f)\n",
        "\n",
        "def personalize_and_generate(loc:str, avg_aqi:float, avg_pm25:float, cnt:int):\n",
        "    risk = \"Moderate\"\n",
        "    if avg_aqi >= 150 or avg_pm25 >= 100: risk = \"High\"\n",
        "    elif avg_aqi >= AQI_TH or avg_pm25 >= PM25_TH: risk = \"Elevated\"\n",
        "    if PROFILE.get(\"is_child\") or PROFILE.get(\"has_respiratory_condition\"):\n",
        "        if risk == \"Moderate\": risk = \"Elevated\"\n",
        "        elif risk == \"Elevated\": risk = \"High\"\n",
        "    prompt = (f\"You are a family health assistant. AQI={avg_aqi:.0f}, PM2.5={avg_pm25:.0f} in {loc}. \"\n",
        "              f\"Child: {PROFILE.get('name','the child')} (age {PROFILE.get('age',5)}). \"\n",
        "              f\"Risk level: {risk}. Give 1–2 concrete actions. Keep under 2 sentences.\")\n",
        "    try:\n",
        "        text = nlp(prompt)[0][\"generated_text\"]\n",
        "    except Exception:\n",
        "        text = f\"Air quality alert for {loc}. Risk: {risk}. Limit outdoor time; consider air purifier.\"\n",
        "    return risk, text\n",
        "\n",
        "# foreachBatch sink\n",
        "import pandas as pd, os\n",
        "CSV_PATH = f\"{OUTDIR}/alerts.csv\"\n",
        "def process_batch(df, epoch_id:int):\n",
        "    pdf = df.toPandas()\n",
        "    if pdf.empty: return\n",
        "    rows = []\n",
        "    for _, r in pdf.iterrows():\n",
        "        risk, msg = personalize_and_generate(r[\"location\"], float(r[\"avg_aqi\"]), float(r[\"avg_pm25\"]), int(r[\"cnt\"]))\n",
        "        rows.append({\n",
        "          \"ts\": datetime.utcnow().isoformat()+\"Z\",\n",
        "          \"location\": r[\"location\"],\n",
        "          \"avg_aqi\": float(r[\"avg_aqi\"]),\n",
        "          \"avg_pm25\": float(r[\"avg_pm25\"]),\n",
        "          \"events\": int(r[\"cnt\"]),\n",
        "          \"risk\": risk,\n",
        "          \"message\": msg\n",
        "        })\n",
        "    out_df = pd.DataFrame(rows)\n",
        "    header = not os.path.exists(CSV_PATH)\n",
        "    out_df.to_csv(CSV_PATH, mode=\"a\", index=False, header=header)\n",
        "    # also print a quick summary line per batch\n",
        "    print(f\"[batch {epoch_id}] wrote {len(out_df)} alert(s)\")\n",
        "\n",
        "query = (thresholded.writeStream.foreachBatch(process_batch).outputMode(\"update\").start())\n",
        "\n",
        "# ---- simple live dashboard in THIS cell (matplotlib) ----\n",
        "import matplotlib.pyplot as plt\n",
        "from IPython.display import clear_output, display\n",
        "plt.figure(figsize=(8,4))\n",
        "\n",
        "start = time.time()\n",
        "tick  = 0\n",
        "print(\"Streaming & visualizing... (this cell will run ~{}s)\".format(DURATION_SEC))\n",
        "while time.time() - start < DURATION_SEC:\n",
        "    # keep feeding events so windows fill\n",
        "    emit_event(SRC_A); emit_event(SRC_B)\n",
        "    if tick % 3 == 0:\n",
        "        # occasionally push some \"bad\" events to guarantee alerts\n",
        "        emit_event(SRC_A, city=\"Northbrook\", pm25=120, aqi=180)\n",
        "    tick += 1\n",
        "\n",
        "    # draw simple chart from CSV (if exists)\n",
        "    clear_output(wait=True)\n",
        "    print(\"Streaming & visualizing... ({}s left)\".format(int(DURATION_SEC - (time.time()-start))))\n",
        "    if os.path.exists(CSV_PATH):\n",
        "        try:\n",
        "            df = pd.read_csv(CSV_PATH)\n",
        "            if not df.empty:\n",
        "                df[\"ts\"] = pd.to_datetime(df[\"ts\"])\n",
        "                df = df.sort_values(\"ts\").tail(200)\n",
        "                # plot avg_aqi time series (all locations combined, last 200)\n",
        "                plt.cla()\n",
        "                plt.plot(df[\"ts\"], df[\"avg_aqi\"])\n",
        "                plt.axhline(AQI_TH)   # threshold line\n",
        "                plt.title(\"Avg AQI of Alerted Windows (last 200)\")\n",
        "                plt.xlabel(\"Time\"); plt.ylabel(\"Avg AQI\")\n",
        "                plt.xticks(rotation=30)\n",
        "                display(plt.gcf())\n",
        "                # also show the last few alerts\n",
        "                display(df.tail(6)[[\"ts\",\"location\",\"avg_aqi\",\"avg_pm25\",\"risk\",\"message\"]])\n",
        "            else:\n",
        "                print(\"alerts.csv exists but is empty...\")\n",
        "        except Exception as e:\n",
        "            print(\"Reading alerts.csv...\", e)\n",
        "    else:\n",
        "        print(\"Waiting for alerts.csv…\")\n",
        "    time.sleep(REFRESH_SEC)\n",
        "\n",
        "# ---- stop stream & final pointers ----\n",
        "try:\n",
        "    query.stop()\n",
        "except Exception:\n",
        "    pass\n",
        "\n",
        "print(\"\\nDone. Alerts saved to:\", CSV_PATH)\n",
        "if os.path.exists(CSV_PATH):\n",
        "    tail = pd.read_csv(CSV_PATH).tail(10)\n",
        "    print(\"\\nLast few alerts:\")\n",
        "    print(tail[[\"ts\",\"location\",\"avg_aqi\",\"avg_pm25\",\"risk\"]].to_string(index=False))\n"
      ],
      "metadata": {
        "colab": {
          "base_uri": "https://localhost:8080/",
          "height": 1000
        },
        "id": "dUb3my5ndj3v",
        "outputId": "34eaa18c-7219-4c64-e654-e8300c8b379e"
      },
      "execution_count": 22,
      "outputs": [
        {
          "output_type": "stream",
          "name": "stdout",
          "text": [
            "Streaming & visualizing... (3s left)\n"
          ]
        },
        {
          "output_type": "display_data",
          "data": {
            "text/plain": [
              "<Figure size 800x400 with 1 Axes>"
            ],
            "image/png": "iVBORw0KGgoAAAANSUhEUgAAAtIAAAGmCAYAAABRMWPgAAAAOnRFWHRTb2Z0d2FyZQBNYXRwbG90bGliIHZlcnNpb24zLjEwLjAsIGh0dHBzOi8vbWF0cGxvdGxpYi5vcmcvlHJYcgAAAAlwSFlzAAAPYQAAD2EBqD+naQAAmk9JREFUeJzs3Xd4FNXXB/DvlvTeeyMEQu+QQKjSEWmKVGmKPxURxQKvYkEURVAUxS4gVVFAEAFpIiGEEpBeEtJJT0jv2fv+sezsbrKBlJ3M7O75PE8eZVtubjYzZ8+ce66EMcZACCGEEEIIaRSp0AMghBBCCCHEEFEgTQghhBBCSBNQIE0IIYQQQkgTUCBNCCGEEEJIE1AgTQghhBBCSBNQIE0IIYQQQkgTUCBNCCGEEEJIE1AgTQghhBBCSBNQIE0IIYQQQkgTUCBNCDEYxcXFePrpp+Hp6QmJRIJFixbp5XXfffddSCQSvbxWS0hMTIREIsHGjRsN7vu01Nj1RaFQoGPHjvjggw+42zZu3AiJRILExEThBiYSS5YsQZ8+fYQeBiGCoUCaEAGsX78eEolENCegho4nOTkZ//vf/xAYGAgLCwu4u7tjwoQJiIqKqvPYf/75BxKJBL/99pvexvnhhx9i48aNeO6557B582bMnDnzoc+pqamBt7c3JBIJDhw4oLexNMT69esFCxjPnj0LiUSCzz77rM5948aNg0QiwYYNG+rcN2DAAPj4+LTEEA3C9u3bkZKSggULFrTY9/zwww+xZ8+eBj02JSUF7733Hnr37g0nJye4urpi0KBBOHLkiM7H5+fnY/78+XBzc4ONjQ0GDx6MCxcu6Hzs3r170b17d1haWsLf3x/vvPMOqqurtR6zaNEiXLp0CXv37m3Uz0iIsaBAmhABbN26FYGBgTh79izi4uKEHk6DxnPq1Cl06tQJ27dvx6RJk7B+/Xq89NJLuHr1KiIiIvD111/zPs5jx44hLCwM77zzDmbMmIEePXo06Dnp6ekIDAzE1q1beR+jJiED6e7du8Pa2hqRkZF17ouKioJcLsepU6e0bq+srMS5c+fQr18/AEBAQADKysoa9IHFWH3yySeYMmUKHBwcWux7NiaQ/uOPP/Dxxx+jdevWWLFiBZYtW4aioiIMGzaszgclhUKBMWPGYNu2bViwYAFWrVqFrKwsDBo0CLGxsVqPPXDgAMaPHw9HR0esW7cO48ePx4oVK/Diiy9qPc7T0xPjxo3D6tWrm/UzE2KwGCGkRcXHxzMAbNeuXczNzY29++67oh9PXl4e8/T0ZB4eHiwuLk7rvtLSUta/f38mk8nY6dOnuduPHz/OALCdO3fqbaxBQUFszJgxjXrOU089xbp3784+//xzZmNjw4qLi+s85p133mH6PByWlJQwxhjr0KEDGzhwoN5eVyUhIYEBYBs2bHjg4wYPHsw8PDy0brt58yYDwKZNm8batm2rdV9UVBQDwD7//HN9D5nT0LGLwYULFxgAduTIEa3bN2zYwACwhIQEXr6vjY0NmzVrVoMee/XqVZadna11W3l5OQsNDWW+vr5at//yyy91/iazsrKYo6Mjmzp1qtZj27dvz7p06cKqqqq42958800mkUjYjRs3tB7722+/MYlEwu7cudOgMRNiTCgjTUgL27p1K5ycnDBmzBg8/vjjWlnSqqoqODs7Y86cOXWeV1hYCEtLS7z66qvcbUlJSXjsscdgY2MDd3d3vPzyyzh06BAkEgn++eefZo9H5dtvv0VGRgY++eQTBAcHa91nZWWFTZs2AQCWL1/eoO9ZW1ZWFubNmwcPDw9YWlqiS5cu3GsC6jKRhIQE7N+/HxKJpEE1qmVlZdi9ezemTJmCyZMno6ysDH/88UeDx7Vlyxb06NEDVlZWcHZ2xpQpU5CSkqL1mEGDBqFjx46IiYnBgAEDYG1tjf/7v/9DYGAgrl27hhMnTnDjHTRoEPe8/Px8LFq0CH5+frCwsEDr1q3x8ccfQ6FQaL1+fn4+Zs+eDQcHBzg6OmLWrFnIz89v0PgjIiKQmZmpdZXh1KlTsLe3x/z583Hr1i3k5ORo3ad6HqC7nnn27NmwtbXF3bt3MX78eNja2sLNzQ2vvvoqampqmjz2Y8eOoX///rCxsYGjoyPGjRuHGzducPdfvnwZEolEq4QgJiYGEokE3bt313qtUaNGaZUpnT9/HiNGjICrqyusrKwQFBSEuXPnPnT+9uzZA3NzcwwYMOChj/3jjz8wZswYeHt7w8LCAsHBwXj//ffrzElsbCwmTZoET09PWFpawtfXF1OmTEFBQQEAQCKRoKSkBJs2beLeN7Nnz673+3bo0AGurq5at1lYWGD06NFITU1FUVERd/tvv/0GDw8PTJw4kbvNzc0NkydPxh9//IGKigoAwPXr13H9+nXMnz8fcrmce+zzzz8Pxlidcq2hQ4dyc0CIqaFAmpAWtnXrVkycOBHm5uaYOnUqYmNjce7cOQCAmZkZJkyYgD179qCyslLreXv27EFFRQWmTJkCACgpKcGQIUNw5MgRLFy4EG+++SaioqLwxhtv6G08Kvv27YOlpSUmT56s8zWCgoIQERGBI0eOoLy8vFHfv6ysDIMGDcLmzZsxffp0fPLJJ3BwcMDs2bPx+eefAwDatWuHzZs3w9XVFV27dsXmzZuxefNmuLm5PfC19+7di+LiYkyZMgWenp4YNGhQg8s7PvjgAzz11FMICQnBp59+ikWLFuHo0aMYMGBAnWAwNzcXo0aNQteuXbF27VoMHjwYa9euha+vL0JDQ7nxvvnmmwCA0tJSDBw4EFu2bMFTTz2FL774Av369cPSpUvxyiuvcK/LGMO4ceOwefNmzJgxAytWrEBqaipmzZrVoJ9BFRBrlnecOnUKYWFh6NOnD8zMzLTq20+dOgU7Ozt06dLlga9bU1ODESNGwMXFBatXr8bAgQOxZs0afPfdd00a+5EjRzBixAhkZWXh3XffxSuvvIKoqCj069eP+7DUsWNHODo64t9//+Wed/LkSUilUly6dAmFhYUAlOULUVFRXPCblZWF4cOHIzExEUuWLMG6deswffp0REdHP3T+oqKi0LFjR5iZmT30sRs3boStrS1eeeUVfP755+jRowfefvttLFmyhHtMZWUlRowYgejoaLz44ov46quvMH/+fMTHx3Pvqc2bN8PCwgL9+/fn3jfPPvvsQ79/bRkZGbC2toa1tTV328WLF9G9e3dIpdqn/t69e6O0tBS3b9/mHgcAPXv21Hqct7c3fH19uftVHBwcEBwcXKdUiBCTIHBGnBCTcv78eQaAHT58mDHGmEKhYL6+vuyll17iHnPo0CEGgO3bt0/ruaNHj2atWrXi/r1mzRoGgO3Zs4e7raysjIWGhjIA7Pjx43oZD2OMOTo6si5dujzwtRYuXMgAsMuXLzPGGl7asXbtWgaAbdmyhbutsrKShYeHM1tbW1ZYWMjdHhAQ0KjSjkcffZT169eP+/d3333H5HI5y8rK0npc7dKOxMREJpPJ2AcffKD1uCtXrjC5XK51+8CBAxkA9s0339T5/vWVdrz//vvMxsaG3b59W+v2JUuWMJlMxpKTkxljjO3Zs4cBYKtWreIeU11dzfr379+g8ojCwkImk8nYvHnzuNvatm3L3nvvPcYYY71792avvfYad5+bmxsbNmwY929dZRizZs1iANjy5cu1vle3bt1Yjx49uH83Zuxdu3Zl7u7uLDc3l7vt0qVLTCqVsqeeeoq7bcyYMax3797cvydOnMgmTpzIZDIZO3DgAGNMXY7xxx9/MMYY2717NwPAzp0798C50sXX15dNmjSpzu26SjtKS0vrPO7ZZ59l1tbWrLy8nDHG2MWLFxv0N9GY0g5dYmNjmaWlJZs5c2ad1507d26dx+/fv58BYAcPHmSMMfbJJ58wANz7UFOvXr1YWFhYnduHDx/O2rVr1+QxE2KoKCNNSAvaunUrPDw8MHjwYADKy7hPPvkkduzYwV0CHjJkCFxdXfHLL79wz7t37x4OHz6MJ598krvt4MGD8PHxwWOPPcbdZmlpiWeeeUav4wGAoqIi2NnZPfC1VPdrXkpuiL/++guenp6YOnUqd5uZmRkWLlyI4uJinDhxolGvp5Kbm4tDhw5pve6kSZMgkUjw66+/PvC5u3btgkKhwOTJk5GTk8N9eXp6IiQkBMePH9d6vIWFhc5ynPrs3LkT/fv3h5OTk9brDx06FDU1NVzW9a+//oJcLsdzzz3HPVcmk9VZ8FUfOzs7dO7cmctI5+Tk4NatW+jbty8AoF+/flwW8fbt28jOzuay2A/zv//9T+vf/fv3R3x8PPfvho49PT0d//33H2bPng1nZ2fu9s6dO2PYsGH466+/tL7HhQsXUFJSAkCZaR89ejS6du2KkydPAlBmqSUSCfdzODo6AgD+/PNPVFVVNehnU8nNzYWTk1ODHmtlZcX9f1FREXJyctC/f3+Ulpbi5s2bAMAtWDx06BBKS0sbNZaGKi0txRNPPAErKyt89NFHWveVlZXBwsKiznMsLS25+zX/W99jVfdrUr2XCTE1FEgT0kJqamqwY8cODB48GAkJCYiLi0NcXBz69OmDzMxMHD16FAAgl8sxadIkrZrFXbt2oaqqSiuQTkpKQnBwcJ3+x61bt9breABlQPawAFl1v7u7e4O+v+bPERISUudyc7t27bj7m+KXX35BVVUVunXrxv1seXl56NOnz0PLO2JjY8EYQ0hICNzc3LS+bty4gaysLK3H+/j4wNzcvMFji42NxcGDB+u8tqrWVPX6SUlJ8PLygq2trdbz27Zt2+DvFRERwdVCR0VFQSaTISwsDADQt29fxMTEoKKiok599INYWlrWKatxcnLCvXv3uH83dOyq36+un6ldu3bIycnhAuf+/fujuroap0+fxq1bt5CVlYX+/ftjwIABWoF0+/btuaB84MCBmDRpEt577z24urpi3Lhx2LBhA/e39TCMsQY97tq1a5gwYQIcHBxgb28PNzc3zJgxAwC4+uegoCC88sor+OGHH+Dq6ooRI0bgq6++4u5vrpqaGkyZMgXXr1/Hb7/9Bm9vb637raysdP7cqnIs1YcB1X/re6zmhwYVxphB9WInRF/kD38IIUQfVG3YduzYgR07dtS5f+vWrRg+fDgAYMqUKfj222+5FlS//vorQkNDH1q7ytd42rdvjwsXLqCiokJnlgpQLgYzNzcXTQ9iVbCsauVWW3x8PFq1aqXzPoVCwfWdlslkde6vHRzqCiweRKFQYNiwYXj99dd13t+mTZtGvd6DREREYN26dTh16hSioqLQqVMnbvx9+/ZFRUUFzp07h8jISMjlci7IfhBdc9ISevbsCUtLS/z777/w9/eHu7s72rRpg/79+2P9+vWoqKjAyZMnMWHCBO45ql7m0dHR2LdvHw4dOoS5c+dizZo1iI6OrvO71OTi4qL14aA++fn5GDhwIOzt7bF8+XIEBwfD0tISFy5cwBtvvKG1gHTNmjWYPXs2/vjjD/z9999YuHAhVq5ciejoaPj6+jZrfp555hn8+eef2Lp1K4YMGVLnfi8vL6Snp9e5XXWbKvD28vLibvfz86vz2N69e9d5jXv37tVZ9EiIKaBAmpAWsnXrVri7u+Orr76qc9+uXbuwe/dufPPNN7CyssKAAQPg5eWFX375BRERETh27Bi3UE0lICAA169fr5MJamhf6saMZ+zYsYiKisLOnTu5LJumxMREnDx5EuPGjWt0UBkQEIDLly9DoVBoZaVVl8MDAgIa9XoAkJCQgKioKCxYsAADBw7Uuk+hUGDmzJnYtm0b3nrrLZ3PDw4OBmMMQUFBzQpq68vQBQcHo7i4mMtA1ycgIABHjx5FcXGxVsB369atBo9Bc8Hh6dOntT5YeHt7IyAgAKdOncKpU6fQrVs3rcVpzdHQsat+v7p+pps3b8LV1RU2NjYAAHNzc/Tu3RsnT56Ev78/+vfvD0CZqa6oqMDWrVuRmZmps8tGWFgYwsLC8MEHH2Dbtm2YPn06duzYgaeffrrenyE0NBQJCQkP/Vn/+ecf5ObmYteuXVrfu77ndurUCZ06dcJbb73FLar85ptvsGLFCgD1v28e5LXXXsOGDRuwdu1arXImTaoSmNp/a2fOnIG1tTX3Xu/atSsAZbcTzaA5LS0NqampmD9/fp3XTkhI0OsHfUIMhqAV2oSYiNLSUmZnZ6dzoQ9jjJ06dYoBYDt27OBue/HFF5mNjQ379NNPGQB2/fp1reesXr26yYsNGzseVR9pT0/POr1iy8rK2KBBg5hcLmfR0dHc7Y1dbLht2zbutqqqKtavX78mLzZ8//33610sxRhjw4YNY6Ghody/ay82jIuLYzKZjE2bNo0pFAqt5yoUCpaTk8P9e+DAgaxDhw46v0+fPn10LtJ89913tRZ3abp37x7Xu7e5iw1VgoKCWLdu3ZiFhQXbunWr1n1Tp05lYWFhDAB7+eWXte6rb7GhjY1Nne9Rew4bu9jQw8OD3bt3j7vtypUrdRYbMqbsZWxlZcX8/PzY2rVrudvbtWvH2rRpwwCwlJQU7va8vLw6v8Nr164xAOzLL7/UMVtqy5YtY2ZmZtxiQZXaiw337t3LALB//vmHe0xFRQXr2rWr1t9iQUGBVl9mxpQLQqVSKXv11Ve52zw8PNi4ceMeODZNq1atYgDY//3f/z3wcTt27KjzN5mdnc0cHR3Zk08+qfXY0NBQ1qVLF1ZdXc3d9tZbbzGJRFLnWJSfn88kEglbs2ZNg8dMiLGgQJqQFqA6gWkGvZpqamqYm5sbGzt2LHdbZGQkA8Ds7OxYp06d6jynqKiIBQYGMisrK7ZkyRL2+eefs969e3Mnb82Tur7GY29vzxwcHNjixYvZjz/+yD744AMWEhLCZDIZ+/rrr7Veo6GBdGlpKWvXrh0zNzdnixcvZuvWreM6YWgGSow1PJAODQ1lXbt2rff+devWMQAsJiaGMaZ7Q5aVK1cyAKxv375s1apV7Ouvv2avv/46CwkJYZ988gn3uAcF0s8//zyTSCTs/fffZ9u3b2dHjx5ljCk3bOnevTuTy+Xs6aefZl9//TVbvXo1F6SqNtioqalh/fr1Y1KplD3//PPsyy+/ZEOGDGGdO3duVCA9c+ZMBoABYImJiTrnAgD7/fffte5rTiDdmLEfPnyYyeVyFhoayj755BO2fPly5ubmxpycnFh8fLzW9zl48CA3XtXvjzFlhwwALDAwUOvxn332GQsJCWGvv/46+/bbb9nq1atZ27Ztmb29fZ3Xrk3V1ebQoUNat9cOpHNycpiTkxMLCAhga9asYZ9++inr1q0b69Kli1YgvXv3bubj48MWLVrE1q9fz7744gvWq1cvZmZmprWZ0ejRo5mNjQ1bs2YN2759u9YH1Np27drFALCQkBC2efPmOl8ZGRncY6urq1lYWBiztbVl7733Hvvqq69Yhw4dmJ2dHbt586bW6+7bt49JJBI2ZMgQ9t1337GFCxcyqVTKnnnmmTpj+O233xiAOps1EWIKKJAmpAWMHTuWWVpacjve6TJ79mxmZmbGZTsVCgXz8/NjANiKFSt0Pic+Pp6NGTOGWVlZMTc3N7Z48WL2+++/MwAPPPk2ZTyMKdvCzZ8/n/n7+zO5XM4FNLV3fmOscTsbZmZmsjlz5jBXV1dmbm7OOnXqpDNIbEggHRMTwwCwZcuW1fuYxMRErQxsfTsb/v777ywiIoLZ2NgwGxsbFhoayl544QV269Yt7jEPCqQzMjLYmDFjmJ2dHQOg1QqvqKiILV26lLVu3ZqZm5szV1dX1rdvX7Z69WpWWVnJPS43N5fNnDmT+xAzc+ZMro1aQwPpb7/9lgFgPj4+de5TtYsDwDIzM7Xua04g3dixHzlyhPXr149ZWVkxe3t7Nnbs2DqZT8bULf3s7Oy0sqVbtmxhAOq0fLtw4QKbOnUq8/f3ZxYWFszd3Z09+uij7Pz58/XOl6bOnTtrtQ9kTHf7u1OnTrGwsDBmZWXFvL292euvv861slQF0vHx8Wzu3LksODiYWVpaMmdnZzZ48OA6fz83b95kAwYMYFZWVgzAA1vhqea9vq/aV6by8vLYvHnzmIuLC7O2tmYDBw6stzXg7t27WdeuXZmFhQXz9fVlb731ltZ7U+XJJ59kERER9U8iIUZMwlgDlyQTQgzC2rVr8fLLLyM1NZX3hX9Hjx7F6NGjERERgQMHDjSqcwUhhmDz5s144YUXkJyczLXSI2oZGRkICgrCjh07MG7cOKGHQ0iLo/Z3hBiw2v1cy8vL8e233yIkJKRFumc88sgj2LRpE44fP445c+Y0uFUYIYZi+vTp8Pf317kolyg/uHfq1ImCaGKyKCNNiAEbNWoU/P390bVrVxQUFGDLli24du0atm7dimnTpgk9PEIIIcSoUfs7QgzYiBEj8MMPP2Dr1q2oqalB+/btsWPHDq2NWwghhBDCD8pIE0IIIYQQ0gRUI00IIYQQQkgTUCBNCCGEEEJIE1CNNJRbBqelpcHOzq5JW7MSQgghhBB+McZQVFQEb29vrW3uBSVcC2vGTpw4wR599FHm5eXFALDdu3dr3f/777+zYcOGMWdnZwaAXbx4sc5rlJWVseeff545OzszGxsbNnHiRK2dnBoiJSXlgQ3t6Yu+6Iu+6Iu+6Iu+6EscXykpKc2IPvVL0Ix0SUkJunTpgrlz52LixIk674+IiMDkyZPxzDPP6HyNl19+Gfv378fOnTvh4OCABQsWYOLEiTh16lSDx2FnZwcASElJgb29fdN+GEIIIYQQwpvCwkL4+flxcZsYCBpIjxo1CqNGjar3/pkzZwIAEhMTdd5fUFCAH3/8Edu2bcOQIUMAABs2bEC7du0QHR2NsLCwBo1DVc5hb29PgTQhhBBCiIiJqQxXJAUmTRMTE4OqqioMHTqUuy00NBT+/v44ffp0vc+rqKhAYWGh1hchhBBCCCGNYdCBdEZGBszNzeHo6Kh1u4eHBzIyMup93sqVK+Hg4MB9+fn58TxSQgghhBBibAw6kG6qpUuXoqCggPtKSUkRekiEEEIIIcTAGHT7O09PT1RWViI/P18rK52ZmQlPT896n2dhYQELC4sWGCEhhBBCCDFWBp2R7tGjB8zMzHD06FHutlu3biE5ORnh4eECjowQQgghhBg7QTPSxcXFiIuL4/6dkJCA//77D87OzvD390deXh6Sk5ORlpYGQBkkA8pMtKenJxwcHDBv3jy88sorcHZ2hr29PV588UWEh4c3uGMHIYQQQgghTSFhjDGhvvk///yDwYMH17l91qxZ2LhxIzZu3Ig5c+bUuf+dd97Bu+++CwAoLy/H4sWLsX37dlRUVGDEiBFYv379A0s7aissLISDgwMKCgqo/R0hhBBCiAiJMV4TNJAWCzH+YgghhBBCiJoY4zWDrpEmhBBCCCFEKBRIE0IIIY0Ul1WEX8+nQKEw+Yu6hJg0g25/RwghhAhh2Z5rOB2fi1auNugZ6Cz0cAghAqGMNCGEENJIheVVWv8lhJgmCqQJIYSQRlJVdCgUwo6DECIsCqQJIYSQRlI1vFJQ4ytCTBoF0oQQQkgjqQJoCqMJMW0USBNCCCGNpEpE01YMhJg2CqQJIYSQRlJwpR0CD4QQIigKpAkhhJBGUiWiqUaaENNGgTQhhBDSSFyNNMXRhJg0CqQJIYSQRlJQRpoQAgqkCSGEkEZjoIw0IYQCaUIIIaTRVBuxMGqAR4hJo0CaEEIIaSRuQxba2ZAQk0aBNCGEENJIVCNNCAEokCaEEEIajWqkCSEABdKEEEJIo6ky0lQjTYhpo0CaEEIIaSRGOxsSQkCBNCGEENJoVCNNCAEokCaEEEIajXY2JIQAFEgTQgghjaYKoBlF0oSYNAqkCSGEkEZSUI00MXG7LqRi9OcnsfrQLaGHIigKpAkhLYIxhpikPLy5+wr++O+u0MMhpFkY1UgTE5dbXInr6YVIyy8TeiiCkgs9AEKIcSutrMaei2nYHJ2EG+mFAICTsTkY19VH4JER0nRUI01MHfchUiLsOIRGgTQhhBdxWcXYEp2E32NSUVRRDQCQSJSBR2U17atMDBtlpImpU73zJSYeSVMgTQjRm+oaBY7cyMTPp5MQdSeXuz3QxRozwgLQ3tse074/gxoKPoiBo4w0MXVcQtq042gKpAkhzZdVWI4d51Kw7UwyMgrLAQBSCTAk1AMzwwPQv7UrpFIJbmYoSzuo0wF/MgvL4WBlBkszmdBDMWqMdjYkJk713jfxOJoCaUJI0zDGcCYhD5ujk3Doagaq77cvcLExx5O9/DCtjz98nay1niO7n7qooVYHvLiYfA9PfheNfsEu2DCnt9DDMWrUtYNfuy+m4oeTCfjuqZ7wcbQSejhEB8pIK1EgTQhplKLyKuy5eBebo5NwO7OYu71ngBNmhgdgZEdPWMh1Z0OlUuURl4IP/WOMYcX+G6isViA+p0To4Rg9dSBNb2Z9K6+qwfJ913GvtAonbmVjWh9/oYdEHoBqpAkhpAFuZRRhc3Qidl+4i5LKGgCAlZkM47v5YOb9+ueHkd5PXSgokta7g1czEJN0DwDV7bYE1RTTXOvfnot3ca+0CgBQo6CFyWKlOo5LTbyRMgXShJB6VVYrcOhaBjZHJ+FsQh53e7CbDWaGBWBiD1/YW5o1+PW40g6KPvSqslqBjw/e5P5NWVJ+McZoZ0OeMMaw4VQi9+9q+tAtWurfDGWkCSFES3pBGbafScb2cynILqoAAMikEgxv74GZYQEID3aBpAmFcarMBQV6+rX1TBISc0shlSjLZmh6+aU5vxTn6dfpO7m4lVnE/ZvWU4gX1UgrUSBNCAGgzARF3cnFz6cTceRGFncCc7OzwNTe/pja2w9eDs1b9KMu7Wj2cMl9BWVV+PxoLABgck8/7DiXQllSnml+EKQPhfr106kErX9TRlq8qGuHkqCVLf/++y/Gjh0Lb29vSCQS7NmzR+t+xhjefvtteHl5wcrKCkOHDkVsbKzWY/Ly8jB9+nTY29vD0dER8+bNQ3FxMQghDVNQVoWfIhPwyKcnMP2HMzh0LRM1CoY+Qc74alp3RC0ZgleGtWl2EA0os9oAlXbo0/rjccgvrUJrd1tM6a1clEWzyy/N+aW3sv4k5Zbg6M0sAEDvQGcAlJEWM8pIKwmakS4pKUGXLl0wd+5cTJw4sc79q1atwhdffIFNmzYhKCgIy5Ytw4gRI3D9+nVYWloCAKZPn4709HQcPnwYVVVVmDNnDubPn49t27a19I9DiEG5llaALdFJ2HMxDWVVysWDthZyTOzugxlhAWjjYaf376k64FIWTz9S8kq5etL/Gx0KOdcVheaXT5rzS9l//dkYlQjGgIFt3ODrZIWziXmorqH5FSva2VBJ0EB61KhRGDVqlM77GGNYu3Yt3nrrLYwbNw4A8PPPP8PDwwN79uzBlClTcOPGDRw8eBDnzp1Dz549AQDr1q3D6NGjsXr1anh7e7fYz0KIIaiorsGBKxn4+XQiLiTnc7e38bDFzPBATOjmA1sL/g4LqsWGjCn/xptSZ03UPjl0C5U1CvQNdsHgtu64ka6sLaXYjl9UI61/ReVV2Hk+FQAwp18gjt/PTFPXDhG7/4cgNfHDuGhrpBMSEpCRkYGhQ4dytzk4OKBPnz44ffo0pkyZgtOnT8PR0ZELogFg6NChkEqlOHPmDCZMmKDztSsqKlBRUcH9u7CwkL8fhBARSMkrxbazyfjlXArySioBAHKpBCM7euKp8ED0CnRqkaBWpnHEVTBAZuIH4Oa4lJKPvZfSIJEA/ze6HSQSiUbGX9ixGTutjDQV0ujFzvOpKK6oRrCbDQaEuOHf2zkAqEZazBRcaYdpH8hFG0hnZGQAADw8PLRu9/Dw4O7LyMiAu7u71v1yuRzOzs7cY3RZuXIl3nvvPT2PmBBxUSgY/o3NxpboJBy9mcVl0bwcLDGttz+e7O0HdzvLFh2T5gG3RsG0AmvScIwxfPDXDQDAhG4+6OjjAEC9mJOqpPmloIy0XtUoGDadTgQAzO4XBKlUArmMdkEVO/oQqSTaQJpPS5cuxSuvvML9u7CwEH5+fgKOiBD9yS+txM7zqdhyJglJuaXc7RGtXTEjLABD27lDLhNmnbF2RpoOwk11+HomzibkwUIuxavD23K3q+Jomlp+MeraoVfHb2YhKbcU9pZyTOruA0B9rKCMtHjRYkMl0QbSnp6eAIDMzEx4eXlxt2dmZqJr167cY7KysrSeV11djby8PO75ulhYWMDCwkL/gyZEQJdT8/Hz6STsu5SGimplXaGdpRyP9/DFjLAABLvZCjxCdY00QAFIU1XVKPDRAeXmK/MiguDtqO6mIqXFnC1CM7ajqW6+DVHKlndTe/vD2lwZlqgWzlJGWrxosaGSaAPpoKAgeHp64ujRo1zgXFhYiDNnzuC5554DAISHhyM/Px8xMTHo0aMHAODYsWNQKBTo06ePUEMnpMWUV9Vg36U0bIlOwqXUAu729l72eCo8AI919eZOTGKgmbmgE2TTbD+bjPicErjYmOO5QcG17r2/mLPlh2VSGHXt0JubGYU4FZcLqQSYGR7A3a7OSNNiQ7GijLSSoGfY4uJixMXFcf9OSEjAf//9B2dnZ/j7+2PRokVYsWIFQkJCuPZ33t7eGD9+PACgXbt2GDlyJJ555hl88803qKqqwoIFCzBlyhTq2EGMWlJuCbaeScav51OQX1oFADCXSTGmsxdmhAWgu7+jKBeAaJV20Pmx0QrLq7D2iLKX/qKhIbCrtT07t9iQPqTwimqk9Wfj/faNIzp4wtfJmrudMtLiRxuyKAkaSJ8/fx6DBw/m/q2qW541axY2btyI119/HSUlJZg/fz7y8/MRERGBgwcPcj2kAWDr1q1YsGABHnnkEUilUkyaNAlffPFFi/8shPCtRsFw/GYWNkcn4cTtbO52H0crTA/zx5M9/eBiK+6SJSmVdjTL1//cQV5JJVq52XCbr2hSzS/NLL9oZ0P9yCupxO6LdwEAc/oFad0nkyrXcVAfaRG7/6uRmviicUED6UGDBj3wsphEIsHy5cuxfPnyeh/j7OxMm68Qo5ZbXIFfzqdga3Qy7uaXcbcPbOOGp8IDMKitu8F0v9AcJu1u2Dh388vwY6SylnTpqHYw07FglOvZQVPLK0Y10nqx/WwyKqoV6Ohjj16BTlr3UUZa/FQfIg3j7MMf8RRPEkI4jDFcSM7Hlugk7L+cjsoaZR2Eo7UZJvf0w/Q+/ghwsRF4lI0nkUgglSgvh1Mmr3HWHLqFymoF+gQ5Y2g7d52P4TLSNLe8ohrp5quqUWDz6SQAwJy+QXVK0ahrh/gx9WpDk0aBNCEiUlpZjT/+S8Pm00m4nq7eKKiLrwNmhAVgbBdvWJrJBBxh80klEigYoxrpRrh6twC77l8Cf3NMu3rr32lDlpZBNdLNd+BqBjIKy+Fqa4FHu3jVuZ/6SIsfde1QokCaEBG4k12MLdFJ+C0mFUXl1QAAC7kUY7t4Y2ZYALr4OQo7QD2S3k9JU2lHwzDGsGL/dQDAuK7e6OzrWO9juT7SVCXNK6qRbr4Np5RlStP7+MNCXjc5QF07xI+6dihRIE2IQKprFDhyIwtbopMQGZfD3R7gYo0ZfQLweA9fONmYCzhCfqh6SVNniYY5djML0fF5MK+1+Youqkw1TS2/WD3/TxrmYvI9XEzOh7lMiulhdRfNAlQjbQioa4cSBdKEtLCsonLsOJuCbWeSkVFYDkD5if6RUHfMCAvAgBA3o14FTZuGNFx1jQIf3t8KfE6/QPg5Wz/w8dzbhqaWV5ofAqlGuvE23G9592gXL7jbWep8DNe1gwJp0VK99aUmnpKmQJqQFsAYw9mEPGyOTsLBqxncycHFxhxP9vLD1N7+Dw2SjIWUMk0NtuNcCu5kl8DJ2gzPD2r90MerahXpQwq/NKeXKg8aJ6OgHH9dSQcAzK3V8k4TZaTFT/Uh0sTjaAqkCeFTcUU1dl+8iy2nk3Ars4i7vbu/I54KD8SoTp466wONmZTKDxqkuKIaa4/cBgC89EgIHKzMHvIMdUaappZfmh9UqB69cbZEJ6FawdAr0AkdfRzqfRxXI019pEWLmnYoUSBNCA9uZxZh8+kk7LqQipLKGgCAlZkM47t5Y3qfgAeeQIyd6gRJWdMH+/bEHeQUVyLI1QbT+gQ8/AkAd0ajcgN+aS82FHAgBqa8qgbbziYDeHA2GqCMtCFQt78z7VCaAmlC9KSqRoFD1zKw+XQSziTkcbe3crXBjLAATOrh26CsorFTZ6TpBFmf9IIyfH8yHgDwxsi2MJfX3XxFF8r2twzN6aX3ccP98d9d5JVUwsfRCsPaezzwsdS1Q/xosaESBdKENFNGQTm2nU3G9rPJyC6qAKA8CQxr54GZ4QHoG+xSb99fU6QqP6BMU/3W/H0b5VUK9AxwwogOng1+nua7jDFG7zueaG/IIuBADAhjjFtk+FR4AOQ6dubURH2kxY/a3ylRIE1IEzDGcPpOLjZHJ+Hv65ncwd7V1gLTevthah9/eDlYCTxKceJKOyjRpNO1tAL8fiEVwIM3X9FF87GM0QmOL5qxHZXRNMzp+FzczCiClZkMU3rpbnmnibp2iB9tyKJEgTQhjVBQVoVdF1KxJToJd7JLuNt7BzljZlgARnTwbPBleFNFpR31Y4zhw79ugDHg0c5e6Obv1Kjna3ZNpNnlD9VIN54qGz2phw8crB9e4kY10uKnbn8n7DiERoE0IQ1wPa0Qm6OTsOfiXZRVKRcP2pjLMLG7L2aEBaCtp53AIzQc9xNNtLOhDv/czsapuFyYy6R4Y2Roo5+vmRlSMAaZiWeK+KLV/o7exw+VlFuCIzcyAQCz+z54kaGKukaa5lesqP2dEgXShNSjoroGB68qFw+eT7rH3R7ibounwgMwvpsP7Cxp8WBj0c6GulXXKLDy/uYrs/oGNKmvuETjYgjFd/zRbn9HHmZTVBIYAwa0cUNrd9sGPYcy0uKnrpE27UiaAmlC6jHt+zOIuR9Ay6USjOjoiZlhAegT5GzyB47moM4Suv0Wk4rbmcVwsDLDgsEhTXoNzXclZUr5w6hGusGKK6qx83wKAOXunA1FXTvEj3qoK1EgTUg9LqXkAwCeGxSMOX0D4W6veytb0ji0s2FdJRXVWHNYufnKi0NaN6iGVBdT36q3pWjVSFOc90C/nU9BUUU1WrnZYGCIW4OfJ79fA1ZDG7KIFnXtUKJVUYTUQ3X4nk1BtF7JaLFhHd/9G4/sogr4O1tjZngDN1/RQfOERvPLHwXVSDeIQsGwMSoRADCnbyD3IbohqEZa/KhrhxIF0oTUQ0ELKXihmk8KQJQyC8vx3b+qzVdCm7VlvLRW+zvCD0Y10g1y/FYWEnNLYWcpx8Tuvo16LvWRFj/q2qFEgTQh9eAuW5n4p219k1Fph5ZP/76NsqoadPN3xOhODd985WHogwp/qI90w6ha3k3p5Qcbi8ZVklJGWvyoa4cSBdKE6KB5cjT1T9v6pjpBUvwB3MwoxK8xyoVYbzVy8xVdtDLSzXol8iCM+kg/1O3MIkTG5UAqAZ4KD2z086lrh/hRaYcSBdKE6KAZ5FGHDv1SzSedIIGVf90EY8DoTp7oEeDc7NfTfKvSBxX+UEb64TacSgAADG/v2aRWjtS1Q/woI61EgTQhOmieGikjrV/3Sx9NfkOWf29n48TtbJjJJHh9ROM3X9FFu0batOeXT5SRfrB7JZXYdeEugMa1vNPEde2gCRYt+s0oUSBNiA6a9aWmftlK31TBnikHejUK5VbgADAjLACBrjZ6eV3Nd6oJTy/vqGvHg20/l4yKagXae9mjd1DTrrRQjbT40YYsShRIE6KDVmkH/ZXolbqPtMADEdDvF1JxM6MIdpZyLBzStM1XdKH2dy1Dq2sHTbOWqhoFNp9OAgDMjQhqcpAl11hLQbugipO6Rtq0UYhAiA7aGWmiT6o+0qZa2lFaWY01f98CoNx8xcnGXG+vLaHFhi1Cq0aaZlrLwasZSC8oh6utOcZ28Wry68hk6vcyZaXFSfWB0tTLHymQJuQhaLc4/bpf+miypR0/nExAZmEFfJ2smtTN4GGoTzf/aGfD+qkWGU7rE9CsnuhyjeiM6qTFiUo7lCiQJkQHrYy0aR8j9E5qwl07sorK8c2JOwCA10eGwtKs6YFGfbgPfqY3vS1Gc2rpA4vapZR8XEjOh5lMghlh/s16LZlUMyNNn1bESHU1xtTPkRRIE6KD5rmRMtL6pTpBmmAcjbVHYlFaWYMufo4Y27npl70fRPVuNcX5bSmawTNNs5oqGz22szfc7Syb9Vqqrh2AaX7oNgTqTctMGwXShOhAWSb+qD6YmNoCotjMIuw4mwwAeHN08zdfqQ/XFYVCPN5oLzakeQaUW93/eTkdADCnX1CzX0+z7pZqpMWJe+ubeLKJAmlCdNDuI23aBwl9k5roYsOVB25CwYDh7T2a3BKsQbgaaf6+hanTrDSgeVbaEp2EagVDzwAndPJ1aPbrSSQS2t1Q5LjSDoHHITQKpAnRgWmcKCmO1i/Z/aOOKWX9T8Xl4NjNLMilEiwZpZ/NV+qjyuRRppQ/VCOtrbyqBtvOKK+2zI1ofjZahXpJi5t6saGw4xAaBdKE6KB5WZwy0vplaqUdCgXDB/uVm69M7+OPVm62vH4/1QZCFN/xR0F9pLXsvZSG3JJK+DhaYXh7D729LpeRrqFJFiPVIdzUz5EUSBOig2aMZ9qHCP2Tmtjl2t0X7+J6eiHsLORY+Ij+Nl+pjzojzfu3MllUI63GGMNPkcpFhjPDAyCX6S+sUGekqWuHOFFpB0CBNCE6MWp/xxsuI20C8Ud5VQ1W39985fnBreFia8H795Rw82sCEywQ7S3ChRuHGETH5+FmRhEszaSY0stPr6+tCspN5UO3oaHSDiXRB9JFRUVYtGgRAgICYGVlhb59++LcuXPc/YwxvP322/Dy8oKVlRWGDh2K2NhYAUdMjIFWRtrUjxJ6JuMWwxn/yfHHyASkF5TDx9EKc/oFtsj3pDbS/NNuf2faM61qeTepuy8crfW3SydANdJip94i3LTPkXKhB/AwTz/9NK5evYrNmzfD29sbW7ZswdChQ3H9+nX4+Phg1apV+OKLL7Bp0yYEBQVh2bJlGDFiBK5fvw5Ly8b1sSytrIa8spqnn4QYktL77wOJxv8T/VAFIeVVNUY9t7nFlVh/PA4AsPCR1lAw1jI/7/35La2sNur5FVJ5VQ33/9XVLfR7FaGU3DL8fT0TADClt5/e50FVplRSQe9lMaquUZbcVNYoWuz3I8b3gYSJuMCrrKwMdnZ2+OOPPzBmzBju9h49emDUqFF4//334e3tjcWLF+PVV18FABQUFMDDwwMbN27ElClTdL5uRUUFKioquH8XFhbCz88Pfot+hdTCmt8fihBCCCGENJqiohQpayejoKAA9vb2Qg8HgMhLO6qrq1FTU1Mns2xlZYXIyEgkJCQgIyMDQ4cO5e5zcHBAnz59cPr06Xpfd+XKlXBwcOC+/Pz0W9dFCCGEEEKMn6gz0gDQt29fmJubY9u2bfDw8MD27dsxa9YstG7dGhs2bEC/fv2QlpYGLy/1druTJ0+GRCLBL7/8ovM168tIp2fniuYTDhFWen45Hvn0BMykElx6d7jQwzEq7/xxDTtjUrFwSGv8b1Cw0MPhxQtbL+L4rSwMbuuGr6Z3b9Hv3e+jY7hXWoU/FvRDiDu/rfZM1R//3cXSXVcBAK3dbbB3QYTAI2p5W6OT8cFfNxDoYo0/X4zguvHo05gvTiIhpxSb5vRCLz43MSJN8vSm84i6k4uVEztiXFefFvmehYWF8HJzEVVGWvQ10ps3b8bcuXPh4+MDmUyG7t27Y+rUqYiJiWnya1pYWMDCou7qeWtzOazNRT8lpAVYmssAKFu10XtCv8zlygthxjq30fG5OH4rCzKpBG+OadfiP6NqgZalXGaU8ysG5jKZxr+M8338IAoFw7az6g1YbC3NePk+qnk2k0lNbo4NAXesMWu5Y021CN8Hoi7tAIDg4GCcOHECxcXFSElJwdmzZ1FVVYVWrVrB09MTAJCZman1nMzMTO4+QppCtVkINezQP9XB1xg3ZFEoGD78S7n5ytTefmjtbifAKKj9Hd8059YU5/mf21lIyCmBnaUck7r78vZ9qGuHuHHt70y8a4foA2kVGxsbeHl54d69ezh06BDGjRuHoKAgeHp64ujRo9zjCgsLcebMGYSHhws4WmIsTH3HJj4Ycx/pfZfTcDm1ALYWciwa2kaQMdCGLPzTmlsTnOcNpxIBAE/29IONBX8ZQrnMtDZvMjSq1o+mfpoUX468lkOHDoExhrZt2yIuLg6vvfYaQkNDMWfOHEgkEixatAgrVqxASEgI1/7O29sb48ePF3roxICpskwmfnzghSqQrjGySK+8qgarDio3X3luUDBcW2DzFV0kJtSnWyimnJGOzSzCydgcSCXArL6BvH4vykiLm4m99esl+kC6oKAAS5cuRWpqKpydnTFp0iR88MEHMDNT1mS9/vrrKCkpwfz585Gfn4+IiAgcPHiw0T2kCdGk3rGJQml9U+0gbGylHRujEnE3vwye9paY2y9IsHHQVRT+mfLOhhuiEgEAw9p7wM+Z33axcqkqI01bhIsRnSeVRB9IT548GZMnT673folEguXLl2P58uUtOCpi7LiMtGkfH3ghNcItrPNKKvHVMeXmK6+OaAsrc9lDnsEf1VvWmOZXbDR3MzSlnQ3zSyux60IqAGBOC3xYpIy0uKmOMTw0bDEoBlMjTUhLUm99SvRNymWZBB6IHn1xNBZFFdVo72WPCd1apg1UfVTZIYqj+aOVkTai9/HDbD+bgvIqBdp52aNPC7Sjk0uVIQrVSIsTbRGuRIE0ITqo2qvz0RvV1MmMLCOdkFOCLdFJAIA3x7TjsmhCoRpp/mluvyDyrRj0prpGgc2nEwEAc/sFtsjlfC4jXWMac2xwuNIOYYchNAqkCdFB3daH6JvUyAK9jw/cRLWCYXBbN/Rr7Sr0cLjSGeOYXXHSrO83lWTpoWuZSCsoh4uNOcZ28W6R76mukTaRSTYwXNcOgcchNAqkCdFBddymhVv6JzWik+O5xDwcvJYBqQRYOrqd0MMBoM4OGcnnFFHS7n5nGhP906kEAMD0Pv6wNGuZNQBUIy1ujDLSACiQJkQn6o/JH2PpI80Yw4r9ys1XnuzlhzYeQmy+UpfqLWsqJQdCMLWuHZdT8xGTdA9mMglmhAW02PdV95E2oUJ0A6J+65v2iZICaUJ0oLY+/DGWnQ3/vJyOSyn5sDaX4WWBNl/RhUo7+GdqNdKqDVge7ewNd/uWay0ru7/YkDLS4sSoawcACqQJ0Yk2ZOGPMWzIUlFdg48P3gQAPDsguEWDi4dS1aBT8MEbhVYgLeBAWkBWYTn+vJwGAJjTL7BFvzfVSIubghJOACiQJkQnRjXSvDGGxYY/RyUh9V4Z3O0s8MwA4TZf0YUy0vzTLu0w7pneEp2EqhqGHgFO6Ozr2KLfm2qkxY3axCpRIE2IDrSIgj+GXtqRX1qJdcdiAQCvDm8La3Nx7WtFG7Lwj5lIjXR5VQ22nkkG0PLZaIAy0qJHG5cBoECaEJ1Uiw0pI61/hr7YcN2xOBSWVyPU0w6TevgKPZw6uPesgc6vIdD8kGLMH1j2XUpDbkklvB0sMbKDZ4t/f+ojLW5cRtrET5MUSBOig6EGeYZAVdphiDXSSbkl+Pn+phT/N1r4zVd0UW/IIuw4jJnWAkMjnWfGGLfIcGZ4IOSylg8X1Blp6tohRur9FsR3HGxJFEgTooN6Z0OBB2KEDLm0Y9XBW6iqYegf4ooBbdyEHo5O3BbhxhrhiYAp1EifScjD9fRCWJpJMbW3nyBjoK4d4sYdY0w7jqZAmhBdFPRJmzcSA90iPCbpHvZfSYdEosxGi5W6RlrQYRg1U6iR3nB/A5YJ3XzhaG0uyBjUfaSNdJINHC3KV6JAmhCdqD8mX2Tc5VqBB9IIjDF8sP86AOCJHr5o52Uv8Ijqp7qKYgr9jYWi1f7OCDP/KXmlOHw9EwAwV4BFhirUtUPcFJSQBkCBNCE6UX9M/sgMMCN94GoGLiTnw8pMhleGtRV6OA+kuopiQNNrcJjWYkMBB8KTn08nQsGA/iGuCBFwx07q2iFujLp2AKBAmhCdqP0df9SL4Qzj5FhZreA2X3lmQCt4Ooho8xUdpFzTDsOYX0OkGdcZW+a/pKIaO86lABCm5Z0mdUbagC5fmSBTL4GkQJoQHWhnQ/7IDCzLtCU6CUm5pXC1tcCzA1oJPZyHk1BGmm8KI85I/34hFUXl1QhytcGgNu6CjoUy0uJGCSclCqRbWI2CIS2/DCl5pUIPhTwALaLgjyqQNoRAr6C0Cl/c33xl8fA2sLEQ1+YrutBiQ/5pTq0xZaQVCoaN91veze4bCKnAi0S4rh3UR1qUVFe9TP0sKf6zgpHJK6lE34+OAQASPxoj8GhIfaj2iz+qunNDyDJ99U8c8kurEOJuiydEuPmKLlxphxEFeGJjrBnpE7HZiM8pgZ2FXBSbDVFGWtzUGWnTPlFSRrqFaW7gYIh9dE2F6jdDGWn9Uy02FPuGLCl5pVx27v9GtxNkQ4qmkBj4zpGGoPZb11g+tPwUqWx5N7mXH2xFcPWFunaIm4ISTgAokG5xMo13nNgDCVNmKAvhDJGhZExXHbqFyhoF+rV2waC24tx8RRf1Z3Vxz68hq50EEflbuUHisopwMjYHUomyrEMMqI+0uHFbhAs6CuFRIN3CNHfKo4ODeFGNNH+kBnC59r+UfOy7lMZtvmJIly5VK+hFPL0Gr/bcGsMHb9V24EPbecDP2VrYwdxHXTtEjko7AFAg3eLkGpG0MRx8jRVdsuKPurRD4IHUgzGGD/ffAABM7OaLDt4OAo+ocSRcxl/YcRiz2q0FDf1DS35pJXZduAsAmNMvSODRqFGNtLhxGWkTP09SIN3CNDPSVPclXlQjzR+x77z39/VMnE3Mg4VcildHtBF6OI1maH26DVHtqTX0ud5xLgVlVTUI9bRDWCtnoYfD4bp20LlSlBi1iQVAgXSL06yRpsWG4kVdO/gjFXHXjqoaBT46cH/zlf6t4OVgJfCIGk81v+KbXeNh6IGzpuoaBX6OSgQAzI0IEtVlespIixtlpJUokG5hml076OAgXtTWhz9i3pBl25lkJOSUwMXGHM8ONIDNV3SQGMhiTkNWO5A25MD67+uZSCsoh4uNOR7r4i30cLRwNdJirQMzcXSeVKJAuoVJJBLuREddO8RLFeOZ9uGBH1KR7rxXWF6FtUduAwAWDWsDO0szgUfUNGKdX2NSt7RDmHHow4ZTypZ30/r4w9JMJvBotFFGWtxoB2AlCqQFoCrvoIXI4kWlHfyRirSP9Prjd3CvtArBbjaY0stP6OE0myFnScWudlxnqNn/K6kFOJd4D3KpBDPCAoQeTh3UtUPcKCOt1OCO64WFhQ16nL29fZMHYyqkUgmgYKILJIia6kRJiw31TyrCxXB388vw0/3M3NJR7WBmIJuv6EIZaf7VDpwNNWGqykY/2tkLHvaWAo+mLuojbRhM/SzZ4EDa0dHxgZ86GGOQSCSoqanRy8CMmVwqQSVosaG40SUrvqiyTGJ6/68+dAuV1QqEtXLGI+3chR5Os1DXDv7VnltDzEhnFZVj3+U0AOJqeaeJunaIG125VWpwIH38+HE+x2FSVKUddHAQL8pI84fbkEUkwceV1ALsvqjsofvm6PYGf5lSNXpxzK5xqrshizDjaI6t0cmoqmHo7u+ILn6OQg9HJ6qRFjf1zoaGfcxsrgYH0gMHDuRzHCbFEHZ2M3VMfYQgeiYV0RoBxhg++Os6AGBCNx908jWszVd04T780eGFN7U/AxpaRrqiugZbzyQBEG82GtCskTas+TUV6hppYcchtAYH0ip3797F77//jtu3b8Pc3Bxt27bF5MmT4eTkxMf4jBJ3advADr6mRPW7kZr4AYIP3GJbEbz/j97IQnR8HszlUiwebnibr+hCpR38M/Qa6X2X0pFTXAkvB0uM7Ogp9HDqRRlpcaMdgJUataJm/fr1CA4OxqJFi7Blyxb89NNPeO655+Dr64vt27cDUB5gLl68qJfB1dTUYNmyZQgKCoKVlRWCg4Px/vvvax3EGGN4++234eXlBSsrKwwdOhSxsbF6+f58EfOGFESJLlnxR7WzodDv/+oaBVYeUG4FPrdfEHydrAUdj75IaEMW3hlyjTRjjFtkODM8QNQLa6lrh7jReVKpwX9B+/fvx8KFC7FgwQLcvXsX+fn5yM/Px927d/Hss89i1qxZiIyMxPTp07Fv3z69DO7jjz/G119/jS+//BI3btzAxx9/jFWrVmHdunXcY1atWoUvvvgC33zzDc6cOQMbGxuMGDEC5eXlehkDH2QiCSRI/VQnRql4zzEGiyvtEPjtv+NcCu5kl8DJ2gzPDw4WdjB6pDqlUUaaP3Xa3wkzjCY5l3gP19IKYWkmxdRe/kIP54Hk9w/ANbQhiyhRaYdSg0s7PvnkEyxZsgQrVqzQut3LywuffvoprK2tMWzYMHh6emLlypV6GVxUVBTGjRuHMWPGAAACAwOxfft2nD17FoAy2Fm7di3eeustjBs3DgDw888/w8PDA3v27MGUKVP0Mg59E9OlbaIbd4Aw8U/afBBDaVOR5uYrQ9vA3kA3X9GF2t/xr/bUGtKx/KdIZTZ6QjcfONmYCzyaB6MaabGj0g6gERnpCxcuYObMmfXeP3PmTFRUVODEiRMICNBPY/e+ffvi6NGjuH1becK7dOkSIiMjMWrUKABAQkICMjIyMHToUO45Dg4O6NOnD06fPl3v61ZUVKCwsFDrqyXJqDem6DE6QPBGDH2kvz0Rj5ziSgS52mBaH3Fn5RqLtgjnX90twgUaSCOl5JXi7+sZAMS9yFCF+kiLGyWclBqcka6pqYGZWf1ZGzMzM1hZWcHfX38npSVLlqCwsBChoaGQyWSoqanBBx98gOnTpwMAMjKUBwQPDw+t53l4eHD36bJy5Uq89957ehtnY8moRlr0VCV5ht4KTYyEXiOQXlCG70/GAwCWjAoVdY1oU0ipRpp3tT+kGMqHls3RSVAwIKK1K9p42Ak9nIeijLS4cTXSJn6abPAZpEOHDvjjjz/qvX/Pnj3o0KGDXgal8uuvv2Lr1q3Ytm0bLly4gE2bNmH16tXYtGlTs1536dKlKCgo4L5SUlL0NOKGofZ34qf6zVDXDv0TekOW1Yduo6Jagd6Bzhje3uPhTzA0qow/HV94U3vtmyHE0SUV1dhxNhkAMKdfoLCDaSDq2iFujLpbAWhERvqFF17Ac889BwsLC8yfPx9yufKp1dXV+Pbbb/HWW29h/fr1eh3ca6+9hiVLlnC1zp06dUJSUhJWrlyJWbNmwdNT2bYnMzMTXl5e3PMyMzPRtWvXel/XwsICFhYWeh1rY3AZaUM4+poorq2PwOMwRkIuNrx6twC7LqYCAP5vTDujvOJAGWn+1S3tEP9s77qQisLyagS6WGNwW8PYvZO6doib+hhufMfRxmhwID1r1ixcuXIFCxYswNKlSxEcHAzGGOLj41FcXIyFCxdi9uzZeh1caWkppLXaJshkMiju/1EFBQXB09MTR48e5QLnwsJCnDlzBs8995xex6JP6oycwAMh9aOdDXkj1M6GjDGsPHADjAFju3ijq0h3c2suddcOQYdh1OouNhRkGA2mUDBsiEoEAMzuG8j9DYod17VD7BNsomiLcKVGbciyevVqPP7449i+fTvXq3nAgAGYOnUqwsLC9D64sWPH4oMPPoC/vz86dOiAixcv4tNPP8XcuXMBKOtXFy1ahBUrViAkJARBQUFYtmwZvL29MX78eL2PR1+klJEWPWo0zx+ua00Lnxz/uZ2NU3G5MJdJ8fqIti36vVuSKkYylLpdQ2RoNdL/xmYjPrsEdhZyPN7TT+jhNBjVSIsbbQCs1OidDcPCwnQGzfn5+diyZQsWLFigl4EBwLp167Bs2TI8//zzyMrKgre3N5599lm8/fbb3GNef/11lJSUYP78+cjPz0dERAQOHjwIS0tLvY1D34SuESUPp15EYeqHCP0TomtHdY0CH+5Xbr4yu18g/JyNY/MVXSTU/o53tQ/dYj+UbziVCAB4oqcfbC0afdoXjKpGmjHl+dJQMukmg+sjbdq/l2b/RR09ehQ//vgjdu/eDWtra70G0nZ2dli7di3Wrl1b72MkEgmWL1+O5cuX6+378k1GCyhEj2qk+SOVqmukGWMtchDeGZOK2KxiOFqb4YVBrXn/fkJSzSajKmneGNLOhnFZxThxOxsSibKsw5CoWsUCyqy0OQXSokIZaaUm9X1KSUnB8uXLERQUhOHDh0MikWD37t0PbDlH1OhylfgxqpHmjUxjTlsi/iipqMaav5W96BcOCYGDtfFsvqILZaT5V3tuxTzVG6OUG7AMbecBfxfDuhIj1wicKfEkPlQjrdTgQLqqqgo7d+7EiBEj0LZtW/z333/45JNPIJVK8eabb2LkyJEP7DNN1GhnQ/GjAwR/ND+ctMQ6gW//jUdOcQUCXKwxI0w/m0WJmYQrnRF2HMbMULp2FJRW4feYuwAMp+WdJplUMyNNq/PFRkEJJwCNKO3w8fFBaGgoZsyYgR07dsDJyQkAMHXqVN4GZ6xUjUjoE7Z4qftIm/YBgg+ajXhqFAxmMv6+V0ZBOb779w4A4I2RoTCXG9fmK7pwiw1FnSc1bLXjZrHGeL+cT0ZZVQ1CPe0Q3spF6OE0mlzjYEHnS/GhY4xSg88q1dXVkEgkkEgkkMl4PPOZAG6xoUizGERjISjF0XonbcHSjk8P30J5lQLd/R0xqqMnv99MJFTb9dLhhT+GkJGurlFgU1QSAGBuvyCDXBCmWRJNpZDiw20RbnhvLb1qcCCdlpaG+fPnY/v27fD09MSkSZOwe/dug/zjFJrQWySTh6OMNH80L9fyWdpxI70QO2OUm6+8Oaa9yRyrVEk8MS+AM3RiDJxrO3w9E3fzy+BsY47HunoLPZwmkUgktLuhiFF3K6UGB9KWlpaYPn06jh07hitXrqBdu3ZYuHAhqqur8cEHH+Dw4cOoqanhc6xGg7p2iB8lpPmjVSPN49/AygM3wRgwppMXegQ48fZ9xEe4nSNNRZ3SDhEG1qqWd9N6+8OSz/opntHifBGj8ySAJnbtCA4OxooVK5CUlIT9+/ejoqICjz76KDw8PPQ9PqMkp9IO0VNl86jbkv5pzilfWdMTt7Px7+1smMkkeH2k8W6+oot6QxZhx2HM6gbSwoyjPlfvFuBsYh7kUglmhhv2AlsuI10jskkmXI20iSekm9dHWiqVYtSoURg1ahSys7OxefNmfY3LqKkycvQJW7zUtV8mfoTggYznllY1CoaVfyk3X3kqPBABLjZ6/x5ipu7aQccXvoi9j/RPp5Qt78Z09oKHvXg3J2sIdUZapCs6TRi1iVXS2xJ2Nzc3vPLKK/p6OaNGOxuKH33S5o9y0bLy//mokf49JhU3M4pgbynHi0OMe/MVXVQnNTq68KfuYkOBBqJDdlEF/ryUDgCY0y9I4NE0n1ymDFOoFFJ8aOMyJePvBSVCUqqRFj11jbSpHyL4IeVp05DSymqs/vsWAODFISFwtDbX7zcwANzOhiLLkhqT2jMrprneeiYJlTUKdPN3RFc/R6GH02xUIy1e3G/ExE+TFEgLQLUhC5V8iRe19eGXjKfONT+cTEBWUQV8nazwVF/Drg1tKtrZkH+137ZiifEqqmuwJToZgHFkowFQ1w4RY5RwAkCBtCCotEP8FLTYkFd81PFmFZXjmxPqzVcs5IbbqaA5qEaaf7Uz0GLJSP95KR05xRXwtLc0mr7plJEWP1NPOFEgLQCuj7RIDr6kfqb+SZsv6g+T+nvNzw7HorSyBl39HPFoZy/9vbCB4TZkEXgcxkyMNdKMMWyIUi4ynBkeADOZcZze1RlpWmwoJpofHk39LNnorh31LSiUSCSwtLRE69atMW7cODg7Ozd7cMaKLlWJn+pqgdQ4zkWiI9Pzh8nbmUX45ZzykvabY9qZdLcVan/Hv9oxnRgy0ueT7uHq3UJYyKWY1ttf6OHoDZeRplpIUdF8y5vy8RZoQiB98eJFXLhwATU1NWjbVtmf9fbt25DJZAgNDcX69euxePFiREZGon379nofsDGgxYbiR5+1+aXv8oOVf92AggEjO3iiV6Bpf4iXcIE0HV/4UmexoSCj0PZTpDIbPaGbD5xsjGeRrVxKXTvESPPYbeolkI3Ot40bNw5Dhw5FWloaYmJiEBMTg9TUVAwbNgxTp07F3bt3MWDAALz88st8jNcoqK640YFBvKhGml/6XCcQGZuD47eyIZdK8Mao0Ga/nqGj9nf8q/0hReh69NR7pTh0LQOA8SwyVKEaaXHS/G2YeglkowPpTz75BO+//z7s7e252xwcHPDuu+9i1apVsLa2xttvv42YmBi9DtSYqC5rC33wJfWjrh38Up0cm1vaoVAwfHh/85UZYQEIcjWtzVd0UmX7KfDgjdhqpDefToKCAf1au6Ctp52wg9EzuYyu4IoR046kTVqjA+mCggJkZWXVuT07OxuFhYUAAEdHR1RWVjZ/dEaKSjvET71FuIkfIXiiqqlr7vqh3Rfv4np6Iews5Fj4SIgeRmb4KCPNv7rt74Sb7dLKamw/e7/lXV/jykYDlJEWK6ZZAGnip8kmlXbMnTsXu3fvRmpqKlJTU7F7927MmzcP48ePBwCcPXsWbdq00fdYjYa+F1oR/VP9Zkz8+MAbfVyVKaus4TZfeWFIazgbUV1oc6jes3TFiz916s8FnOrfL9xFYXk1AlysMSTUXbiB8IS6doiT1mJD4YYhCo1ebPjtt9/i5ZdfxpQpU1BdXa18Ebkcs2bNwmeffQYACA0NxQ8//KDfkRoR6iMtftzWp6b+UZsnUj0sNvzpVALSC8rh42iF2X0D9TMwI8DXrpFErfbcCvWhRaFg2HhKuchwdt9A7mqnMaGMtPiZ+nmy0YG0ra0tvv/+e3z22WeIj48HALRq1Qq2trbcY7p27aq3ARojrj6UPmCLFtVI86u55U3ZRRVYfzwOAPD6yLawNDPNzVd0oa4d/BNLjfTJuBzcyS6BrYUcj/fwFWYQPKOuHeKk+SdghJ/fGqXRpR1btmxBaWkpbG1t0blzZ3Tu3FkriCYPJ6NLVaKnOmZTjTQ/uKsyTQz2Pj96GyWVNejs64Cxnb31OTSDJ6Eaad7VjumE+tCy4X42+omevrCzNBNkDHyjPtLipHnspq4djfTyyy/D3d0d06ZNw19//YWamho+xmXUaGdD8VMtpDDtwwN/pFyNdOOfG5dVhO1nUwAA/ze6nVFezm4OqpHmn2pu5dKmv4+bKy6rGP/cyoZEAqMubaINzMRJq2mHiR+CGx1Ip6enY8eOHZBIJJg8eTK8vLzwwgsvICoqio/xGSUq7TAAqow0BWm8UE1rU06OHx24iRoFw9B2Hghr5aLnkRk+qpHmH6t1fBAiI70pKhEA8EioBwJcjLftI9VIixOVjqk1OpCWy+V49NFHsXXrVmRlZeGzzz5DYmIiBg8ejODgYD7GaHRosaH4cYsNBR6HsWrq38DpO7k4ciMLMqkES2jzFZ3Uu0YKOw5jpgoiZM24stIcBWVV+P1CKgBgbr/Alv3mLUzdR5oyT2JCGWm1Ri821GRtbY0RI0bg3r17SEpKwo0bN/Q1LqNGpR3ip15saOJHCJ40pbRDc/OVab390dqd1mboon7H0vGFL6r3rarsgLXwXP96LgWllTVo62GH8GDjviqjOlZQRlpctNvfmfZ5stEZaQAoLS3F1q1bMXr0aPj4+GDt2rWYMGECrl27pu/xGSXVFuGUkRYvBRdICzsOY9WUD5N7L6Xhyt0C2FrI8dJQ2nylPlIu2y/wQIyY6oqVVIAa6eoaBTbeL+uY0y/Q6D/sU420SGkG0sb9FnyoRmekp0yZgj///BPW1taYPHkyli1bhvDwcD7GZrRkqnY+lJEWLVWGiUqk+SFVfZhs4N9AeVUNPjmk3HzluUHBcLW14GtoRqOls6SmRDWzcgFqpI/cyMTd/DI4WZthfDefFvu+QlGdLykjLS6ax25T727V6EBaJpPh119/xYgRIyCTafduvXr1Kjp27Ki3wRmr+yVfdGAQMa60w8QvWfGFqy1t4N/AhlOJuJtfBi8HS8yLML5tkPWJFhvyj9XKSLfkXP90KhEAMK2Pv0n0T6eMtDhp1UgLNgpxaHQgvXXrVq1/FxUVYfv27fjhhx8QExND7fAagBYbih93ojT1IwRPGrMhS26xevOV10bQ5isPQ4sN+Ve7RrqlWg1evVuAswl5kEslmBkW2CLfU2gyGfWRFiPNqzAmnpBuWo00APz777+YNWsWvLy8sHr1agwZMgTR0dH6HJvRau6uboR/3K/G1I8QPGnMYsN1x+JQVFGNDt72GN/V+C9lN5fqwx+VdvCHq5Fu4a4dG+5no0d18oKng2XLfFOByWkDM1HS7tph2ufJRmWkMzIysHHjRvz4448oLCzE5MmTUVFRgT179qB9+/Z8jdHoqFsm0YlOrKhGml8N/RuIzy7GlugkAMCbtPlKg6jKkejwwh/V1URVa7aWOJZnF1Vg36U0AMbf8k4T9ZEWJzq+qDU4Iz127Fi0bdsWly9fxtq1a5GWloZ169bxOTajRRlp8VNQjTSvVIsNH/Y38PHBm6hWMAwJdUff1q4tMDLDp0oO0YYJ/FHNrIybbP6/57YzyaisUaCrnyO6+Tvx/w1FgmqkxYnb/ZdOkQ3PSB84cAALFy7Ec889h5AQaj3VHDKu9ZfAAyH14nYuo4MEL6QNyEifTcjDoWuZkEqApbT5SoNJBNokxJTU3tmQ74x0RXUNtpxRXpmZY0LZaIC6dogWd46kk2SDM9KRkZEoKipCjx490KdPH3z55ZfIycnhc2wAgMBAZZ/M2l8vvPACAKC8vBwvvPACXFxcYGtri0mTJiEzM5P3cTUHdzmQDgyipcrm0TGCH7KHBCAKBcMH+68DAKb09keIh12Ljc3QSVsuSWqyVO9beQv1kd5/OR3ZRRXwsLfA6E5e/H4zkaGMtDipr9qSBgfSYWFh+P7775Geno5nn30WO3bsgLe3NxQKBQ4fPoyioiJeBnju3Dmkp6dzX4cPHwYAPPHEEwCAl19+Gfv27cPOnTtx4sQJpKWlYeLEibyMRV/UOzXR4gmxop0N+aWa15p6/gT+vJKOS6kFsDGXYRFtvtIoqncsrcHgj2puZS2wsyFjjFtk+FR4IMxkTe4RYJDUNdJ0vhQTKu1Qa/RfpI2NDebOnYvIyEhcuXIFixcvxkcffQR3d3c89thjeh+gm5sbPD09ua8///wTwcHBGDhwIAoKCvDjjz/i008/xZAhQ9CjRw9s2LABUVFRD+wgUlFRgcLCQq2vlqQ6MJRXKXD6Ti4qq+kAITYKykjzStVLXVewV1Fdg1UHbwIA/jcwGO52ptGdQF+klJLmneptK2uBjHRM0j1cuVsAC7kUU3v78/eNRIoy0uJEey2oNeujbdu2bbFq1SqkpqZi+/bt+hpTvSorK7FlyxbMnTsXEokEMTExqKqqwtChQ7nHhIaGwt/fH6dPn673dVauXAkHBwfuy8/Pj/exa1JlpP9LycfU76Px8+nEFv3+5OG47nd0kODFg3qp/xyVhNR7ZfCwt8DT/Vu19NAMHmWk+cdq1YfyubBTlY0e39UHzjbmvH0fsaI+0uLE/TboFNm8QFpFJpNh/Pjx2Lt3rz5erl579uxBfn4+Zs+eDUDZjs/c3ByOjo5aj/Pw8EBGRka9r7N06VIUFBRwXykpKTyOui5ZrRVsqffKWvT7k4dT0IYsvKpvQdy9kkqsOxYLAFg8vC2szGnzlUajnQ15V7tGmq+5vptfhoPXlOeyORGB/HwTkaOMtDhx64gEHocYNHpnQyH9+OOPGDVqFLy9vZv1OhYWFrCwsNDTqBqvdolbBZV2iA9XIy3sMIyVunON9slx3bE4FJZXI9TTDpO6+woxNIMnfUDZDNGP2jXSfM31z6cTUaNg6BvsglBPe16+h9hR1w5xYnSO5BhMIJ2UlIQjR45g165d3G2enp6orKxEfn6+VlY6MzMTnp6eAoyyYWq3i6moom3Vxab2zmVEv3SVdiTmlGBzdCIA4M0x7epcuSENw23IIvA4jJmiBWqkSyurseOs8mrpnH5B+v8GBoIy0uJG50g9lXa0hA0bNsDd3R1jxozhbuvRowfMzMxw9OhR7rZbt24hOTkZ4eHhQgyzQeRS7WmnjLT40CGbXxIdWdNVh26iqoZhYBs39A9xE2hkho9ba0hvYl5o1kNzXTt4mOzdF++ioKwK/s7WGBLqrvfXNxTUtUOcFFTawTGIjLRCocCGDRswa9YsyOXqITs4OGDevHl45ZVX4OzsDHt7e7z44osIDw9HWFiYgCN+MGmd0g7KSIuNotZiIqJfslpZppikPPx1JQNSCfB/o9sJOTSDRzsb8ktzWmU81Uhrtryb3TfQpK/OUEZanKhFrJpBBNJHjhxBcnIy5s6dW+e+zz77DFKpFJMmTUJFRQVGjBiB9evXCzDKhpPVeuOVV9EnbbGhDVn4pbmzIWMMH+y/AQCY3NMPbT1p85XmUJ3YKOzgh+ZVFJmEnxrpk7E5iMsqhq2FHE/0NO21AuqMNL2jxUTd2YoYRCA9fPjwerMrlpaW+Oqrr/DVV1+18KiarnZ2gTLS4lO7vRXRL6lG144DVzNwITkfVmYyvDKsjcAjM3zU/o5fCh0ZaX3HeBtOJQAAHu/hCztLM/2+uIFR7QRMGWlx4WIyOkUaTo20MZFKdWek3917Dc9tiaFLsiJAuzbxS9W5pryqBh8dUG6+Mn9AK7jb0+YrzSWl9ne80tzFUBXk6XNnw/jsYhy/lQ2JRFnWYeq4rh3UR1pUKCOtZhAZaWNTu7RDlZHeGJUIALhytwCdfR1beFREk2pdC9V/8UMV7P1yLgXpBeVws7PA/AG0+Yo+6FrISfRHc1r5+NCiOg88EuqOQFcb/b2wgaIaaXGiGmk1ykgLoG5ph0KrDVhxeXVLD4nUwmWkBR6HsVJdlUkvKAcALB7WBjYW9LleH6gciV8KHV07dO3Q2RQFZVX4LSYVgGm3vNNEXTvEiXEtYgUeiAhQIC2A2oF0eVWN1sYU5VQzLTjq2sEvzasybT3s8ERPPwFHY1woI80vPmukd55PQWllDdp62KFvsIt+XtTAUUZanLjSDjpHUiAtBF0Zac2DRFklffIWGu3axC/NP4Glo0NNur2XvkmoRppXmh9QuC3C9VAjXaNgXFnH7H6BFKDcR107xInWGqpRIC2A2lnO8qoa7UCadjoUHF224pf1/TKO/iGuGNiGNl/RJ+rawS9dfaT1EeMdvp6J1HtlcLI2w4RuPs1/QSOh2sCMMtLiQgvy1agoUQC6MtKaK5IpkBaeekUyHSX4MCMsAIwBcyjzpnfqDVmEHYex0uyqpF5s2PzJVrW8m9rbH5Zmsma/nrGgjLQ4qd/ydPymQFoAtbt2MKZdF11eSYG00GhDFn75OFphyahQoYdhlKj9Hb804zm5nnY2vJZWgDMJeZBJJZgZHtC8FzMy1EdanKj8UY1KOwRQe4twACiuUHfqKKVAWnAK7iBBRwliWFTvWH32NiZqmiUzUq60o3lzvfH+duCjOnrCy8GqWa9lbKhrhzipji9U/kiBtCB0LawqrVAHz8UVVS05HKKD6rRIBwliaGixIb8UGlerNHfobKqc4gr88V8aAGBuBLW8q43r2kEbsoiKerEhnSQpkBZA7dIOQDsjXVxBGWmhUWkHMVTU/o5nGt0KpFw9etPnetuZZFTWKNDFzxHd/Z2aPz4jQzXS4kSlHWoUSAtAZ0a6UjOQpg1ZhKY6SFAfaWJouBppgcdhrDR7zDd3riurFdgcnQQAmNsvsPmDM0LUtUOcaNMyNQqkBaArkC7RqIsuoUBacJTNI4ZK3f5O0GEYLQXXGlPCTXZTdzb860o6sosq4G5ngVEdvfQ1RKNCGWlxoi3C1SiQFoBUZ420RkaatggXHGWkiaHiFjPTh0Fe6KtGmjGGn+63vHsqPADmcjod60I7G4oT/TbU6C9XALpqpDUz0lTaITwF1UgTA6Va/ENxBz+YVmnH/duaEFZcSL6Hy6kFMJdLMbW3vx5HaFyoa4c40ToiNQqkBaCztKOCaqTFRN21g44SxLBImhHckYfTXGSl+tDSlOT/T/db3o3v6g0XWws9jc74UB9pcVLQVVsOBdIC0PXGK9FYbEg10sLjPm0LPA5CGktVs0gJPH5o1kirciKNXVORll+Gg1czAABz+lHLuwehGmmxooy0CgXSAnhYH+kiCqQFRwspiKFSlxsQPmiWfXEfWhoZSP98Ogk1CobwVi5o52Wv9zEaE1XXDsaavqiT6J+6jzShQFoAujb50MxCV1YrUFlN6SQhUY00MVTqcgMKOvigs/1dI6a6rLIG288mAwDmUMu7h9JMPFFWWjxUvwlKNlEgLQhdbzzN0g6AyjuExh0kBB0FIY3H1UhTzMET9dbI6s1vGv7s3RfvoqCsCn7OVniknQcP4zMuco1AmuqkxYMy0moUSItEaaX2boa04FBYtJCCGCra2ZBfCo2yr8bubMgYw4b7Le9mhQfqLPMj2rQz0nSlViwYRdIcCqRFonYGmgJpgVFpBzFQXGmHwOMwVurFhuqriw39zBIZl4PYrGLYmMswuZcfX0M0KpSRFifqbKVGgbRIUEZaXCgjTQxVUztJkIZRJUUlEkmjs/8b7re8e6KnH+wtzXgYnfGhGmlxUlBnKw4F0iJRO3C+mHyPVigLiOvBS0cJYmAk6kbShAdMo0a6MTsbJuSU4NjNLEgkwKy+gTyO0LhIJBIumKaMtIho9FM3dRRIi0TtjPSHf93EI5+ewOboJJTVuo/wT5V1oow0MTTU/o5f6tLQxtVIb4pKBAAMaeuOIFcbnkZnnKiXtPioF+TTOZICaZFQZaTbednj2YGtYGcpR0JOCZbtuYrwj45i9aFbyCosF3iUpoO6dhBDRYsN+aVZI821v3vIcwrLq7DzfAoA2oClKVR10jU19J4WC0YZaQ4F0iKh6hvtZmeBpaPaIXrpI3h3bHv4O1sjv7QKXx6PQ7+Pj2Hxr5dwPa1Q4NEaP6axexkhhqSxC+BI42h27VDf9uDJ/vVcCkoqa9DGwxb9WrvwOTyjpM5IU9cOsWB0zYsjF3oARJvqk7eNhRyz+wVhZnggDl/PwA8nE3A+6R5+v5CK3y+kIqK1K+b1D8LAEDdIqYWS3tGnbWKoVG9Zykjzg8tISxtWI12jYNh0OhEAMLtvEG1g0QRyqpEWHdr9V40CaZGp3VdUJpVgZEcvjOzohYvJ9/BDZAIOXElHZFwOIuNy0NrdFk9HBGF8Nx9YmskEGrXxoZ0NiaFqym57pOFU8yptYB/pozcykZJXBkdrM0zo5tMCIzQ+svvbhFONtHholjiZOirtEBn5A96V3fyd8NW07jjx2mA8HREEWws54rKKsWTXFfT76Bg+O3wbOcUVLTha40ULKYihkjRiARxpPKbR9qshZTQ/3d+AZWpvf1iZU7KjKSgjLT7qLcIFHYYoUCAtMg0p0/BztsZbj7ZH1NIheGtMO/g4WiG3pBKfH41F34+OYcnvlxGbWdQCozVe9GmbGKqGLoAjTaPQkZGur4zmRnohouPzIJNKMDMsoIVGaHyoa4cIaXSvMXUUSIvMgzLStdlbmuHp/q1w4rVBWDe1G7r4OqCyWoEd51Iw7LN/Meuns4iMzaHMVFNQ/RcxcFQjzQ/Nsi8JVyOte65V24GP7OgJb0erlhmgEZLLVBlpWmwoFqrFhnSKpBppwVmby7R6SNeukW4IuUyKsV288WhnL8Qk3cP3J+Px9/VMnLidjRO3sxHqaYd5EUF4rKs3LOR0abEhKCNNDJW6tEPYcRgr7Rrp+ks7cosrsOe/NADAXGp51yxcRpra34mGup86EX1G+u7du5gxYwZcXFxgZWWFTp064fz589z9jDG8/fbb8PLygpWVFYYOHYrY2FgBR9w4VrUWCDYmI12bRCJBz0BnfDuzJ/55dRBm9w2EtbkMNzOK8NpvlxHx8XF8eSwW90oqmztso0f1X8RQNWa3PdJ4TCsjrbxN11xvO5OMymoFuvg6oLu/Y8sN0AhRjbT4MDpJckQdSN+7dw/9+vWDmZkZDhw4gOvXr2PNmjVwcnLiHrNq1Sp88cUX+Oabb3DmzBnY2NhgxIgRKC83jM1Lai8+Ua1Obq4AFxu8+1gHnF7yCN4YGQoPewtkF1Vg9d+3Ef7RUby15wris4v18r2MkfryLR0kiGFRv2Up6OCDrhrp2uVzldUKbI5OAqDcgIWOI81DXTvER/WboKu2Ii/t+Pjjj+Hn54cNGzZwtwUFqS+RMcawdu1avPXWWxg3bhwA4Oeff4aHhwf27NmDKVOmtPiYG0ufGWldHKzN8NygYMyLCMJfV9Lx/cl4XEsrxJboZGw9k4xHQt3xdP9W6BPkTAd7DXTZihgqykjzS/NDtqSehZ0HrqYjq6gC7nYWGN3Jq4VHaHwoIy0+Co3uNaZO1BnpvXv3omfPnnjiiSfg7u6Obt264fvvv+fuT0hIQEZGBoYOHcrd5uDggD59+uD06dP1vm5FRQUKCwu1voTi52yt9e+m1Eg3hLlcivHdfPDnixHY/kwYhrZzB2PAkRtZmPJdNMZ+GYk9F++iqoYWcwDadZCEGBLVO5YWGfNDc/2Ers1vGGP4KVK5yHBmWADM5aI+zRoE6tohPrQhi5qo/8Lj4+Px9ddfIyQkBIcOHcJzzz2HhQsXYtOmTQCAjIwMAICHh4fW8zw8PLj7dFm5ciUcHBy4Lz8/P/5+iHp8Na07hrf3wCvD2mjdru+MdG0SiQThwS74YVYvHF08ENP7+MNCLsXVu4VY9Mt/6P/xcXxz4g4KSqt4HYfYadZBEmJI6suSEv1QX9KW6Mz+X0jOx6XUApjLpZjWx7/lB2iE1BlpSvSIB2WkVUQdSCsUCnTv3h0ffvghunXrhvnz5+OZZ57BN99806zXXbp0KQoKCrivlJQUPY244cZ09sJ3T/WEs4251u18ZaR1CXazxQcTOuH00keweFgbuNpaIKOwHB8duInwj47i3b3XkJxb2mLjERPNkyUhhoRbAEfZO15ofshWLWnRzP6rWt6N6+INF1uLFh+fMaKMtPioM9LCjkMMRB1Ie3l5oX379lq3tWvXDsnJyQAAT09PAEBmZqbWYzIzM7n7dLGwsIC9vb3Wl1BqX/ZryUBaxdnGHC8+EoJTSwbjk8c7I9TTDqWVNdgYlYhBq4/jf5tjcD4xz6QuFVMPXmKoaEMWfqmSohKJhNuMQnW4SC8ow4Gryquhc6jlnd6o+0jTu1osaPdfNVEH0v369cOtW7e0brt9+zYCApQ7RAUFBcHT0xNHjx7l7i8sLMSZM2cQHh7eomNtKjOZ9q+A79KOB7GQy/BETz8ceKk/Ns/rjYFt3KBgwMFrGXj8m9OYsD4Kf15OQ7UJ1FFTjTQxVOoaaUGHYbS0aqRr7Wy4+XQSahQMYa2c0d5buASNseG6dlAfadFQt78TdBiiIOquHS+//DL69u2LDz/8EJMnT8bZs2fx3Xff4bvvvgOgzAgsWrQIK1asQEhICIKCgrBs2TJ4e3tj/Pjxwg6+gSzqZKSF/2wjkUjQP8QN/UPccDuzCD+eTMDu/+7iv5R8LNh2ET6OVpjTLxBP9vKDnaWZ0MPlhYIuWxEDpd4khIIOPuiukWYoq6zBtrPKq6WUjdYv6tohPrRpmZqoA+levXph9+7dWLp0KZYvX46goCCsXbsW06dP5x7z+uuvo6SkBPPnz0d+fj4iIiJw8OBBWFpaCjjyhquTkZaJ613ZxsMOHz/eGa+OaIst0UnYHJ2Eu/llWLH/BtYeicWUXn6Y3S8Qvk7WD38xg6I6SIjr90HIwzxokxDSfEyj7ZfmzoZ7/ruL/NIq+DlbYWg7jwe8AmksqpEWHyrtUBN1IA0Ajz76KB599NF675dIJFi+fDmWL1/egqPSH5lUAplUwn3SFqJGuiHc7Czw8rA2eG5QMHZfvIsfTsbjTnYJfohMwIaoRIzq6Imn+7dCVz9HoYeqF5SRJoaK2yKcqqR5obkhi2Zph2qR4azwQNEexw2V+f2E09YzSejgbY8uRnKeMWTU2UpN+DoCwh0kAGFrpBvC0kyGqb39cfjlgdgwuxf6tXZBjYLhz8vpGP/VKTzxTRQOXs0w+EtwjC5bEQMl0dGSjeiPQrNrx/3jw9W7hbidWQwbcxkm92r5dqrGblIPH9iYy3AtrRDj15/Ckt8vI7e4QuhhEVAgDVAgLQpmGuUchpLJkEolGBzqjq1Ph+Gvhf0xsbsPzGQSnEu8h/9ticHg1f9g46kElFRUCz3UJlEHIYbx+yBEhXYI55d2Rlo522VVNQCAx3v4wt5I140IaUioB46/OggTu/mAMWDHuRQMXv0PNkUlmsTidzFS7/5L50gKpEXAXK7eJlzsGWld2nvb49PJXRH5xhC8MDgYDlZmSM4rxbv7riN85VF8dOAm0gvKhB5mo9BlK2KoNBfAEf3jrlZJ637MntU3sMXHYyrc7S3x6ZNd8dv/wtHeyx6F5dV4Z+81PLouEmfic4UenslRlY7ROZICaVEw18hISw0wkFbxsLfEayNCcXrpELw/rgMCXaxRWF6Nb07cQf+Pj+PlX/7D1bsFQg+zQaj9HTFU6hppwgfNTJzm8WFwWze0crMVaFSmo2egM/a9GIEV4zvC0doMNzOK8OR30Vi4/SIyCsqFHp7JoC3C1SiQFgHNTVkMMSNdm7W5HDPDA3F08SB8N7MHegc5o1rBsPviXTy6LhJTvjuNozcyRb3zGrXIJIaqdm9jol8KHTsbAsDcCGp511JkUglmhAXg+OJBmN7HHxIJsPdSGoas+Qdf/3MHFdU1Qg/R6HEL8oUdhihQIC0Cmi3wxNBHWl9kUgmGd/DEr8+GY++CfhjX1RsyqQTR8XmYt+k8hn56Aluik1BWKb6DnrpHJh0miGHR3G3vg/3X8e/tbJRXie9vzFBp1ki72ynbrIZ62iGitauAozJNTjbm+GBCJ+xbEIHu/o4orazBxwdvYtTak/jnVpbQwzNqVP6oJvr2d6bA2DLSunT2dcTnU7rhjZGh2BSViG1nkxGfU4K39lzFmr9vYUZYAGaGB3AnJqGpL1sJOw5CGsvBygzudhbIKqrA9ycT8P3JBJjLpegd6IyIEFdEtHZFey97gy4jE5JmR5+OPg7YMq8P2nja0iVuAXX0ccBv/+uL3RfvYuWBm4jPKcHsDecwrL0Hlo1pD38XY9vnQHh01VaNAmkR0AykDaVrR1N5O1ph6eh2ePGREPx6LgU/nUpA6r0yrDsWh29PxGNcV2/M6x+EUE9ht9dV0KdtYqDM5VIcfmUg/r2djZOx2YiMzUFaQTki43IQGZcDAHCxMUe/1q7oH+KK/iFu8HQQxwdYQ1B7/URECGWixUAqlWBSD18M7+CBz4/EYmNUIg5fz8SJ29n434BWeG5Qa1iZyx7+QqRhqEaaQ4G0CJgZUB9pfbG1kGNuRBBm9Q3E39cy8P3JeFxIzsfOmFTsjElF/xBXPN2/FQaEuAryh8p92qaDBDFADlZmGNvFG2O7eIMxhjvZJYiMzcbJ2BxEx+cit6QSey+lYe+lNABAiLstIkKUgXWfIBfYWNCpoT70IVvc7CzN8Naj7fFkLz+8u+8aTsXl4otjcfj9wl28NaYdRnb0pOO6HnBdOwQehxjQ0VIELEwoI12bTCrBqE5eGNXJCzFJ9/BTZAIOXE3HydgcnIzNQYi7LZ7uH4RxXX1gadZy2QTakIUYC4lEgtbutmjtbovZ/YJQWa3Afyn5OHk/sL6cmo/YrGLEZhVjw6lEmMkk6O7vhAFt3BDR2hUdfRxM7rj0IArKxBmEEA87bJnXBwevZmDF/hu4m1+G57ZeQL/WLnh3bAeEeNgJPUSDRuWPahRIi4BWRlpmuu/KHgFO6BHghJS8Umw4lYhfziUjNqsYb/x+BZ8cuoWZYYGYEeYPF1sL3sdCzeaJsTKXS9E7yBm9g5yxeHhbFJRWIepODk7G5eBkbDZS8spwJiEPZxLy8MmhW3C0NkO/YFcuY+3rZNr1pgr6kG0wJBJlomZQW3d8/U8cvvk3HqficjHq85OY0y8QCx8JgR1toNMkdNVWjQJpETA30q4dTeXnbI23x7bHomEh+OVsCjacSkBaQTk+O3Ib6/+Jw8TuPpgXEYTW7vxlFOhkSUyFg7UZd1UIAJJyS/BvbA4iY7MRFZeL/NIq7L+Sjv1X0gEAQa426H9/0WJ4sIvJBSKqAII6+hgOK3MZXhneFo/38MPyP6/jyI1MfH8yAXv+S8OSkaGY0M2HFt82ElfiJPA4xIACaREw0yztoIMzx97SDM8MaIXZ/QJx4GoGfjgZj8upBdh+NgXbz6ZgcFs3PN2/FfoGu+j9UzHtEE5MVYCLDWa62GBmWACqaxS4lFqAyFhltvpiSj4SckqQkFOCn08nQSaVoJuf4/1stRu6+DpALjPuZAC1/TJc/i7W+GFWTxy/lYXl+64jIacEi3dewrazyXjvsQ7o6OMg9BANBpV2qFEgLQLaGWl6V9ZmJpPisS7eGNvZC+cS7+GHk/E4fCMTx29l4/itbLTzssfTEUEY28VbqwNKc9DOhoQAcpmUK7l6aWgICsurEH0nF5FxyjUMCTklOJ90D+eT7mHtkVjYWcrRN9gFESFuGBDiigAXG6F/BL1TbSRFl7QN1+C27ugb7IKfIhOx7lgsYpLuYeyXkZja2x+vDW8LJxtzoYcoeur2d/R3QIG0CGj1kTbhGumHkUgkXG1nYk4JfjqVgJ3nU3EjvRCLd17CxwdvYlbfQEzv4w9H66YfCJnGjnD02yBEzd7SDMM7eGJ4B08AQOq90vvZ6hycupOD/NIqHLqWiUPXMgEAfs5WiGitDKr7BrvCwdrwy0AU9CHbKFjIZXhuUDAmdPPBh3/dwN5Ladh2Jhl/XUnHq8PbYmpvf0psPQhdmeFQIC0C5hrBM/3hNkygqw2Wj+uIV4a1wbazydgUlYjMwgp8cugWvjwWh8d7+GJuRBCCXBufEdPcuZxOloTUz9fJGlN6+2NKb3/UKBiu3i1AZFwO/r2djQvJ95CSV4btZ5Ox/WwypBLlxkyq+upu/k56u4LUktQ10oIOg+iJp4MlvpjaDdP6+OPdvddwM6MIb+25iu33yz16BjoLPURRUi82FHQYokCBtAiYws6GfHG0Nsfzg1rj6YhW+PNyGn44mYDr6YXYHJ2ELWeSMLSdB56OCELvIOcGX4rVykjTr4OQBpFJJeji54gufo54YXBrlFRU42xCHv69vylMbFYx/kvJx38p+Vh3LA425jKEtXJRBtYhbgh2szGIcgl1a0zxj5U0XFgrF/z5YgS2nknGmr9v4VpaIR7/5jQmdvPBklGhcLenTYs0UWcrNQqkRcCMaqSbzVwuxcTuvpjQzQen43Pxw8kEHLuZhcPXM3H4eiY6+zpgXkQQRnfy0ppvXTQz0oZwYidEjGws5Bgc6o7Boe4AgPSCMnUZSFwOcksqcfRmFo7ezAIAeDtYKrcwD1H2r3YWaZ0qdSswXnKZFLP6BuLRzl745NAt/HI+Bbsu3sXf1zOx8JHWmN03yCCvovCBNiZSo0BaBLQz0vRH2hwSiQR9g5X1mHFZxfjpVAJ+j0nF5dQCvLTjP3x04CZm9w3ElN7+cLDSXa/JQBlpQvTNy8EKT/T0wxM9/aBQMFxPL1RuWx6bg7OJeUgrKMev51Px6/lUSCRAB2979A9xQ//WrugR6AQLuTi2d6YNWYyfi60FPprUGVN7++PtvddwKSUfH/51E7+cS8G7j3VA/xA3oYcoOEZ/BxwKpEWAMtL8aO1uiw8ndMLiYW2w9Uwyfj6diPSCcqw8cBNfHI3F5F5+mNsvCH7O2htMMKqRJoRXUqkEHX0c0NHHAf8bGIyyyhqcS8zjdlu8mVGEq3cLcfVuIb7+5w4szaToE6QsA+kf4oY2HraCncCpx7zp6OLniN3P9cVvF1Lx8YGbuJNdgpk/nsXIDp5469F2Jr05kbprB6FAWgRMeYvwluBia4GFj4Rg/oBW2PtfGn6IjMftTOV2yJuiEjGyoyfmRbRCjwAnANqBNP02COGflbkMA9q4YUAbZaYvq6gcp+632DsZm4PsogqcuJ2NE7ezAdyAu50Ft9Niv9aucLdrufpVao1pWqRSCSb39MOIDp5Ye+Q2fj6dhIPXMnD8VhaeH9Qazw5sBUszcVwtaUnUT12NAmkRoMWGLcPSTIbJvfzwRE9fnIzNwfcn43EyNgd/XcnAX1cy0M3fEU9HtEL/Nq7cc+hkSUjLc7ezxIRuvpjQzReMMdzOLOay1WcScpFVVIFdF+5i14W7AIBQTzsuW907yJnXwIYCCNPkYGWGd8Z2wJO9/PDu3muIjs/DZ0duY2dMCt5+tD2GtfcwyTIH0/uJ66JAWgSotKNlSSQSLvt1K6MIP0bGY8/FNFxMzscL2y7Ay8FS47ECDpQQAolEgraedmjraYen+7dCeVUNLiTdw8k45W6LV+8W4mZGEW5mFOH7kwkwl0vRO9BZuXCxtSvae9nrdftnqpE2baGe9tj+TBj+vJyOD/+6gdR7ZZi/OQYD2rjhnbHtEexmK/QQWwTVSKtRIC0CmjsbUka6ZbX1tMOqx7vgtRGh2Hw6EZujk5BeUC70sAgh9bA0k6Fva1f0be2KN0aGIre4Aqfu5CLyfsY6vaBcuYgxLgcA4GJjjn6tXbmMtadD88pAqEaaSCQSjO3ijUfaueOr43H4/t8E/Hs7GyPX/ou5EUF4cUgIbC2MO7xSLcqnOJoCaVEwoxppwbnZWeCV4W3x/ODW2HXhLjZHJ8HbwdIka98IMSQuthZ4rIs3HuviDcYY7mSXcEF1dHwucksqsfdSGvZeSgMAhLjbcvXVfYJcYNPIgIdqpImKtbkcr40IxRM9/PDevms4fisb356Ix56Ld/F/o9vhsS7eRpuxVVAfaQ4F0iIg0/hDo/Z3wrI0k2FaH39M6+Mv9FAIIY0kkUjQ2t0Wrd1tMbtfECqrFbiYfA+R9xcuXk7NR2xWMWKzlIuNzWQSdPd3woA2yt7VHX0cHprMYJSRJrUEutpgw5zeOHojE8v/vI6k3FK8tOM/bI1OxruPdUB7b3uhh6h36tIOYcchBhRIi4DmAVkmo3clIYTog7lcij6tXNCnlQsWD2+LgtIqRN3Jwb+xyvrq1HtlOJOQhzMJefjk0C04WpuhX7Arl7HW1d6MaqRJfR5p54F+rV3xw8l4fHk8DmcT8/DoupOYERaAxcPawsFa994Fhogr7RB4HGJAgbQIaC6EoRppQgjhh4O1GUZ18sKoTl5gjCEptxQn43IQGZuNqLhc5JdWYf+VdOy/kg4ACHK1UW5h3toV4cEusLM0ox3dyANZmsmwYEgIJnT3xYf7b2D/lXT8fDoJf15Ox2sj2mJyTz+jKOGkjLQaBdIioFnaYQx/YIQQInYSiQSBrjYIdLXBzLAAVNcocCm1ACdjsxEZm4OLKflIyClBQk4Jfj6dBJlUgm5+jqioVgCgGmnyYD6OVvhqendMj8vBO3uvITarGEt3XcH2s8l477EO6ObvJPQQ9YJqpCmQFgXNsmgZHZwJIaTFyWVS9AhwQo8AJywa2gaF5VWIvpPL1Vcn5JTgfNI97vGU8yAN0be1K/56qT9+Pp2EtYdv43JqASasj8LjPXzxxshQuNlZCD3EJqF+6moUSIuAZmZDn/1OCSGENI29pRmGd/DE8A6eAICUvFJlW73YHCTllWB0Jy+BR0gMhZlMinkRQXisizc+PngTv8Wk4reYVBy6moGXh7XBzPAArf0kDAGtFVCjQFoEqJyDEELEzc/ZGlN7+2Nqb+roQ5rGzc4Cq5/ogml9/PHOH9dw5W4Blv95HTvOKbt79A12ffiLiATVSKsZ1kcgI2VtTr2KCSGEEFPQ3d8Je17oh5UTO8HJ2gy3M4sx7fszeGHbBaTllwk9vAahrh1qFEiLQDc/J4zp5IXnBwULPRRCCCGE8EwmlWBqb38cf3UQngoPgFQC7L+cjkfWnMCXx2JRXlUj9BAfiDLSaqIPpN99911IJBKtr9DQUO7+8vJyvPDCC3BxcYGtrS0mTZqEzMxMAUfceFKpBF9N747XR4Y+/MGEEEIIMQqO1uZYPq4j/nyxP3oFOqGsqgar/76NEWv/xbGb4o1l7sfR1LUDBhBIA0CHDh2Qnp7OfUVGRnL3vfzyy9i3bx927tyJEydOIC0tDRMnThRwtIQQQgghDdfe2x6/PhuOz6d0hbudBZJySzF343nM3XgOiTklQg+vLurawTGIxYZyuRyenp51bi8oKMCPP/6Ibdu2YciQIQCADRs2oF27doiOjkZYWJjO16uoqEBFRQX378LCQn4GTgghhBDSABKJBOO6+uCRdh5YdywWP0Um4NjNLETG5uCZAUF4YXBrWJuLI2xTZaSpn7qBZKRjY2Ph7e2NVq1aYfr06UhOTgYAxMTEoKqqCkOHDuUeGxoaCn9/f5w+fbre11u5ciUcHBy4Lz8/P95/BkIIIYSQh7G1kGPpqHY4uGgA+oe4orJGga+O38Eja05g36U0roezkBQiGINYiD6Q7tOnDzZu3IiDBw/i66+/RkJCAvr374+ioiJkZGTA3Nwcjo6OWs/x8PBARkZGva+5dOlSFBQUcF8pKSk8/xSEEEIIIQ0X7GaLn+f2xrcze8DXyQrpBeV4cftFTP0+GrcyigQdGy02VBPHNYIHGDVqFPf/nTt3Rp8+fRAQEIBff/0VVlZWTXpNCwsLWFgY5m5ChBBCCDENEokEIzp4YmAbN3x7Ih7r/4lDdHweRn9xEk+FB2DR0DZwsDJr8XHRYkM10Weka3N0dESbNm0QFxcHT09PVFZWIj8/X+sxmZmZOmuqCSGEEEIMjaWZDC8NDcGRVwZiZAdP1CgYNpxKxCNr/sGv51OgULRsqQVlpNUMLpAuLi7GnTt34OXlhR49esDMzAxHjx7l7r916xaSk5MRHh4u4CgJIYQQQvTLz9ka38zsgc3zeiPYzQY5xZV4/bfLmPh1FC6l5LfYOGhDFjXRB9KvvvoqTpw4gcTERERFRWHChAmQyWSYOnUqHBwcMG/ePLzyyis4fvw4YmJiMGfOHISHh9fbsYMQQgghxJD1D3HDgZcG4P9Gh8LGXIb/UvIxfv0pLPn9MnKLKx7+As1FGWmO6GukU1NTMXXqVOTm5sLNzQ0RERGIjo6Gm5sbAOCzzz6DVCrFpEmTUFFRgREjRmD9+vUCj5oQQgghhD/mcinmDwjG+K4++OjATey6eBc7zqXgryvpWDy8Lab38Ydcxk++VNW1g9rfARImhj4qAissLISDgwMKCgpgb28v9HAIIYQQQhrlfGIe3v7jGq6nK/fGCPW0w3uPdUCfVi56/14r/ryOHyIT8OzAVlg6qp3eX78+YozXRF/aQQghhBBCHqxnoDP2vRiB98d3hIOVGW5mFOHJ76KxcPtFZBSU6/V7UdcONQqkCSGEEEKMgEwqwcywABx/dRCm9fGHRALsvZSGIWv+wdf/3EFFdY1evg917VCjQJoQQgghxIg425jjwwmdsG9BBLr7O6K0sgYfH7yJUWtP4p9bWc1+feraoUaBNCGEEEKIEero44Df/tcXa57oAldbC8TnlGD2hnN45ufzSM4tbfLrUkZajQJpQgghhBAjJZVKMKmHL46/OhBPRwRBLpXg8PVMDP3sBD79+xbKKpte7kFdOyiQJoQQQggxenaWZnjr0fY48FJ/9GvtgspqBb44Foehn57AgSvpaEwTN1X7OwqjKZAmhBBCCDEZIR522DKvD76e3h0+jla4m1+G57ZewMwfzyIuq6hBr8HF3JSRpkCaEEIIIcSUSCQSjOrkhSOvDMTCIa1hLpciMi4HI9eexAf7r6OovOqBz6fFhmoUSBNCCCGEmCArcxleGd4WR14eiKHtPFCtYPj+ZAKGrDmB32NSoVDoLvegxYZqFEgTQgghhJgwfxdr/DCrJzbM6YUgVxtkF1Vg8c5LeOLb07h6t6DO42lDFjUKpAkhhBBCCAa3dcfBRf3xxshQWJvLEJN0D2O/jMSbu6/gXkkl9zjKSKtRIE0IIYQQQgAAFnIZnhsUjGOLB+GxLt5gDNh6JhmD1/yDLdFJqFEwrsOHlAJpCqQJIYQQQog2TwdLfDG1G3bMD0Oopx3yS6vw1p6reOzLSMRlFQNQLlo0dRRIE0IIIYQQncJaueDPFyPw7tj2sLeU41paIc4n3RN6WKJBgTQhhBBCCKmXXCbF7H5BOP7qIEzp5cfVRluby4QdmAjIhR4AIYQQQggRPxdbC3w0qTOm9vbHv7ezMaGbj9BDEhwF0oQQQgghpMG6+Dmii5+j0MMQBSrtIIQQQgghpAkokCaEEEIIIaQJKJAmhBBCCCGkCSiQJoQQQgghpAkokCaEEEIIIaQJKJAmhBBCCCGkCSiQJoQQQgghpAkokCaEEEIIIaQJKJAmhBBCCCGkCSiQJoQQQgghpAkokCaEEEIIIaQJ5EIPQAwYYwCAwsJCgUdCCCGEEEJ0UcVpqrhNDCiQBlBUVAQA8PPzE3gkhBBCCCHkQYqKiuDg4CD0MAAAEiamsF4gCoUCaWlpsLOzg0QiqfdxhYWF8PPzQ0pKCuzt7VtwhMaP5pYfNK/8obnlB80rf2hu+UNzy4/a88oYQ1FREby9vSGViqM6mTLSAKRSKXx9fRv8eHt7e/pD4QnNLT9oXvlDc8sPmlf+0Nzyh+aWH5rzKpZMtIo4wnlCCCGEEEIMDAXShBBCCCGENAEF0o1gYWGBd955BxYWFkIPxejQ3PKD5pU/NLf8oHnlD80tf2hu+WEI80qLDQkhhBBCCGkCykgTQgghhBDSBBRIE0IIIYQQ0gQUSBNCCCGEENIEFEgTQgghhBDSBBRIE0IIIYQQ0gQUSBNCCCGEENIEFEiLQEFBgdBDMEoVFRVCD8Fo0dzyh+aWHzSv/KG55QfFBvzR53uWAmkBHTp0COHh4Xj88cfxxhtv4MKFCwAAhUIh8MgM26FDhzBo0CDMnDkTa9asQUpKCgCaV32gueUPzS0/aF75Q3PLD4oN+MPHe5YCaYFs3boVU6dOxciRIzFo0CAcO3YMkyZNQlJSEqRS+rU01TfffIPJkycjPDwcnp6eWL9+PWbOnIm8vDxIpVLQ/kNNR3PLH5pbftC88ofmlh8UG/CHt/csIy2uurqaPfnkk+zZZ5/lbouLi2MDBgxgERERrKKiQsDRGa7S0lI2fPhw9s4773C3HT9+nHXv3p2NHz+eMcaYQqEQaHSGjeaWPzS3/KB55Q/NLT8oNuAPn+9Z+ngjAJlMhsuXL8PDw4O7LTg4GF988QXOnz+Pn3/+GQDoE30jmZub49atW3B1deVui4iIwDvvvIM//vgDhw8fhkQioctjTUBzyx8LCwuaWz3Jysri/p/mlT90POAHxQb84fM9S4E0z65fv47CwkIA6hqc8vJyhIWF4fz58ygrKwOg/MPo0qULnn32WXzwwQcAAIlEIsygDcDFixexc+dOXLp0CUVFRQCA7OxstG/fHrdu3eIWEsjlcgwePBhPPPEElixZAgB0eewhzp07h48++gj79u3D7du3ASgDFJrb5rt06RI6deqEP/74g7stLy+P5raZTpw4AT8/P3z//feorKwEQPOqL2fOnMHnn3+OyMhIZGZmAlAeD9q1a0dz2wwUG/CnpeMDepfzJD8/H/PmzUPHjh3x1ltvAVC/+S0tLdGhQwfk5+fj0KFDWs+bNWsWioqKcODAgRYfsyHIzc3FpEmTMHToUHzxxRcYNGgQXnvtNVRXV8PT0xPBwcG4cuUKLl26xD3H1tYWU6ZMQV5eHk6fPi3g6MUtJycHEydOxLBhw/Dvv/9i4cKFmDJlCqqqquDl5UVzqwe///47rl27hv/7v//jbnN1dUVISAjNbRNkZmZi7NixGDlyJHcyNDc3B0Dz2lzl5eWYM2cOhgwZgl27dmHChAl4/PHHUVBQAC8vL7Rt2xaXL1+muW0kig34I1R8QIE0D7Kzs/H8888jPj4e06dPx/HjxxETEwOJRMJlS5588knIZDLs2rULaWlp3B+SnZ0dnJycUFpaKuSPIEpxcXGYOnUqFAoFTp8+jT///BMrVqxATEwMtm7dCgB48cUXkZiYiL179+LevXsAlAcpX19fVFVVwczMTMgfQbRiY2MxYsQIyGQyxMTEYO/evfjhhx+Qn5+P33//HQDw0ksv0dw2040bN/Dhhx+ipKQEy5cv525fsGABkpKSaG4b4dq1a/Dy8kJubi5u376NTz/9FDKZTOsxL7zwAr1nmygmJgZRUVE4ceIE/vnnH+zcuRPFxcWYMGECampq8NJLLyEpKQl//PEHzW0DUWzAHyHjAwqkeeDm5obg4GAsWbIEL774Inx9ffHRRx8BUNbp1NTUwNfXFzNmzEBsbCxWr17NPbe8vByVlZUIDAwUaPTidffuXXh7e+Ptt99GmzZt4ODggMmTJ6OyspI7gbZp0wZz5szBgQMHsHnzZu655eXlkMlksLOzE2r4oubj44NZs2bho48+QnBwMORyOQIDAxEQEIBhw4YBAFq3bo2nnnqK5rYJampqAABmZmYIDg7GSy+9hI8++gjp6ekAgJCQEMybNw/79++nuW2gDh06ICgoCN26dYOfnx927dqFOXPm4LnnnsOWLVuQm5uLNm3aYObMmfSebYLff/8dDg4O6NmzJyQSCQYNGoRt27bh5MmT+PTTTxEUFISnn36a5rYRKDbgj6DxQXNXQhJtNTU1jDHlClGVr776ioWGhrLffvuNMca4lbdVVVXs008/ZXZ2dmzEiBHsrbfeYq1bt2YTJkxg+fn5LT94kUtNTWXx8fHcv1UrbDt06MA2bdrE3V5eXs5eeOEF5unpyaZNm8ZWr17NWrVqxZ566ilWVlbW4uM2FJpzc+HCBdahQwfm6+vLxo8fz959913GGM1tcxQXF7PQ0FAWFxfHsrKyWOfOndmzzz7L4uPj2aFDh1h1dTVbsGABzW0DVFVVMcYYO3z4MJNIJKx79+4sKCiIvfTSSywiIoK1bt2ajR49mjGmfF/Te7bhVOewzz77jHl5eXG3V1ZWMsYYe+ONN5inpyfLycmh40EjUGzALyHjAwqk9UT1R6KiUCi42+Lj49n06dNZ//79uYOR6kTAmPJksGDBAjZ06FD28ccft9ygDUDteVVR/ZHEx8czJycndvXqVcaYel5LSkrY9u3b2dSpU1mfPn3YypUrW2bABqS+uT1//jzr0qULmzdvHtu3bx9bsWIFs7Cw4N6bBQUFNLcPUXtuKysrWWlpKevfvz9LTU1ljDG2adMmJpVKmUQiYV9++SVjTBls09zWT3NeVceAadOmsSFDhrCkpCTu9v379zO5XM5+/fVXxhhj+fn5NK8PUfs9e+DAAdapUye2ceNGxpj62FpUVMQcHBzYN998wxijuX0Yig34I5b4gALpJiovL9d5++XLlxljyn6Qmn799VfWpUsXtmrVKu622m+C+t4UpuRh86p5kGGMsa1bt7Ju3bqxkpKSentA1n6OqWrM3KqCPZUlS5aw0NDQOs+luVV62Nwyxlh6ejqLiIhgJSUl7JNPPmGWlpbMzc1N57wyRnPLWMPmtaCggEVFRTHG1CfQ0tJSNnr0aDZt2rQ6z6V5Vbpy5YrO2y9evMgYYywhIYE98cQTbPTo0Sw3N5cxpp676dOns0mTJtV5Ls1t/fNKsUHzPWxuhYoPqEa6kfbu3YvRo0djzpw5+Pzzz7m+peXl5Vi2bBnCw8ORn5/P1eSw+/0ehw4diiFDhmDbtm24cuUK3nvvPa6VjYoptwpq6LzK5XIA6nk9c+YMunbtCmtra0gkEnz99df45ZdftF5b9RxT1di5BZQ10yqVlZW4c+cOWrVqhcrKSq0+mzS3DZtbALh9+zYyMjLg5eWFL7/8Ej/++CN2796N1NRUfP/99wBAc3tfY+bV3t4e4eHhWs+vqqrCrVu3EBAQAEC7764pzyugbAvYrl07TJgwAVeuXAGgrOGvrKzEsmXLEBERgby8PAQGBuLRRx9FTk4OPvnkEwDKuWOM4c6dO9zc0ntW6WHzSrFB0zV0boWKD0z7t9MIqampGD16NJ5++ml0794ddnZ2WLNmDX7++WcwxmBpaYnevXtj1qxZ3AEeULe1cXJywujRo1FQUICuXbti9erVaNu2rUA/jXg0d17//fdfjBkzBjExMWjXrh2WLl0KGxsbgX4acWnq3Nb2999/IzExEXPnzoW5ubnJH9SBxs2tanW4anHcsmXLcOHCBUybNg29e/fGE088gZ9++gmMMZOf2+a+Z1XHhf3798PV1RUTJ07Uup0ouxtkZWWhTZs2+PHHHwEoNwIxNzdHnz59tN6zjz/+OMaPH48vv/wS69atw7Vr13D06FHk5eWhb9++ACjIU2nIvFJs0DRNndsWiw+andM2AQUFBezNN99kTz75JFeHxxhjjzzyCJszZw7379qXbDRdu3aNDRgwgJmZmVGt033Nndfz588zS0tL1qZNGyaTydjrr7/O+5gNRVPnVnX56/Lly+znn39m48aNYzY2NlqXHU1dU+ZWdWm2sLCwzuvdu3ePv8EakOa+Zy9dusQ2bNjAHnvsMWZvb88+//zzlhm4gTl79iwbO3Yse+WVV1h4eDg7ePAgd5/m3Krmtbi4mH388cfM19eXtWnThtnZ2XGLj4laQ+e1NooNHq4pc9uS8YHpXodpBHt7e4wcORIeHh7w9/fnbnd1dcWwYcNQVFQEOzs7yGQyKBQKnZ/QN27cCHd3d6SlpWltUWnKmjuv9+7dg1wuR69evXDq1CmaVw1NnVvVJ/mMjAzs27cPLi4uSExMpLnV0JS5Vc2vrvZKjo6OLTV0UWvuezY1NRW//fYbXFxccOfOHXrP1uPIkSMIDg7G4sWLMWvWLGzatAkjRowAAK0+3Kp5tbGxweuvv4558+bh1q1baN++Pb1ndWjovNZGscHDNWVuWzQ+4C1EN2BRUVHs66+/ZqdOnWIZGRmMMe1FL0eOHGFBQUHM1taWdezYkfXq1YutXbuWuz8nJ4e98MILXEub2s83Vfqa1507dzLGlIth7ty507I/hEjpa25VXQ5KSkpYXl5ey/4QIqXv4wEtHFLS93u2qKiIWxRn6jTnNjMzkzGmbq32xRdfsMWLFzPGGPv6669ZREQEW7BgAZsyZQorLi5mjNV9z9IiQiV9zytjFBuo6GtuhYgPKJDWcPfuXTZ69Gjm4uLCBg0axPUZVFFd6vroo4/Yyy+/zJKSktjt27fZ0qVLWdu2bdnZs2cZY4zFxcWxiIgINnLkSEF+DrHR97yOGDFCkJ9DjOg9yx+aW37QvPLnYXPLGGMzZszgSjPOnTvHvLy8mJmZGXvqqae4x8THx9PcaqB55Y++51aI+IAC6fvOnDnDQkND2YwZM1hycjIrKSlhX331FevYsSM7d+6czueoMkuRkZHMx8eHHThwgLtP1bfQ1NG88ofmlj80t/ygeeVPQ+f2+eefZ/v27WMvvfQSMzMzY7169WLdunWr00uX5laJ5pU/xjK3FEjfd/v2bfbFF1+wjIwMLiNy9OhRNmzYMK5ROmO6F2Ps3LmTtWnTRmtXHaJE88ofmlv+0Nzyg+aVPw2d2/79+3O7Qf7999+svLycvfjii6xz587szJkzQg1ftGhe+WMsc0uB9H2qncdUTp06xVq1asU6d+7M5s2bx7Zu3coYUx/Uy8vLWVVVFduxYwdr3749e/PNN6mOTAeaV/7Q3PKH5pYfNK/8edDczp07l23evJkxxtjJkyfZxo0bWVFREffYw4cPs2effZbWnOhA88ofY5lbkw6k62ub8tdffzF3d3f2v//9j23evJk988wzTCaTsb/++osxxtiNGzfYm2++yQYPHsycnJy47X2JEs0rf2hu+UNzyw+aV/40Zm6lUik3t7Tg9cFoXvljjHMrYUxjyycTFR8fj1atWqG6uhpyuRwKhQIpKSnczk0AMGHCBFRVVeHPP/8EAHz++eeoqqrCSy+9BDMzM6GGLmo0r/yhueUPzS0/aF7509C5ra6uxr59+wQcqWGheeWPMc2tSfSR3rlzJ/7++2907NgRQ4YMQadOnQAABQUFePHFF3Hr1i2cPHkS5ubmAJQ7NQUEBIAxBolEgoKCAty9exdhYWFc/9IFCxY8sDekKaB55Q/NLX9obvlB88offc4tAO52U0fzyh9Tmluj3tszNzcXTzzxBBYuXAi5XI7ffvsNo0aNwqZNmwAADg4O6NSpE/r27YuCgoI6z1f90g4cOACpVIrJkydzmwCY8sGd5pU/NLf8obnlB80rf/iYW83bTRXNK39Mcm4FKShpITt37mS9e/dmqamp3G2TJk1iwcHBXNPukpISrecoFAqmUChYTEwM27lzJxs5ciRzdHRk69evb9GxixnNK39obvlDc8sPmlf+0Nzyg+aVP6Y4t0adkd62bRt8fX3h4+OD4uJiAMBjjz2G+Ph4fP3118jOzoa1tTWYRpm4RCIBYwyXL1/Gd999Bz8/PyQlJeG5554T6scQHZpX/tDc8ofmlh80r/yhueUHzSt/THFujSaQ/vfff3Ho0CFUV1dzt4WEhODatWsAAFtbWwDAjRs3MGTIEJSXl2PPnj0AlL/ElJQUvP766zh16hSkUikee+wxbN++Hd999x3s7e1b/OcRC5pX/tDc8ofmlh80r/yhueUHzSt/aG7va/kkuH5lZ2ezp556ikkkEtalSxeWkJDA3Xfnzh3m5ubGBgwYwFatWsXCw8NZUFAQO3r0KOvSpQtbtmwZ99jIyEgWHBzMXn75ZQF+CvGheeUPzS1/aG75QfPKH5pbftC88ofmVptBB9JVVVVs/fr1bMSIEeyXX35h1tbWbOXKlay8vJx7TGRkJHv66adZ9+7d2YIFC1h2djZjjLGZM2eySZMmab1eZGRki45frGhe+UNzyx+aW37QvPKH5pYfNK/8obmty6ADacYYi46OZnv37mWMMfbee+8xNzc3dvHixTqPq6io4P4/MzOTdezYka1YsYIxxminLB1oXvlDc8sfmlt+0Lzyh+aWHzSv/KG51WbwgbRqK1kVb29vNn/+fFZYWFjn/rKyMlZZWcnWr1/PunXrxi5fvtyiYzUkNK/8obnlD80tP2he+UNzyw+aV/7Q3Goz+EBaRfXJ59dff2VyuZz9/fffWvenpqay9evXs549ezJnZ2e2bds2IYZpcGhe+UNzyx+aW37QvPKH5pYfNK/8oblVMsotwvv27QsbGxts3boV7u7uyM7OhpubG7Zv3460tDQsXrxY6CEaJJpX/tDc8ofmlh80r/yhueUHzSt/THlujSqQVu3Zfu3aNXTp0gWffvop7ty5g8jISGzatAkdO3YUeogGieaVPzS3/KG55QfNK39obvlB88ofmlsYfvu7+vTq1YtJJBIWEBDADv5/e3cMkkwYx3H8d68FERcVCVdNDRkNWVxjUzQIDUEQBQ1CEg0RgmsQtgWNQVsRNDY0Z5NTS0VQtBQ5R2HRUG3mu7wJ0kvQA0+n5/cDwvkI+r/fcj+OBy+XC3qc0CBXe8jWHrK1g1ztIVs7yNWeRs02dEX67u6uPDQ0VG5tbS3v7u4GPU5okKs9ZGsP2dpBrvaQrR3kak+jZxuaJxt+ikQimpmZUbFY1OLiYtDjhAa52kO29pCtHeRqD9naQa72NHq2odojDQAAAPyW0N2RBgAAAH4DRRoAAAAwQJEGAAAADFCkAQAAAAMUaQAAAMAARRoAAAAwQJEGAAAADFCkAaBOLSwsaHp6OugxAKBhNQU9AADgK8dxvv18fX1dW1tb4plaABAcijQA1KD7+/vK8cHBgbLZrG5ubiprruvKdd0gRgMA/MPWDgCoQd3d3ZVXe3u7HMepWnNd98vWjvHxcaXTaWUyGXV2dsrzPO3s7Ojt7U2pVEptbW3q7+/X0dFR1W9dX19rcnJSruvK8zwlk0kVi8VfPmMAqD8UaQAIkf39fUWjUZ2eniqdTmt5eVmzs7MaGxvTxcWFEomEksmk3t/fJUkvLy+amJiQ7/s6Pz9XLpfTw8OD5ubmAj4TAKh9FGkACJGRkRGtra0pFotpdXVVLS0tikajWlpaUiwWUzab1dPTk66uriRJ29vb8n1fGxsbGhwclO/72tvbUz6f1+3tbcBnAwC1jT3SABAiw8PDleNIJKKuri7F4/HKmud5kqTHx0dJ0uXlpfL5/H/3WxcKBQ0MDFieGADqF0UaAEKkubm56r3jOFVrn/8G8vHxIUl6fX3V1NSUNjc3v3xXT0+PxUkBoP5RpAGggY2Ojurw8FB9fX1qauKSAAA/wR5pAGhgKysren5+1vz8vM7OzlQoFHR8fKxUKqVSqRT0eABQ0yjSANDAent7dXJyolKppEQioXg8rkwmo46ODv35wyUCAL7jlHksFgAAAPBj3G4AAAAADFCkAQAAAAMUaQAAAMAARRoAAAAwQJEGAAAADFCkAQAAAAMUaQAAAMAARRoAAAAwQJEGAAAADFCkAQAAAAMUaQAAAMDAX14PdgYzyz3+AAAAAElFTkSuQmCC\n"
          },
          "metadata": {}
        },
        {
          "output_type": "display_data",
          "data": {
            "text/plain": [
              "                                 ts    location     avg_aqi   avg_pm25  risk  \\\n",
              "14 2025-08-10 19:33:54.823592+00:00  Northbrook  107.900000  75.900000  High   \n",
              "15 2025-08-10 19:33:54.997944+00:00    Glenview   57.166667  45.666667  High   \n",
              "16 2025-08-10 19:34:04.997709+00:00  Northbrook  101.928571  71.142857  High   \n",
              "17 2025-08-10 19:34:05.346998+00:00    Glenview   58.428571  45.714286  High   \n",
              "18 2025-08-10 19:34:17.016116+00:00  Northbrook   45.000000  40.000000  High   \n",
              "19 2025-08-10 19:34:17.150991+00:00  Northbrook  103.250000  71.562500  High   \n",
              "\n",
              "                                              message  \n",
              "14  Air quality alert for Northbrook. Risk: High. ...  \n",
              "15  Air quality alert for Glenview. Risk: High. Li...  \n",
              "16  Air quality alert for Northbrook. Risk: High. ...  \n",
              "17  Air quality alert for Glenview. Risk: High. Li...  \n",
              "18  Air quality alert for Northbrook. Risk: High. ...  \n",
              "19  Air quality alert for Northbrook. Risk: High. ...  "
            ],
            "text/html": [
              "\n",
              "  <div id=\"df-b9a13967-9945-48f5-b216-13cdcaefdf76\" class=\"colab-df-container\">\n",
              "    <div>\n",
              "<style scoped>\n",
              "    .dataframe tbody tr th:only-of-type {\n",
              "        vertical-align: middle;\n",
              "    }\n",
              "\n",
              "    .dataframe tbody tr th {\n",
              "        vertical-align: top;\n",
              "    }\n",
              "\n",
              "    .dataframe thead th {\n",
              "        text-align: right;\n",
              "    }\n",
              "</style>\n",
              "<table border=\"1\" class=\"dataframe\">\n",
              "  <thead>\n",
              "    <tr style=\"text-align: right;\">\n",
              "      <th></th>\n",
              "      <th>ts</th>\n",
              "      <th>location</th>\n",
              "      <th>avg_aqi</th>\n",
              "      <th>avg_pm25</th>\n",
              "      <th>risk</th>\n",
              "      <th>message</th>\n",
              "    </tr>\n",
              "  </thead>\n",
              "  <tbody>\n",
              "    <tr>\n",
              "      <th>14</th>\n",
              "      <td>2025-08-10 19:33:54.823592+00:00</td>\n",
              "      <td>Northbrook</td>\n",
              "      <td>107.900000</td>\n",
              "      <td>75.900000</td>\n",
              "      <td>High</td>\n",
              "      <td>Air quality alert for Northbrook. Risk: High. ...</td>\n",
              "    </tr>\n",
              "    <tr>\n",
              "      <th>15</th>\n",
              "      <td>2025-08-10 19:33:54.997944+00:00</td>\n",
              "      <td>Glenview</td>\n",
              "      <td>57.166667</td>\n",
              "      <td>45.666667</td>\n",
              "      <td>High</td>\n",
              "      <td>Air quality alert for Glenview. Risk: High. Li...</td>\n",
              "    </tr>\n",
              "    <tr>\n",
              "      <th>16</th>\n",
              "      <td>2025-08-10 19:34:04.997709+00:00</td>\n",
              "      <td>Northbrook</td>\n",
              "      <td>101.928571</td>\n",
              "      <td>71.142857</td>\n",
              "      <td>High</td>\n",
              "      <td>Air quality alert for Northbrook. Risk: High. ...</td>\n",
              "    </tr>\n",
              "    <tr>\n",
              "      <th>17</th>\n",
              "      <td>2025-08-10 19:34:05.346998+00:00</td>\n",
              "      <td>Glenview</td>\n",
              "      <td>58.428571</td>\n",
              "      <td>45.714286</td>\n",
              "      <td>High</td>\n",
              "      <td>Air quality alert for Glenview. Risk: High. Li...</td>\n",
              "    </tr>\n",
              "    <tr>\n",
              "      <th>18</th>\n",
              "      <td>2025-08-10 19:34:17.016116+00:00</td>\n",
              "      <td>Northbrook</td>\n",
              "      <td>45.000000</td>\n",
              "      <td>40.000000</td>\n",
              "      <td>High</td>\n",
              "      <td>Air quality alert for Northbrook. Risk: High. ...</td>\n",
              "    </tr>\n",
              "    <tr>\n",
              "      <th>19</th>\n",
              "      <td>2025-08-10 19:34:17.150991+00:00</td>\n",
              "      <td>Northbrook</td>\n",
              "      <td>103.250000</td>\n",
              "      <td>71.562500</td>\n",
              "      <td>High</td>\n",
              "      <td>Air quality alert for Northbrook. Risk: High. ...</td>\n",
              "    </tr>\n",
              "  </tbody>\n",
              "</table>\n",
              "</div>\n",
              "    <div class=\"colab-df-buttons\">\n",
              "\n",
              "  <div class=\"colab-df-container\">\n",
              "    <button class=\"colab-df-convert\" onclick=\"convertToInteractive('df-b9a13967-9945-48f5-b216-13cdcaefdf76')\"\n",
              "            title=\"Convert this dataframe to an interactive table.\"\n",
              "            style=\"display:none;\">\n",
              "\n",
              "  <svg xmlns=\"http://www.w3.org/2000/svg\" height=\"24px\" viewBox=\"0 -960 960 960\">\n",
              "    <path d=\"M120-120v-720h720v720H120Zm60-500h600v-160H180v160Zm220 220h160v-160H400v160Zm0 220h160v-160H400v160ZM180-400h160v-160H180v160Zm440 0h160v-160H620v160ZM180-180h160v-160H180v160Zm440 0h160v-160H620v160Z\"/>\n",
              "  </svg>\n",
              "    </button>\n",
              "\n",
              "  <style>\n",
              "    .colab-df-container {\n",
              "      display:flex;\n",
              "      gap: 12px;\n",
              "    }\n",
              "\n",
              "    .colab-df-convert {\n",
              "      background-color: #E8F0FE;\n",
              "      border: none;\n",
              "      border-radius: 50%;\n",
              "      cursor: pointer;\n",
              "      display: none;\n",
              "      fill: #1967D2;\n",
              "      height: 32px;\n",
              "      padding: 0 0 0 0;\n",
              "      width: 32px;\n",
              "    }\n",
              "\n",
              "    .colab-df-convert:hover {\n",
              "      background-color: #E2EBFA;\n",
              "      box-shadow: 0px 1px 2px rgba(60, 64, 67, 0.3), 0px 1px 3px 1px rgba(60, 64, 67, 0.15);\n",
              "      fill: #174EA6;\n",
              "    }\n",
              "\n",
              "    .colab-df-buttons div {\n",
              "      margin-bottom: 4px;\n",
              "    }\n",
              "\n",
              "    [theme=dark] .colab-df-convert {\n",
              "      background-color: #3B4455;\n",
              "      fill: #D2E3FC;\n",
              "    }\n",
              "\n",
              "    [theme=dark] .colab-df-convert:hover {\n",
              "      background-color: #434B5C;\n",
              "      box-shadow: 0px 1px 3px 1px rgba(0, 0, 0, 0.15);\n",
              "      filter: drop-shadow(0px 1px 2px rgba(0, 0, 0, 0.3));\n",
              "      fill: #FFFFFF;\n",
              "    }\n",
              "  </style>\n",
              "\n",
              "    <script>\n",
              "      const buttonEl =\n",
              "        document.querySelector('#df-b9a13967-9945-48f5-b216-13cdcaefdf76 button.colab-df-convert');\n",
              "      buttonEl.style.display =\n",
              "        google.colab.kernel.accessAllowed ? 'block' : 'none';\n",
              "\n",
              "      async function convertToInteractive(key) {\n",
              "        const element = document.querySelector('#df-b9a13967-9945-48f5-b216-13cdcaefdf76');\n",
              "        const dataTable =\n",
              "          await google.colab.kernel.invokeFunction('convertToInteractive',\n",
              "                                                    [key], {});\n",
              "        if (!dataTable) return;\n",
              "\n",
              "        const docLinkHtml = 'Like what you see? Visit the ' +\n",
              "          '<a target=\"_blank\" href=https://colab.research.google.com/notebooks/data_table.ipynb>data table notebook</a>'\n",
              "          + ' to learn more about interactive tables.';\n",
              "        element.innerHTML = '';\n",
              "        dataTable['output_type'] = 'display_data';\n",
              "        await google.colab.output.renderOutput(dataTable, element);\n",
              "        const docLink = document.createElement('div');\n",
              "        docLink.innerHTML = docLinkHtml;\n",
              "        element.appendChild(docLink);\n",
              "      }\n",
              "    </script>\n",
              "  </div>\n",
              "\n",
              "\n",
              "    <div id=\"df-e5f8d1c8-2974-4b2c-bfa6-5b0ae9af8187\">\n",
              "      <button class=\"colab-df-quickchart\" onclick=\"quickchart('df-e5f8d1c8-2974-4b2c-bfa6-5b0ae9af8187')\"\n",
              "                title=\"Suggest charts\"\n",
              "                style=\"display:none;\">\n",
              "\n",
              "<svg xmlns=\"http://www.w3.org/2000/svg\" height=\"24px\"viewBox=\"0 0 24 24\"\n",
              "     width=\"24px\">\n",
              "    <g>\n",
              "        <path d=\"M19 3H5c-1.1 0-2 .9-2 2v14c0 1.1.9 2 2 2h14c1.1 0 2-.9 2-2V5c0-1.1-.9-2-2-2zM9 17H7v-7h2v7zm4 0h-2V7h2v10zm4 0h-2v-4h2v4z\"/>\n",
              "    </g>\n",
              "</svg>\n",
              "      </button>\n",
              "\n",
              "<style>\n",
              "  .colab-df-quickchart {\n",
              "      --bg-color: #E8F0FE;\n",
              "      --fill-color: #1967D2;\n",
              "      --hover-bg-color: #E2EBFA;\n",
              "      --hover-fill-color: #174EA6;\n",
              "      --disabled-fill-color: #AAA;\n",
              "      --disabled-bg-color: #DDD;\n",
              "  }\n",
              "\n",
              "  [theme=dark] .colab-df-quickchart {\n",
              "      --bg-color: #3B4455;\n",
              "      --fill-color: #D2E3FC;\n",
              "      --hover-bg-color: #434B5C;\n",
              "      --hover-fill-color: #FFFFFF;\n",
              "      --disabled-bg-color: #3B4455;\n",
              "      --disabled-fill-color: #666;\n",
              "  }\n",
              "\n",
              "  .colab-df-quickchart {\n",
              "    background-color: var(--bg-color);\n",
              "    border: none;\n",
              "    border-radius: 50%;\n",
              "    cursor: pointer;\n",
              "    display: none;\n",
              "    fill: var(--fill-color);\n",
              "    height: 32px;\n",
              "    padding: 0;\n",
              "    width: 32px;\n",
              "  }\n",
              "\n",
              "  .colab-df-quickchart:hover {\n",
              "    background-color: var(--hover-bg-color);\n",
              "    box-shadow: 0 1px 2px rgba(60, 64, 67, 0.3), 0 1px 3px 1px rgba(60, 64, 67, 0.15);\n",
              "    fill: var(--button-hover-fill-color);\n",
              "  }\n",
              "\n",
              "  .colab-df-quickchart-complete:disabled,\n",
              "  .colab-df-quickchart-complete:disabled:hover {\n",
              "    background-color: var(--disabled-bg-color);\n",
              "    fill: var(--disabled-fill-color);\n",
              "    box-shadow: none;\n",
              "  }\n",
              "\n",
              "  .colab-df-spinner {\n",
              "    border: 2px solid var(--fill-color);\n",
              "    border-color: transparent;\n",
              "    border-bottom-color: var(--fill-color);\n",
              "    animation:\n",
              "      spin 1s steps(1) infinite;\n",
              "  }\n",
              "\n",
              "  @keyframes spin {\n",
              "    0% {\n",
              "      border-color: transparent;\n",
              "      border-bottom-color: var(--fill-color);\n",
              "      border-left-color: var(--fill-color);\n",
              "    }\n",
              "    20% {\n",
              "      border-color: transparent;\n",
              "      border-left-color: var(--fill-color);\n",
              "      border-top-color: var(--fill-color);\n",
              "    }\n",
              "    30% {\n",
              "      border-color: transparent;\n",
              "      border-left-color: var(--fill-color);\n",
              "      border-top-color: var(--fill-color);\n",
              "      border-right-color: var(--fill-color);\n",
              "    }\n",
              "    40% {\n",
              "      border-color: transparent;\n",
              "      border-right-color: var(--fill-color);\n",
              "      border-top-color: var(--fill-color);\n",
              "    }\n",
              "    60% {\n",
              "      border-color: transparent;\n",
              "      border-right-color: var(--fill-color);\n",
              "    }\n",
              "    80% {\n",
              "      border-color: transparent;\n",
              "      border-right-color: var(--fill-color);\n",
              "      border-bottom-color: var(--fill-color);\n",
              "    }\n",
              "    90% {\n",
              "      border-color: transparent;\n",
              "      border-bottom-color: var(--fill-color);\n",
              "    }\n",
              "  }\n",
              "</style>\n",
              "\n",
              "      <script>\n",
              "        async function quickchart(key) {\n",
              "          const quickchartButtonEl =\n",
              "            document.querySelector('#' + key + ' button');\n",
              "          quickchartButtonEl.disabled = true;  // To prevent multiple clicks.\n",
              "          quickchartButtonEl.classList.add('colab-df-spinner');\n",
              "          try {\n",
              "            const charts = await google.colab.kernel.invokeFunction(\n",
              "                'suggestCharts', [key], {});\n",
              "          } catch (error) {\n",
              "            console.error('Error during call to suggestCharts:', error);\n",
              "          }\n",
              "          quickchartButtonEl.classList.remove('colab-df-spinner');\n",
              "          quickchartButtonEl.classList.add('colab-df-quickchart-complete');\n",
              "        }\n",
              "        (() => {\n",
              "          let quickchartButtonEl =\n",
              "            document.querySelector('#df-e5f8d1c8-2974-4b2c-bfa6-5b0ae9af8187 button');\n",
              "          quickchartButtonEl.style.display =\n",
              "            google.colab.kernel.accessAllowed ? 'block' : 'none';\n",
              "        })();\n",
              "      </script>\n",
              "    </div>\n",
              "\n",
              "    </div>\n",
              "  </div>\n"
            ],
            "application/vnd.google.colaboratory.intrinsic+json": {
              "type": "dataframe",
              "summary": "{\n  \"name\": \"    print(tail[[\\\"ts\\\",\\\"location\\\",\\\"avg_aqi\\\",\\\"avg_pm25\\\",\\\"risk\\\"]]\",\n  \"rows\": 6,\n  \"fields\": [\n    {\n      \"column\": \"ts\",\n      \"properties\": {\n        \"dtype\": \"date\",\n        \"min\": \"2025-08-10 19:33:54.823592+00:00\",\n        \"max\": \"2025-08-10 19:34:17.150991+00:00\",\n        \"num_unique_values\": 6,\n        \"samples\": [\n          \"2025-08-10 19:33:54.823592+00:00\",\n          \"2025-08-10 19:33:54.997944+00:00\",\n          \"2025-08-10 19:34:17.150991+00:00\"\n        ],\n        \"semantic_type\": \"\",\n        \"description\": \"\"\n      }\n    },\n    {\n      \"column\": \"location\",\n      \"properties\": {\n        \"dtype\": \"category\",\n        \"num_unique_values\": 2,\n        \"samples\": [\n          \"Glenview\",\n          \"Northbrook\"\n        ],\n        \"semantic_type\": \"\",\n        \"description\": \"\"\n      }\n    },\n    {\n      \"column\": \"avg_aqi\",\n      \"properties\": {\n        \"dtype\": \"number\",\n        \"std\": 28.30142142118593,\n        \"min\": 45.0,\n        \"max\": 107.9,\n        \"num_unique_values\": 6,\n        \"samples\": [\n          107.9,\n          57.16666666666666\n        ],\n        \"semantic_type\": \"\",\n        \"description\": \"\"\n      }\n    },\n    {\n      \"column\": \"avg_pm25\",\n      \"properties\": {\n        \"dtype\": \"number\",\n        \"std\": 16.146073304851164,\n        \"min\": 40.0,\n        \"max\": 75.9,\n        \"num_unique_values\": 6,\n        \"samples\": [\n          75.9,\n          45.66666666666666\n        ],\n        \"semantic_type\": \"\",\n        \"description\": \"\"\n      }\n    },\n    {\n      \"column\": \"risk\",\n      \"properties\": {\n        \"dtype\": \"category\",\n        \"num_unique_values\": 1,\n        \"samples\": [\n          \"High\"\n        ],\n        \"semantic_type\": \"\",\n        \"description\": \"\"\n      }\n    },\n    {\n      \"column\": \"message\",\n      \"properties\": {\n        \"dtype\": \"category\",\n        \"num_unique_values\": 2,\n        \"samples\": [\n          \"Air quality alert for Glenview. Risk: High. Limit outdoor time; consider air purifier.\"\n        ],\n        \"semantic_type\": \"\",\n        \"description\": \"\"\n      }\n    }\n  ]\n}"
            }
          },
          "metadata": {}
        },
        {
          "output_type": "stream",
          "name": "stdout",
          "text": [
            "[batch 7] wrote 2 alert(s)\n"
          ]
        },
        {
          "output_type": "stream",
          "name": "stderr",
          "text": [
            "ERROR:py4j.clientserver:There was an exception while executing the Python Proxy on the Python Side.\n",
            "Traceback (most recent call last):\n",
            "  File \"/usr/local/lib/python3.11/dist-packages/py4j/clientserver.py\", line 617, in _call_proxy\n",
            "    return_value = getattr(self.pool[obj_id], method)(*params)\n",
            "                   ^^^^^^^^^^^^^^^^^^^^^^^^^^^^^^^^^^^^^^^^^^^\n",
            "  File \"/usr/local/lib/python3.11/dist-packages/pyspark/sql/utils.py\", line 120, in call\n",
            "    raise e\n",
            "  File \"/usr/local/lib/python3.11/dist-packages/pyspark/sql/utils.py\", line 117, in call\n",
            "    self.func(DataFrame(jdf, wrapped_session_jdf), batch_id)\n",
            "  File \"/tmp/ipython-input-1110003124.py\", line 115, in process_batch\n",
            "    pdf = df.toPandas()\n",
            "          ^^^^^^^^^^^^^\n",
            "  File \"/usr/local/lib/python3.11/dist-packages/pyspark/sql/pandas/conversion.py\", line 202, in toPandas\n",
            "    rows = self.collect()\n",
            "           ^^^^^^^^^^^^^^\n",
            "  File \"/usr/local/lib/python3.11/dist-packages/pyspark/sql/dataframe.py\", line 1261, in collect\n",
            "    sock_info = self._jdf.collectToPython()\n",
            "                ^^^^^^^^^^^^^^^^^^^^^^^^^^^\n",
            "  File \"/usr/local/lib/python3.11/dist-packages/py4j/java_gateway.py\", line 1322, in __call__\n",
            "    return_value = get_return_value(\n",
            "                   ^^^^^^^^^^^^^^^^^\n",
            "  File \"/usr/local/lib/python3.11/dist-packages/pyspark/errors/exceptions/captured.py\", line 179, in deco\n",
            "    return f(*a, **kw)\n",
            "           ^^^^^^^^^^^\n",
            "  File \"/usr/local/lib/python3.11/dist-packages/py4j/protocol.py\", line 326, in get_return_value\n",
            "    raise Py4JJavaError(\n",
            "py4j.protocol.Py4JJavaError: An error occurred while calling o330.collectToPython.\n",
            ": java.lang.InterruptedException\n",
            "\tat java.base/java.util.concurrent.locks.AbstractQueuedSynchronizer.doAcquireSharedInterruptibly(AbstractQueuedSynchronizer.java:1040)\n",
            "\tat java.base/java.util.concurrent.locks.AbstractQueuedSynchronizer.acquireSharedInterruptibly(AbstractQueuedSynchronizer.java:1345)\n",
            "\tat scala.concurrent.impl.Promise$DefaultPromise.tryAwait(Promise.scala:242)\n",
            "\tat scala.concurrent.impl.Promise$DefaultPromise.ready(Promise.scala:258)\n",
            "\tat scala.concurrent.impl.Promise$DefaultPromise.ready(Promise.scala:187)\n",
            "\tat org.apache.spark.util.ThreadUtils$.awaitReady(ThreadUtils.scala:342)\n",
            "\tat org.apache.spark.scheduler.DAGScheduler.runJob(DAGScheduler.scala:980)\n",
            "\tat org.apache.spark.SparkContext.runJob(SparkContext.scala:2398)\n",
            "\tat org.apache.spark.SparkContext.runJob(SparkContext.scala:2419)\n",
            "\tat org.apache.spark.SparkContext.runJob(SparkContext.scala:2438)\n",
            "\tat org.apache.spark.SparkContext.runJob(SparkContext.scala:2463)\n",
            "\tat org.apache.spark.rdd.RDD.$anonfun$collect$1(RDD.scala:1049)\n",
            "\tat org.apache.spark.rdd.RDDOperationScope$.withScope(RDDOperationScope.scala:151)\n",
            "\tat org.apache.spark.rdd.RDDOperationScope$.withScope(RDDOperationScope.scala:112)\n",
            "\tat org.apache.spark.rdd.RDD.withScope(RDD.scala:410)\n",
            "\tat org.apache.spark.rdd.RDD.collect(RDD.scala:1048)\n",
            "\tat org.apache.spark.sql.execution.SparkPlan.executeCollect(SparkPlan.scala:448)\n",
            "\tat org.apache.spark.sql.Dataset.$anonfun$collectToPython$1(Dataset.scala:4148)\n",
            "\tat org.apache.spark.sql.Dataset.$anonfun$withAction$2(Dataset.scala:4322)\n",
            "\tat org.apache.spark.sql.execution.QueryExecution$.withInternalError(QueryExecution.scala:546)\n",
            "\tat org.apache.spark.sql.Dataset.$anonfun$withAction$1(Dataset.scala:4320)\n",
            "\tat org.apache.spark.sql.execution.SQLExecution$.$anonfun$withNewExecutionId$6(SQLExecution.scala:125)\n",
            "\tat org.apache.spark.sql.execution.SQLExecution$.withSQLConfPropagated(SQLExecution.scala:201)\n",
            "\tat org.apache.spark.sql.execution.SQLExecution$.$anonfun$withNewExecutionId$1(SQLExecution.scala:108)\n",
            "\tat org.apache.spark.sql.SparkSession.withActive(SparkSession.scala:900)\n",
            "\tat org.apache.spark.sql.execution.SQLExecution$.withNewExecutionId(SQLExecution.scala:66)\n",
            "\tat org.apache.spark.sql.Dataset.withAction(Dataset.scala:4320)\n",
            "\tat org.apache.spark.sql.Dataset.collectToPython(Dataset.scala:4145)\n",
            "\tat java.base/jdk.internal.reflect.NativeMethodAccessorImpl.invoke0(Native Method)\n",
            "\tat java.base/jdk.internal.reflect.NativeMethodAccessorImpl.invoke(NativeMethodAccessorImpl.java:62)\n",
            "\tat java.base/jdk.internal.reflect.DelegatingMethodAccessorImpl.invoke(DelegatingMethodAccessorImpl.java:43)\n",
            "\tat java.base/java.lang.reflect.Method.invoke(Method.java:566)\n",
            "\tat py4j.reflection.MethodInvoker.invoke(MethodInvoker.java:244)\n",
            "\tat py4j.reflection.ReflectionEngine.invoke(ReflectionEngine.java:374)\n",
            "\tat py4j.Gateway.invoke(Gateway.java:282)\n",
            "\tat py4j.commands.AbstractCommand.invokeMethod(AbstractCommand.java:132)\n",
            "\tat py4j.commands.CallCommand.execute(CallCommand.java:79)\n",
            "\tat py4j.ClientServerConnection.sendCommand(ClientServerConnection.java:244)\n",
            "\tat py4j.CallbackClient.sendCommand(CallbackClient.java:384)\n",
            "\tat py4j.CallbackClient.sendCommand(CallbackClient.java:356)\n",
            "\tat py4j.reflection.PythonProxyHandler.invoke(PythonProxyHandler.java:106)\n",
            "\tat com.sun.proxy.$Proxy31.call(Unknown Source)\n",
            "\tat org.apache.spark.sql.execution.streaming.sources.PythonForeachBatchHelper$.$anonfun$callForeachBatch$1(ForeachBatchSink.scala:53)\n",
            "\tat org.apache.spark.sql.execution.streaming.sources.PythonForeachBatchHelper$.$anonfun$callForeachBatch$1$adapted(ForeachBatchSink.scala:53)\n",
            "\tat org.apache.spark.sql.execution.streaming.sources.ForeachBatchSink.addBatch(ForeachBatchSink.scala:34)\n",
            "\tat org.apache.spark.sql.execution.streaming.MicroBatchExecution.$anonfun$runBatch$17(MicroBatchExecution.scala:732)\n",
            "\tat org.apache.spark.sql.execution.SQLExecution$.$anonfun$withNewExecutionId$6(SQLExecution.scala:125)\n",
            "\tat org.apache.spark.sql.execution.SQLExecution$.withSQLConfPropagated(SQLExecution.scala:201)\n",
            "\tat org.apache.spark.sql.execution.SQLExecution$.$anonfun$withNewExecutionId$1(SQLExecution.scala:108)\n",
            "\tat org.apache.spark.sql.SparkSession.withActive(SparkSession.scala:900)\n",
            "\tat org.apache.spark.sql.execution.SQLExecution$.withNewExecutionId(SQLExecution.scala:66)\n",
            "\tat org.apache.spark.sql.execution.streaming.MicroBatchExecution.$anonfun$runBatch$16(MicroBatchExecution.scala:729)\n",
            "\tat org.apache.spark.sql.execution.streaming.ProgressReporter.reportTimeTaken(ProgressReporter.scala:427)\n",
            "\tat org.apache.spark.sql.execution.streaming.ProgressReporter.reportTimeTaken$(ProgressReporter.scala:425)\n",
            "\tat org.apache.spark.sql.execution.streaming.StreamExecution.reportTimeTaken(StreamExecution.scala:67)\n",
            "\tat org.apache.spark.sql.execution.streaming.MicroBatchExecution.runBatch(MicroBatchExecution.scala:729)\n",
            "\tat org.apache.spark.sql.execution.streaming.MicroBatchExecution.$anonfun$runActivatedStream$2(MicroBatchExecution.scala:286)\n",
            "\tat scala.runtime.java8.JFunction0$mcV$sp.apply(JFunction0$mcV$sp.java:23)\n",
            "\tat org.apache.spark.sql.execution.streaming.ProgressReporter.reportTimeTaken(ProgressReporter.scala:427)\n",
            "\tat org.apache.spark.sql.execution.streaming.ProgressReporter.reportTimeTaken$(ProgressReporter.scala:425)\n",
            "\tat org.apache.spark.sql.execution.streaming.StreamExecution.reportTimeTaken(StreamExecution.scala:67)\n",
            "\tat org.apache.spark.sql.execution.streaming.MicroBatchExecution.$anonfun$runActivatedStream$1(MicroBatchExecution.scala:249)\n",
            "\tat org.apache.spark.sql.execution.streaming.ProcessingTimeExecutor.execute(TriggerExecutor.scala:67)\n",
            "\tat org.apache.spark.sql.execution.streaming.MicroBatchExecution.runActivatedStream(MicroBatchExecution.scala:239)\n",
            "\tat org.apache.spark.sql.execution.streaming.StreamExecution.$anonfun$runStream$1(StreamExecution.scala:311)\n",
            "\tat scala.runtime.java8.JFunction0$mcV$sp.apply(JFunction0$mcV$sp.java:23)\n",
            "\tat org.apache.spark.sql.SparkSession.withActive(SparkSession.scala:900)\n",
            "\tat org.apache.spark.sql.execution.streaming.StreamExecution.org$apache$spark$sql$execution$streaming$StreamExecution$$runStream(StreamExecution.scala:289)\n",
            "\tat org.apache.spark.sql.execution.streaming.StreamExecution$$anon$1.$anonfun$run$1(StreamExecution.scala:211)\n",
            "\tat scala.runtime.java8.JFunction0$mcV$sp.apply(JFunction0$mcV$sp.java:23)\n",
            "\tat org.apache.spark.JobArtifactSet$.withActiveJobArtifactState(JobArtifactSet.scala:94)\n",
            "\tat org.apache.spark.sql.execution.streaming.StreamExecution$$anon$1.run(StreamExecution.scala:211)\n",
            "\n"
          ]
        },
        {
          "output_type": "stream",
          "name": "stdout",
          "text": [
            "\n",
            "Done. Alerts saved to: /content/aqi_stream/alerts_out/alerts.csv\n",
            "\n",
            "Last few alerts:\n",
            "                         ts   location    avg_aqi  avg_pm25 risk\n",
            "2025-08-10T19:33:44.513012Z   Glenview  57.000000 43.750000 High\n",
            "2025-08-10T19:33:54.622405Z    Chicago  51.666667 40.166667 High\n",
            "2025-08-10T19:33:54.823592Z Northbrook 107.900000 75.900000 High\n",
            "2025-08-10T19:33:54.997944Z   Glenview  57.166667 45.666667 High\n",
            "2025-08-10T19:34:04.997709Z Northbrook 101.928571 71.142857 High\n",
            "2025-08-10T19:34:05.346998Z   Glenview  58.428571 45.714286 High\n",
            "2025-08-10T19:34:17.016116Z Northbrook  45.000000 40.000000 High\n",
            "2025-08-10T19:34:17.150991Z Northbrook 103.250000 71.562500 High\n",
            "2025-08-10T19:34:26.799185Z Northbrook  76.500000 58.000000 High\n",
            "2025-08-10T19:34:26.930560Z   Evanston  58.250000 43.750000 High\n"
          ]
        },
        {
          "output_type": "display_data",
          "data": {
            "text/plain": [
              "<Figure size 800x400 with 1 Axes>"
            ],
            "image/png": "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\n"
          },
          "metadata": {}
        }
      ]
    }
  ]
}
